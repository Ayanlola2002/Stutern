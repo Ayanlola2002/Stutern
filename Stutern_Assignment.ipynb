{
  "nbformat": 4,
  "nbformat_minor": 0,
  "metadata": {
    "kernelspec": {
      "display_name": "Python 3",
      "language": "python",
      "name": "python3"
    },
    "language_info": {
      "codemirror_mode": {
        "name": "ipython",
        "version": 3
      },
      "file_extension": ".py",
      "mimetype": "text/x-python",
      "name": "python",
      "nbconvert_exporter": "python",
      "pygments_lexer": "ipython3",
      "version": "3.7.6"
    },
    "colab": {
      "name": "Stutern_Assignment.ipynb",
      "provenance": [],
      "include_colab_link": true
    }
  },
  "cells": [
    {
      "cell_type": "markdown",
      "metadata": {
        "id": "view-in-github",
        "colab_type": "text"
      },
      "source": [
        "<a href=\"https://colab.research.google.com/github/Ayanlola2002/Stutern/blob/master/Stutern_Assignment.ipynb\" target=\"_parent\"><img src=\"https://colab.research.google.com/assets/colab-badge.svg\" alt=\"Open In Colab\"/></a>"
      ]
    },
    {
      "cell_type": "markdown",
      "metadata": {
        "id": "sn76nhmrW8_Y",
        "colab_type": "text"
      },
      "source": [
        "## Question 1"
      ]
    },
    {
      "cell_type": "code",
      "metadata": {
        "id": "DkmyWqO7W8_a",
        "colab_type": "code",
        "colab": {
          "base_uri": "https://localhost:8080/",
          "height": 51
        },
        "outputId": "0713796b-208f-41f0-94cc-b28c10d8bd64"
      },
      "source": [
        "#function to get a fibonacci series\n",
        "def fibonacci():\n",
        "    num = int(input(\"How many numbers that generates?:\"))\n",
        "    i = 1\n",
        "    if num == 0:\n",
        "        fib = []\n",
        "    elif num == 1:\n",
        "        fib = [1]\n",
        "    elif num == 2:\n",
        "        fib = [1,1]\n",
        "    elif num > 2:\n",
        "        fib = [1,1]\n",
        "        while i < (num - 1):\n",
        "            fib.append(fib[i] + fib[i-1])\n",
        "            i += 1\n",
        "    return fib\n",
        "print(fibonacci())\n"
      ],
      "execution_count": 1,
      "outputs": [
        {
          "output_type": "stream",
          "text": [
            "How many numbers that generates?:4\n",
            "[1, 1, 2, 3]\n"
          ],
          "name": "stdout"
        }
      ]
    },
    {
      "cell_type": "markdown",
      "metadata": {
        "id": "EmbGrDcLW8_j",
        "colab_type": "text"
      },
      "source": [
        "## Question 2"
      ]
    },
    {
      "cell_type": "code",
      "metadata": {
        "id": "rdQTviO4W8_k",
        "colab_type": "code",
        "colab": {
          "base_uri": "https://localhost:8080/",
          "height": 51
        },
        "outputId": "9531885e-6524-419c-8af3-469650273132"
      },
      "source": [
        "def reverseStrings(words):\n",
        "    return ' '.join(words.split()[::-1])\n",
        "\n",
        "#testing the function\n",
        "sentence=input('Enter sentence ')\n",
        "result=reverseStrings(sentence)\n",
        "print(result)"
      ],
      "execution_count": 2,
      "outputs": [
        {
          "output_type": "stream",
          "text": [
            "Enter sentence The boy is crazy\n",
            "crazy is boy The\n"
          ],
          "name": "stdout"
        }
      ]
    },
    {
      "cell_type": "markdown",
      "metadata": {
        "id": "gE-qq82pW8_p",
        "colab_type": "text"
      },
      "source": [
        "## Question 3\n"
      ]
    },
    {
      "cell_type": "code",
      "metadata": {
        "id": "QuB_AZhWW8_q",
        "colab_type": "code",
        "colab": {
          "base_uri": "https://localhost:8080/",
          "height": 68
        },
        "outputId": "33fc5eb0-51c4-45ba-a903-ef2355d9619f"
      },
      "source": [
        "def Palidrome_Detector():\n",
        "    #Enter input\n",
        "    word=input(\"Please enter a word\").casefold()\n",
        "    word=str(word)\n",
        "    #varriable to reverse the input\n",
        "    reverse=word[::-1]\n",
        "    print(reverse)\n",
        "    #checking if reverse word is same as original\n",
        "    if word == reverse:\n",
        "        print(\"This word is a palindrome\")\n",
        "    else:\n",
        "        print(\"This word is not a palindrome\")\n",
        "Palidrome_Detector()"
      ],
      "execution_count": 4,
      "outputs": [
        {
          "output_type": "stream",
          "text": [
            "Please enter a wordMadAm\n",
            "madam\n",
            "This word is a palindrome\n"
          ],
          "name": "stdout"
        }
      ]
    },
    {
      "cell_type": "code",
      "metadata": {
        "id": "7zcIahQZW8_v",
        "colab_type": "code",
        "colab": {},
        "outputId": "6f16fb2e-9fe2-4c5e-fe09-44803eb008fa"
      },
      "source": [
        "Palidrome_Detector()"
      ],
      "execution_count": 0,
      "outputs": [
        {
          "output_type": "stream",
          "text": [
            "Please enter a wordmAdam\n",
            "madam\n",
            "This word is a palindrome\n"
          ],
          "name": "stdout"
        }
      ]
    },
    {
      "cell_type": "markdown",
      "metadata": {
        "id": "L6DyfmoSXXtg",
        "colab_type": "text"
      },
      "source": [
        "Question 4"
      ]
    },
    {
      "cell_type": "code",
      "metadata": {
        "id": "gQS2E6wGW8_5",
        "colab_type": "code",
        "colab": {}
      },
      "source": [
        "#creating a dictionary of names and date\n",
        "Birthdays ={\"AYO\": \"14/3/1990\",\n",
        "              \"TUNDE\": \"28/10/1986\",\n",
        "              \"MUSA\": \"24/2/1994\"}"
      ],
      "execution_count": 0,
      "outputs": []
    },
    {
      "cell_type": "code",
      "metadata": {
        "id": "iRvWT5rNW9AD",
        "colab_type": "code",
        "colab": {}
      },
      "source": [
        "#this function serch for birth\n",
        "def Search_birthday(data_dict):\n",
        "    print('Welcome to the birthday dictionary.')\n",
        "    print('===================================')\n",
        "    for key in data_dict:\n",
        "        print(key)\n",
        "    print('===================================')\n",
        "    query = input(\"Who's birthday do you want to look up? \").upper()\n",
        "    result = Birthdays[query] if query in Birthdays else None\n",
        "    if result == None:\n",
        "        print('No Data')\n",
        "    else:\n",
        "        print(\"{}'s birthday is {}\".format(query, Birthdays[query]))"
      ],
      "execution_count": 0,
      "outputs": []
    },
    {
      "cell_type": "code",
      "metadata": {
        "id": "0O0atzNPW9AN",
        "colab_type": "code",
        "colab": {},
        "outputId": "e91b1799-0ff3-426e-9444-5de9c92f9eda"
      },
      "source": [
        "Search_birthday(Birthdays)"
      ],
      "execution_count": 0,
      "outputs": [
        {
          "output_type": "stream",
          "text": [
            "Welcome to the birthday dictionary.\n",
            "===================================\n",
            "AYO\n",
            "TUNDE\n",
            "MUSA\n",
            "===================================\n",
            "Who's birthday do you want to look up? tunde\n",
            "TUNDE's birthday is 28/10/1986\n"
          ],
          "name": "stdout"
        }
      ]
    },
    {
      "cell_type": "markdown",
      "metadata": {
        "id": "RGthfRjTW9AU",
        "colab_type": "text"
      },
      "source": [
        "## Question 5"
      ]
    },
    {
      "cell_type": "code",
      "metadata": {
        "id": "1Jtb3XpGW9AV",
        "colab_type": "code",
        "colab": {},
        "outputId": "d588edc7-8a79-48b9-8933-6a9c4bffe160"
      },
      "source": [
        "\n",
        "#getiing response from the URL and printing the first 10000 characters\n",
        "from requests import get\n",
        "url = 'https://www.nytimes.com/search?dropmab=true&query=articles&sections=New%20York%7Cnyt%3A%2F%2Fsection%2F39480374-66d3-5603-9ce1-58cfa12988e2&sort=newest&types=article'\n",
        "response = get(url)\n",
        "print(response.text[:10000])\n",
        "\n",
        "\n",
        "#https://www.nytimes.com/search?query=articles"
      ],
      "execution_count": 0,
      "outputs": [
        {
          "output_type": "stream",
          "text": [
            "<!DOCTYPE html>\n",
            "<html lang=\"en\" xmlns:og=\"http://opengraphprotocol.org/schema/\">\n",
            "  <head>\n",
            "    <title data-rh=\"true\">The New York Times - Search</title>\n",
            "    <meta data-rh=\"true\" itemprop=\"inLanguage\" content=\"en-US\"/>\n",
            "    <meta charset=\"utf-8\" />\n",
            "<meta http-equiv=\"X-UA-Compatible\" content=\"IE=edge\" />\n",
            "<meta name=\"viewport\" content=\"width=device-width, initial-scale=1\" />\n",
            "<meta property=\"fb:app_id\" content=\"9869919170\" />\n",
            "<meta name=\"twitter:site\" value=\"@nytimes\" />\n",
            "\n",
            "    <link data-rh=\"true\" rel=\"shortcut icon\" href=\"/vi-assets/static-assets/favicon-4bf96cb6a1093748bf5b3c429accb9b4.ico\"/><link data-rh=\"true\" rel=\"apple-touch-icon\" href=\"/vi-assets/static-assets/apple-touch-icon-319373aaf4524d94d38aa599c56b8655.png\"/><link data-rh=\"true\" rel=\"apple-touch-icon-precomposed\" sizes=\"144×144\" href=\"/vi-assets/static-assets/ios-ipad-144x144-319373aaf4524d94d38aa599c56b8655.png\"/><link data-rh=\"true\" rel=\"apple-touch-icon-precomposed\" sizes=\"114×114\" href=\"/vi-assets/static-assets/ios-iphone-114x144-61d373c43aa8365d3940c5f1135f4597.png\"/><link data-rh=\"true\" rel=\"apple-touch-icon-precomposed\" href=\"/vi-assets/static-assets/ios-default-homescreen-57x57-7cccbfb151c7db793e92ea58c30b9e72.png\"/>\n",
            "    <link href=\"https://g1.nyt.com/fonts/css/web-fonts.5810def60210a2fa7d0848f37e3fa048bb6147b1.css\" rel=\"stylesheet\" type=\"text/css\" />\n",
            "    <link rel=\"stylesheet\" href=\"/vi-assets/static-assets/global-f2dfe2d3172b0c4bd44703c796af9242.css\" />\n",
            "    <style>[data-timezone] { display: none }</style>\n",
            "    <style data-lights-css=\"1dv1kvn 6n7j50 vz7hjd 1fe7a5q 1f8er69 10488qs 1k0lris 2bwtzy 1ropbjl 15uy5yv jq1cx6 f8wsfj mhvv8m 1mksj48 1m9j9gf m6999o 5j8bii 1q1yk17 1npexfx g7rb99 b7n1on 11cwn6f 1b9egsl 142l3g4 131kqdc 1t62hi8 1wa7u5r 1skjyvf csxhw4 1kl114x 1i8vfl5 e1lvw9 myxawk tap2ym 2fgx4k 16nhkrn 15w69y9 1rq7uyl bc0f0m h4mf4 1t2tqhf 46b038 1l4w6pd 1yvwzdo 1xl7hww jrsrjc hrdzfd nhmgdh 1az02az wsup08 1j0q33d 1a0bd75 s3xm4x 1gpakt1 1bf34ii 1q4fcr5 173e6uc nayoou aoqhyj v7it2b shvxqn 1gd5qnr rju9hy 7s3ka7 1fwoywm ep01yd trpop8 p5555t vsuiox 1ly73wi 1acbpvw 15746cq f1cmpm b7kewm 1bb67pc 1bymuyk ui9rw0 eph4ug 1uqx5yl 1o0yzqm fnhm75 10698na t66y1h 9e9ivx 15hmgas uqyvli 1uqjmks 1bvtpon 17ai7jg batzk0 1ho5u4o 13o0c9t 1yo489b 1e91rfo h29fi5 1q05mva k543x9 kxbuhr 1sxmvgn g0tn84 4tin05 1r6wvpq 1e67xgz 1swvvfw 1bdu3ax qxlwcd cyqadh 4iwtit k0lfw7\">.css-1dv1kvn{border:0;-webkit-clip:rect(0 0 0 0);clip:rect(0 0 0 0);height:1px;margin:-1px;overflow:hidden;padding:0;position:absolute;width:1px;}.css-6n7j50{display:inline;}.css-vz7hjd{border:0;-webkit-clip:rect(0 0 0 0);clip:rect(0 0 0 0);height:1px;margin:-1px;overflow:hidden;padding:0;position:absolute;width:1px;}.css-1fe7a5q{display:inline-block;height:16px;vertical-align:sub;width:16px;}.css-1f8er69{border:0;-webkit-clip:rect(0 0 0 0);clip:rect(0 0 0 0);height:1px;margin:-1px;overflow:hidden;padding:0;position:absolute;width:1px;border-radius:3px;cursor:pointer;font-family:nyt-franklin,helvetica,arial,sans-serif;-webkit-transition:ease 0.6s;transition:ease 0.6s;white-space:nowrap;vertical-align:middle;background-color:transparent;color:#000;font-size:11px;line-height:11px;font-weight:700;-webkit-letter-spacing:0.02em;-moz-letter-spacing:0.02em;-ms-letter-spacing:0.02em;letter-spacing:0.02em;padding:11px 12px 8px;background:#fff;display:inline-block;left:44px;text-transform:uppercase;-webkit-transition:none;transition:none;}.css-1f8er69:active,.css-1f8er69:focus{-webkit-clip:auto;clip:auto;overflow:visible;width:auto;height:auto;}.css-1f8er69::-moz-focus-inner{padding:0;border:0;}.css-1f8er69:-moz-focusring{outline:1px dotted;}.css-1f8er69:disabled,.css-1f8er69.disabled{opacity:0.5;cursor:default;}.css-1f8er69:active,.css-1f8er69.active{background-color:#f7f7f7;}@media (min-width:740px){.css-1f8er69:hover{background-color:#f7f7f7;}}.css-1f8er69:focus{margin-top:3px;padding:8px 8px 6px;}@media (min-width:1024px){.css-1f8er69{left:112px;}}.css-10488qs{display:none;}@media (min-width:1024px){.css-10488qs{display:inline-block;position:relative;}}.css-1k0lris{color:#326891;height:12px;margin-left:8px;padding-left:8px;}.css-2bwtzy{display:inline-block;padding:6px 4px 4px;margin-bottom:12px;font-size:12px;border-radius:3px;-webkit-transition:background 0.6s ease;transition:background 0.6s ease;}.css-2bwtzy:hover{background-color:#f7f7f7;}.css-1ropbjl::before{background-color:$white;border-bottom:1px solid #e2e2e2;border-top:2px solid #e2e2e2;content:'';display:block;height:1px;margin-top:0;}@media (min-width:1150px){.css-1ropbjl{margin:0 auto;max-width:1200px;padding:0 3% 9px;}}.NYTApp .css-1ropbjl{display:none;}@media print{.css-1ropbjl{display:none;}}.css-15uy5yv{border-top:1px solid #ebebeb;padding-top:9px;}.css-jq1cx6{color:#666;font-family:nyt-franklin,helvetica,arial,sans-serif;padding:10px 0;-webkit-text-decoration:none;text-decoration:none;white-space:nowrap;}.css-jq1cx6:hover{-webkit-text-decoration:underline;text-decoration:underline;}@-webkit-keyframes animation-f8wsfj{0%{opacity:1;}50%{opacity:0;}100%{opacity:0;}}@keyframes animation-f8wsfj{0%{opacity:1;}50%{opacity:0;}100%{opacity:0;}}@-webkit-keyframes animation-mhvv8m{0%{opacity:0;}50%{opacity:0;}100%{opacity:1;}}@keyframes animation-mhvv8m{0%{opacity:0;}50%{opacity:0;}100%{opacity:1;}}@-webkit-keyframes animation-1mksj48{from{opacity:0;-webkit-transform:translate3d(100%,0,0);-ms-transform:translate3d(100%,0,0);transform:translate3d(100%,0,0);}to{opacity:1;-webkit-transform:translate3d(0,0,0);-ms-transform:translate3d(0,0,0);transform:translate3d(0,0,0);}}@keyframes animation-1mksj48{from{opacity:0;-webkit-transform:translate3d(100%,0,0);-ms-transform:translate3d(100%,0,0);transform:translate3d(100%,0,0);}to{opacity:1;-webkit-transform:translate3d(0,0,0);-ms-transform:translate3d(0,0,0);transform:translate3d(0,0,0);}}@-webkit-keyframes animation-1m9j9gf{from{background-color:#f7f7f5;}to{background-color:transparent;}}@keyframes animation-1m9j9gf{from{background-color:#f7f7f5;}to{background-color:transparent;}}@-webkit-keyframes animation-m6999o{100%{-webkit-transform:rotate(360deg);-ms-transform:rotate(360deg);transform:rotate(360deg);-webkit-transform-origin:center;-ms-transform-origin:center;transform-origin:center;}}@keyframes animation-m6999o{100%{-webkit-transform:rotate(360deg);-ms-transform:rotate(360deg);transform:rotate(360deg);-webkit-transform-origin:center;-ms-transform-origin:center;transform-origin:center;}}@-webkit-keyframes animation-5j8bii{from{opacity:0;}to{opacity:1;}}@keyframes animation-5j8bii{from{opacity:0;}to{opacity:1;}}@-webkit-keyframes animation-1q1yk17{to{width:11px;}}@keyframes animation-1q1yk17{to{width:11px;}}.css-1npexfx{background-color:#f7f7f7;}@-webkit-keyframes animation-g7rb99{0%{-webkit-transform:scale(1) rotate(0);-ms-transform:scale(1) rotate(0);transform:scale(1) rotate(0);}100%{-webkit-transform:scale(1.05) rotate(-90deg);-ms-transform:scale(1.05) rotate(-90deg);transform:scale(1.05) rotate(-90deg);}}@keyframes animation-g7rb99{0%{-webkit-transform:scale(1) rotate(0);-ms-transform:scale(1) rotate(0);transform:scale(1) rotate(0);}100%{-webkit-transform:scale(1.05) rotate(-90deg);-ms-transform:scale(1.05) rotate(-90deg);transform:scale(1.05) rotate(-90deg);}}@-webkit-keyframes animation-b7n1on{0%{-webkit-transform:rotate(0deg);-ms-transform:rotate(0deg);transform:rotate(0deg);}100%{-webkit-transform:rotate(360deg);-ms-transform:rotate(360deg);transform:rotate(360deg);}}@keyframes animation-b7n1on{0%{-webkit-transform:rotate(0deg);-ms-transform:rotate(0deg);transform:rotate(0deg);}100%{-webkit-transform:rotate(360deg);-ms-transform:rotate(360deg);transform:rotate(360deg);}}.css-11cwn6f{width:100%;vertical-align:top;}.css-11cwn6f img{width:100%;vertical-align:top;}@-webkit-keyframes animation-1b9egsl{0%{-webkit-transform:rotate(20deg);-ms-transform:rotate(20deg);transform:rotate(20deg);}100%{-webkit-transform:rotate(380deg);-ms-transform:rotate(380deg);transform:rotate(380deg);}}@keyframes animation-1b9egsl{0%{-webkit-transform:rotate(20deg);-ms-transform:rotate(20deg);transform:rotate(20deg);}100%{-webkit-transform:rotate(380deg);-ms-transform:rotate(380deg);transform:rotate(380deg);}}.css-142l3g4{position:relative;min-height:90px;width:100%;overflow:hidden;}.css-131kqdc{width:100%;color:#999;text-transform:uppercase;font-size:10px;font-family:nyt-franklin,helvetica,arial,sans-serif;text-align:center;-webkit-letter-spacing:0.5px;-moz-letter-spacing:0.5px;-ms-letter-spacing:0.5px;letter-spacing:0.5px;padding:11px 0 10px;}.css-1t62hi8{max-width:780px;margin:auto;padding:0 10px;}.css-1wa7u5r{margin:0 auto;width:auto;}@-webkit-keyframes animation-1skjyvf{0%{-webkit-transform:translate3d(0,0,0);-ms-transform:translate3d(0,0,0);transform:translate3d(0,0,0);}100%{-webkit-transform:translate3d(-100%,0,0);-ms-transform:translate3d(-100%,0,0);transform:translate3d(-100%,0,0);}}@keyframes animation-1skjyvf{0%{-webkit-transform:translate3d(0,0,0);-ms-transform:translate3d(0,0,0);transform:translate3d(0,0,0);}100%{-webkit-transform:translate3d(-100%,0,0);-ms-transform:translate3d(-100%,0,0);transform:translate3d(-100%,0,0);}}@-webkit-keyframes animation-csxhw4{0%{-webkit-transform:translate3d(100%,0,0);-ms-transform:translate3d(100%,0,0);transform:translate3d(100%,0,0);}100%{-webkit-transform:translate3d(0,0,0);-ms-transform:translate3d(0,0,0);transform:translate3d(0,0,0);}}@keyframes animation-csxhw4{0%{-webkit-transform:translate3d(100%,0,0);-ms-transform:translate3d(100%,0,0);transform:translate3d(100%,0,0);}100%{-webkit-transform:translate3d(0,0,0);-ms-transform:translate3d(0,0,0);transform:translate3d(0,0,0);}}.css-1kl114x{border-bottom:1px solid #e2e2e2;display:-webkit-box;display:-webkit-flex;display:-ms-flexbox;display:flex;-webkit-flex-direction:column;-ms-flex-direction:column;flex-direction:column;margin:0 24px 24px;padding-bottom:24px;width:100%;}@media (min-width:600px){.css-1kl114x{-webkit-flex-direction:row;-ms-flex-direction:row;flex-direction:row;max-width:840px;}}.css-1i8vfl5{display:-webkit-box;displa\n"
          ],
          "name": "stdout"
        }
      ]
    },
    {
      "cell_type": "code",
      "metadata": {
        "id": "Lwf6mQGIW9Ab",
        "colab_type": "code",
        "colab": {},
        "outputId": "369f9958-0b54-4e40-fa46-07620ae05124"
      },
      "source": [
        "#scraping and parsing with beautiful soup\n",
        "from bs4 import BeautifulSoup\n",
        "html_soup = BeautifulSoup(response.text, 'html.parser')\n",
        "type(html_soup)"
      ],
      "execution_count": 0,
      "outputs": [
        {
          "output_type": "execute_result",
          "data": {
            "text/plain": [
              "bs4.BeautifulSoup"
            ]
          },
          "metadata": {
            "tags": []
          },
          "execution_count": 61
        }
      ]
    },
    {
      "cell_type": "code",
      "metadata": {
        "id": "AWWdHqVDW9Aj",
        "colab_type": "code",
        "colab": {},
        "outputId": "17531fe4-24cc-4550-c790-091bdd50cd62"
      },
      "source": [
        "#Defining a reference container to extract information from\n",
        "Article_containers = html_soup.find_all('div', class_ = 'css-e1lvw9')\n",
        "print(type(Article_containers))\n",
        "print(len(Article_containers))"
      ],
      "execution_count": 0,
      "outputs": [
        {
          "output_type": "stream",
          "text": [
            "<class 'bs4.element.ResultSet'>\n",
            "10\n"
          ],
          "name": "stdout"
        }
      ]
    },
    {
      "cell_type": "code",
      "metadata": {
        "id": "5_nATkmpW9Ar",
        "colab_type": "code",
        "colab": {}
      },
      "source": [
        "# Lists to store the scraped data in\n",
        "dates = []\n",
        "titles = []\n",
        "summarys = []\n",
        "authors = []\n",
        "\n",
        "# Extract data from individual movie container\n",
        "for container in Article_containers:\n",
        "  # The title\n",
        "    title = container.a.find('h4',class_='css-2fgx4k').text\n",
        "    titles.append(title)\n",
        "# The Summarys\n",
        "    summary = container.find('p',class_='css-16nhkrn').text\n",
        "    summarys.append(summary)\n",
        "# The Author\n",
        "    author = container.find('p',class_='css-15w69y9').text\n",
        "    authors.append(author)\n",
        "     \n",
        "    "
      ],
      "execution_count": 0,
      "outputs": []
    },
    {
      "cell_type": "code",
      "metadata": {
        "id": "suxvkUxGW9Ax",
        "colab_type": "code",
        "colab": {},
        "outputId": "8280d79e-e764-48e3-97bb-2cbb06dacdb3"
      },
      "source": [
        "#testing if titles was extracted\n",
        "titles"
      ],
      "execution_count": 0,
      "outputs": [
        {
          "output_type": "execute_result",
          "data": {
            "text/plain": [
              "['Dozens of Decomposing Bodies Found in Trucks at Brooklyn Funeral Home',\n",
              " '‘Governors Don’t Do Global Pandemics’: Cuomo Faults Others Over Virus',\n",
              " 'Why Cocktail Hour Is Back',\n",
              " '‘I Like It, Actually’: Why So Many Older People Thrive in Lockdown',\n",
              " '‘Plague on a Biblical Scale’: Hasidic Families Hit Hard by Virus',\n",
              " 'Inside the Fringe Japanese Religion That Claims It Can Cure Covid-19',\n",
              " 'Meanwhile, in the Suburbs: Leaf Blower Drama',\n",
              " 'They Cleaned Other People’s Homes. Now They Fear They’re Sick.',\n",
              " '‘Code Blue’: A Brooklyn I.C.U. Fights for Each Life in a Coronavirus Surge',\n",
              " 'The 1,000-Bed Comfort Was Supposed to Aid New York. It Has 20 Patients.']"
            ]
          },
          "metadata": {
            "tags": []
          },
          "execution_count": 66
        }
      ]
    },
    {
      "cell_type": "code",
      "metadata": {
        "id": "zeA16uM2W9A1",
        "colab_type": "code",
        "colab": {},
        "outputId": "13a7d183-b7db-47a2-b4ec-5c45d90b3be4"
      },
      "source": [
        "#converting result to pandas\n",
        "import pandas as pd\n",
        "Article_df = pd.DataFrame({'Title': titles,\n",
        "'Summary':summarys,\n",
        "'Author': authors\n",
        "})\n",
        "print(Article_df.info())\n",
        "Article_df"
      ],
      "execution_count": 0,
      "outputs": [
        {
          "output_type": "stream",
          "text": [
            "<class 'pandas.core.frame.DataFrame'>\n",
            "RangeIndex: 10 entries, 0 to 9\n",
            "Data columns (total 3 columns):\n",
            " #   Column   Non-Null Count  Dtype \n",
            "---  ------   --------------  ----- \n",
            " 0   Title    10 non-null     object\n",
            " 1   Summary  10 non-null     object\n",
            " 2   Author   10 non-null     object\n",
            "dtypes: object(3)\n",
            "memory usage: 368.0+ bytes\n",
            "None\n"
          ],
          "name": "stdout"
        },
        {
          "output_type": "execute_result",
          "data": {
            "text/html": [
              "<div>\n",
              "<style scoped>\n",
              "    .dataframe tbody tr th:only-of-type {\n",
              "        vertical-align: middle;\n",
              "    }\n",
              "\n",
              "    .dataframe tbody tr th {\n",
              "        vertical-align: top;\n",
              "    }\n",
              "\n",
              "    .dataframe thead th {\n",
              "        text-align: right;\n",
              "    }\n",
              "</style>\n",
              "<table border=\"1\" class=\"dataframe\">\n",
              "  <thead>\n",
              "    <tr style=\"text-align: right;\">\n",
              "      <th></th>\n",
              "      <th>Title</th>\n",
              "      <th>Summary</th>\n",
              "      <th>Author</th>\n",
              "    </tr>\n",
              "  </thead>\n",
              "  <tbody>\n",
              "    <tr>\n",
              "      <th>0</th>\n",
              "      <td>Dozens of Decomposing Bodies Found in Trucks a...</td>\n",
              "      <td>Neighbors complained of a foul odor coming fro...</td>\n",
              "      <td>By Alan Feuer, Ashley Southall and Michael Gold</td>\n",
              "    </tr>\n",
              "    <tr>\n",
              "      <th>1</th>\n",
              "      <td>‘Governors Don’t Do Global Pandemics’: Cuomo F...</td>\n",
              "      <td>The governor accused various world and federal...</td>\n",
              "      <td>By Jesse McKinley</td>\n",
              "    </tr>\n",
              "    <tr>\n",
              "      <th>2</th>\n",
              "      <td>Why Cocktail Hour Is Back</td>\n",
              "      <td>We need the ritual; we have the time. And duri...</td>\n",
              "      <td>By Ginia Bellafante</td>\n",
              "    </tr>\n",
              "    <tr>\n",
              "      <th>3</th>\n",
              "      <td>‘I Like It, Actually’: Why So Many Older Peopl...</td>\n",
              "      <td>Amid reports of death and isolation, some olde...</td>\n",
              "      <td>By John Leland</td>\n",
              "    </tr>\n",
              "    <tr>\n",
              "      <th>4</th>\n",
              "      <td>‘Plague on a Biblical Scale’: Hasidic Families...</td>\n",
              "      <td>In the New York area, the epidemic has killed ...</td>\n",
              "      <td>By Liam Stack</td>\n",
              "    </tr>\n",
              "    <tr>\n",
              "      <th>5</th>\n",
              "      <td>Inside the Fringe Japanese Religion That Claim...</td>\n",
              "      <td>Happy Science, which boasts millions of follow...</td>\n",
              "      <td>By Sam Kestenbaum</td>\n",
              "    </tr>\n",
              "    <tr>\n",
              "      <th>6</th>\n",
              "      <td>Meanwhile, in the Suburbs: Leaf Blower Drama</td>\n",
              "      <td>Leaf blowing, a grating soundtrack of the seas...</td>\n",
              "      <td>By Michael Wilson</td>\n",
              "    </tr>\n",
              "    <tr>\n",
              "      <th>7</th>\n",
              "      <td>They Cleaned Other People’s Homes. Now They Fe...</td>\n",
              "      <td>Housekeepers and nannies are often undocumente...</td>\n",
              "      <td>By Annie Correal and Kimiko de Freytas-Tamura</td>\n",
              "    </tr>\n",
              "    <tr>\n",
              "      <th>8</th>\n",
              "      <td>‘Code Blue’: A Brooklyn I.C.U. Fights for Each...</td>\n",
              "      <td>Nearly every patient was on a ventilator. Some...</td>\n",
              "      <td>By Sheri Fink</td>\n",
              "    </tr>\n",
              "    <tr>\n",
              "      <th>9</th>\n",
              "      <td>The 1,000-Bed Comfort Was Supposed to Aid New ...</td>\n",
              "      <td>“It’s a joke,” said a top hospital executive, ...</td>\n",
              "      <td>By Michael Schwirtz</td>\n",
              "    </tr>\n",
              "  </tbody>\n",
              "</table>\n",
              "</div>"
            ],
            "text/plain": [
              "                                               Title  \\\n",
              "0  Dozens of Decomposing Bodies Found in Trucks a...   \n",
              "1  ‘Governors Don’t Do Global Pandemics’: Cuomo F...   \n",
              "2                          Why Cocktail Hour Is Back   \n",
              "3  ‘I Like It, Actually’: Why So Many Older Peopl...   \n",
              "4  ‘Plague on a Biblical Scale’: Hasidic Families...   \n",
              "5  Inside the Fringe Japanese Religion That Claim...   \n",
              "6       Meanwhile, in the Suburbs: Leaf Blower Drama   \n",
              "7  They Cleaned Other People’s Homes. Now They Fe...   \n",
              "8  ‘Code Blue’: A Brooklyn I.C.U. Fights for Each...   \n",
              "9  The 1,000-Bed Comfort Was Supposed to Aid New ...   \n",
              "\n",
              "                                             Summary  \\\n",
              "0  Neighbors complained of a foul odor coming fro...   \n",
              "1  The governor accused various world and federal...   \n",
              "2  We need the ritual; we have the time. And duri...   \n",
              "3  Amid reports of death and isolation, some olde...   \n",
              "4  In the New York area, the epidemic has killed ...   \n",
              "5  Happy Science, which boasts millions of follow...   \n",
              "6  Leaf blowing, a grating soundtrack of the seas...   \n",
              "7  Housekeepers and nannies are often undocumente...   \n",
              "8  Nearly every patient was on a ventilator. Some...   \n",
              "9  “It’s a joke,” said a top hospital executive, ...   \n",
              "\n",
              "                                            Author  \n",
              "0  By Alan Feuer, Ashley Southall and Michael Gold  \n",
              "1                                By Jesse McKinley  \n",
              "2                              By Ginia Bellafante  \n",
              "3                                   By John Leland  \n",
              "4                                    By Liam Stack  \n",
              "5                                By Sam Kestenbaum  \n",
              "6                                By Michael Wilson  \n",
              "7    By Annie Correal and Kimiko de Freytas-Tamura  \n",
              "8                                    By Sheri Fink  \n",
              "9                              By Michael Schwirtz  "
            ]
          },
          "metadata": {
            "tags": []
          },
          "execution_count": 67
        }
      ]
    },
    {
      "cell_type": "markdown",
      "metadata": {
        "id": "fYIkIODKW9A5",
        "colab_type": "text"
      },
      "source": [
        "## Question 6"
      ]
    },
    {
      "cell_type": "code",
      "metadata": {
        "id": "XWQJHIxqW9A6",
        "colab_type": "code",
        "colab": {}
      },
      "source": [
        "\n",
        "#sending result to text file in the local system folder\n",
        "import os\n",
        "#defining name of file\n",
        "base_filename = 'Article1.txt'\n",
        "#Defining the working folder\n",
        "WorkingFolder=r'C:\\Users\\NOVATECH\\Desktop\\stutern'\n",
        "with open(os.path.join(WorkingFolder, base_filename),'w') as outfile:\n",
        "    Article_df.to_string(outfile)"
      ],
      "execution_count": 0,
      "outputs": []
    },
    {
      "cell_type": "code",
      "metadata": {
        "id": "saE-w3BVW9A-",
        "colab_type": "code",
        "colab": {}
      },
      "source": [
        "#Article_df.to_csv(r'C:\\Users\\NOVATECH\\Desktop\\stutern\\'Article1.txt'',sep='\\t', mode='a')"
      ],
      "execution_count": 0,
      "outputs": []
    },
    {
      "cell_type": "code",
      "metadata": {
        "id": "oCV8hdM-W9BD",
        "colab_type": "code",
        "colab": {}
      },
      "source": [
        ""
      ],
      "execution_count": 0,
      "outputs": []
    },
    {
      "cell_type": "code",
      "metadata": {
        "id": "Qegtz6b6W9BI",
        "colab_type": "code",
        "colab": {}
      },
      "source": [
        ""
      ],
      "execution_count": 0,
      "outputs": []
    }
  ]
}