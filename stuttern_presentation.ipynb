{
  "nbformat": 4,
  "nbformat_minor": 0,
  "metadata": {
    "colab": {
      "name": "Untitled13.ipynb",
      "provenance": [],
      "collapsed_sections": [],
      "authorship_tag": "ABX9TyPkXbdTSMPfM0U2jibU8ATS",
      "include_colab_link": true
    },
    "kernelspec": {
      "name": "python3",
      "display_name": "Python 3"
    }
  },
  "cells": [
    {
      "cell_type": "markdown",
      "metadata": {
        "id": "view-in-github",
        "colab_type": "text"
      },
      "source": [
        "<a href=\"https://colab.research.google.com/github/Ayanlola2002/Stutern/blob/master/stuttern_presentation.ipynb\" target=\"_parent\"><img src=\"https://colab.research.google.com/assets/colab-badge.svg\" alt=\"Open In Colab\"/></a>"
      ]
    },
    {
      "cell_type": "code",
      "metadata": {
        "id": "q91GOMCdl66_",
        "colab_type": "code",
        "colab": {}
      },
      "source": [
        "import pandas as pd\n",
        "import numpy as np"
      ],
      "execution_count": 0,
      "outputs": []
    },
    {
      "cell_type": "code",
      "metadata": {
        "id": "kR3zFcQBj3AC",
        "colab_type": "code",
        "colab": {
          "base_uri": "https://localhost:8080/",
          "height": 235
        },
        "outputId": "57f800a6-e7d7-4ebf-d1fb-9bdd225dcd1d"
      },
      "source": [
        "#SETTING UP MY DATAFRAME\n",
        "# intialise data of lists. \n",
        "data = {'Cust_Id':[1001,1002,1003,1004,1005,1007],'Name':['Tom', 'nick', 'krish', 'jack','tommy','kunle'], 'Age':[20, 21, 19, 18,np.nan,np.nan],'State':['Lagos','Oyo','Kaduna','Imo','abia','Borno'],'Sex':['Male','female','m','female','male',np.nan]}       \n",
        "# Create DataFrame \n",
        "CUSTOMER=pd.DataFrame(data) \n",
        "  \n",
        "# Print the output. \n",
        "CUSTOMER\n"
      ],
      "execution_count": 4,
      "outputs": [
        {
          "output_type": "execute_result",
          "data": {
            "text/html": [
              "<div>\n",
              "<style scoped>\n",
              "    .dataframe tbody tr th:only-of-type {\n",
              "        vertical-align: middle;\n",
              "    }\n",
              "\n",
              "    .dataframe tbody tr th {\n",
              "        vertical-align: top;\n",
              "    }\n",
              "\n",
              "    .dataframe thead th {\n",
              "        text-align: right;\n",
              "    }\n",
              "</style>\n",
              "<table border=\"1\" class=\"dataframe\">\n",
              "  <thead>\n",
              "    <tr style=\"text-align: right;\">\n",
              "      <th></th>\n",
              "      <th>Cust_Id</th>\n",
              "      <th>Name</th>\n",
              "      <th>Age</th>\n",
              "      <th>State</th>\n",
              "      <th>Sex</th>\n",
              "    </tr>\n",
              "  </thead>\n",
              "  <tbody>\n",
              "    <tr>\n",
              "      <th>0</th>\n",
              "      <td>1001</td>\n",
              "      <td>Tom</td>\n",
              "      <td>20.0</td>\n",
              "      <td>Lagos</td>\n",
              "      <td>Male</td>\n",
              "    </tr>\n",
              "    <tr>\n",
              "      <th>1</th>\n",
              "      <td>1002</td>\n",
              "      <td>nick</td>\n",
              "      <td>21.0</td>\n",
              "      <td>Oyo</td>\n",
              "      <td>female</td>\n",
              "    </tr>\n",
              "    <tr>\n",
              "      <th>2</th>\n",
              "      <td>1003</td>\n",
              "      <td>krish</td>\n",
              "      <td>19.0</td>\n",
              "      <td>Kaduna</td>\n",
              "      <td>m</td>\n",
              "    </tr>\n",
              "    <tr>\n",
              "      <th>3</th>\n",
              "      <td>1004</td>\n",
              "      <td>jack</td>\n",
              "      <td>18.0</td>\n",
              "      <td>Imo</td>\n",
              "      <td>female</td>\n",
              "    </tr>\n",
              "    <tr>\n",
              "      <th>4</th>\n",
              "      <td>1005</td>\n",
              "      <td>tommy</td>\n",
              "      <td>NaN</td>\n",
              "      <td>abia</td>\n",
              "      <td>male</td>\n",
              "    </tr>\n",
              "    <tr>\n",
              "      <th>5</th>\n",
              "      <td>1007</td>\n",
              "      <td>kunle</td>\n",
              "      <td>NaN</td>\n",
              "      <td>Borno</td>\n",
              "      <td>NaN</td>\n",
              "    </tr>\n",
              "  </tbody>\n",
              "</table>\n",
              "</div>"
            ],
            "text/plain": [
              "   Cust_Id   Name   Age   State     Sex\n",
              "0     1001    Tom  20.0   Lagos    Male\n",
              "1     1002   nick  21.0     Oyo  female\n",
              "2     1003  krish  19.0  Kaduna       m\n",
              "3     1004   jack  18.0     Imo  female\n",
              "4     1005  tommy   NaN    abia    male\n",
              "5     1007  kunle   NaN   Borno     NaN"
            ]
          },
          "metadata": {
            "tags": []
          },
          "execution_count": 4
        }
      ]
    },
    {
      "cell_type": "code",
      "metadata": {
        "id": "48IyhSwi29ix",
        "colab_type": "code",
        "colab": {}
      },
      "source": [
        "CUSTOMER_COPY=CUSTOMER.copy()\n",
        "Customer_orders_COPY=Customer_orders.COPY()"
      ],
      "execution_count": 0,
      "outputs": []
    },
    {
      "cell_type": "code",
      "metadata": {
        "id": "XaTHEDNBohMK",
        "colab_type": "code",
        "colab": {
          "base_uri": "https://localhost:8080/",
          "height": 514
        },
        "outputId": "602e7a21-1e40-4252-b24d-f4eb019f55c8"
      },
      "source": [
        "Customer_orders=pd.DataFrame(\n",
        "    {'ORDER_ID':[1,2,3,4,5,6,7,8,9,10,11,12,13,14,15],\n",
        "     'ORDER_QTY':[2,4,5,6,4,3,4,5,3,5,6,3,7,4,3],\n",
        "      'CUST_ID':[1004,1005,1001,1004,1005,1002,1001,1003,1004,1006,1002,1007,1007,1003,1001],\n",
        "      'ORDER_DATE':['01/01/2020','02/01/2020','03/01/2020','04/01/2020','05/01/2020','06/02/2020','07/02/2020','08/02/2020','09/02/2020','10/03/2020','11/03/2020','12/03/2020','13/03/2020','14/03/2020','15/03/2020'],\n",
        "     'UNIT_PRICE' :[3,4,5,6,4,7,8,9,5,6,8,9,5,8,5]\n",
        "    }\n",
        ")\n",
        "Customer_orders"
      ],
      "execution_count": 7,
      "outputs": [
        {
          "output_type": "execute_result",
          "data": {
            "text/html": [
              "<div>\n",
              "<style scoped>\n",
              "    .dataframe tbody tr th:only-of-type {\n",
              "        vertical-align: middle;\n",
              "    }\n",
              "\n",
              "    .dataframe tbody tr th {\n",
              "        vertical-align: top;\n",
              "    }\n",
              "\n",
              "    .dataframe thead th {\n",
              "        text-align: right;\n",
              "    }\n",
              "</style>\n",
              "<table border=\"1\" class=\"dataframe\">\n",
              "  <thead>\n",
              "    <tr style=\"text-align: right;\">\n",
              "      <th></th>\n",
              "      <th>ORDER_ID</th>\n",
              "      <th>ORDER_QTY</th>\n",
              "      <th>CUST_ID</th>\n",
              "      <th>ORDER_DATE</th>\n",
              "      <th>UNIT_PRICE</th>\n",
              "    </tr>\n",
              "  </thead>\n",
              "  <tbody>\n",
              "    <tr>\n",
              "      <th>0</th>\n",
              "      <td>1</td>\n",
              "      <td>2</td>\n",
              "      <td>1004</td>\n",
              "      <td>01/01/2020</td>\n",
              "      <td>3</td>\n",
              "    </tr>\n",
              "    <tr>\n",
              "      <th>1</th>\n",
              "      <td>2</td>\n",
              "      <td>4</td>\n",
              "      <td>1005</td>\n",
              "      <td>02/01/2020</td>\n",
              "      <td>4</td>\n",
              "    </tr>\n",
              "    <tr>\n",
              "      <th>2</th>\n",
              "      <td>3</td>\n",
              "      <td>5</td>\n",
              "      <td>1001</td>\n",
              "      <td>03/01/2020</td>\n",
              "      <td>5</td>\n",
              "    </tr>\n",
              "    <tr>\n",
              "      <th>3</th>\n",
              "      <td>4</td>\n",
              "      <td>6</td>\n",
              "      <td>1004</td>\n",
              "      <td>04/01/2020</td>\n",
              "      <td>6</td>\n",
              "    </tr>\n",
              "    <tr>\n",
              "      <th>4</th>\n",
              "      <td>5</td>\n",
              "      <td>4</td>\n",
              "      <td>1005</td>\n",
              "      <td>05/01/2020</td>\n",
              "      <td>4</td>\n",
              "    </tr>\n",
              "    <tr>\n",
              "      <th>5</th>\n",
              "      <td>6</td>\n",
              "      <td>3</td>\n",
              "      <td>1002</td>\n",
              "      <td>06/02/2020</td>\n",
              "      <td>7</td>\n",
              "    </tr>\n",
              "    <tr>\n",
              "      <th>6</th>\n",
              "      <td>7</td>\n",
              "      <td>4</td>\n",
              "      <td>1001</td>\n",
              "      <td>07/02/2020</td>\n",
              "      <td>8</td>\n",
              "    </tr>\n",
              "    <tr>\n",
              "      <th>7</th>\n",
              "      <td>8</td>\n",
              "      <td>5</td>\n",
              "      <td>1003</td>\n",
              "      <td>08/02/2020</td>\n",
              "      <td>9</td>\n",
              "    </tr>\n",
              "    <tr>\n",
              "      <th>8</th>\n",
              "      <td>9</td>\n",
              "      <td>3</td>\n",
              "      <td>1004</td>\n",
              "      <td>09/02/2020</td>\n",
              "      <td>5</td>\n",
              "    </tr>\n",
              "    <tr>\n",
              "      <th>9</th>\n",
              "      <td>10</td>\n",
              "      <td>5</td>\n",
              "      <td>1006</td>\n",
              "      <td>10/03/2020</td>\n",
              "      <td>6</td>\n",
              "    </tr>\n",
              "    <tr>\n",
              "      <th>10</th>\n",
              "      <td>11</td>\n",
              "      <td>6</td>\n",
              "      <td>1002</td>\n",
              "      <td>11/03/2020</td>\n",
              "      <td>8</td>\n",
              "    </tr>\n",
              "    <tr>\n",
              "      <th>11</th>\n",
              "      <td>12</td>\n",
              "      <td>3</td>\n",
              "      <td>1007</td>\n",
              "      <td>12/03/2020</td>\n",
              "      <td>9</td>\n",
              "    </tr>\n",
              "    <tr>\n",
              "      <th>12</th>\n",
              "      <td>13</td>\n",
              "      <td>7</td>\n",
              "      <td>1007</td>\n",
              "      <td>13/03/2020</td>\n",
              "      <td>5</td>\n",
              "    </tr>\n",
              "    <tr>\n",
              "      <th>13</th>\n",
              "      <td>14</td>\n",
              "      <td>4</td>\n",
              "      <td>1003</td>\n",
              "      <td>14/03/2020</td>\n",
              "      <td>8</td>\n",
              "    </tr>\n",
              "    <tr>\n",
              "      <th>14</th>\n",
              "      <td>15</td>\n",
              "      <td>3</td>\n",
              "      <td>1001</td>\n",
              "      <td>15/03/2020</td>\n",
              "      <td>5</td>\n",
              "    </tr>\n",
              "  </tbody>\n",
              "</table>\n",
              "</div>"
            ],
            "text/plain": [
              "    ORDER_ID  ORDER_QTY  CUST_ID  ORDER_DATE  UNIT_PRICE\n",
              "0          1          2     1004  01/01/2020           3\n",
              "1          2          4     1005  02/01/2020           4\n",
              "2          3          5     1001  03/01/2020           5\n",
              "3          4          6     1004  04/01/2020           6\n",
              "4          5          4     1005  05/01/2020           4\n",
              "5          6          3     1002  06/02/2020           7\n",
              "6          7          4     1001  07/02/2020           8\n",
              "7          8          5     1003  08/02/2020           9\n",
              "8          9          3     1004  09/02/2020           5\n",
              "9         10          5     1006  10/03/2020           6\n",
              "10        11          6     1002  11/03/2020           8\n",
              "11        12          3     1007  12/03/2020           9\n",
              "12        13          7     1007  13/03/2020           5\n",
              "13        14          4     1003  14/03/2020           8\n",
              "14        15          3     1001  15/03/2020           5"
            ]
          },
          "metadata": {
            "tags": []
          },
          "execution_count": 7
        }
      ]
    },
    {
      "cell_type": "code",
      "metadata": {
        "id": "qZ_XBps4n5Gx",
        "colab_type": "code",
        "colab": {
          "base_uri": "https://localhost:8080/",
          "height": 34
        },
        "outputId": "1e21f77e-3695-4b88-ee42-e3129759b41d"
      },
      "source": [
        "CUSTOMER.shape"
      ],
      "execution_count": 9,
      "outputs": [
        {
          "output_type": "execute_result",
          "data": {
            "text/plain": [
              "(6, 5)"
            ]
          },
          "metadata": {
            "tags": []
          },
          "execution_count": 9
        }
      ]
    },
    {
      "cell_type": "code",
      "metadata": {
        "id": "zkDa6zMikA2W",
        "colab_type": "code",
        "colab": {
          "base_uri": "https://localhost:8080/",
          "height": 204
        },
        "outputId": "d433c484-9254-4c31-96a4-b2f3143aafe3"
      },
      "source": [
        "#head() and tail()\n",
        "CUSTOMER.head()\n",
        "#gives the first five index"
      ],
      "execution_count": 10,
      "outputs": [
        {
          "output_type": "execute_result",
          "data": {
            "text/html": [
              "<div>\n",
              "<style scoped>\n",
              "    .dataframe tbody tr th:only-of-type {\n",
              "        vertical-align: middle;\n",
              "    }\n",
              "\n",
              "    .dataframe tbody tr th {\n",
              "        vertical-align: top;\n",
              "    }\n",
              "\n",
              "    .dataframe thead th {\n",
              "        text-align: right;\n",
              "    }\n",
              "</style>\n",
              "<table border=\"1\" class=\"dataframe\">\n",
              "  <thead>\n",
              "    <tr style=\"text-align: right;\">\n",
              "      <th></th>\n",
              "      <th>Cust_Id</th>\n",
              "      <th>Name</th>\n",
              "      <th>Age</th>\n",
              "      <th>State</th>\n",
              "      <th>Sex</th>\n",
              "    </tr>\n",
              "  </thead>\n",
              "  <tbody>\n",
              "    <tr>\n",
              "      <th>0</th>\n",
              "      <td>1001</td>\n",
              "      <td>Tom</td>\n",
              "      <td>20.0</td>\n",
              "      <td>Lagos</td>\n",
              "      <td>Male</td>\n",
              "    </tr>\n",
              "    <tr>\n",
              "      <th>1</th>\n",
              "      <td>1002</td>\n",
              "      <td>nick</td>\n",
              "      <td>21.0</td>\n",
              "      <td>Oyo</td>\n",
              "      <td>female</td>\n",
              "    </tr>\n",
              "    <tr>\n",
              "      <th>2</th>\n",
              "      <td>1003</td>\n",
              "      <td>krish</td>\n",
              "      <td>19.0</td>\n",
              "      <td>Kaduna</td>\n",
              "      <td>m</td>\n",
              "    </tr>\n",
              "    <tr>\n",
              "      <th>3</th>\n",
              "      <td>1004</td>\n",
              "      <td>jack</td>\n",
              "      <td>18.0</td>\n",
              "      <td>Imo</td>\n",
              "      <td>female</td>\n",
              "    </tr>\n",
              "    <tr>\n",
              "      <th>4</th>\n",
              "      <td>1005</td>\n",
              "      <td>tommy</td>\n",
              "      <td>NaN</td>\n",
              "      <td>abia</td>\n",
              "      <td>male</td>\n",
              "    </tr>\n",
              "  </tbody>\n",
              "</table>\n",
              "</div>"
            ],
            "text/plain": [
              "   Cust_Id   Name   Age   State     Sex\n",
              "0     1001    Tom  20.0   Lagos    Male\n",
              "1     1002   nick  21.0     Oyo  female\n",
              "2     1003  krish  19.0  Kaduna       m\n",
              "3     1004   jack  18.0     Imo  female\n",
              "4     1005  tommy   NaN    abia    male"
            ]
          },
          "metadata": {
            "tags": []
          },
          "execution_count": 10
        }
      ]
    },
    {
      "cell_type": "code",
      "metadata": {
        "id": "N1DWolcOkJgk",
        "colab_type": "code",
        "colab": {
          "base_uri": "https://localhost:8080/",
          "height": 119
        },
        "outputId": "f1ae1afb-de10-4fa0-82ec-c35df74ef063"
      },
      "source": [
        "#dtypes()\n",
        "CUSTOMER.dtypes\n",
        "#gives a series of datypes in the dataframe"
      ],
      "execution_count": 14,
      "outputs": [
        {
          "output_type": "execute_result",
          "data": {
            "text/plain": [
              "Cust_Id      int64\n",
              "Name        object\n",
              "Age        float64\n",
              "State       object\n",
              "Sex         object\n",
              "dtype: object"
            ]
          },
          "metadata": {
            "tags": []
          },
          "execution_count": 14
        }
      ]
    },
    {
      "cell_type": "code",
      "metadata": {
        "id": "e3Xf06Vnkj0w",
        "colab_type": "code",
        "colab": {
          "base_uri": "https://localhost:8080/",
          "height": 187
        },
        "outputId": "f2c1691e-59e5-4629-f9c6-8c14388b3044"
      },
      "source": [
        "#info()\n",
        "CUSTOMER.info()"
      ],
      "execution_count": 38,
      "outputs": [
        {
          "output_type": "stream",
          "text": [
            "<class 'pandas.core.frame.DataFrame'>\n",
            "RangeIndex: 6 entries, 0 to 5\n",
            "Data columns (total 5 columns):\n",
            "Cust_Id    6 non-null int64\n",
            "Name       6 non-null object\n",
            "Age        4 non-null float64\n",
            "State      6 non-null object\n",
            "Sex        5 non-null object\n",
            "dtypes: float64(1), int64(1), object(3)\n",
            "memory usage: 368.0+ bytes\n"
          ],
          "name": "stdout"
        }
      ]
    },
    {
      "cell_type": "code",
      "metadata": {
        "id": "3zSh80qztfSJ",
        "colab_type": "code",
        "colab": {}
      },
      "source": [
        "print(type(CUSTOMER.dtypes))"
      ],
      "execution_count": 0,
      "outputs": []
    },
    {
      "cell_type": "code",
      "metadata": {
        "id": "L42u2t_LkMnD",
        "colab_type": "code",
        "colab": {
          "base_uri": "https://localhost:8080/",
          "height": 34
        },
        "outputId": "90ebaede-04c7-4717-b6a5-86481e5f16d9"
      },
      "source": [
        "#select_types()\n",
        "#checking which columns are object type i.e string\n",
        "CUSTOMER.select_dtypes(include=['object']).columns"
      ],
      "execution_count": 22,
      "outputs": [
        {
          "output_type": "execute_result",
          "data": {
            "text/plain": [
              "Index(['Name', 'State', 'Sex'], dtype='object')"
            ]
          },
          "metadata": {
            "tags": []
          },
          "execution_count": 22
        }
      ]
    },
    {
      "cell_type": "code",
      "metadata": {
        "id": "bxPn6hIykSTA",
        "colab_type": "code",
        "colab": {
          "base_uri": "https://localhost:8080/",
          "height": 289
        },
        "outputId": "81e0e531-f4d7-466d-f29a-ccf183c04d58"
      },
      "source": [
        "#astype()\n",
        "Customer_orders['UNIT_PRICE'].dtype\n",
        "#unit type is int\n",
        "#we want to convert to float\n",
        "Customer_orders['UNIT_PRICE'].astype(float)"
      ],
      "execution_count": 26,
      "outputs": [
        {
          "output_type": "execute_result",
          "data": {
            "text/plain": [
              "0     3.0\n",
              "1     4.0\n",
              "2     5.0\n",
              "3     6.0\n",
              "4     4.0\n",
              "5     7.0\n",
              "6     8.0\n",
              "7     9.0\n",
              "8     5.0\n",
              "9     6.0\n",
              "10    8.0\n",
              "11    9.0\n",
              "12    5.0\n",
              "13    8.0\n",
              "14    5.0\n",
              "Name: UNIT_PRICE, dtype: float64"
            ]
          },
          "metadata": {
            "tags": []
          },
          "execution_count": 26
        }
      ]
    },
    {
      "cell_type": "code",
      "metadata": {
        "id": "VrGGw-BJkbhB",
        "colab_type": "code",
        "colab": {
          "base_uri": "https://localhost:8080/",
          "height": 51
        },
        "outputId": "260010de-f745-4632-92af-74f7b37c2096"
      },
      "source": [
        "#unique() and nunique()\n",
        "print(CUSTOMER['Sex'].unique())\n",
        "#nunique will not count nan values except you add as a parameter dropna =False\n",
        "print(CUSTOMER['Sex'].nunique(dropna=False))\n",
        "\n"
      ],
      "execution_count": 39,
      "outputs": [
        {
          "output_type": "stream",
          "text": [
            "['Male' 'female' 'm' 'male' nan]\n",
            "5\n"
          ],
          "name": "stdout"
        }
      ]
    },
    {
      "cell_type": "code",
      "metadata": {
        "id": "2l2O0HJ8kgby",
        "colab_type": "code",
        "colab": {
          "base_uri": "https://localhost:8080/",
          "height": 102
        },
        "outputId": "5e64610d-9b99-418c-ba8e-da1f73d9fc5c"
      },
      "source": [
        "#value_counts()\n",
        "CUSTOMER['Sex'].value_counts()"
      ],
      "execution_count": 37,
      "outputs": [
        {
          "output_type": "execute_result",
          "data": {
            "text/plain": [
              "female    2\n",
              "m         1\n",
              "Male      1\n",
              "male      1\n",
              "Name: Sex, dtype: int64"
            ]
          },
          "metadata": {
            "tags": []
          },
          "execution_count": 37
        }
      ]
    },
    {
      "cell_type": "code",
      "metadata": {
        "id": "Dn4FrjyFkwpB",
        "colab_type": "code",
        "colab": {
          "base_uri": "https://localhost:8080/",
          "height": 173
        },
        "outputId": "1144f81b-7d02-4530-8922-3a787961f434"
      },
      "source": [
        "#dropna() & drop\n",
        "CUSTOMER.dropna(axis=0)"
      ],
      "execution_count": 40,
      "outputs": [
        {
          "output_type": "execute_result",
          "data": {
            "text/html": [
              "<div>\n",
              "<style scoped>\n",
              "    .dataframe tbody tr th:only-of-type {\n",
              "        vertical-align: middle;\n",
              "    }\n",
              "\n",
              "    .dataframe tbody tr th {\n",
              "        vertical-align: top;\n",
              "    }\n",
              "\n",
              "    .dataframe thead th {\n",
              "        text-align: right;\n",
              "    }\n",
              "</style>\n",
              "<table border=\"1\" class=\"dataframe\">\n",
              "  <thead>\n",
              "    <tr style=\"text-align: right;\">\n",
              "      <th></th>\n",
              "      <th>Cust_Id</th>\n",
              "      <th>Name</th>\n",
              "      <th>Age</th>\n",
              "      <th>State</th>\n",
              "      <th>Sex</th>\n",
              "    </tr>\n",
              "  </thead>\n",
              "  <tbody>\n",
              "    <tr>\n",
              "      <th>0</th>\n",
              "      <td>1001</td>\n",
              "      <td>Tom</td>\n",
              "      <td>20.0</td>\n",
              "      <td>Lagos</td>\n",
              "      <td>Male</td>\n",
              "    </tr>\n",
              "    <tr>\n",
              "      <th>1</th>\n",
              "      <td>1002</td>\n",
              "      <td>nick</td>\n",
              "      <td>21.0</td>\n",
              "      <td>Oyo</td>\n",
              "      <td>female</td>\n",
              "    </tr>\n",
              "    <tr>\n",
              "      <th>2</th>\n",
              "      <td>1003</td>\n",
              "      <td>krish</td>\n",
              "      <td>19.0</td>\n",
              "      <td>Kaduna</td>\n",
              "      <td>m</td>\n",
              "    </tr>\n",
              "    <tr>\n",
              "      <th>3</th>\n",
              "      <td>1004</td>\n",
              "      <td>jack</td>\n",
              "      <td>18.0</td>\n",
              "      <td>Imo</td>\n",
              "      <td>female</td>\n",
              "    </tr>\n",
              "  </tbody>\n",
              "</table>\n",
              "</div>"
            ],
            "text/plain": [
              "   Cust_Id   Name   Age   State     Sex\n",
              "0     1001    Tom  20.0   Lagos    Male\n",
              "1     1002   nick  21.0     Oyo  female\n",
              "2     1003  krish  19.0  Kaduna       m\n",
              "3     1004   jack  18.0     Imo  female"
            ]
          },
          "metadata": {
            "tags": []
          },
          "execution_count": 40
        }
      ]
    },
    {
      "cell_type": "code",
      "metadata": {
        "id": "KXbtKAn83W8B",
        "colab_type": "code",
        "colab": {
          "base_uri": "https://localhost:8080/",
          "height": 235
        },
        "outputId": "453b65d8-80c1-43cd-e9f8-9ae5a2bffeab"
      },
      "source": [
        "#drop specified columns\n",
        "CUSTOMER.drop(['Name','Age'],axis=1)"
      ],
      "execution_count": 47,
      "outputs": [
        {
          "output_type": "execute_result",
          "data": {
            "text/html": [
              "<div>\n",
              "<style scoped>\n",
              "    .dataframe tbody tr th:only-of-type {\n",
              "        vertical-align: middle;\n",
              "    }\n",
              "\n",
              "    .dataframe tbody tr th {\n",
              "        vertical-align: top;\n",
              "    }\n",
              "\n",
              "    .dataframe thead th {\n",
              "        text-align: right;\n",
              "    }\n",
              "</style>\n",
              "<table border=\"1\" class=\"dataframe\">\n",
              "  <thead>\n",
              "    <tr style=\"text-align: right;\">\n",
              "      <th></th>\n",
              "      <th>Cust_Id</th>\n",
              "      <th>State</th>\n",
              "      <th>Sex</th>\n",
              "    </tr>\n",
              "  </thead>\n",
              "  <tbody>\n",
              "    <tr>\n",
              "      <th>0</th>\n",
              "      <td>1001</td>\n",
              "      <td>Lagos</td>\n",
              "      <td>Male</td>\n",
              "    </tr>\n",
              "    <tr>\n",
              "      <th>1</th>\n",
              "      <td>1002</td>\n",
              "      <td>Oyo</td>\n",
              "      <td>female</td>\n",
              "    </tr>\n",
              "    <tr>\n",
              "      <th>2</th>\n",
              "      <td>1003</td>\n",
              "      <td>Kaduna</td>\n",
              "      <td>m</td>\n",
              "    </tr>\n",
              "    <tr>\n",
              "      <th>3</th>\n",
              "      <td>1004</td>\n",
              "      <td>Imo</td>\n",
              "      <td>female</td>\n",
              "    </tr>\n",
              "    <tr>\n",
              "      <th>4</th>\n",
              "      <td>1005</td>\n",
              "      <td>abia</td>\n",
              "      <td>male</td>\n",
              "    </tr>\n",
              "    <tr>\n",
              "      <th>5</th>\n",
              "      <td>1007</td>\n",
              "      <td>Borno</td>\n",
              "      <td>NaN</td>\n",
              "    </tr>\n",
              "  </tbody>\n",
              "</table>\n",
              "</div>"
            ],
            "text/plain": [
              "   Cust_Id   State     Sex\n",
              "0     1001   Lagos    Male\n",
              "1     1002     Oyo  female\n",
              "2     1003  Kaduna       m\n",
              "3     1004     Imo  female\n",
              "4     1005    abia    male\n",
              "5     1007   Borno     NaN"
            ]
          },
          "metadata": {
            "tags": []
          },
          "execution_count": 47
        }
      ]
    },
    {
      "cell_type": "code",
      "metadata": {
        "id": "kpVtCxhqk0ld",
        "colab_type": "code",
        "colab": {}
      },
      "source": [
        "#fillNa() filling customer column with unspecified\n",
        "CUSTOMER['Sex'].fillna('unspecified',inplace=True)"
      ],
      "execution_count": 0,
      "outputs": []
    },
    {
      "cell_type": "code",
      "metadata": {
        "id": "pewvkiKMlNvh",
        "colab_type": "code",
        "colab": {}
      },
      "source": [
        "#replace\n",
        "CUSTOMER['Sex'].replce({'NaN':'UNSPECIFIED'},inplace=True)"
      ],
      "execution_count": 0,
      "outputs": []
    },
    {
      "cell_type": "code",
      "metadata": {
        "id": "0cAJ9CZ3817G",
        "colab_type": "code",
        "colab": {
          "base_uri": "https://localhost:8080/",
          "height": 514
        },
        "outputId": "17608db6-1e38-4243-92bd-da9dce35dbfc"
      },
      "source": [
        "Customer_orders"
      ],
      "execution_count": 51,
      "outputs": [
        {
          "output_type": "execute_result",
          "data": {
            "text/html": [
              "<div>\n",
              "<style scoped>\n",
              "    .dataframe tbody tr th:only-of-type {\n",
              "        vertical-align: middle;\n",
              "    }\n",
              "\n",
              "    .dataframe tbody tr th {\n",
              "        vertical-align: top;\n",
              "    }\n",
              "\n",
              "    .dataframe thead th {\n",
              "        text-align: right;\n",
              "    }\n",
              "</style>\n",
              "<table border=\"1\" class=\"dataframe\">\n",
              "  <thead>\n",
              "    <tr style=\"text-align: right;\">\n",
              "      <th></th>\n",
              "      <th>ORDER_ID</th>\n",
              "      <th>ORDER_QTY</th>\n",
              "      <th>CUST_ID</th>\n",
              "      <th>ORDER_DATE</th>\n",
              "      <th>UNIT_PRICE</th>\n",
              "    </tr>\n",
              "  </thead>\n",
              "  <tbody>\n",
              "    <tr>\n",
              "      <th>0</th>\n",
              "      <td>1</td>\n",
              "      <td>2</td>\n",
              "      <td>1004</td>\n",
              "      <td>01/01/2020</td>\n",
              "      <td>3</td>\n",
              "    </tr>\n",
              "    <tr>\n",
              "      <th>1</th>\n",
              "      <td>2</td>\n",
              "      <td>4</td>\n",
              "      <td>1005</td>\n",
              "      <td>02/01/2020</td>\n",
              "      <td>4</td>\n",
              "    </tr>\n",
              "    <tr>\n",
              "      <th>2</th>\n",
              "      <td>3</td>\n",
              "      <td>5</td>\n",
              "      <td>1001</td>\n",
              "      <td>03/01/2020</td>\n",
              "      <td>5</td>\n",
              "    </tr>\n",
              "    <tr>\n",
              "      <th>3</th>\n",
              "      <td>4</td>\n",
              "      <td>6</td>\n",
              "      <td>1004</td>\n",
              "      <td>04/01/2020</td>\n",
              "      <td>6</td>\n",
              "    </tr>\n",
              "    <tr>\n",
              "      <th>4</th>\n",
              "      <td>5</td>\n",
              "      <td>4</td>\n",
              "      <td>1005</td>\n",
              "      <td>05/01/2020</td>\n",
              "      <td>4</td>\n",
              "    </tr>\n",
              "    <tr>\n",
              "      <th>5</th>\n",
              "      <td>6</td>\n",
              "      <td>3</td>\n",
              "      <td>1002</td>\n",
              "      <td>06/02/2020</td>\n",
              "      <td>7</td>\n",
              "    </tr>\n",
              "    <tr>\n",
              "      <th>6</th>\n",
              "      <td>7</td>\n",
              "      <td>4</td>\n",
              "      <td>1001</td>\n",
              "      <td>07/02/2020</td>\n",
              "      <td>8</td>\n",
              "    </tr>\n",
              "    <tr>\n",
              "      <th>7</th>\n",
              "      <td>8</td>\n",
              "      <td>5</td>\n",
              "      <td>1003</td>\n",
              "      <td>08/02/2020</td>\n",
              "      <td>9</td>\n",
              "    </tr>\n",
              "    <tr>\n",
              "      <th>8</th>\n",
              "      <td>9</td>\n",
              "      <td>3</td>\n",
              "      <td>1004</td>\n",
              "      <td>09/02/2020</td>\n",
              "      <td>5</td>\n",
              "    </tr>\n",
              "    <tr>\n",
              "      <th>9</th>\n",
              "      <td>10</td>\n",
              "      <td>5</td>\n",
              "      <td>1006</td>\n",
              "      <td>10/03/2020</td>\n",
              "      <td>6</td>\n",
              "    </tr>\n",
              "    <tr>\n",
              "      <th>10</th>\n",
              "      <td>11</td>\n",
              "      <td>6</td>\n",
              "      <td>1002</td>\n",
              "      <td>11/03/2020</td>\n",
              "      <td>8</td>\n",
              "    </tr>\n",
              "    <tr>\n",
              "      <th>11</th>\n",
              "      <td>12</td>\n",
              "      <td>3</td>\n",
              "      <td>1007</td>\n",
              "      <td>12/03/2020</td>\n",
              "      <td>9</td>\n",
              "    </tr>\n",
              "    <tr>\n",
              "      <th>12</th>\n",
              "      <td>13</td>\n",
              "      <td>7</td>\n",
              "      <td>1007</td>\n",
              "      <td>13/03/2020</td>\n",
              "      <td>5</td>\n",
              "    </tr>\n",
              "    <tr>\n",
              "      <th>13</th>\n",
              "      <td>14</td>\n",
              "      <td>4</td>\n",
              "      <td>1003</td>\n",
              "      <td>14/03/2020</td>\n",
              "      <td>8</td>\n",
              "    </tr>\n",
              "    <tr>\n",
              "      <th>14</th>\n",
              "      <td>15</td>\n",
              "      <td>3</td>\n",
              "      <td>1001</td>\n",
              "      <td>15/03/2020</td>\n",
              "      <td>5</td>\n",
              "    </tr>\n",
              "  </tbody>\n",
              "</table>\n",
              "</div>"
            ],
            "text/plain": [
              "    ORDER_ID  ORDER_QTY  CUST_ID  ORDER_DATE  UNIT_PRICE\n",
              "0          1          2     1004  01/01/2020           3\n",
              "1          2          4     1005  02/01/2020           4\n",
              "2          3          5     1001  03/01/2020           5\n",
              "3          4          6     1004  04/01/2020           6\n",
              "4          5          4     1005  05/01/2020           4\n",
              "5          6          3     1002  06/02/2020           7\n",
              "6          7          4     1001  07/02/2020           8\n",
              "7          8          5     1003  08/02/2020           9\n",
              "8          9          3     1004  09/02/2020           5\n",
              "9         10          5     1006  10/03/2020           6\n",
              "10        11          6     1002  11/03/2020           8\n",
              "11        12          3     1007  12/03/2020           9\n",
              "12        13          7     1007  13/03/2020           5\n",
              "13        14          4     1003  14/03/2020           8\n",
              "14        15          3     1001  15/03/2020           5"
            ]
          },
          "metadata": {
            "tags": []
          },
          "execution_count": 51
        }
      ]
    },
    {
      "cell_type": "code",
      "metadata": {
        "id": "HsKQRqvtlVao",
        "colab_type": "code",
        "colab": {
          "base_uri": "https://localhost:8080/",
          "height": 297
        },
        "outputId": "45bb66e8-d8ee-47e5-a5bc-9919346e4e16"
      },
      "source": [
        "#groupby\n",
        "Customer_orders.groupby('CUST_ID')['ORDER_QTY','UNIT_PRICE'].sum()"
      ],
      "execution_count": 59,
      "outputs": [
        {
          "output_type": "execute_result",
          "data": {
            "text/html": [
              "<div>\n",
              "<style scoped>\n",
              "    .dataframe tbody tr th:only-of-type {\n",
              "        vertical-align: middle;\n",
              "    }\n",
              "\n",
              "    .dataframe tbody tr th {\n",
              "        vertical-align: top;\n",
              "    }\n",
              "\n",
              "    .dataframe thead th {\n",
              "        text-align: right;\n",
              "    }\n",
              "</style>\n",
              "<table border=\"1\" class=\"dataframe\">\n",
              "  <thead>\n",
              "    <tr style=\"text-align: right;\">\n",
              "      <th></th>\n",
              "      <th>ORDER_QTY</th>\n",
              "      <th>UNIT_PRICE</th>\n",
              "    </tr>\n",
              "    <tr>\n",
              "      <th>CUST_ID</th>\n",
              "      <th></th>\n",
              "      <th></th>\n",
              "    </tr>\n",
              "  </thead>\n",
              "  <tbody>\n",
              "    <tr>\n",
              "      <th>1001</th>\n",
              "      <td>12</td>\n",
              "      <td>18</td>\n",
              "    </tr>\n",
              "    <tr>\n",
              "      <th>1002</th>\n",
              "      <td>9</td>\n",
              "      <td>15</td>\n",
              "    </tr>\n",
              "    <tr>\n",
              "      <th>1003</th>\n",
              "      <td>9</td>\n",
              "      <td>17</td>\n",
              "    </tr>\n",
              "    <tr>\n",
              "      <th>1004</th>\n",
              "      <td>11</td>\n",
              "      <td>14</td>\n",
              "    </tr>\n",
              "    <tr>\n",
              "      <th>1005</th>\n",
              "      <td>8</td>\n",
              "      <td>8</td>\n",
              "    </tr>\n",
              "    <tr>\n",
              "      <th>1006</th>\n",
              "      <td>5</td>\n",
              "      <td>6</td>\n",
              "    </tr>\n",
              "    <tr>\n",
              "      <th>1007</th>\n",
              "      <td>10</td>\n",
              "      <td>14</td>\n",
              "    </tr>\n",
              "  </tbody>\n",
              "</table>\n",
              "</div>"
            ],
            "text/plain": [
              "         ORDER_QTY  UNIT_PRICE\n",
              "CUST_ID                       \n",
              "1001            12          18\n",
              "1002             9          15\n",
              "1003             9          17\n",
              "1004            11          14\n",
              "1005             8           8\n",
              "1006             5           6\n",
              "1007            10          14"
            ]
          },
          "metadata": {
            "tags": []
          },
          "execution_count": 59
        }
      ]
    },
    {
      "cell_type": "code",
      "metadata": {
        "id": "IWW86SpE-C6Y",
        "colab_type": "code",
        "colab": {
          "base_uri": "https://localhost:8080/",
          "height": 391
        },
        "outputId": "8e228c1a-2641-4aea-b6c0-dc470adee515"
      },
      "source": [
        "#view the groupings\n",
        "list(Customer_orders.groupby(['CUST_ID']))"
      ],
      "execution_count": 56,
      "outputs": [
        {
          "output_type": "execute_result",
          "data": {
            "text/plain": [
              "[(1001,     ORDER_ID  ORDER_QTY  CUST_ID  ORDER_DATE  UNIT_PRICE\n",
              "  2          3          5     1001  03/01/2020           5\n",
              "  6          7          4     1001  07/02/2020           8\n",
              "  14        15          3     1001  15/03/2020           5),\n",
              " (1002,     ORDER_ID  ORDER_QTY  CUST_ID  ORDER_DATE  UNIT_PRICE\n",
              "  5          6          3     1002  06/02/2020           7\n",
              "  10        11          6     1002  11/03/2020           8),\n",
              " (1003,     ORDER_ID  ORDER_QTY  CUST_ID  ORDER_DATE  UNIT_PRICE\n",
              "  7          8          5     1003  08/02/2020           9\n",
              "  13        14          4     1003  14/03/2020           8),\n",
              " (1004,    ORDER_ID  ORDER_QTY  CUST_ID  ORDER_DATE  UNIT_PRICE\n",
              "  0         1          2     1004  01/01/2020           3\n",
              "  3         4          6     1004  04/01/2020           6\n",
              "  8         9          3     1004  09/02/2020           5),\n",
              " (1005,    ORDER_ID  ORDER_QTY  CUST_ID  ORDER_DATE  UNIT_PRICE\n",
              "  1         2          4     1005  02/01/2020           4\n",
              "  4         5          4     1005  05/01/2020           4),\n",
              " (1006,    ORDER_ID  ORDER_QTY  CUST_ID  ORDER_DATE  UNIT_PRICE\n",
              "  9        10          5     1006  10/03/2020           6),\n",
              " (1007,     ORDER_ID  ORDER_QTY  CUST_ID  ORDER_DATE  UNIT_PRICE\n",
              "  11        12          3     1007  12/03/2020           9\n",
              "  12        13          7     1007  13/03/2020           5)]"
            ]
          },
          "metadata": {
            "tags": []
          },
          "execution_count": 56
        }
      ]
    },
    {
      "cell_type": "code",
      "metadata": {
        "id": "BGcqUfLR9L-A",
        "colab_type": "code",
        "colab": {
          "base_uri": "https://localhost:8080/",
          "height": 297
        },
        "outputId": "4af4cdfe-f1bf-49ad-cf14-8dab2a4ec37b"
      },
      "source": [
        "Customer_orders_df.first()"
      ],
      "execution_count": 54,
      "outputs": [
        {
          "output_type": "execute_result",
          "data": {
            "text/html": [
              "<div>\n",
              "<style scoped>\n",
              "    .dataframe tbody tr th:only-of-type {\n",
              "        vertical-align: middle;\n",
              "    }\n",
              "\n",
              "    .dataframe tbody tr th {\n",
              "        vertical-align: top;\n",
              "    }\n",
              "\n",
              "    .dataframe thead th {\n",
              "        text-align: right;\n",
              "    }\n",
              "</style>\n",
              "<table border=\"1\" class=\"dataframe\">\n",
              "  <thead>\n",
              "    <tr style=\"text-align: right;\">\n",
              "      <th></th>\n",
              "      <th>ORDER_ID</th>\n",
              "      <th>ORDER_QTY</th>\n",
              "      <th>ORDER_DATE</th>\n",
              "      <th>UNIT_PRICE</th>\n",
              "    </tr>\n",
              "    <tr>\n",
              "      <th>CUST_ID</th>\n",
              "      <th></th>\n",
              "      <th></th>\n",
              "      <th></th>\n",
              "      <th></th>\n",
              "    </tr>\n",
              "  </thead>\n",
              "  <tbody>\n",
              "    <tr>\n",
              "      <th>1001</th>\n",
              "      <td>3</td>\n",
              "      <td>5</td>\n",
              "      <td>03/01/2020</td>\n",
              "      <td>5</td>\n",
              "    </tr>\n",
              "    <tr>\n",
              "      <th>1002</th>\n",
              "      <td>6</td>\n",
              "      <td>3</td>\n",
              "      <td>06/02/2020</td>\n",
              "      <td>7</td>\n",
              "    </tr>\n",
              "    <tr>\n",
              "      <th>1003</th>\n",
              "      <td>8</td>\n",
              "      <td>5</td>\n",
              "      <td>08/02/2020</td>\n",
              "      <td>9</td>\n",
              "    </tr>\n",
              "    <tr>\n",
              "      <th>1004</th>\n",
              "      <td>1</td>\n",
              "      <td>2</td>\n",
              "      <td>01/01/2020</td>\n",
              "      <td>3</td>\n",
              "    </tr>\n",
              "    <tr>\n",
              "      <th>1005</th>\n",
              "      <td>2</td>\n",
              "      <td>4</td>\n",
              "      <td>02/01/2020</td>\n",
              "      <td>4</td>\n",
              "    </tr>\n",
              "    <tr>\n",
              "      <th>1006</th>\n",
              "      <td>10</td>\n",
              "      <td>5</td>\n",
              "      <td>10/03/2020</td>\n",
              "      <td>6</td>\n",
              "    </tr>\n",
              "    <tr>\n",
              "      <th>1007</th>\n",
              "      <td>12</td>\n",
              "      <td>3</td>\n",
              "      <td>12/03/2020</td>\n",
              "      <td>9</td>\n",
              "    </tr>\n",
              "  </tbody>\n",
              "</table>\n",
              "</div>"
            ],
            "text/plain": [
              "         ORDER_ID  ORDER_QTY  ORDER_DATE  UNIT_PRICE\n",
              "CUST_ID                                             \n",
              "1001            3          5  03/01/2020           5\n",
              "1002            6          3  06/02/2020           7\n",
              "1003            8          5  08/02/2020           9\n",
              "1004            1          2  01/01/2020           3\n",
              "1005            2          4  02/01/2020           4\n",
              "1006           10          5  10/03/2020           6\n",
              "1007           12          3  12/03/2020           9"
            ]
          },
          "metadata": {
            "tags": []
          },
          "execution_count": 54
        }
      ]
    },
    {
      "cell_type": "code",
      "metadata": {
        "id": "lJwHahi7lbnT",
        "colab_type": "code",
        "colab": {}
      },
      "source": [
        "#to_date()"
      ],
      "execution_count": 0,
      "outputs": []
    },
    {
      "cell_type": "code",
      "metadata": {
        "id": "fsM3jSRRlgqZ",
        "colab_type": "code",
        "colab": {}
      },
      "source": [
        "#set_index()"
      ],
      "execution_count": 0,
      "outputs": []
    },
    {
      "cell_type": "code",
      "metadata": {
        "id": "Ent1yO3alkPY",
        "colab_type": "code",
        "colab": {}
      },
      "source": [
        "#loc & iloc"
      ],
      "execution_count": 0,
      "outputs": []
    },
    {
      "cell_type": "code",
      "metadata": {
        "id": "i6kDwIdqlmaY",
        "colab_type": "code",
        "colab": {
          "base_uri": "https://localhost:8080/",
          "height": 102
        },
        "outputId": "6a3f405a-4b4b-4c9d-b970-bfa3819237f7"
      },
      "source": [
        "#query()\n",
        "CUSTOMER_Filtered1=CUSTOMER.query('Age < 30')\n",
        "CUSTOMER_Filtered=CUSTOMER.query('Age < 30')\n",
        "print(CUSTOMER_Filtered)"
      ],
      "execution_count": 60,
      "outputs": [
        {
          "output_type": "stream",
          "text": [
            "   Cust_Id   Name   Age   State     Sex\n",
            "0     1001    Tom  20.0   Lagos    Male\n",
            "1     1002   nick  21.0     Oyo  female\n",
            "2     1003  krish  19.0  Kaduna       m\n",
            "3     1004   jack  18.0     Imo  female\n"
          ],
          "name": "stdout"
        }
      ]
    },
    {
      "cell_type": "code",
      "metadata": {
        "id": "iBE_I_YlDuR7",
        "colab_type": "code",
        "colab": {}
      },
      "source": [
        ""
      ],
      "execution_count": 0,
      "outputs": []
    },
    {
      "cell_type": "code",
      "metadata": {
        "id": "wJt1cqQjlrsg",
        "colab_type": "code",
        "colab": {}
      },
      "source": [
        "#apply()"
      ],
      "execution_count": 0,
      "outputs": []
    },
    {
      "cell_type": "code",
      "metadata": {
        "id": "3woURkbTltJ4",
        "colab_type": "code",
        "colab": {}
      },
      "source": [
        "#lambda"
      ],
      "execution_count": 0,
      "outputs": []
    },
    {
      "cell_type": "code",
      "metadata": {
        "id": "noCUqU5ulyiT",
        "colab_type": "code",
        "colab": {}
      },
      "source": [
        "#user define function"
      ],
      "execution_count": 0,
      "outputs": []
    }
  ]
}