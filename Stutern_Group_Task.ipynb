{
  "nbformat": 4,
  "nbformat_minor": 0,
  "metadata": {
    "colab": {
      "name": "Stutern_Group_Task.ipynb",
      "provenance": [],
      "collapsed_sections": [],
      "authorship_tag": "ABX9TyOCLTcfTvKC+Sc7bszq+ss/",
      "include_colab_link": true
    },
    "kernelspec": {
      "name": "python3",
      "display_name": "Python 3"
    }
  },
  "cells": [
    {
      "cell_type": "markdown",
      "metadata": {
        "id": "view-in-github",
        "colab_type": "text"
      },
      "source": [
        "<a href=\"https://colab.research.google.com/github/Ayanlola2002/Stutern/blob/master/Stutern_Group_Task.ipynb\" target=\"_parent\"><img src=\"https://colab.research.google.com/assets/colab-badge.svg\" alt=\"Open In Colab\"/></a>"
      ]
    },
    {
      "cell_type": "code",
      "metadata": {
        "id": "FB3YWiYKf_Jm",
        "colab_type": "code",
        "outputId": "8f0a3830-314d-44e0-f2d1-a5dd3421eb3a",
        "colab": {
          "base_uri": "https://localhost:8080/",
          "height": 122
        }
      },
      "source": [
        "from google.colab import drive\n",
        "drive.mount('/content/drive')"
      ],
      "execution_count": 1,
      "outputs": [
        {
          "output_type": "stream",
          "text": [
            "Go to this URL in a browser: https://accounts.google.com/o/oauth2/auth?client_id=947318989803-6bn6qk8qdgf4n4g3pfee6491hc0brc4i.apps.googleusercontent.com&redirect_uri=urn%3aietf%3awg%3aoauth%3a2.0%3aoob&response_type=code&scope=email%20https%3a%2f%2fwww.googleapis.com%2fauth%2fdocs.test%20https%3a%2f%2fwww.googleapis.com%2fauth%2fdrive%20https%3a%2f%2fwww.googleapis.com%2fauth%2fdrive.photos.readonly%20https%3a%2f%2fwww.googleapis.com%2fauth%2fpeopleapi.readonly\n",
            "\n",
            "Enter your authorization code:\n",
            "··········\n",
            "Mounted at /content/drive\n"
          ],
          "name": "stdout"
        }
      ]
    },
    {
      "cell_type": "code",
      "metadata": {
        "id": "m9HmYQkfgcVU",
        "colab_type": "code",
        "outputId": "784a1757-1e3c-4d8a-f1ea-ec16abc0706e",
        "colab": {
          "base_uri": "https://localhost:8080/",
          "height": 71
        }
      },
      "source": [
        "import pandas as pd\n",
        "all_accounts=pd.read_csv('/content/drive/My Drive/raw/all_accounts.csv')\n",
        "all_balances=pd.read_csv('/content/drive/My Drive/raw/all_balances.csv')\n",
        "all_demographics=pd.read_csv('/content/drive/My Drive/raw/all_demographics.csv',encoding='latin',sep='|')\n",
        "all_investments=pd.read_csv('/content/drive/My Drive/raw/all_investments.csv')\n",
        "all_loans=pd.read_csv('/content/drive/My Drive/raw/all_loans.csv')\n",
        "all_loans_application=pd.read_csv('/content/drive/My Drive/raw/all_loans_application.csv')\n",
        "all_transactions_digital=pd.read_csv('/content/drive/My Drive/raw/all_transactions_digital.csv')\n",
        "bureau_score=pd.read_csv('/content/drive/My Drive/raw/bureau_score.csv')\n",
        "all_dictionary=pd.read_csv('/content/drive/My Drive/raw/dictionary.csv',skiprows=[0])"
      ],
      "execution_count": 2,
      "outputs": [
        {
          "output_type": "stream",
          "text": [
            "/usr/local/lib/python3.6/dist-packages/IPython/core/interactiveshell.py:2718: DtypeWarning: Columns (17,19,26,28,30,35,36,37,38,39,61,71,73,74,85,100,103,114,115,125,126) have mixed types. Specify dtype option on import or set low_memory=False.\n",
            "  interactivity=interactivity, compiler=compiler, result=result)\n"
          ],
          "name": "stderr"
        }
      ]
    },
    {
      "cell_type": "code",
      "metadata": {
        "id": "tMvJoDaIoCWS",
        "colab_type": "code",
        "outputId": "fc6ce943-a6f8-4c78-a7fe-eb506043491e",
        "colab": {
          "base_uri": "https://localhost:8080/",
          "height": 51
        }
      },
      "source": [
        "#we use the all_loans_applications customer id \n",
        "#this indicates all those customers that apply for loans \n",
        "#it may also be possible that a customer ask for multiple loans\n",
        "print(all_loans.shape)\n",
        "print(all_loans_application.shape)"
      ],
      "execution_count": 3,
      "outputs": [
        {
          "output_type": "stream",
          "text": [
            "(278505, 10)\n",
            "(23172, 8)\n"
          ],
          "name": "stdout"
        }
      ]
    },
    {
      "cell_type": "code",
      "metadata": {
        "id": "n0Mkks35rJWZ",
        "colab_type": "code",
        "colab": {}
      },
      "source": [
        "#setting customerId as index \n",
        "all_loans_application.set_index('CUSTOMER_UNIQUE_ID',inplace=True)"
      ],
      "execution_count": 0,
      "outputs": []
    },
    {
      "cell_type": "code",
      "metadata": {
        "id": "Gpq4ALVtrwCt",
        "colab_type": "code",
        "colab": {}
      },
      "source": [
        "#extracting customer ID from  all_loan_applications\n",
        "important_indexes=all_loans_application.index.unique()"
      ],
      "execution_count": 0,
      "outputs": []
    },
    {
      "cell_type": "code",
      "metadata": {
        "id": "e6D8FwIdsUk5",
        "colab_type": "code",
        "colab": {}
      },
      "source": [
        "#resetting of all_accounts index\n",
        "all_accounts.set_index('CUSTOMER_UNIQUE_ID',inplace=True)\n"
      ],
      "execution_count": 0,
      "outputs": []
    },
    {
      "cell_type": "code",
      "metadata": {
        "id": "VJ5TsCPFtABW",
        "colab_type": "code",
        "outputId": "a8b85bce-45c5-488d-9b8b-95af6467c8c0",
        "colab": {
          "base_uri": "https://localhost:8080/",
          "height": 136
        }
      },
      "source": [
        "all_accounts=all_accounts.loc[important_indexes]"
      ],
      "execution_count": 7,
      "outputs": [
        {
          "output_type": "stream",
          "text": [
            "/usr/local/lib/python3.6/dist-packages/ipykernel_launcher.py:1: FutureWarning: \n",
            "Passing list-likes to .loc or [] with any missing label will raise\n",
            "KeyError in the future, you can use .reindex() as an alternative.\n",
            "\n",
            "See the documentation here:\n",
            "https://pandas.pydata.org/pandas-docs/stable/user_guide/indexing.html#deprecate-loc-reindex-listlike\n",
            "  \"\"\"Entry point for launching an IPython kernel.\n"
          ],
          "name": "stderr"
        }
      ]
    },
    {
      "cell_type": "code",
      "metadata": {
        "id": "tN55i3RttPEt",
        "colab_type": "code",
        "outputId": "84fcf138-c5b1-4f93-af1b-c994a172fe3d",
        "colab": {
          "base_uri": "https://localhost:8080/",
          "height": 68
        }
      },
      "source": [
        "all_accounts['RECORD_STAT'].value_counts()"
      ],
      "execution_count": 8,
      "outputs": [
        {
          "output_type": "execute_result",
          "data": {
            "text/plain": [
              "O    27281\n",
              "C     1776\n",
              "Name: RECORD_STAT, dtype: int64"
            ]
          },
          "metadata": {
            "tags": []
          },
          "execution_count": 8
        }
      ]
    },
    {
      "cell_type": "code",
      "metadata": {
        "id": "KOn0ZfsKt3gF",
        "colab_type": "code",
        "outputId": "0ee9e9a4-b80a-490f-d1fc-244e96ec9a86",
        "colab": {
          "base_uri": "https://localhost:8080/",
          "height": 34
        }
      },
      "source": [
        "all_accounts.shape"
      ],
      "execution_count": 9,
      "outputs": [
        {
          "output_type": "execute_result",
          "data": {
            "text/plain": [
              "(29068, 4)"
            ]
          },
          "metadata": {
            "tags": []
          },
          "execution_count": 9
        }
      ]
    },
    {
      "cell_type": "code",
      "metadata": {
        "id": "oSZEzZx8uNi0",
        "colab_type": "code",
        "colab": {}
      },
      "source": [
        "all_accounts.drop(columns='MASKED_ACCOUNT',inplace=True)"
      ],
      "execution_count": 0,
      "outputs": []
    },
    {
      "cell_type": "code",
      "metadata": {
        "id": "gGJkUY9Utv7N",
        "colab_type": "code",
        "outputId": "80e78513-4062-435f-850d-5bfe43f4b08c",
        "colab": {
          "base_uri": "https://localhost:8080/",
          "height": 102
        }
      },
      "source": [
        "#checking different type of currency\n",
        "all_accounts['CCY'].value_counts()"
      ],
      "execution_count": 11,
      "outputs": [
        {
          "output_type": "execute_result",
          "data": {
            "text/plain": [
              "NGN    26765\n",
              "USD     2082\n",
              "GBP      146\n",
              "EUR       64\n",
              "Name: CCY, dtype: int64"
            ]
          },
          "metadata": {
            "tags": []
          },
          "execution_count": 11
        }
      ]
    },
    {
      "cell_type": "code",
      "metadata": {
        "id": "T-fu_iW8up4N",
        "colab_type": "code",
        "colab": {}
      },
      "source": [
        "#function to convert different currency to naira\n",
        "def con(data):\n",
        "    data.loc[data.CCY=='USD','ACY_AVL_BAL']=data.loc[data.CCY=='USD','ACY_AVL_BAL'].apply(lambda x: x*365)\n",
        "    data.loc[data.CCY=='EUR','ACY_AVL_BAL']=data.loc[data.CCY=='EUR','ACY_AVL_BAL'].apply(lambda x: x*398)\n",
        "    data.loc[data.CCY=='GBP','ACY_AVL_BAL']=data.loc[data.CCY=='GPB','ACY_AVL_BAL'].apply(lambda x: x*467)\n",
        "    data.loc[data.CCY=='JPY','ACY_AVL_BAL']=data.loc[data.CCY=='JPY','ACY_AVL_BAL'].apply(lambda x: x*3.31)\n",
        "    return data"
      ],
      "execution_count": 0,
      "outputs": []
    },
    {
      "cell_type": "code",
      "metadata": {
        "id": "ByC8yVm2ulGS",
        "colab_type": "code",
        "colab": {}
      },
      "source": [
        "#changing all account to naira notes\n",
        "all_accounts=con(all_accounts)"
      ],
      "execution_count": 0,
      "outputs": []
    },
    {
      "cell_type": "code",
      "metadata": {
        "id": "Pt1Rxx0Eu4E7",
        "colab_type": "code",
        "colab": {}
      },
      "source": [
        "#convert index to int\n",
        "all_accounts.index=all_accounts.index.astype('int')"
      ],
      "execution_count": 0,
      "outputs": []
    },
    {
      "cell_type": "code",
      "metadata": {
        "id": "YLm-BaAEvFGL",
        "colab_type": "code",
        "colab": {}
      },
      "source": [
        "#sort index\n",
        "all_accounts.sort_index(inplace=True)"
      ],
      "execution_count": 0,
      "outputs": []
    },
    {
      "cell_type": "code",
      "metadata": {
        "id": "F90T0-wwnM0M",
        "colab_type": "code",
        "outputId": "6bfea813-e8e1-46e2-f181-4ba1cd584169",
        "colab": {
          "base_uri": "https://localhost:8080/",
          "height": 80
        }
      },
      "source": [
        "#meaning of ACY_AVL_BAL\n",
        "all_dictionary[all_dictionary['FEATURES']=='ACY_AVL_BAL']"
      ],
      "execution_count": 16,
      "outputs": [
        {
          "output_type": "execute_result",
          "data": {
            "text/html": [
              "<div>\n",
              "<style scoped>\n",
              "    .dataframe tbody tr th:only-of-type {\n",
              "        vertical-align: middle;\n",
              "    }\n",
              "\n",
              "    .dataframe tbody tr th {\n",
              "        vertical-align: top;\n",
              "    }\n",
              "\n",
              "    .dataframe thead th {\n",
              "        text-align: right;\n",
              "    }\n",
              "</style>\n",
              "<table border=\"1\" class=\"dataframe\">\n",
              "  <thead>\n",
              "    <tr style=\"text-align: right;\">\n",
              "      <th></th>\n",
              "      <th>FEATURES</th>\n",
              "      <th>DESCRIPTION</th>\n",
              "      <th>DATA TYPE</th>\n",
              "      <th>Unnamed: 3</th>\n",
              "      <th>Unnamed: 4</th>\n",
              "    </tr>\n",
              "  </thead>\n",
              "  <tbody>\n",
              "    <tr>\n",
              "      <th>14</th>\n",
              "      <td>ACY_AVL_BAL</td>\n",
              "      <td>Specifies the available balance in the account...</td>\n",
              "      <td>NUMBER</td>\n",
              "      <td>NaN</td>\n",
              "      <td>NaN</td>\n",
              "    </tr>\n",
              "  </tbody>\n",
              "</table>\n",
              "</div>"
            ],
            "text/plain": [
              "       FEATURES  ... Unnamed: 4\n",
              "14  ACY_AVL_BAL  ...        NaN\n",
              "\n",
              "[1 rows x 5 columns]"
            ]
          },
          "metadata": {
            "tags": []
          },
          "execution_count": 16
        }
      ]
    },
    {
      "cell_type": "code",
      "metadata": {
        "id": "lXhHFFuO-4m-",
        "colab_type": "code",
        "outputId": "badff574-8585-4678-8fdb-4463502fb769",
        "colab": {
          "base_uri": "https://localhost:8080/",
          "height": 221
        }
      },
      "source": [
        "#some of the ACY_AVL_BAL IS negative we will assumed it is zero \n",
        "all_accounts['ACY_AVL_BAL'].value_counts()"
      ],
      "execution_count": 17,
      "outputs": [
        {
          "output_type": "execute_result",
          "data": {
            "text/plain": [
              " 0.00          12405\n",
              "-52.50           243\n",
              "-105.00           69\n",
              " 950.00           33\n",
              " 1.00             26\n",
              "               ...  \n",
              " 77773.41          1\n",
              " 4058776.43        1\n",
              " 125.53            1\n",
              " 14164.08          1\n",
              "-145.34            1\n",
              "Name: ACY_AVL_BAL, Length: 14389, dtype: int64"
            ]
          },
          "metadata": {
            "tags": []
          },
          "execution_count": 17
        }
      ]
    },
    {
      "cell_type": "code",
      "metadata": {
        "id": "6K8ZIOrwvLTH",
        "colab_type": "code",
        "colab": {}
      },
      "source": [
        "#for all ACY_AVL_BAL that is negative RECORD STAT IS C we convert to zero so as not to affect our model\n",
        "all_accounts.loc[(all_accounts.ACY_AVL_BAL!=0) & (all_accounts.RECORD_STAT==\"C\"),'ACY_AVL_BAL']=0"
      ],
      "execution_count": 0,
      "outputs": []
    },
    {
      "cell_type": "code",
      "metadata": {
        "id": "rRKTe47B_7JH",
        "colab_type": "code",
        "outputId": "20e0d9fe-bab8-4308-efd1-c41f03e5087c",
        "colab": {
          "base_uri": "https://localhost:8080/",
          "height": 221
        }
      },
      "source": [
        "all_accounts.index.value_counts()"
      ],
      "execution_count": 19,
      "outputs": [
        {
          "output_type": "execute_result",
          "data": {
            "text/plain": [
              "69090004     34\n",
              "578029002    27\n",
              "172877006    25\n",
              "657601000    23\n",
              "679735005    22\n",
              "             ..\n",
              "952341006     1\n",
              "73406011      1\n",
              "234473009     1\n",
              "806118002     1\n",
              "909990007     1\n",
              "Name: CUSTOMER_UNIQUE_ID, Length: 17986, dtype: int64"
            ]
          },
          "metadata": {
            "tags": []
          },
          "execution_count": 19
        }
      ]
    },
    {
      "cell_type": "code",
      "metadata": {
        "id": "zNlF6_BiAHlo",
        "colab_type": "code",
        "outputId": "ad3ad613-8c52-43cc-81cd-b9f7e12b0997",
        "colab": {
          "base_uri": "https://localhost:8080/",
          "height": 1000
        }
      },
      "source": [
        "#most of the customer id appears more than ones so we can group by like the example below\n",
        "all_accounts.loc[69090004]"
      ],
      "execution_count": 20,
      "outputs": [
        {
          "output_type": "execute_result",
          "data": {
            "text/html": [
              "<div>\n",
              "<style scoped>\n",
              "    .dataframe tbody tr th:only-of-type {\n",
              "        vertical-align: middle;\n",
              "    }\n",
              "\n",
              "    .dataframe tbody tr th {\n",
              "        vertical-align: top;\n",
              "    }\n",
              "\n",
              "    .dataframe thead th {\n",
              "        text-align: right;\n",
              "    }\n",
              "</style>\n",
              "<table border=\"1\" class=\"dataframe\">\n",
              "  <thead>\n",
              "    <tr style=\"text-align: right;\">\n",
              "      <th></th>\n",
              "      <th>RECORD_STAT</th>\n",
              "      <th>ACY_AVL_BAL</th>\n",
              "      <th>CCY</th>\n",
              "    </tr>\n",
              "    <tr>\n",
              "      <th>CUSTOMER_UNIQUE_ID</th>\n",
              "      <th></th>\n",
              "      <th></th>\n",
              "      <th></th>\n",
              "    </tr>\n",
              "  </thead>\n",
              "  <tbody>\n",
              "    <tr>\n",
              "      <th>69090004</th>\n",
              "      <td>O</td>\n",
              "      <td>0.00</td>\n",
              "      <td>USD</td>\n",
              "    </tr>\n",
              "    <tr>\n",
              "      <th>69090004</th>\n",
              "      <td>C</td>\n",
              "      <td>0.00</td>\n",
              "      <td>NGN</td>\n",
              "    </tr>\n",
              "    <tr>\n",
              "      <th>69090004</th>\n",
              "      <td>O</td>\n",
              "      <td>37128.66</td>\n",
              "      <td>NGN</td>\n",
              "    </tr>\n",
              "    <tr>\n",
              "      <th>69090004</th>\n",
              "      <td>O</td>\n",
              "      <td>0.00</td>\n",
              "      <td>NGN</td>\n",
              "    </tr>\n",
              "    <tr>\n",
              "      <th>69090004</th>\n",
              "      <td>O</td>\n",
              "      <td>28.09</td>\n",
              "      <td>NGN</td>\n",
              "    </tr>\n",
              "    <tr>\n",
              "      <th>69090004</th>\n",
              "      <td>O</td>\n",
              "      <td>0.00</td>\n",
              "      <td>NGN</td>\n",
              "    </tr>\n",
              "    <tr>\n",
              "      <th>69090004</th>\n",
              "      <td>O</td>\n",
              "      <td>0.00</td>\n",
              "      <td>NGN</td>\n",
              "    </tr>\n",
              "    <tr>\n",
              "      <th>69090004</th>\n",
              "      <td>O</td>\n",
              "      <td>1262799.23</td>\n",
              "      <td>NGN</td>\n",
              "    </tr>\n",
              "    <tr>\n",
              "      <th>69090004</th>\n",
              "      <td>O</td>\n",
              "      <td>89483.40</td>\n",
              "      <td>USD</td>\n",
              "    </tr>\n",
              "    <tr>\n",
              "      <th>69090004</th>\n",
              "      <td>C</td>\n",
              "      <td>0.00</td>\n",
              "      <td>USD</td>\n",
              "    </tr>\n",
              "    <tr>\n",
              "      <th>69090004</th>\n",
              "      <td>O</td>\n",
              "      <td>0.00</td>\n",
              "      <td>NGN</td>\n",
              "    </tr>\n",
              "    <tr>\n",
              "      <th>69090004</th>\n",
              "      <td>O</td>\n",
              "      <td>0.00</td>\n",
              "      <td>NGN</td>\n",
              "    </tr>\n",
              "    <tr>\n",
              "      <th>69090004</th>\n",
              "      <td>O</td>\n",
              "      <td>0.00</td>\n",
              "      <td>NGN</td>\n",
              "    </tr>\n",
              "    <tr>\n",
              "      <th>69090004</th>\n",
              "      <td>O</td>\n",
              "      <td>NaN</td>\n",
              "      <td>GBP</td>\n",
              "    </tr>\n",
              "    <tr>\n",
              "      <th>69090004</th>\n",
              "      <td>O</td>\n",
              "      <td>0.00</td>\n",
              "      <td>NGN</td>\n",
              "    </tr>\n",
              "    <tr>\n",
              "      <th>69090004</th>\n",
              "      <td>O</td>\n",
              "      <td>0.00</td>\n",
              "      <td>NGN</td>\n",
              "    </tr>\n",
              "    <tr>\n",
              "      <th>69090004</th>\n",
              "      <td>C</td>\n",
              "      <td>0.00</td>\n",
              "      <td>NGN</td>\n",
              "    </tr>\n",
              "    <tr>\n",
              "      <th>69090004</th>\n",
              "      <td>O</td>\n",
              "      <td>0.00</td>\n",
              "      <td>NGN</td>\n",
              "    </tr>\n",
              "    <tr>\n",
              "      <th>69090004</th>\n",
              "      <td>O</td>\n",
              "      <td>13698.45</td>\n",
              "      <td>USD</td>\n",
              "    </tr>\n",
              "    <tr>\n",
              "      <th>69090004</th>\n",
              "      <td>C</td>\n",
              "      <td>0.00</td>\n",
              "      <td>NGN</td>\n",
              "    </tr>\n",
              "    <tr>\n",
              "      <th>69090004</th>\n",
              "      <td>O</td>\n",
              "      <td>29.01</td>\n",
              "      <td>NGN</td>\n",
              "    </tr>\n",
              "    <tr>\n",
              "      <th>69090004</th>\n",
              "      <td>O</td>\n",
              "      <td>0.00</td>\n",
              "      <td>NGN</td>\n",
              "    </tr>\n",
              "    <tr>\n",
              "      <th>69090004</th>\n",
              "      <td>O</td>\n",
              "      <td>0.00</td>\n",
              "      <td>NGN</td>\n",
              "    </tr>\n",
              "    <tr>\n",
              "      <th>69090004</th>\n",
              "      <td>C</td>\n",
              "      <td>0.00</td>\n",
              "      <td>NGN</td>\n",
              "    </tr>\n",
              "    <tr>\n",
              "      <th>69090004</th>\n",
              "      <td>O</td>\n",
              "      <td>0.00</td>\n",
              "      <td>USD</td>\n",
              "    </tr>\n",
              "    <tr>\n",
              "      <th>69090004</th>\n",
              "      <td>O</td>\n",
              "      <td>0.00</td>\n",
              "      <td>USD</td>\n",
              "    </tr>\n",
              "    <tr>\n",
              "      <th>69090004</th>\n",
              "      <td>O</td>\n",
              "      <td>0.00</td>\n",
              "      <td>NGN</td>\n",
              "    </tr>\n",
              "    <tr>\n",
              "      <th>69090004</th>\n",
              "      <td>O</td>\n",
              "      <td>0.00</td>\n",
              "      <td>NGN</td>\n",
              "    </tr>\n",
              "    <tr>\n",
              "      <th>69090004</th>\n",
              "      <td>O</td>\n",
              "      <td>NaN</td>\n",
              "      <td>GBP</td>\n",
              "    </tr>\n",
              "    <tr>\n",
              "      <th>69090004</th>\n",
              "      <td>O</td>\n",
              "      <td>0.00</td>\n",
              "      <td>USD</td>\n",
              "    </tr>\n",
              "    <tr>\n",
              "      <th>69090004</th>\n",
              "      <td>O</td>\n",
              "      <td>0.00</td>\n",
              "      <td>USD</td>\n",
              "    </tr>\n",
              "    <tr>\n",
              "      <th>69090004</th>\n",
              "      <td>O</td>\n",
              "      <td>0.00</td>\n",
              "      <td>USD</td>\n",
              "    </tr>\n",
              "    <tr>\n",
              "      <th>69090004</th>\n",
              "      <td>O</td>\n",
              "      <td>182391.76</td>\n",
              "      <td>NGN</td>\n",
              "    </tr>\n",
              "    <tr>\n",
              "      <th>69090004</th>\n",
              "      <td>O</td>\n",
              "      <td>0.00</td>\n",
              "      <td>NGN</td>\n",
              "    </tr>\n",
              "  </tbody>\n",
              "</table>\n",
              "</div>"
            ],
            "text/plain": [
              "                   RECORD_STAT  ACY_AVL_BAL  CCY\n",
              "CUSTOMER_UNIQUE_ID                              \n",
              "69090004                     O         0.00  USD\n",
              "69090004                     C         0.00  NGN\n",
              "69090004                     O     37128.66  NGN\n",
              "69090004                     O         0.00  NGN\n",
              "69090004                     O        28.09  NGN\n",
              "69090004                     O         0.00  NGN\n",
              "69090004                     O         0.00  NGN\n",
              "69090004                     O   1262799.23  NGN\n",
              "69090004                     O     89483.40  USD\n",
              "69090004                     C         0.00  USD\n",
              "69090004                     O         0.00  NGN\n",
              "69090004                     O         0.00  NGN\n",
              "69090004                     O         0.00  NGN\n",
              "69090004                     O          NaN  GBP\n",
              "69090004                     O         0.00  NGN\n",
              "69090004                     O         0.00  NGN\n",
              "69090004                     C         0.00  NGN\n",
              "69090004                     O         0.00  NGN\n",
              "69090004                     O     13698.45  USD\n",
              "69090004                     C         0.00  NGN\n",
              "69090004                     O        29.01  NGN\n",
              "69090004                     O         0.00  NGN\n",
              "69090004                     O         0.00  NGN\n",
              "69090004                     C         0.00  NGN\n",
              "69090004                     O         0.00  USD\n",
              "69090004                     O         0.00  USD\n",
              "69090004                     O         0.00  NGN\n",
              "69090004                     O         0.00  NGN\n",
              "69090004                     O          NaN  GBP\n",
              "69090004                     O         0.00  USD\n",
              "69090004                     O         0.00  USD\n",
              "69090004                     O         0.00  USD\n",
              "69090004                     O    182391.76  NGN\n",
              "69090004                     O         0.00  NGN"
            ]
          },
          "metadata": {
            "tags": []
          },
          "execution_count": 20
        }
      ]
    },
    {
      "cell_type": "code",
      "metadata": {
        "id": "lLclZ5HnBRPH",
        "colab_type": "code",
        "colab": {}
      },
      "source": [
        "#currency was removed because all ACY_AVL_BAL was coverted to same currency naira\n",
        "all_accounts_data=all_accounts.groupby([all_accounts.index])[['ACY_AVL_BAL']].sum()"
      ],
      "execution_count": 0,
      "outputs": []
    },
    {
      "cell_type": "code",
      "metadata": {
        "id": "g2v6xNgawKdT",
        "colab_type": "code",
        "outputId": "93304b99-150b-4ace-ea4a-0b7bff5cae76",
        "colab": {
          "base_uri": "https://localhost:8080/",
          "height": 153
        }
      },
      "source": [
        "all_accounts.info()"
      ],
      "execution_count": 22,
      "outputs": [
        {
          "output_type": "stream",
          "text": [
            "<class 'pandas.core.frame.DataFrame'>\n",
            "Int64Index: 29068 entries, 56000 to 999944001\n",
            "Data columns (total 3 columns):\n",
            "RECORD_STAT    29057 non-null object\n",
            "ACY_AVL_BAL    28938 non-null float64\n",
            "CCY            29057 non-null object\n",
            "dtypes: float64(1), object(2)\n",
            "memory usage: 1.5+ MB\n"
          ],
          "name": "stdout"
        }
      ]
    },
    {
      "cell_type": "code",
      "metadata": {
        "id": "WJ-3coyLCO4W",
        "colab_type": "code",
        "outputId": "309d35e6-669a-43e1-807d-3a9e5999bd56",
        "colab": {
          "base_uri": "https://localhost:8080/",
          "height": 235
        }
      },
      "source": [
        "#there will be no need to merge CCY column to all_accounts dataframe since we converted all currency to naira.\n",
        "all_accounts_data.head()"
      ],
      "execution_count": 23,
      "outputs": [
        {
          "output_type": "execute_result",
          "data": {
            "text/html": [
              "<div>\n",
              "<style scoped>\n",
              "    .dataframe tbody tr th:only-of-type {\n",
              "        vertical-align: middle;\n",
              "    }\n",
              "\n",
              "    .dataframe tbody tr th {\n",
              "        vertical-align: top;\n",
              "    }\n",
              "\n",
              "    .dataframe thead th {\n",
              "        text-align: right;\n",
              "    }\n",
              "</style>\n",
              "<table border=\"1\" class=\"dataframe\">\n",
              "  <thead>\n",
              "    <tr style=\"text-align: right;\">\n",
              "      <th></th>\n",
              "      <th>ACY_AVL_BAL</th>\n",
              "    </tr>\n",
              "    <tr>\n",
              "      <th>CUSTOMER_UNIQUE_ID</th>\n",
              "      <th></th>\n",
              "    </tr>\n",
              "  </thead>\n",
              "  <tbody>\n",
              "    <tr>\n",
              "      <th>56000</th>\n",
              "      <td>136043.48</td>\n",
              "    </tr>\n",
              "    <tr>\n",
              "      <th>62005</th>\n",
              "      <td>1541719.95</td>\n",
              "    </tr>\n",
              "    <tr>\n",
              "      <th>104008</th>\n",
              "      <td>12364.06</td>\n",
              "    </tr>\n",
              "    <tr>\n",
              "      <th>175007</th>\n",
              "      <td>20029.55</td>\n",
              "    </tr>\n",
              "    <tr>\n",
              "      <th>200006</th>\n",
              "      <td>61489.56</td>\n",
              "    </tr>\n",
              "  </tbody>\n",
              "</table>\n",
              "</div>"
            ],
            "text/plain": [
              "                    ACY_AVL_BAL\n",
              "CUSTOMER_UNIQUE_ID             \n",
              "56000                 136043.48\n",
              "62005                1541719.95\n",
              "104008                 12364.06\n",
              "175007                 20029.55\n",
              "200006                 61489.56"
            ]
          },
          "metadata": {
            "tags": []
          },
          "execution_count": 23
        }
      ]
    },
    {
      "cell_type": "code",
      "metadata": {
        "id": "jcA5BvUP1LyG",
        "colab_type": "code",
        "colab": {}
      },
      "source": [
        "all_balances.set_index('CUSTOMER_UNIQUE_ID',inplace=True)"
      ],
      "execution_count": 0,
      "outputs": []
    },
    {
      "cell_type": "code",
      "metadata": {
        "id": "Z1i4HgmP3cau",
        "colab_type": "code",
        "outputId": "3f847db9-d498-407e-a22e-72832dc28984",
        "colab": {
          "base_uri": "https://localhost:8080/",
          "height": 136
        }
      },
      "source": [
        "#focussing on only those who made loan applications according to all_loan_applications\n",
        "all_balances=all_balances.loc[important_indexes]"
      ],
      "execution_count": 25,
      "outputs": [
        {
          "output_type": "stream",
          "text": [
            "/usr/local/lib/python3.6/dist-packages/ipykernel_launcher.py:1: FutureWarning: \n",
            "Passing list-likes to .loc or [] with any missing label will raise\n",
            "KeyError in the future, you can use .reindex() as an alternative.\n",
            "\n",
            "See the documentation here:\n",
            "https://pandas.pydata.org/pandas-docs/stable/user_guide/indexing.html#deprecate-loc-reindex-listlike\n",
            "  \"\"\"Entry point for launching an IPython kernel.\n"
          ],
          "name": "stderr"
        }
      ]
    },
    {
      "cell_type": "code",
      "metadata": {
        "id": "Bnryq2583yZT",
        "colab_type": "code",
        "outputId": "14216fbc-f266-4231-acd9-a007d0093506",
        "colab": {
          "base_uri": "https://localhost:8080/",
          "height": 85
        }
      },
      "source": [
        "#checking for null values\n",
        "all_balances.isnull().sum()"
      ],
      "execution_count": 26,
      "outputs": [
        {
          "output_type": "execute_result",
          "data": {
            "text/plain": [
              "MASKED_ACCOUNT    490\n",
              "VAL_DT            490\n",
              "BAL               490\n",
              "dtype: int64"
            ]
          },
          "metadata": {
            "tags": []
          },
          "execution_count": 26
        }
      ]
    },
    {
      "cell_type": "code",
      "metadata": {
        "id": "wdltoCUt3807",
        "colab_type": "code",
        "colab": {}
      },
      "source": [
        "#trying to select the last date balance of customers who applied for loans\n",
        "#merger=all_balances.groupby([all_balances.index,all_balances.MASKED_ACCOUNT])[['VAL_DT']].max()"
      ],
      "execution_count": 0,
      "outputs": []
    },
    {
      "cell_type": "code",
      "metadata": {
        "id": "T8VX_RHQ5DnS",
        "colab_type": "code",
        "colab": {}
      },
      "source": [
        "all_balances_data=all_balances.sort_values('VAL_DT').groupby(all_balances.index).tail(1)"
      ],
      "execution_count": 0,
      "outputs": []
    },
    {
      "cell_type": "code",
      "metadata": {
        "id": "mbiZRueT7NK2",
        "colab_type": "code",
        "colab": {
          "base_uri": "https://localhost:8080/",
          "height": 235
        },
        "outputId": "be4cae07-9ef8-447b-9ecd-6e05f2c40091"
      },
      "source": [
        "all_balances_data.head()"
      ],
      "execution_count": 31,
      "outputs": [
        {
          "output_type": "execute_result",
          "data": {
            "text/html": [
              "<div>\n",
              "<style scoped>\n",
              "    .dataframe tbody tr th:only-of-type {\n",
              "        vertical-align: middle;\n",
              "    }\n",
              "\n",
              "    .dataframe tbody tr th {\n",
              "        vertical-align: top;\n",
              "    }\n",
              "\n",
              "    .dataframe thead th {\n",
              "        text-align: right;\n",
              "    }\n",
              "</style>\n",
              "<table border=\"1\" class=\"dataframe\">\n",
              "  <thead>\n",
              "    <tr style=\"text-align: right;\">\n",
              "      <th></th>\n",
              "      <th>MASKED_ACCOUNT</th>\n",
              "      <th>VAL_DT</th>\n",
              "      <th>BAL</th>\n",
              "    </tr>\n",
              "    <tr>\n",
              "      <th>CUSTOMER_UNIQUE_ID</th>\n",
              "      <th></th>\n",
              "      <th></th>\n",
              "      <th></th>\n",
              "    </tr>\n",
              "  </thead>\n",
              "  <tbody>\n",
              "    <tr>\n",
              "      <th>41981006</th>\n",
              "      <td>00******68</td>\n",
              "      <td>10/1/2019</td>\n",
              "      <td>40821.02</td>\n",
              "    </tr>\n",
              "    <tr>\n",
              "      <th>737790008</th>\n",
              "      <td>06******08</td>\n",
              "      <td>10/1/2019</td>\n",
              "      <td>323.75</td>\n",
              "    </tr>\n",
              "    <tr>\n",
              "      <th>521640001</th>\n",
              "      <td>00******56</td>\n",
              "      <td>10/1/2019</td>\n",
              "      <td>11974.56</td>\n",
              "    </tr>\n",
              "    <tr>\n",
              "      <th>391254009</th>\n",
              "      <td>00******30</td>\n",
              "      <td>10/1/2019</td>\n",
              "      <td>6813.05</td>\n",
              "    </tr>\n",
              "    <tr>\n",
              "      <th>657601000</th>\n",
              "      <td>00******15</td>\n",
              "      <td>10/1/2019</td>\n",
              "      <td>14998.88</td>\n",
              "    </tr>\n",
              "  </tbody>\n",
              "</table>\n",
              "</div>"
            ],
            "text/plain": [
              "                   MASKED_ACCOUNT     VAL_DT       BAL\n",
              "CUSTOMER_UNIQUE_ID                                    \n",
              "41981006               00******68  10/1/2019  40821.02\n",
              "737790008              06******08  10/1/2019    323.75\n",
              "521640001              00******56  10/1/2019  11974.56\n",
              "391254009              00******30  10/1/2019   6813.05\n",
              "657601000              00******15  10/1/2019  14998.88"
            ]
          },
          "metadata": {
            "tags": []
          },
          "execution_count": 31
        }
      ]
    },
    {
      "cell_type": "code",
      "metadata": {
        "id": "LRY1wdeh4XHS",
        "colab_type": "code",
        "outputId": "a707ec93-7ef0-4495-b302-5759c30999be",
        "colab": {
          "base_uri": "https://localhost:8080/",
          "height": 34
        }
      },
      "source": [
        "all_balances_data.isnull().any(axis=1).sum()"
      ],
      "execution_count": 34,
      "outputs": [
        {
          "output_type": "execute_result",
          "data": {
            "text/plain": [
              "4"
            ]
          },
          "metadata": {
            "tags": []
          },
          "execution_count": 34
        }
      ]
    },
    {
      "cell_type": "code",
      "metadata": {
        "id": "kTn72WAUAks_",
        "colab_type": "code",
        "colab": {
          "base_uri": "https://localhost:8080/",
          "height": 450
        },
        "outputId": "ab9eecad-327e-4c9c-9a87-0654c1e31e0f"
      },
      "source": [
        "#drop rows with na values\n",
        "all_balances_data.dropna()"
      ],
      "execution_count": 37,
      "outputs": [
        {
          "output_type": "execute_result",
          "data": {
            "text/html": [
              "<div>\n",
              "<style scoped>\n",
              "    .dataframe tbody tr th:only-of-type {\n",
              "        vertical-align: middle;\n",
              "    }\n",
              "\n",
              "    .dataframe tbody tr th {\n",
              "        vertical-align: top;\n",
              "    }\n",
              "\n",
              "    .dataframe thead th {\n",
              "        text-align: right;\n",
              "    }\n",
              "</style>\n",
              "<table border=\"1\" class=\"dataframe\">\n",
              "  <thead>\n",
              "    <tr style=\"text-align: right;\">\n",
              "      <th></th>\n",
              "      <th>MASKED_ACCOUNT</th>\n",
              "      <th>VAL_DT</th>\n",
              "      <th>BAL</th>\n",
              "    </tr>\n",
              "    <tr>\n",
              "      <th>CUSTOMER_UNIQUE_ID</th>\n",
              "      <th></th>\n",
              "      <th></th>\n",
              "      <th></th>\n",
              "    </tr>\n",
              "  </thead>\n",
              "  <tbody>\n",
              "    <tr>\n",
              "      <th>41981006</th>\n",
              "      <td>00******68</td>\n",
              "      <td>10/1/2019</td>\n",
              "      <td>40821.02</td>\n",
              "    </tr>\n",
              "    <tr>\n",
              "      <th>737790008</th>\n",
              "      <td>06******08</td>\n",
              "      <td>10/1/2019</td>\n",
              "      <td>323.75</td>\n",
              "    </tr>\n",
              "    <tr>\n",
              "      <th>521640001</th>\n",
              "      <td>00******56</td>\n",
              "      <td>10/1/2019</td>\n",
              "      <td>11974.56</td>\n",
              "    </tr>\n",
              "    <tr>\n",
              "      <th>391254009</th>\n",
              "      <td>00******30</td>\n",
              "      <td>10/1/2019</td>\n",
              "      <td>6813.05</td>\n",
              "    </tr>\n",
              "    <tr>\n",
              "      <th>657601000</th>\n",
              "      <td>00******15</td>\n",
              "      <td>10/1/2019</td>\n",
              "      <td>14998.88</td>\n",
              "    </tr>\n",
              "    <tr>\n",
              "      <th>...</th>\n",
              "      <td>...</td>\n",
              "      <td>...</td>\n",
              "      <td>...</td>\n",
              "    </tr>\n",
              "    <tr>\n",
              "      <th>801451003</th>\n",
              "      <td>07******68</td>\n",
              "      <td>9/9/2019</td>\n",
              "      <td>85273.88</td>\n",
              "    </tr>\n",
              "    <tr>\n",
              "      <th>588148009</th>\n",
              "      <td>00******46</td>\n",
              "      <td>9/9/2019</td>\n",
              "      <td>1097.83</td>\n",
              "    </tr>\n",
              "    <tr>\n",
              "      <th>13231006</th>\n",
              "      <td>00******65</td>\n",
              "      <td>9/9/2019</td>\n",
              "      <td>40002.64</td>\n",
              "    </tr>\n",
              "    <tr>\n",
              "      <th>823552000</th>\n",
              "      <td>07******66</td>\n",
              "      <td>9/9/2019</td>\n",
              "      <td>51076.68</td>\n",
              "    </tr>\n",
              "    <tr>\n",
              "      <th>515970011</th>\n",
              "      <td>07******40</td>\n",
              "      <td>9/9/2019</td>\n",
              "      <td>0.42</td>\n",
              "    </tr>\n",
              "  </tbody>\n",
              "</table>\n",
              "<p>17982 rows × 3 columns</p>\n",
              "</div>"
            ],
            "text/plain": [
              "                   MASKED_ACCOUNT     VAL_DT       BAL\n",
              "CUSTOMER_UNIQUE_ID                                    \n",
              "41981006               00******68  10/1/2019  40821.02\n",
              "737790008              06******08  10/1/2019    323.75\n",
              "521640001              00******56  10/1/2019  11974.56\n",
              "391254009              00******30  10/1/2019   6813.05\n",
              "657601000              00******15  10/1/2019  14998.88\n",
              "...                           ...        ...       ...\n",
              "801451003              07******68   9/9/2019  85273.88\n",
              "588148009              00******46   9/9/2019   1097.83\n",
              "13231006               00******65   9/9/2019  40002.64\n",
              "823552000              07******66   9/9/2019  51076.68\n",
              "515970011              07******40   9/9/2019      0.42\n",
              "\n",
              "[17982 rows x 3 columns]"
            ]
          },
          "metadata": {
            "tags": []
          },
          "execution_count": 37
        }
      ]
    },
    {
      "cell_type": "code",
      "metadata": {
        "id": "EUAks837AtnN",
        "colab_type": "code",
        "colab": {
          "base_uri": "https://localhost:8080/",
          "height": 85
        },
        "outputId": "a17732d4-a20e-47a3-90f7-c4b005666028"
      },
      "source": [
        "all_balances_data.isna().sum()"
      ],
      "execution_count": 39,
      "outputs": [
        {
          "output_type": "execute_result",
          "data": {
            "text/plain": [
              "MASKED_ACCOUNT    4\n",
              "VAL_DT            4\n",
              "BAL               4\n",
              "dtype: int64"
            ]
          },
          "metadata": {
            "tags": []
          },
          "execution_count": 39
        }
      ]
    }
  ]
}