{
  "nbformat": 4,
  "nbformat_minor": 0,
  "metadata": {
    "colab": {
      "name": "Stutern_Group_Task.ipynb",
      "provenance": [],
      "collapsed_sections": [],
      "authorship_tag": "ABX9TyPlXg2Mf8cAbwpbwmF2k6Sd",
      "include_colab_link": true
    },
    "kernelspec": {
      "name": "python3",
      "display_name": "Python 3"
    }
  },
  "cells": [
    {
      "cell_type": "markdown",
      "metadata": {
        "id": "view-in-github",
        "colab_type": "text"
      },
      "source": [
        "<a href=\"https://colab.research.google.com/github/Ayanlola2002/Stutern/blob/master/Stutern_Group_Task.ipynb\" target=\"_parent\"><img src=\"https://colab.research.google.com/assets/colab-badge.svg\" alt=\"Open In Colab\"/></a>"
      ]
    },
    {
      "cell_type": "code",
      "metadata": {
        "id": "FB3YWiYKf_Jm",
        "colab_type": "code",
        "outputId": "a44c0c8b-3249-48b9-8e0e-2ae78870e9cb",
        "colab": {
          "base_uri": "https://localhost:8080/",
          "height": 54
        }
      },
      "source": [
        "from google.colab import drive\n",
        "drive.mount('/content/drive')"
      ],
      "execution_count": 19,
      "outputs": [
        {
          "output_type": "stream",
          "text": [
            "Drive already mounted at /content/drive; to attempt to forcibly remount, call drive.mount(\"/content/drive\", force_remount=True).\n"
          ],
          "name": "stdout"
        }
      ]
    },
    {
      "cell_type": "code",
      "metadata": {
        "id": "m9HmYQkfgcVU",
        "colab_type": "code",
        "colab": {}
      },
      "source": [
        "import pandas as pd\n",
        "all_accounts=pd.read_csv('/content/drive/My Drive/raw/all_accounts.csv')\n",
        "all_balances=pd.read_csv('/content/drive/My Drive/raw/all_balances.csv')\n",
        "#all_demographics=pd.read_csv('/content/drive/My Drive/raw/all_demographics.csv')\n",
        "all_investments=pd.read_csv('/content/drive/My Drive/raw/all_investments.csv')\n",
        "all_loans=pd.read_csv('/content/drive/My Drive/raw/all_loans.csv')\n",
        "all_loans_application=pd.read_csv('/content/drive/My Drive/raw/all_loans_application.csv')\n",
        "all_transactions_digital=pd.read_csv('/content/drive/My Drive/raw/all_transactions_digital.csv')\n",
        "bureau_score=pd.read_csv('/content/drive/My Drive/raw/bureau_score.csv')\n",
        "all_dictionary=pd.read_csv('/content/drive/My Drive/raw/dictionary.csv')"
      ],
      "execution_count": 0,
      "outputs": []
    },
    {
      "cell_type": "code",
      "metadata": {
        "id": "F90T0-wwnM0M",
        "colab_type": "code",
        "outputId": "d344fcfb-e6b4-49bf-dedd-b6c92281c4ce",
        "colab": {
          "base_uri": "https://localhost:8080/",
          "height": 419
        }
      },
      "source": [
        "all_dictionary"
      ],
      "execution_count": 21,
      "outputs": [
        {
          "output_type": "execute_result",
          "data": {
            "text/html": [
              "<div>\n",
              "<style scoped>\n",
              "    .dataframe tbody tr th:only-of-type {\n",
              "        vertical-align: middle;\n",
              "    }\n",
              "\n",
              "    .dataframe tbody tr th {\n",
              "        vertical-align: top;\n",
              "    }\n",
              "\n",
              "    .dataframe thead th {\n",
              "        text-align: right;\n",
              "    }\n",
              "</style>\n",
              "<table border=\"1\" class=\"dataframe\">\n",
              "  <thead>\n",
              "    <tr style=\"text-align: right;\">\n",
              "      <th></th>\n",
              "      <th></th>\n",
              "      <th></th>\n",
              "      <th></th>\n",
              "      <th>Table 1</th>\n",
              "    </tr>\n",
              "  </thead>\n",
              "  <tbody>\n",
              "    <tr>\n",
              "      <th>FEATURES</th>\n",
              "      <th>DESCRIPTION</th>\n",
              "      <th>DATA TYPE</th>\n",
              "      <th>NaN</th>\n",
              "      <td>NaN</td>\n",
              "    </tr>\n",
              "    <tr>\n",
              "      <th>BRN</th>\n",
              "      <th>Branch code</th>\n",
              "      <th>VARCHAR2(3)</th>\n",
              "      <th>NaN</th>\n",
              "      <td>NaN</td>\n",
              "    </tr>\n",
              "    <tr>\n",
              "      <th>ACC</th>\n",
              "      <th>Account number or GL code</th>\n",
              "      <th>VARCHAR2(20)</th>\n",
              "      <th>NaN</th>\n",
              "      <td>NaN</td>\n",
              "    </tr>\n",
              "    <tr>\n",
              "      <th>VAL_DT</th>\n",
              "      <th>Value date</th>\n",
              "      <th>DATE</th>\n",
              "      <th>NaN</th>\n",
              "      <td>NaN</td>\n",
              "    </tr>\n",
              "    <tr>\n",
              "      <th>BAL</th>\n",
              "      <th>Balance</th>\n",
              "      <th>NUMBER(24,3)</th>\n",
              "      <th>NaN</th>\n",
              "      <td>NaN</td>\n",
              "    </tr>\n",
              "    <tr>\n",
              "      <th>...</th>\n",
              "      <th>...</th>\n",
              "      <th>...</th>\n",
              "      <th>...</th>\n",
              "      <td>...</td>\n",
              "    </tr>\n",
              "    <tr>\n",
              "      <th>CREDIT_CARDS</th>\n",
              "      <th>Number of Credit cards</th>\n",
              "      <th>NaN</th>\n",
              "      <th>NaN</th>\n",
              "      <td>NaN</td>\n",
              "    </tr>\n",
              "    <tr>\n",
              "      <th>E_COUNTRY</th>\n",
              "      <th>Country belonged to</th>\n",
              "      <th>NaN</th>\n",
              "      <th>NaN</th>\n",
              "      <td>NaN</td>\n",
              "    </tr>\n",
              "    <tr>\n",
              "      <th>VST_US_PREV</th>\n",
              "      <th>NaN</th>\n",
              "      <th>NaN</th>\n",
              "      <th>NaN</th>\n",
              "      <td>NaN</td>\n",
              "    </tr>\n",
              "    <tr>\n",
              "      <th>DATE_OF_BIRTH</th>\n",
              "      <th>Date of birth</th>\n",
              "      <th>NaN</th>\n",
              "      <th>NaN</th>\n",
              "      <td>NaN</td>\n",
              "    </tr>\n",
              "    <tr>\n",
              "      <th>MINOR</th>\n",
              "      <th>Minor</th>\n",
              "      <th>NaN</th>\n",
              "      <th>NaN</th>\n",
              "      <td>NaN</td>\n",
              "    </tr>\n",
              "  </tbody>\n",
              "</table>\n",
              "<p>118 rows × 1 columns</p>\n",
              "</div>"
            ],
            "text/plain": [
              "                                                                            Table 1\n",
              "FEATURES                        DESCRIPTION               DATA TYPE    NaN      NaN\n",
              "BRN                             Branch code               VARCHAR2(3)  NaN      NaN\n",
              "ACC                             Account number or GL code VARCHAR2(20) NaN      NaN\n",
              "VAL_DT                          Value date                DATE         NaN      NaN\n",
              "BAL                             Balance                   NUMBER(24,3) NaN      NaN\n",
              "...                                                                             ...\n",
              "CREDIT_CARDS                    Number of Credit cards    NaN          NaN      NaN\n",
              "E_COUNTRY                       Country belonged to       NaN          NaN      NaN\n",
              "VST_US_PREV                     NaN                       NaN          NaN      NaN\n",
              "DATE_OF_BIRTH                   Date of birth             NaN          NaN      NaN\n",
              "MINOR                           Minor                     NaN          NaN      NaN\n",
              "\n",
              "[118 rows x 1 columns]"
            ]
          },
          "metadata": {
            "tags": []
          },
          "execution_count": 21
        }
      ]
    },
    {
      "cell_type": "code",
      "metadata": {
        "id": "tMvJoDaIoCWS",
        "colab_type": "code",
        "outputId": "c024df68-4835-4ca6-8f4f-faee920a8599",
        "colab": {
          "base_uri": "https://localhost:8080/",
          "height": 51
        }
      },
      "source": [
        "#we use the all_loans_applications customer id \n",
        "#this indicates all those customers that apply for loans \n",
        "#it may also be possible that a customer ask for multiple loans\n",
        "print(all_loans.shape)\n",
        "print(all_loans_application.shape)"
      ],
      "execution_count": 22,
      "outputs": [
        {
          "output_type": "stream",
          "text": [
            "(278505, 10)\n",
            "(23172, 8)\n"
          ],
          "name": "stdout"
        }
      ]
    },
    {
      "cell_type": "code",
      "metadata": {
        "id": "n0Mkks35rJWZ",
        "colab_type": "code",
        "colab": {}
      },
      "source": [
        "#setting customerId as index \n",
        "all_loans_application.set_index('CUSTOMER_UNIQUE_ID',inplace=True)"
      ],
      "execution_count": 0,
      "outputs": []
    },
    {
      "cell_type": "code",
      "metadata": {
        "id": "Gpq4ALVtrwCt",
        "colab_type": "code",
        "colab": {}
      },
      "source": [
        "#extracting customer ID from  all_loan_applications\n",
        "important_indexes=all_loans_application.index.unique()"
      ],
      "execution_count": 0,
      "outputs": []
    },
    {
      "cell_type": "code",
      "metadata": {
        "id": "e6D8FwIdsUk5",
        "colab_type": "code",
        "colab": {}
      },
      "source": [
        "#resetting of all_accounts index\n",
        "all_accounts.set_index('CUSTOMER_UNIQUE_ID',inplace=True)\n"
      ],
      "execution_count": 0,
      "outputs": []
    },
    {
      "cell_type": "code",
      "metadata": {
        "id": "VJ5TsCPFtABW",
        "colab_type": "code",
        "outputId": "7aafd930-698b-4bfe-cf6a-ad52ac5eec1a",
        "colab": {
          "base_uri": "https://localhost:8080/",
          "height": 136
        }
      },
      "source": [
        "all_accounts=all_accounts.loc[important_indexes]"
      ],
      "execution_count": 26,
      "outputs": [
        {
          "output_type": "stream",
          "text": [
            "/usr/local/lib/python3.6/dist-packages/ipykernel_launcher.py:1: FutureWarning: \n",
            "Passing list-likes to .loc or [] with any missing label will raise\n",
            "KeyError in the future, you can use .reindex() as an alternative.\n",
            "\n",
            "See the documentation here:\n",
            "https://pandas.pydata.org/pandas-docs/stable/user_guide/indexing.html#deprecate-loc-reindex-listlike\n",
            "  \"\"\"Entry point for launching an IPython kernel.\n"
          ],
          "name": "stderr"
        }
      ]
    },
    {
      "cell_type": "code",
      "metadata": {
        "id": "tN55i3RttPEt",
        "colab_type": "code",
        "outputId": "8cfb0904-44e7-4df0-f570-d5a9f3f0962f",
        "colab": {
          "base_uri": "https://localhost:8080/",
          "height": 68
        }
      },
      "source": [
        "all_accounts['RECORD_STAT'].value_counts()"
      ],
      "execution_count": 27,
      "outputs": [
        {
          "output_type": "execute_result",
          "data": {
            "text/plain": [
              "O    27281\n",
              "C     1776\n",
              "Name: RECORD_STAT, dtype: int64"
            ]
          },
          "metadata": {
            "tags": []
          },
          "execution_count": 27
        }
      ]
    },
    {
      "cell_type": "code",
      "metadata": {
        "id": "KOn0ZfsKt3gF",
        "colab_type": "code",
        "outputId": "0a56e278-e6ef-438f-9725-fd0d4ab0cea4",
        "colab": {
          "base_uri": "https://localhost:8080/",
          "height": 34
        }
      },
      "source": [
        "all_accounts.shape"
      ],
      "execution_count": 28,
      "outputs": [
        {
          "output_type": "execute_result",
          "data": {
            "text/plain": [
              "(29068, 4)"
            ]
          },
          "metadata": {
            "tags": []
          },
          "execution_count": 28
        }
      ]
    },
    {
      "cell_type": "code",
      "metadata": {
        "id": "oSZEzZx8uNi0",
        "colab_type": "code",
        "colab": {}
      },
      "source": [
        "all_accounts.drop(columns='MASKED_ACCOUNT',inplace=True)"
      ],
      "execution_count": 0,
      "outputs": []
    },
    {
      "cell_type": "code",
      "metadata": {
        "id": "gGJkUY9Utv7N",
        "colab_type": "code",
        "outputId": "ff8221a7-b554-4467-90e6-c5571c656b20",
        "colab": {
          "base_uri": "https://localhost:8080/",
          "height": 102
        }
      },
      "source": [
        "#checking different type of currency\n",
        "all_accounts['CCY'].value_counts()"
      ],
      "execution_count": 30,
      "outputs": [
        {
          "output_type": "execute_result",
          "data": {
            "text/plain": [
              "NGN    26765\n",
              "USD     2082\n",
              "GBP      146\n",
              "EUR       64\n",
              "Name: CCY, dtype: int64"
            ]
          },
          "metadata": {
            "tags": []
          },
          "execution_count": 30
        }
      ]
    },
    {
      "cell_type": "code",
      "metadata": {
        "id": "T-fu_iW8up4N",
        "colab_type": "code",
        "colab": {}
      },
      "source": [
        "#function to convert different currency to naira\n",
        "def con(data):\n",
        "    data.loc[data.CCY=='USD','ACY_AVL_BAL']=data.loc[data.CCY=='USD','ACY_AVL_BAL'].apply(lambda x: x*365)\n",
        "    data.loc[data.CCY=='EUR','ACY_AVL_BAL']=data.loc[data.CCY=='EUR','ACY_AVL_BAL'].apply(lambda x: x*398)\n",
        "    data.loc[data.CCY=='GBP','ACY_AVL_BAL']=data.loc[data.CCY=='GPB','ACY_AVL_BAL'].apply(lambda x: x*467)\n",
        "    data.loc[data.CCY=='JPY','ACY_AVL_BAL']=data.loc[data.CCY=='JPY','ACY_AVL_BAL'].apply(lambda x: x*3.31)\n",
        "    return data"
      ],
      "execution_count": 0,
      "outputs": []
    },
    {
      "cell_type": "code",
      "metadata": {
        "id": "ByC8yVm2ulGS",
        "colab_type": "code",
        "colab": {}
      },
      "source": [
        "#changing all account to naira notes\n",
        "all_accounts=con(all_accounts)"
      ],
      "execution_count": 0,
      "outputs": []
    },
    {
      "cell_type": "code",
      "metadata": {
        "id": "Pt1Rxx0Eu4E7",
        "colab_type": "code",
        "colab": {}
      },
      "source": [
        "#convert index to int\n",
        "all_accounts.index=all_accounts.index.astype('int')"
      ],
      "execution_count": 0,
      "outputs": []
    },
    {
      "cell_type": "code",
      "metadata": {
        "id": "YLm-BaAEvFGL",
        "colab_type": "code",
        "colab": {}
      },
      "source": [
        "#sort index\n",
        "all_accounts.sort_index(inplace=True)"
      ],
      "execution_count": 0,
      "outputs": []
    },
    {
      "cell_type": "code",
      "metadata": {
        "id": "lXhHFFuO-4m-",
        "colab_type": "code",
        "colab": {
          "base_uri": "https://localhost:8080/",
          "height": 221
        },
        "outputId": "815d21ba-e2b9-4933-bf4a-4b0581c47516"
      },
      "source": [
        "#some of the ACY_AVL_BAL IS negative we will assumed it is zero \n",
        "all_accounts['ACY_AVL_BAL'].value_counts()"
      ],
      "execution_count": 37,
      "outputs": [
        {
          "output_type": "execute_result",
          "data": {
            "text/plain": [
              " 0.00          12405\n",
              "-52.50           243\n",
              "-105.00           69\n",
              " 950.00           33\n",
              " 1.00             26\n",
              "               ...  \n",
              " 77773.41          1\n",
              " 4058776.43        1\n",
              " 125.53            1\n",
              " 14164.08          1\n",
              "-145.34            1\n",
              "Name: ACY_AVL_BAL, Length: 14389, dtype: int64"
            ]
          },
          "metadata": {
            "tags": []
          },
          "execution_count": 37
        }
      ]
    },
    {
      "cell_type": "code",
      "metadata": {
        "id": "6K8ZIOrwvLTH",
        "colab_type": "code",
        "colab": {}
      },
      "source": [
        "#for all ACY_AVL_BAL that is negative RECORD STAT IS C we convert to zero\n",
        "all_accounts.loc[(all_accounts.ACY_AVL_BAL!=0) & (all_accounts.RECORD_STAT==\"C\"),'ACY_AVL_BAL']=0"
      ],
      "execution_count": 0,
      "outputs": []
    },
    {
      "cell_type": "code",
      "metadata": {
        "id": "rRKTe47B_7JH",
        "colab_type": "code",
        "colab": {
          "base_uri": "https://localhost:8080/",
          "height": 221
        },
        "outputId": "d34203f8-0244-49c4-e863-cdc5804f9103"
      },
      "source": [
        "all_accounts.index.value_counts()"
      ],
      "execution_count": 39,
      "outputs": [
        {
          "output_type": "execute_result",
          "data": {
            "text/plain": [
              "69090004     34\n",
              "578029002    27\n",
              "172877006    25\n",
              "657601000    23\n",
              "679735005    22\n",
              "             ..\n",
              "952341006     1\n",
              "73406011      1\n",
              "234473009     1\n",
              "806118002     1\n",
              "909990007     1\n",
              "Name: CUSTOMER_UNIQUE_ID, Length: 17986, dtype: int64"
            ]
          },
          "metadata": {
            "tags": []
          },
          "execution_count": 39
        }
      ]
    },
    {
      "cell_type": "code",
      "metadata": {
        "id": "zNlF6_BiAHlo",
        "colab_type": "code",
        "colab": {
          "base_uri": "https://localhost:8080/",
          "height": 1000
        },
        "outputId": "a2f14f05-9fa7-460a-fe1f-37176692e3e6"
      },
      "source": [
        "#most of the customer id appears more than ones so we can group by like the example below\n",
        "all_accounts.loc[69090004]"
      ],
      "execution_count": 18,
      "outputs": [
        {
          "output_type": "execute_result",
          "data": {
            "text/html": [
              "<div>\n",
              "<style scoped>\n",
              "    .dataframe tbody tr th:only-of-type {\n",
              "        vertical-align: middle;\n",
              "    }\n",
              "\n",
              "    .dataframe tbody tr th {\n",
              "        vertical-align: top;\n",
              "    }\n",
              "\n",
              "    .dataframe thead th {\n",
              "        text-align: right;\n",
              "    }\n",
              "</style>\n",
              "<table border=\"1\" class=\"dataframe\">\n",
              "  <thead>\n",
              "    <tr style=\"text-align: right;\">\n",
              "      <th></th>\n",
              "      <th>MASKED_ACCOUNT</th>\n",
              "      <th>RECORD_STAT</th>\n",
              "      <th>ACY_AVL_BAL</th>\n",
              "      <th>CCY</th>\n",
              "    </tr>\n",
              "    <tr>\n",
              "      <th>CUSTOMER_UNIQUE_ID</th>\n",
              "      <th></th>\n",
              "      <th></th>\n",
              "      <th></th>\n",
              "      <th></th>\n",
              "    </tr>\n",
              "  </thead>\n",
              "  <tbody>\n",
              "    <tr>\n",
              "      <th>69090004</th>\n",
              "      <td>00******87</td>\n",
              "      <td>O</td>\n",
              "      <td>625.00</td>\n",
              "      <td>GBP</td>\n",
              "    </tr>\n",
              "    <tr>\n",
              "      <th>69090004</th>\n",
              "      <td>08******25</td>\n",
              "      <td>O</td>\n",
              "      <td>0.00</td>\n",
              "      <td>NGN</td>\n",
              "    </tr>\n",
              "    <tr>\n",
              "      <th>69090004</th>\n",
              "      <td>07******90</td>\n",
              "      <td>C</td>\n",
              "      <td>0.00</td>\n",
              "      <td>USD</td>\n",
              "    </tr>\n",
              "    <tr>\n",
              "      <th>69090004</th>\n",
              "      <td>00******24</td>\n",
              "      <td>O</td>\n",
              "      <td>245.16</td>\n",
              "      <td>USD</td>\n",
              "    </tr>\n",
              "    <tr>\n",
              "      <th>69090004</th>\n",
              "      <td>00******12</td>\n",
              "      <td>O</td>\n",
              "      <td>1262799.23</td>\n",
              "      <td>NGN</td>\n",
              "    </tr>\n",
              "    <tr>\n",
              "      <th>69090004</th>\n",
              "      <td>07******24</td>\n",
              "      <td>O</td>\n",
              "      <td>0.00</td>\n",
              "      <td>NGN</td>\n",
              "    </tr>\n",
              "    <tr>\n",
              "      <th>69090004</th>\n",
              "      <td>07******13</td>\n",
              "      <td>O</td>\n",
              "      <td>28.09</td>\n",
              "      <td>NGN</td>\n",
              "    </tr>\n",
              "    <tr>\n",
              "      <th>69090004</th>\n",
              "      <td>07******00</td>\n",
              "      <td>O</td>\n",
              "      <td>0.00</td>\n",
              "      <td>NGN</td>\n",
              "    </tr>\n",
              "    <tr>\n",
              "      <th>69090004</th>\n",
              "      <td>07******51</td>\n",
              "      <td>O</td>\n",
              "      <td>0.00</td>\n",
              "      <td>NGN</td>\n",
              "    </tr>\n",
              "    <tr>\n",
              "      <th>69090004</th>\n",
              "      <td>07******05</td>\n",
              "      <td>O</td>\n",
              "      <td>37.53</td>\n",
              "      <td>USD</td>\n",
              "    </tr>\n",
              "    <tr>\n",
              "      <th>69090004</th>\n",
              "      <td>07******98</td>\n",
              "      <td>C</td>\n",
              "      <td>0.00</td>\n",
              "      <td>NGN</td>\n",
              "    </tr>\n",
              "    <tr>\n",
              "      <th>69090004</th>\n",
              "      <td>07******64</td>\n",
              "      <td>O</td>\n",
              "      <td>0.00</td>\n",
              "      <td>NGN</td>\n",
              "    </tr>\n",
              "    <tr>\n",
              "      <th>69090004</th>\n",
              "      <td>07******66</td>\n",
              "      <td>O</td>\n",
              "      <td>0.00</td>\n",
              "      <td>NGN</td>\n",
              "    </tr>\n",
              "    <tr>\n",
              "      <th>69090004</th>\n",
              "      <td>07******67</td>\n",
              "      <td>O</td>\n",
              "      <td>0.00</td>\n",
              "      <td>NGN</td>\n",
              "    </tr>\n",
              "    <tr>\n",
              "      <th>69090004</th>\n",
              "      <td>07******49</td>\n",
              "      <td>O</td>\n",
              "      <td>0.00</td>\n",
              "      <td>USD</td>\n",
              "    </tr>\n",
              "    <tr>\n",
              "      <th>69090004</th>\n",
              "      <td>07******02</td>\n",
              "      <td>C</td>\n",
              "      <td>0.00</td>\n",
              "      <td>NGN</td>\n",
              "    </tr>\n",
              "    <tr>\n",
              "      <th>69090004</th>\n",
              "      <td>07******54</td>\n",
              "      <td>O</td>\n",
              "      <td>0.00</td>\n",
              "      <td>NGN</td>\n",
              "    </tr>\n",
              "    <tr>\n",
              "      <th>69090004</th>\n",
              "      <td>00******44</td>\n",
              "      <td>O</td>\n",
              "      <td>37128.66</td>\n",
              "      <td>NGN</td>\n",
              "    </tr>\n",
              "    <tr>\n",
              "      <th>69090004</th>\n",
              "      <td>07******81</td>\n",
              "      <td>O</td>\n",
              "      <td>0.00</td>\n",
              "      <td>NGN</td>\n",
              "    </tr>\n",
              "    <tr>\n",
              "      <th>69090004</th>\n",
              "      <td>00******14</td>\n",
              "      <td>O</td>\n",
              "      <td>0.00</td>\n",
              "      <td>NGN</td>\n",
              "    </tr>\n",
              "    <tr>\n",
              "      <th>69090004</th>\n",
              "      <td>07******31</td>\n",
              "      <td>O</td>\n",
              "      <td>0.00</td>\n",
              "      <td>USD</td>\n",
              "    </tr>\n",
              "    <tr>\n",
              "      <th>69090004</th>\n",
              "      <td>08******82</td>\n",
              "      <td>O</td>\n",
              "      <td>0.00</td>\n",
              "      <td>USD</td>\n",
              "    </tr>\n",
              "    <tr>\n",
              "      <th>69090004</th>\n",
              "      <td>07******71</td>\n",
              "      <td>O</td>\n",
              "      <td>0.00</td>\n",
              "      <td>NGN</td>\n",
              "    </tr>\n",
              "    <tr>\n",
              "      <th>69090004</th>\n",
              "      <td>07******67</td>\n",
              "      <td>O</td>\n",
              "      <td>0.00</td>\n",
              "      <td>USD</td>\n",
              "    </tr>\n",
              "    <tr>\n",
              "      <th>69090004</th>\n",
              "      <td>07******57</td>\n",
              "      <td>O</td>\n",
              "      <td>0.00</td>\n",
              "      <td>GBP</td>\n",
              "    </tr>\n",
              "    <tr>\n",
              "      <th>69090004</th>\n",
              "      <td>00******30</td>\n",
              "      <td>O</td>\n",
              "      <td>182391.76</td>\n",
              "      <td>NGN</td>\n",
              "    </tr>\n",
              "    <tr>\n",
              "      <th>69090004</th>\n",
              "      <td>07******70</td>\n",
              "      <td>O</td>\n",
              "      <td>0.00</td>\n",
              "      <td>NGN</td>\n",
              "    </tr>\n",
              "    <tr>\n",
              "      <th>69090004</th>\n",
              "      <td>07******63</td>\n",
              "      <td>O</td>\n",
              "      <td>0.00</td>\n",
              "      <td>USD</td>\n",
              "    </tr>\n",
              "    <tr>\n",
              "      <th>69090004</th>\n",
              "      <td>07******33</td>\n",
              "      <td>O</td>\n",
              "      <td>0.00</td>\n",
              "      <td>USD</td>\n",
              "    </tr>\n",
              "    <tr>\n",
              "      <th>69090004</th>\n",
              "      <td>00******45</td>\n",
              "      <td>C</td>\n",
              "      <td>0.00</td>\n",
              "      <td>NGN</td>\n",
              "    </tr>\n",
              "    <tr>\n",
              "      <th>69090004</th>\n",
              "      <td>07******61</td>\n",
              "      <td>O</td>\n",
              "      <td>0.00</td>\n",
              "      <td>NGN</td>\n",
              "    </tr>\n",
              "    <tr>\n",
              "      <th>69090004</th>\n",
              "      <td>07******29</td>\n",
              "      <td>O</td>\n",
              "      <td>0.00</td>\n",
              "      <td>NGN</td>\n",
              "    </tr>\n",
              "    <tr>\n",
              "      <th>69090004</th>\n",
              "      <td>07******19</td>\n",
              "      <td>O</td>\n",
              "      <td>29.01</td>\n",
              "      <td>NGN</td>\n",
              "    </tr>\n",
              "    <tr>\n",
              "      <th>69090004</th>\n",
              "      <td>07******99</td>\n",
              "      <td>C</td>\n",
              "      <td>0.00</td>\n",
              "      <td>NGN</td>\n",
              "    </tr>\n",
              "  </tbody>\n",
              "</table>\n",
              "</div>"
            ],
            "text/plain": [
              "                   MASKED_ACCOUNT RECORD_STAT  ACY_AVL_BAL  CCY\n",
              "CUSTOMER_UNIQUE_ID                                             \n",
              "69090004               00******87           O       625.00  GBP\n",
              "69090004               08******25           O         0.00  NGN\n",
              "69090004               07******90           C         0.00  USD\n",
              "69090004               00******24           O       245.16  USD\n",
              "69090004               00******12           O   1262799.23  NGN\n",
              "69090004               07******24           O         0.00  NGN\n",
              "69090004               07******13           O        28.09  NGN\n",
              "69090004               07******00           O         0.00  NGN\n",
              "69090004               07******51           O         0.00  NGN\n",
              "69090004               07******05           O        37.53  USD\n",
              "69090004               07******98           C         0.00  NGN\n",
              "69090004               07******64           O         0.00  NGN\n",
              "69090004               07******66           O         0.00  NGN\n",
              "69090004               07******67           O         0.00  NGN\n",
              "69090004               07******49           O         0.00  USD\n",
              "69090004               07******02           C         0.00  NGN\n",
              "69090004               07******54           O         0.00  NGN\n",
              "69090004               00******44           O     37128.66  NGN\n",
              "69090004               07******81           O         0.00  NGN\n",
              "69090004               00******14           O         0.00  NGN\n",
              "69090004               07******31           O         0.00  USD\n",
              "69090004               08******82           O         0.00  USD\n",
              "69090004               07******71           O         0.00  NGN\n",
              "69090004               07******67           O         0.00  USD\n",
              "69090004               07******57           O         0.00  GBP\n",
              "69090004               00******30           O    182391.76  NGN\n",
              "69090004               07******70           O         0.00  NGN\n",
              "69090004               07******63           O         0.00  USD\n",
              "69090004               07******33           O         0.00  USD\n",
              "69090004               00******45           C         0.00  NGN\n",
              "69090004               07******61           O         0.00  NGN\n",
              "69090004               07******29           O         0.00  NGN\n",
              "69090004               07******19           O        29.01  NGN\n",
              "69090004               07******99           C         0.00  NGN"
            ]
          },
          "metadata": {
            "tags": []
          },
          "execution_count": 18
        }
      ]
    },
    {
      "cell_type": "code",
      "metadata": {
        "id": "lLclZ5HnBRPH",
        "colab_type": "code",
        "colab": {}
      },
      "source": [
        "all_accounts_data=all_accounts.groupby([all_accounts.index])[['ACY_AVL_BAL']].sum()"
      ],
      "execution_count": 0,
      "outputs": []
    },
    {
      "cell_type": "code",
      "metadata": {
        "id": "WJ-3coyLCO4W",
        "colab_type": "code",
        "colab": {
          "base_uri": "https://localhost:8080/",
          "height": 235
        },
        "outputId": "3bb03d74-67df-4210-c067-1e2c11f926c6"
      },
      "source": [
        "all_accounts_data.head()"
      ],
      "execution_count": 42,
      "outputs": [
        {
          "output_type": "execute_result",
          "data": {
            "text/html": [
              "<div>\n",
              "<style scoped>\n",
              "    .dataframe tbody tr th:only-of-type {\n",
              "        vertical-align: middle;\n",
              "    }\n",
              "\n",
              "    .dataframe tbody tr th {\n",
              "        vertical-align: top;\n",
              "    }\n",
              "\n",
              "    .dataframe thead th {\n",
              "        text-align: right;\n",
              "    }\n",
              "</style>\n",
              "<table border=\"1\" class=\"dataframe\">\n",
              "  <thead>\n",
              "    <tr style=\"text-align: right;\">\n",
              "      <th></th>\n",
              "      <th>ACY_AVL_BAL</th>\n",
              "    </tr>\n",
              "    <tr>\n",
              "      <th>CUSTOMER_UNIQUE_ID</th>\n",
              "      <th></th>\n",
              "    </tr>\n",
              "  </thead>\n",
              "  <tbody>\n",
              "    <tr>\n",
              "      <th>56000</th>\n",
              "      <td>136043.48</td>\n",
              "    </tr>\n",
              "    <tr>\n",
              "      <th>62005</th>\n",
              "      <td>1541719.95</td>\n",
              "    </tr>\n",
              "    <tr>\n",
              "      <th>104008</th>\n",
              "      <td>12364.06</td>\n",
              "    </tr>\n",
              "    <tr>\n",
              "      <th>175007</th>\n",
              "      <td>20029.55</td>\n",
              "    </tr>\n",
              "    <tr>\n",
              "      <th>200006</th>\n",
              "      <td>61489.56</td>\n",
              "    </tr>\n",
              "  </tbody>\n",
              "</table>\n",
              "</div>"
            ],
            "text/plain": [
              "                    ACY_AVL_BAL\n",
              "CUSTOMER_UNIQUE_ID             \n",
              "56000                 136043.48\n",
              "62005                1541719.95\n",
              "104008                 12364.06\n",
              "175007                 20029.55\n",
              "200006                 61489.56"
            ]
          },
          "metadata": {
            "tags": []
          },
          "execution_count": 42
        }
      ]
    }
  ]
}