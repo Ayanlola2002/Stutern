{
  "nbformat": 4,
  "nbformat_minor": 0,
  "metadata": {
    "colab": {
      "name": "Stutern_Group_Task.ipynb",
      "provenance": [],
      "collapsed_sections": [],
      "authorship_tag": "ABX9TyNrGuqegMusIb1fthCwKgIL",
      "include_colab_link": true
    },
    "kernelspec": {
      "name": "python3",
      "display_name": "Python 3"
    }
  },
  "cells": [
    {
      "cell_type": "markdown",
      "metadata": {
        "id": "view-in-github",
        "colab_type": "text"
      },
      "source": [
        "<a href=\"https://colab.research.google.com/github/Ayanlola2002/Stutern/blob/master/Stutern_Group_Task.ipynb\" target=\"_parent\"><img src=\"https://colab.research.google.com/assets/colab-badge.svg\" alt=\"Open In Colab\"/></a>"
      ]
    },
    {
      "cell_type": "code",
      "metadata": {
        "id": "FB3YWiYKf_Jm",
        "colab_type": "code",
        "colab": {
          "base_uri": "https://localhost:8080/",
          "height": 122
        },
        "outputId": "df6fc2b6-0423-469b-e116-d3d6680eac47"
      },
      "source": [
        "from google.colab import drive\n",
        "drive.mount('/content/drive')"
      ],
      "execution_count": 1,
      "outputs": [
        {
          "output_type": "stream",
          "text": [
            "Go to this URL in a browser: https://accounts.google.com/o/oauth2/auth?client_id=947318989803-6bn6qk8qdgf4n4g3pfee6491hc0brc4i.apps.googleusercontent.com&redirect_uri=urn%3aietf%3awg%3aoauth%3a2.0%3aoob&response_type=code&scope=email%20https%3a%2f%2fwww.googleapis.com%2fauth%2fdocs.test%20https%3a%2f%2fwww.googleapis.com%2fauth%2fdrive%20https%3a%2f%2fwww.googleapis.com%2fauth%2fdrive.photos.readonly%20https%3a%2f%2fwww.googleapis.com%2fauth%2fpeopleapi.readonly\n",
            "\n",
            "Enter your authorization code:\n",
            "··········\n",
            "Mounted at /content/drive\n"
          ],
          "name": "stdout"
        }
      ]
    },
    {
      "cell_type": "code",
      "metadata": {
        "id": "m9HmYQkfgcVU",
        "colab_type": "code",
        "colab": {}
      },
      "source": [
        "import pandas as pd\n",
        "all_accounts=pd.read_csv('/content/drive/My Drive/raw/all_accounts.csv')\n",
        "all_balances=pd.read_csv('/content/drive/My Drive/raw/all_balances.csv')\n",
        "#all_demographics=pd.read_csv('/content/drive/My Drive/raw/all_demographics.csv')\n",
        "all_investments=pd.read_csv('/content/drive/My Drive/raw/all_investments.csv')\n",
        "all_loans=pd.read_csv('/content/drive/My Drive/raw/all_loans.csv')\n",
        "all_loans_application=pd.read_csv('/content/drive/My Drive/raw/all_loans_application.csv')\n",
        "all_transactions_digital=pd.read_csv('/content/drive/My Drive/raw/all_transactions_digital.csv')\n",
        "bureau_score=pd.read_csv('/content/drive/My Drive/raw/bureau_score.csv')\n",
        "all_dictionary=pd.read_csv('/content/drive/My Drive/raw/dictionary.csv')"
      ],
      "execution_count": 0,
      "outputs": []
    },
    {
      "cell_type": "code",
      "metadata": {
        "id": "F90T0-wwnM0M",
        "colab_type": "code",
        "colab": {
          "base_uri": "https://localhost:8080/",
          "height": 419
        },
        "outputId": "0d958b27-5735-4b30-9110-fb55f26ba6c1"
      },
      "source": [
        "all_dictionary"
      ],
      "execution_count": 33,
      "outputs": [
        {
          "output_type": "execute_result",
          "data": {
            "text/html": [
              "<div>\n",
              "<style scoped>\n",
              "    .dataframe tbody tr th:only-of-type {\n",
              "        vertical-align: middle;\n",
              "    }\n",
              "\n",
              "    .dataframe tbody tr th {\n",
              "        vertical-align: top;\n",
              "    }\n",
              "\n",
              "    .dataframe thead th {\n",
              "        text-align: right;\n",
              "    }\n",
              "</style>\n",
              "<table border=\"1\" class=\"dataframe\">\n",
              "  <thead>\n",
              "    <tr style=\"text-align: right;\">\n",
              "      <th></th>\n",
              "      <th></th>\n",
              "      <th></th>\n",
              "      <th></th>\n",
              "      <th>Table 1</th>\n",
              "    </tr>\n",
              "  </thead>\n",
              "  <tbody>\n",
              "    <tr>\n",
              "      <th>FEATURES</th>\n",
              "      <th>DESCRIPTION</th>\n",
              "      <th>DATA TYPE</th>\n",
              "      <th>NaN</th>\n",
              "      <td>NaN</td>\n",
              "    </tr>\n",
              "    <tr>\n",
              "      <th>BRN</th>\n",
              "      <th>Branch code</th>\n",
              "      <th>VARCHAR2(3)</th>\n",
              "      <th>NaN</th>\n",
              "      <td>NaN</td>\n",
              "    </tr>\n",
              "    <tr>\n",
              "      <th>ACC</th>\n",
              "      <th>Account number or GL code</th>\n",
              "      <th>VARCHAR2(20)</th>\n",
              "      <th>NaN</th>\n",
              "      <td>NaN</td>\n",
              "    </tr>\n",
              "    <tr>\n",
              "      <th>VAL_DT</th>\n",
              "      <th>Value date</th>\n",
              "      <th>DATE</th>\n",
              "      <th>NaN</th>\n",
              "      <td>NaN</td>\n",
              "    </tr>\n",
              "    <tr>\n",
              "      <th>BAL</th>\n",
              "      <th>Balance</th>\n",
              "      <th>NUMBER(24,3)</th>\n",
              "      <th>NaN</th>\n",
              "      <td>NaN</td>\n",
              "    </tr>\n",
              "    <tr>\n",
              "      <th>...</th>\n",
              "      <th>...</th>\n",
              "      <th>...</th>\n",
              "      <th>...</th>\n",
              "      <td>...</td>\n",
              "    </tr>\n",
              "    <tr>\n",
              "      <th>CREDIT_CARDS</th>\n",
              "      <th>Number of Credit cards</th>\n",
              "      <th>NaN</th>\n",
              "      <th>NaN</th>\n",
              "      <td>NaN</td>\n",
              "    </tr>\n",
              "    <tr>\n",
              "      <th>E_COUNTRY</th>\n",
              "      <th>Country belonged to</th>\n",
              "      <th>NaN</th>\n",
              "      <th>NaN</th>\n",
              "      <td>NaN</td>\n",
              "    </tr>\n",
              "    <tr>\n",
              "      <th>VST_US_PREV</th>\n",
              "      <th>NaN</th>\n",
              "      <th>NaN</th>\n",
              "      <th>NaN</th>\n",
              "      <td>NaN</td>\n",
              "    </tr>\n",
              "    <tr>\n",
              "      <th>DATE_OF_BIRTH</th>\n",
              "      <th>Date of birth</th>\n",
              "      <th>NaN</th>\n",
              "      <th>NaN</th>\n",
              "      <td>NaN</td>\n",
              "    </tr>\n",
              "    <tr>\n",
              "      <th>MINOR</th>\n",
              "      <th>Minor</th>\n",
              "      <th>NaN</th>\n",
              "      <th>NaN</th>\n",
              "      <td>NaN</td>\n",
              "    </tr>\n",
              "  </tbody>\n",
              "</table>\n",
              "<p>118 rows × 1 columns</p>\n",
              "</div>"
            ],
            "text/plain": [
              "                                                                            Table 1\n",
              "FEATURES                        DESCRIPTION               DATA TYPE    NaN      NaN\n",
              "BRN                             Branch code               VARCHAR2(3)  NaN      NaN\n",
              "ACC                             Account number or GL code VARCHAR2(20) NaN      NaN\n",
              "VAL_DT                          Value date                DATE         NaN      NaN\n",
              "BAL                             Balance                   NUMBER(24,3) NaN      NaN\n",
              "...                                                                             ...\n",
              "CREDIT_CARDS                    Number of Credit cards    NaN          NaN      NaN\n",
              "E_COUNTRY                       Country belonged to       NaN          NaN      NaN\n",
              "VST_US_PREV                     NaN                       NaN          NaN      NaN\n",
              "DATE_OF_BIRTH                   Date of birth             NaN          NaN      NaN\n",
              "MINOR                           Minor                     NaN          NaN      NaN\n",
              "\n",
              "[118 rows x 1 columns]"
            ]
          },
          "metadata": {
            "tags": []
          },
          "execution_count": 33
        }
      ]
    },
    {
      "cell_type": "code",
      "metadata": {
        "id": "tMvJoDaIoCWS",
        "colab_type": "code",
        "colab": {
          "base_uri": "https://localhost:8080/",
          "height": 51
        },
        "outputId": "5d30d0ac-26c2-43b4-9af5-06c5a36ca1c3"
      },
      "source": [
        "#we use the all_loans_applications customer id \n",
        "#this indicates all those customers that apply for loans \n",
        "#it may also be possible that a customer ask for multiple loans\n",
        "print(all_loans.shape)\n",
        "print(all_loans_application.shape)"
      ],
      "execution_count": 59,
      "outputs": [
        {
          "output_type": "stream",
          "text": [
            "(278505, 10)\n",
            "(23172, 8)\n"
          ],
          "name": "stdout"
        }
      ]
    },
    {
      "cell_type": "code",
      "metadata": {
        "id": "n0Mkks35rJWZ",
        "colab_type": "code",
        "colab": {}
      },
      "source": [
        "all_loans_application.set_index('CUSTOMER_UNIQUE_ID',inplace=True)"
      ],
      "execution_count": 0,
      "outputs": []
    },
    {
      "cell_type": "code",
      "metadata": {
        "id": "Gpq4ALVtrwCt",
        "colab_type": "code",
        "colab": {}
      },
      "source": [
        "important_indexes=all_loans_application.index.unique()"
      ],
      "execution_count": 0,
      "outputs": []
    },
    {
      "cell_type": "code",
      "metadata": {
        "id": "e6D8FwIdsUk5",
        "colab_type": "code",
        "colab": {}
      },
      "source": [
        "#resetting of all_accounts index\n",
        "all_accounts.set_index('CUSTOMER_UNIQUE_ID',inplace=True)\n"
      ],
      "execution_count": 0,
      "outputs": []
    },
    {
      "cell_type": "code",
      "metadata": {
        "id": "VJ5TsCPFtABW",
        "colab_type": "code",
        "colab": {
          "base_uri": "https://localhost:8080/",
          "height": 156
        },
        "outputId": "fcd6d140-9936-454c-c639-f54c312d7551"
      },
      "source": [
        "all_accounts=all_accounts.loc[important_indexes]"
      ],
      "execution_count": 63,
      "outputs": [
        {
          "output_type": "stream",
          "text": [
            "/usr/local/lib/python3.6/dist-packages/ipykernel_launcher.py:1: FutureWarning: \n",
            "Passing list-likes to .loc or [] with any missing label will raise\n",
            "KeyError in the future, you can use .reindex() as an alternative.\n",
            "\n",
            "See the documentation here:\n",
            "https://pandas.pydata.org/pandas-docs/stable/user_guide/indexing.html#deprecate-loc-reindex-listlike\n",
            "  \"\"\"Entry point for launching an IPython kernel.\n"
          ],
          "name": "stderr"
        }
      ]
    },
    {
      "cell_type": "code",
      "metadata": {
        "id": "tN55i3RttPEt",
        "colab_type": "code",
        "colab": {
          "base_uri": "https://localhost:8080/",
          "height": 68
        },
        "outputId": "002da0a0-1dfe-475d-a4a7-0d18510ad3ab"
      },
      "source": [
        "all_accounts['RECORD_STAT'].value_counts()"
      ],
      "execution_count": 70,
      "outputs": [
        {
          "output_type": "execute_result",
          "data": {
            "text/plain": [
              "O    27281\n",
              "C     1776\n",
              "Name: RECORD_STAT, dtype: int64"
            ]
          },
          "metadata": {
            "tags": []
          },
          "execution_count": 70
        }
      ]
    },
    {
      "cell_type": "code",
      "metadata": {
        "id": "KOn0ZfsKt3gF",
        "colab_type": "code",
        "colab": {
          "base_uri": "https://localhost:8080/",
          "height": 34
        },
        "outputId": "47cdc5b1-fc79-4324-e118-67476054488d"
      },
      "source": [
        "all_accounts.shape"
      ],
      "execution_count": 69,
      "outputs": [
        {
          "output_type": "execute_result",
          "data": {
            "text/plain": [
              "(29068, 4)"
            ]
          },
          "metadata": {
            "tags": []
          },
          "execution_count": 69
        }
      ]
    },
    {
      "cell_type": "code",
      "metadata": {
        "id": "oSZEzZx8uNi0",
        "colab_type": "code",
        "colab": {}
      },
      "source": [
        "all_accounts.drop(columns='MASKED_ACCOUNT',inplace=True)"
      ],
      "execution_count": 0,
      "outputs": []
    },
    {
      "cell_type": "code",
      "metadata": {
        "id": "gGJkUY9Utv7N",
        "colab_type": "code",
        "colab": {
          "base_uri": "https://localhost:8080/",
          "height": 102
        },
        "outputId": "2b6a078e-17c1-46ac-a032-3d48ad0c3f50"
      },
      "source": [
        "#checking different type of currency\n",
        "all_accounts['CCY'].value_counts()"
      ],
      "execution_count": 73,
      "outputs": [
        {
          "output_type": "execute_result",
          "data": {
            "text/plain": [
              "NGN    26765\n",
              "USD     2082\n",
              "GBP      146\n",
              "EUR       64\n",
              "Name: CCY, dtype: int64"
            ]
          },
          "metadata": {
            "tags": []
          },
          "execution_count": 73
        }
      ]
    },
    {
      "cell_type": "code",
      "metadata": {
        "id": "T-fu_iW8up4N",
        "colab_type": "code",
        "colab": {}
      },
      "source": [
        "def con(data):\n",
        "    data.loc[data.CCY=='USD','ACY_AVL_BAL']=data.loc[data.CCY=='USD','ACY_AVL_BAL'].apply(lambda x: x*365)\n",
        "    data.loc[data.CCY=='EUR','ACY_AVL_BAL']=data.loc[data.CCY=='EUR','ACY_AVL_BAL'].apply(lambda x: x*398)\n",
        "    data.loc[data.CCY=='GBP','ACY_AVL_BAL']=data.loc[data.CCY=='GPB','ACY_AVL_BAL'].apply(lambda x: x*467)\n",
        "    data.loc[data.CCY=='JPY','ACY_AVL_BAL']=data.loc[data.CCY=='JPY','ACY_AVL_BAL'].apply(lambda x: x*3.31)\n",
        "    return data"
      ],
      "execution_count": 0,
      "outputs": []
    },
    {
      "cell_type": "code",
      "metadata": {
        "id": "ByC8yVm2ulGS",
        "colab_type": "code",
        "colab": {}
      },
      "source": [
        "#changing all account to naira notes\n",
        "all_accounts=con(all_accounts)"
      ],
      "execution_count": 0,
      "outputs": []
    },
    {
      "cell_type": "code",
      "metadata": {
        "id": "Pt1Rxx0Eu4E7",
        "colab_type": "code",
        "colab": {}
      },
      "source": [
        "\n",
        "all_accounts.index=all_accounts.index.astype('int')"
      ],
      "execution_count": 0,
      "outputs": []
    },
    {
      "cell_type": "code",
      "metadata": {
        "id": "YLm-BaAEvFGL",
        "colab_type": "code",
        "colab": {}
      },
      "source": [
        "all_accounts.sort_index(inplace=True)"
      ],
      "execution_count": 0,
      "outputs": []
    },
    {
      "cell_type": "code",
      "metadata": {
        "id": "6K8ZIOrwvLTH",
        "colab_type": "code",
        "colab": {}
      },
      "source": [
        "all_accounts.loc[(all_accounts.ACY_AVL_BAL!=0) & (all_accounts.RECORD_STAT==\"C\"),'ACY_AVL_BAL']=0"
      ],
      "execution_count": 0,
      "outputs": []
    }
  ]
}