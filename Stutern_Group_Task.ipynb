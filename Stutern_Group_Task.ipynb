{
  "nbformat": 4,
  "nbformat_minor": 0,
  "metadata": {
    "colab": {
      "name": "Stutern_Group_Task.ipynb",
      "provenance": [],
      "collapsed_sections": [],
      "authorship_tag": "ABX9TyO45OobkLscvaoxoxGefSIF",
      "include_colab_link": true
    },
    "kernelspec": {
      "name": "python3",
      "display_name": "Python 3"
    }
  },
  "cells": [
    {
      "cell_type": "markdown",
      "metadata": {
        "id": "view-in-github",
        "colab_type": "text"
      },
      "source": [
        "<a href=\"https://colab.research.google.com/github/Ayanlola2002/Stutern/blob/master/Stutern_Group_Task.ipynb\" target=\"_parent\"><img src=\"https://colab.research.google.com/assets/colab-badge.svg\" alt=\"Open In Colab\"/></a>"
      ]
    },
    {
      "cell_type": "code",
      "metadata": {
        "id": "FB3YWiYKf_Jm",
        "colab_type": "code",
        "outputId": "829ac029-db30-4270-935e-01075b02de23",
        "colab": {
          "base_uri": "https://localhost:8080/",
          "height": 54
        }
      },
      "source": [
        "from google.colab import drive\n",
        "drive.mount('/content/drive')"
      ],
      "execution_count": 158,
      "outputs": [
        {
          "output_type": "stream",
          "text": [
            "Drive already mounted at /content/drive; to attempt to forcibly remount, call drive.mount(\"/content/drive\", force_remount=True).\n"
          ],
          "name": "stdout"
        }
      ]
    },
    {
      "cell_type": "code",
      "metadata": {
        "id": "m9HmYQkfgcVU",
        "colab_type": "code",
        "outputId": "dd51e34b-0f8e-4ae6-ed90-185f52c3215f",
        "colab": {
          "base_uri": "https://localhost:8080/",
          "height": 71
        }
      },
      "source": [
        "import pandas as pd\n",
        "all_accounts=pd.read_csv('/content/drive/My Drive/Stutern/Group1_task/raw/all_accounts.csv')\n",
        "all_balances=pd.read_csv('/content/drive/My Drive/Stutern/Group1_task/raw/all_balances.csv')\n",
        "all_demographics=pd.read_csv('/content/drive/My Drive/Stutern/Group1_task/raw/all_demographics.csv',encoding='latin',sep='|')\n",
        "all_investments=pd.read_csv('/content/drive/My Drive/Stutern/Group1_task/raw/all_investments.csv')\n",
        "all_loans=pd.read_csv('/content/drive/My Drive/Stutern/Group1_task/raw/all_loans.csv')\n",
        "all_loans_application=pd.read_csv('/content/drive/My Drive/Stutern/Group1_task/raw/all_loans_application.csv')\n",
        "all_transactions_digital=pd.read_csv('/content/drive/My Drive/Stutern/Group1_task/raw/all_transactions_digital.csv')\n",
        "bureau_score=pd.read_csv('/content/drive/My Drive/Stutern/Group1_task/raw/bureau_score.csv')\n",
        "all_dictionary=pd.read_csv('/content/drive/My Drive/Stutern/Group1_task/raw/dictionary.csv',skiprows=[0])"
      ],
      "execution_count": 159,
      "outputs": [
        {
          "output_type": "stream",
          "text": [
            "/usr/local/lib/python3.6/dist-packages/IPython/core/interactiveshell.py:2718: DtypeWarning: Columns (17,19,26,28,30,35,36,37,38,39,61,71,73,74,85,100,103,114,115,125,126) have mixed types. Specify dtype option on import or set low_memory=False.\n",
            "  interactivity=interactivity, compiler=compiler, result=result)\n"
          ],
          "name": "stderr"
        }
      ]
    },
    {
      "cell_type": "code",
      "metadata": {
        "id": "tMvJoDaIoCWS",
        "colab_type": "code",
        "outputId": "12cff8df-6382-45e4-be98-5f141ae8231d",
        "colab": {
          "base_uri": "https://localhost:8080/",
          "height": 51
        }
      },
      "source": [
        "#we use the all_loans_applications customer id \n",
        "#this indicates all those customers that apply for loans \n",
        "#it may also be possible that a customer ask for multiple loans\n",
        "print(all_loans.shape)\n",
        "print(all_loans_application.shape)"
      ],
      "execution_count": 160,
      "outputs": [
        {
          "output_type": "stream",
          "text": [
            "(278505, 10)\n",
            "(23172, 8)\n"
          ],
          "name": "stdout"
        }
      ]
    },
    {
      "cell_type": "code",
      "metadata": {
        "id": "SBaUH3D3nKpU",
        "colab_type": "code",
        "colab": {}
      },
      "source": [
        "all_loans_application_data=all_loans_application.copy()"
      ],
      "execution_count": 0,
      "outputs": []
    },
    {
      "cell_type": "code",
      "metadata": {
        "id": "n0Mkks35rJWZ",
        "colab_type": "code",
        "colab": {}
      },
      "source": [
        "#setting customerId as index \n",
        "all_loans_application.set_index('CUSTOMER_UNIQUE_ID',inplace=True)"
      ],
      "execution_count": 0,
      "outputs": []
    },
    {
      "cell_type": "code",
      "metadata": {
        "id": "Gpq4ALVtrwCt",
        "colab_type": "code",
        "colab": {}
      },
      "source": [
        "#extracting customer ID from  all_loan_applications\n",
        "important_indexes=all_loans_application.index.unique()"
      ],
      "execution_count": 0,
      "outputs": []
    },
    {
      "cell_type": "code",
      "metadata": {
        "id": "e6D8FwIdsUk5",
        "colab_type": "code",
        "colab": {}
      },
      "source": [
        "#resetting of all_accounts index\n",
        "all_accounts.set_index('CUSTOMER_UNIQUE_ID',inplace=True)\n"
      ],
      "execution_count": 0,
      "outputs": []
    },
    {
      "cell_type": "code",
      "metadata": {
        "id": "VJ5TsCPFtABW",
        "colab_type": "code",
        "outputId": "d359eadf-9cf0-491a-82e0-cf6f06ccce3e",
        "colab": {
          "base_uri": "https://localhost:8080/",
          "height": 136
        }
      },
      "source": [
        "all_accounts=all_accounts.loc[important_indexes]"
      ],
      "execution_count": 165,
      "outputs": [
        {
          "output_type": "stream",
          "text": [
            "/usr/local/lib/python3.6/dist-packages/ipykernel_launcher.py:1: FutureWarning: \n",
            "Passing list-likes to .loc or [] with any missing label will raise\n",
            "KeyError in the future, you can use .reindex() as an alternative.\n",
            "\n",
            "See the documentation here:\n",
            "https://pandas.pydata.org/pandas-docs/stable/user_guide/indexing.html#deprecate-loc-reindex-listlike\n",
            "  \"\"\"Entry point for launching an IPython kernel.\n"
          ],
          "name": "stderr"
        }
      ]
    },
    {
      "cell_type": "code",
      "metadata": {
        "id": "tN55i3RttPEt",
        "colab_type": "code",
        "outputId": "eb3e6a1a-9fdf-4eb6-d343-256f9439dde5",
        "colab": {
          "base_uri": "https://localhost:8080/",
          "height": 68
        }
      },
      "source": [
        "all_accounts['RECORD_STAT'].value_counts()"
      ],
      "execution_count": 166,
      "outputs": [
        {
          "output_type": "execute_result",
          "data": {
            "text/plain": [
              "O    27281\n",
              "C     1776\n",
              "Name: RECORD_STAT, dtype: int64"
            ]
          },
          "metadata": {
            "tags": []
          },
          "execution_count": 166
        }
      ]
    },
    {
      "cell_type": "code",
      "metadata": {
        "id": "KOn0ZfsKt3gF",
        "colab_type": "code",
        "outputId": "9ee41265-7134-41ae-b69b-dc14127d0736",
        "colab": {
          "base_uri": "https://localhost:8080/",
          "height": 34
        }
      },
      "source": [
        "all_accounts.shape"
      ],
      "execution_count": 167,
      "outputs": [
        {
          "output_type": "execute_result",
          "data": {
            "text/plain": [
              "(29068, 4)"
            ]
          },
          "metadata": {
            "tags": []
          },
          "execution_count": 167
        }
      ]
    },
    {
      "cell_type": "code",
      "metadata": {
        "id": "oSZEzZx8uNi0",
        "colab_type": "code",
        "colab": {}
      },
      "source": [
        "all_accounts.drop(columns='MASKED_ACCOUNT',inplace=True)"
      ],
      "execution_count": 0,
      "outputs": []
    },
    {
      "cell_type": "code",
      "metadata": {
        "id": "gGJkUY9Utv7N",
        "colab_type": "code",
        "outputId": "6dbe08da-38d0-404c-accc-26b5e3706546",
        "colab": {
          "base_uri": "https://localhost:8080/",
          "height": 102
        }
      },
      "source": [
        "#checking different type of currency\n",
        "all_accounts['CCY'].value_counts()"
      ],
      "execution_count": 169,
      "outputs": [
        {
          "output_type": "execute_result",
          "data": {
            "text/plain": [
              "NGN    26765\n",
              "USD     2082\n",
              "GBP      146\n",
              "EUR       64\n",
              "Name: CCY, dtype: int64"
            ]
          },
          "metadata": {
            "tags": []
          },
          "execution_count": 169
        }
      ]
    },
    {
      "cell_type": "code",
      "metadata": {
        "id": "T-fu_iW8up4N",
        "colab_type": "code",
        "colab": {}
      },
      "source": [
        "#function to convert different currency to naira\n",
        "def con(data):\n",
        "    data.loc[data.CCY=='USD','ACY_AVL_BAL']=data.loc[data.CCY=='USD','ACY_AVL_BAL'].apply(lambda x: x*365)\n",
        "    data.loc[data.CCY=='EUR','ACY_AVL_BAL']=data.loc[data.CCY=='EUR','ACY_AVL_BAL'].apply(lambda x: x*398)\n",
        "    data.loc[data.CCY=='GBP','ACY_AVL_BAL']=data.loc[data.CCY=='GPB','ACY_AVL_BAL'].apply(lambda x: x*467)\n",
        "    data.loc[data.CCY=='JPY','ACY_AVL_BAL']=data.loc[data.CCY=='JPY','ACY_AVL_BAL'].apply(lambda x: x*3.31)\n",
        "    return data"
      ],
      "execution_count": 0,
      "outputs": []
    },
    {
      "cell_type": "code",
      "metadata": {
        "id": "ByC8yVm2ulGS",
        "colab_type": "code",
        "colab": {}
      },
      "source": [
        "#changing all account to naira notes\n",
        "all_accounts=con(all_accounts)"
      ],
      "execution_count": 0,
      "outputs": []
    },
    {
      "cell_type": "code",
      "metadata": {
        "id": "Pt1Rxx0Eu4E7",
        "colab_type": "code",
        "colab": {}
      },
      "source": [
        "#convert index to int\n",
        "all_accounts.index=all_accounts.index.astype('int')"
      ],
      "execution_count": 0,
      "outputs": []
    },
    {
      "cell_type": "code",
      "metadata": {
        "id": "YLm-BaAEvFGL",
        "colab_type": "code",
        "colab": {}
      },
      "source": [
        "#sort index\n",
        "all_accounts.sort_index(inplace=True)"
      ],
      "execution_count": 0,
      "outputs": []
    },
    {
      "cell_type": "code",
      "metadata": {
        "id": "F90T0-wwnM0M",
        "colab_type": "code",
        "outputId": "ef55116a-d0c7-4970-94fa-bd056b4e3382",
        "colab": {
          "base_uri": "https://localhost:8080/",
          "height": 80
        }
      },
      "source": [
        "#meaning of ACY_AVL_BAL\n",
        "all_dictionary[all_dictionary['FEATURES']=='ACY_AVL_BAL']"
      ],
      "execution_count": 174,
      "outputs": [
        {
          "output_type": "execute_result",
          "data": {
            "text/html": [
              "<div>\n",
              "<style scoped>\n",
              "    .dataframe tbody tr th:only-of-type {\n",
              "        vertical-align: middle;\n",
              "    }\n",
              "\n",
              "    .dataframe tbody tr th {\n",
              "        vertical-align: top;\n",
              "    }\n",
              "\n",
              "    .dataframe thead th {\n",
              "        text-align: right;\n",
              "    }\n",
              "</style>\n",
              "<table border=\"1\" class=\"dataframe\">\n",
              "  <thead>\n",
              "    <tr style=\"text-align: right;\">\n",
              "      <th></th>\n",
              "      <th>FEATURES</th>\n",
              "      <th>DESCRIPTION</th>\n",
              "      <th>DATA TYPE</th>\n",
              "      <th>Unnamed: 3</th>\n",
              "      <th>Unnamed: 4</th>\n",
              "    </tr>\n",
              "  </thead>\n",
              "  <tbody>\n",
              "    <tr>\n",
              "      <th>14</th>\n",
              "      <td>ACY_AVL_BAL</td>\n",
              "      <td>Specifies the available balance in the account...</td>\n",
              "      <td>NUMBER</td>\n",
              "      <td>NaN</td>\n",
              "      <td>NaN</td>\n",
              "    </tr>\n",
              "  </tbody>\n",
              "</table>\n",
              "</div>"
            ],
            "text/plain": [
              "       FEATURES  ... Unnamed: 4\n",
              "14  ACY_AVL_BAL  ...        NaN\n",
              "\n",
              "[1 rows x 5 columns]"
            ]
          },
          "metadata": {
            "tags": []
          },
          "execution_count": 174
        }
      ]
    },
    {
      "cell_type": "code",
      "metadata": {
        "id": "lXhHFFuO-4m-",
        "colab_type": "code",
        "outputId": "de4698fa-6ba5-47d9-e631-86120bb53d2c",
        "colab": {
          "base_uri": "https://localhost:8080/",
          "height": 221
        }
      },
      "source": [
        "#some of the ACY_AVL_BAL IS negative we will assumed it is zero \n",
        "all_accounts['ACY_AVL_BAL'].value_counts()"
      ],
      "execution_count": 175,
      "outputs": [
        {
          "output_type": "execute_result",
          "data": {
            "text/plain": [
              " 0.00          12405\n",
              "-52.50           243\n",
              "-105.00           69\n",
              " 950.00           33\n",
              " 1.00             26\n",
              "               ...  \n",
              " 77773.41          1\n",
              " 4058776.43        1\n",
              " 125.53            1\n",
              " 14164.08          1\n",
              "-145.34            1\n",
              "Name: ACY_AVL_BAL, Length: 14389, dtype: int64"
            ]
          },
          "metadata": {
            "tags": []
          },
          "execution_count": 175
        }
      ]
    },
    {
      "cell_type": "code",
      "metadata": {
        "id": "6K8ZIOrwvLTH",
        "colab_type": "code",
        "colab": {}
      },
      "source": [
        "#for all ACY_AVL_BAL that is negative RECORD STAT IS C we convert to zero so as not to affect our model\n",
        "all_accounts.loc[(all_accounts.ACY_AVL_BAL!=0) & (all_accounts.RECORD_STAT==\"C\"),'ACY_AVL_BAL']=0"
      ],
      "execution_count": 0,
      "outputs": []
    },
    {
      "cell_type": "code",
      "metadata": {
        "id": "rRKTe47B_7JH",
        "colab_type": "code",
        "outputId": "e8e0205a-6a48-4d58-d29e-e10a32d49c3b",
        "colab": {
          "base_uri": "https://localhost:8080/",
          "height": 221
        }
      },
      "source": [
        "all_accounts.index.value_counts()"
      ],
      "execution_count": 177,
      "outputs": [
        {
          "output_type": "execute_result",
          "data": {
            "text/plain": [
              "69090004     34\n",
              "578029002    27\n",
              "172877006    25\n",
              "657601000    23\n",
              "679735005    22\n",
              "             ..\n",
              "952341006     1\n",
              "73406011      1\n",
              "234473009     1\n",
              "806118002     1\n",
              "909990007     1\n",
              "Name: CUSTOMER_UNIQUE_ID, Length: 17986, dtype: int64"
            ]
          },
          "metadata": {
            "tags": []
          },
          "execution_count": 177
        }
      ]
    },
    {
      "cell_type": "code",
      "metadata": {
        "id": "zNlF6_BiAHlo",
        "colab_type": "code",
        "outputId": "b8a9b202-fb1a-4d56-a3ae-2d3150c95464",
        "colab": {
          "base_uri": "https://localhost:8080/",
          "height": 1000
        }
      },
      "source": [
        "#most of the customer id appears more than ones so we can group by customer id like the example below\n",
        "all_accounts.loc[69090004]"
      ],
      "execution_count": 178,
      "outputs": [
        {
          "output_type": "execute_result",
          "data": {
            "text/html": [
              "<div>\n",
              "<style scoped>\n",
              "    .dataframe tbody tr th:only-of-type {\n",
              "        vertical-align: middle;\n",
              "    }\n",
              "\n",
              "    .dataframe tbody tr th {\n",
              "        vertical-align: top;\n",
              "    }\n",
              "\n",
              "    .dataframe thead th {\n",
              "        text-align: right;\n",
              "    }\n",
              "</style>\n",
              "<table border=\"1\" class=\"dataframe\">\n",
              "  <thead>\n",
              "    <tr style=\"text-align: right;\">\n",
              "      <th></th>\n",
              "      <th>RECORD_STAT</th>\n",
              "      <th>ACY_AVL_BAL</th>\n",
              "      <th>CCY</th>\n",
              "    </tr>\n",
              "    <tr>\n",
              "      <th>CUSTOMER_UNIQUE_ID</th>\n",
              "      <th></th>\n",
              "      <th></th>\n",
              "      <th></th>\n",
              "    </tr>\n",
              "  </thead>\n",
              "  <tbody>\n",
              "    <tr>\n",
              "      <th>69090004</th>\n",
              "      <td>O</td>\n",
              "      <td>0.00</td>\n",
              "      <td>USD</td>\n",
              "    </tr>\n",
              "    <tr>\n",
              "      <th>69090004</th>\n",
              "      <td>C</td>\n",
              "      <td>0.00</td>\n",
              "      <td>NGN</td>\n",
              "    </tr>\n",
              "    <tr>\n",
              "      <th>69090004</th>\n",
              "      <td>O</td>\n",
              "      <td>37128.66</td>\n",
              "      <td>NGN</td>\n",
              "    </tr>\n",
              "    <tr>\n",
              "      <th>69090004</th>\n",
              "      <td>O</td>\n",
              "      <td>0.00</td>\n",
              "      <td>NGN</td>\n",
              "    </tr>\n",
              "    <tr>\n",
              "      <th>69090004</th>\n",
              "      <td>O</td>\n",
              "      <td>28.09</td>\n",
              "      <td>NGN</td>\n",
              "    </tr>\n",
              "    <tr>\n",
              "      <th>69090004</th>\n",
              "      <td>O</td>\n",
              "      <td>0.00</td>\n",
              "      <td>NGN</td>\n",
              "    </tr>\n",
              "    <tr>\n",
              "      <th>69090004</th>\n",
              "      <td>O</td>\n",
              "      <td>0.00</td>\n",
              "      <td>NGN</td>\n",
              "    </tr>\n",
              "    <tr>\n",
              "      <th>69090004</th>\n",
              "      <td>O</td>\n",
              "      <td>1262799.23</td>\n",
              "      <td>NGN</td>\n",
              "    </tr>\n",
              "    <tr>\n",
              "      <th>69090004</th>\n",
              "      <td>O</td>\n",
              "      <td>89483.40</td>\n",
              "      <td>USD</td>\n",
              "    </tr>\n",
              "    <tr>\n",
              "      <th>69090004</th>\n",
              "      <td>C</td>\n",
              "      <td>0.00</td>\n",
              "      <td>USD</td>\n",
              "    </tr>\n",
              "    <tr>\n",
              "      <th>69090004</th>\n",
              "      <td>O</td>\n",
              "      <td>0.00</td>\n",
              "      <td>NGN</td>\n",
              "    </tr>\n",
              "    <tr>\n",
              "      <th>69090004</th>\n",
              "      <td>O</td>\n",
              "      <td>0.00</td>\n",
              "      <td>NGN</td>\n",
              "    </tr>\n",
              "    <tr>\n",
              "      <th>69090004</th>\n",
              "      <td>O</td>\n",
              "      <td>0.00</td>\n",
              "      <td>NGN</td>\n",
              "    </tr>\n",
              "    <tr>\n",
              "      <th>69090004</th>\n",
              "      <td>O</td>\n",
              "      <td>NaN</td>\n",
              "      <td>GBP</td>\n",
              "    </tr>\n",
              "    <tr>\n",
              "      <th>69090004</th>\n",
              "      <td>O</td>\n",
              "      <td>0.00</td>\n",
              "      <td>NGN</td>\n",
              "    </tr>\n",
              "    <tr>\n",
              "      <th>69090004</th>\n",
              "      <td>O</td>\n",
              "      <td>0.00</td>\n",
              "      <td>NGN</td>\n",
              "    </tr>\n",
              "    <tr>\n",
              "      <th>69090004</th>\n",
              "      <td>C</td>\n",
              "      <td>0.00</td>\n",
              "      <td>NGN</td>\n",
              "    </tr>\n",
              "    <tr>\n",
              "      <th>69090004</th>\n",
              "      <td>O</td>\n",
              "      <td>0.00</td>\n",
              "      <td>NGN</td>\n",
              "    </tr>\n",
              "    <tr>\n",
              "      <th>69090004</th>\n",
              "      <td>O</td>\n",
              "      <td>13698.45</td>\n",
              "      <td>USD</td>\n",
              "    </tr>\n",
              "    <tr>\n",
              "      <th>69090004</th>\n",
              "      <td>C</td>\n",
              "      <td>0.00</td>\n",
              "      <td>NGN</td>\n",
              "    </tr>\n",
              "    <tr>\n",
              "      <th>69090004</th>\n",
              "      <td>O</td>\n",
              "      <td>29.01</td>\n",
              "      <td>NGN</td>\n",
              "    </tr>\n",
              "    <tr>\n",
              "      <th>69090004</th>\n",
              "      <td>O</td>\n",
              "      <td>0.00</td>\n",
              "      <td>NGN</td>\n",
              "    </tr>\n",
              "    <tr>\n",
              "      <th>69090004</th>\n",
              "      <td>O</td>\n",
              "      <td>0.00</td>\n",
              "      <td>NGN</td>\n",
              "    </tr>\n",
              "    <tr>\n",
              "      <th>69090004</th>\n",
              "      <td>C</td>\n",
              "      <td>0.00</td>\n",
              "      <td>NGN</td>\n",
              "    </tr>\n",
              "    <tr>\n",
              "      <th>69090004</th>\n",
              "      <td>O</td>\n",
              "      <td>0.00</td>\n",
              "      <td>USD</td>\n",
              "    </tr>\n",
              "    <tr>\n",
              "      <th>69090004</th>\n",
              "      <td>O</td>\n",
              "      <td>0.00</td>\n",
              "      <td>USD</td>\n",
              "    </tr>\n",
              "    <tr>\n",
              "      <th>69090004</th>\n",
              "      <td>O</td>\n",
              "      <td>0.00</td>\n",
              "      <td>NGN</td>\n",
              "    </tr>\n",
              "    <tr>\n",
              "      <th>69090004</th>\n",
              "      <td>O</td>\n",
              "      <td>0.00</td>\n",
              "      <td>NGN</td>\n",
              "    </tr>\n",
              "    <tr>\n",
              "      <th>69090004</th>\n",
              "      <td>O</td>\n",
              "      <td>NaN</td>\n",
              "      <td>GBP</td>\n",
              "    </tr>\n",
              "    <tr>\n",
              "      <th>69090004</th>\n",
              "      <td>O</td>\n",
              "      <td>0.00</td>\n",
              "      <td>USD</td>\n",
              "    </tr>\n",
              "    <tr>\n",
              "      <th>69090004</th>\n",
              "      <td>O</td>\n",
              "      <td>0.00</td>\n",
              "      <td>USD</td>\n",
              "    </tr>\n",
              "    <tr>\n",
              "      <th>69090004</th>\n",
              "      <td>O</td>\n",
              "      <td>0.00</td>\n",
              "      <td>USD</td>\n",
              "    </tr>\n",
              "    <tr>\n",
              "      <th>69090004</th>\n",
              "      <td>O</td>\n",
              "      <td>182391.76</td>\n",
              "      <td>NGN</td>\n",
              "    </tr>\n",
              "    <tr>\n",
              "      <th>69090004</th>\n",
              "      <td>O</td>\n",
              "      <td>0.00</td>\n",
              "      <td>NGN</td>\n",
              "    </tr>\n",
              "  </tbody>\n",
              "</table>\n",
              "</div>"
            ],
            "text/plain": [
              "                   RECORD_STAT  ACY_AVL_BAL  CCY\n",
              "CUSTOMER_UNIQUE_ID                              \n",
              "69090004                     O         0.00  USD\n",
              "69090004                     C         0.00  NGN\n",
              "69090004                     O     37128.66  NGN\n",
              "69090004                     O         0.00  NGN\n",
              "69090004                     O        28.09  NGN\n",
              "69090004                     O         0.00  NGN\n",
              "69090004                     O         0.00  NGN\n",
              "69090004                     O   1262799.23  NGN\n",
              "69090004                     O     89483.40  USD\n",
              "69090004                     C         0.00  USD\n",
              "69090004                     O         0.00  NGN\n",
              "69090004                     O         0.00  NGN\n",
              "69090004                     O         0.00  NGN\n",
              "69090004                     O          NaN  GBP\n",
              "69090004                     O         0.00  NGN\n",
              "69090004                     O         0.00  NGN\n",
              "69090004                     C         0.00  NGN\n",
              "69090004                     O         0.00  NGN\n",
              "69090004                     O     13698.45  USD\n",
              "69090004                     C         0.00  NGN\n",
              "69090004                     O        29.01  NGN\n",
              "69090004                     O         0.00  NGN\n",
              "69090004                     O         0.00  NGN\n",
              "69090004                     C         0.00  NGN\n",
              "69090004                     O         0.00  USD\n",
              "69090004                     O         0.00  USD\n",
              "69090004                     O         0.00  NGN\n",
              "69090004                     O         0.00  NGN\n",
              "69090004                     O          NaN  GBP\n",
              "69090004                     O         0.00  USD\n",
              "69090004                     O         0.00  USD\n",
              "69090004                     O         0.00  USD\n",
              "69090004                     O    182391.76  NGN\n",
              "69090004                     O         0.00  NGN"
            ]
          },
          "metadata": {
            "tags": []
          },
          "execution_count": 178
        }
      ]
    },
    {
      "cell_type": "code",
      "metadata": {
        "id": "lLclZ5HnBRPH",
        "colab_type": "code",
        "colab": {}
      },
      "source": [
        "#currency was removed because all ACY_AVL_BAL was coverted to same currency naira\n",
        "all_accounts_data=all_accounts.groupby([all_accounts.index])[['ACY_AVL_BAL']].sum()"
      ],
      "execution_count": 0,
      "outputs": []
    },
    {
      "cell_type": "code",
      "metadata": {
        "id": "g2v6xNgawKdT",
        "colab_type": "code",
        "outputId": "e28f9824-d1fd-4c5a-cd59-337474fb5b60",
        "colab": {
          "base_uri": "https://localhost:8080/",
          "height": 153
        }
      },
      "source": [
        "all_accounts.info()"
      ],
      "execution_count": 180,
      "outputs": [
        {
          "output_type": "stream",
          "text": [
            "<class 'pandas.core.frame.DataFrame'>\n",
            "Int64Index: 29068 entries, 56000 to 999944001\n",
            "Data columns (total 3 columns):\n",
            "RECORD_STAT    29057 non-null object\n",
            "ACY_AVL_BAL    28938 non-null float64\n",
            "CCY            29057 non-null object\n",
            "dtypes: float64(1), object(2)\n",
            "memory usage: 1.5+ MB\n"
          ],
          "name": "stdout"
        }
      ]
    },
    {
      "cell_type": "code",
      "metadata": {
        "id": "WJ-3coyLCO4W",
        "colab_type": "code",
        "outputId": "61e62db2-1843-48a8-f887-aaa7b12ee3cb",
        "colab": {
          "base_uri": "https://localhost:8080/",
          "height": 235
        }
      },
      "source": [
        "#there will be no need to merge CCY column to all_accounts dataframe since we converted all currency to naira.\n",
        "#all_accounts_data treated\n",
        "all_accounts_data.head()"
      ],
      "execution_count": 181,
      "outputs": [
        {
          "output_type": "execute_result",
          "data": {
            "text/html": [
              "<div>\n",
              "<style scoped>\n",
              "    .dataframe tbody tr th:only-of-type {\n",
              "        vertical-align: middle;\n",
              "    }\n",
              "\n",
              "    .dataframe tbody tr th {\n",
              "        vertical-align: top;\n",
              "    }\n",
              "\n",
              "    .dataframe thead th {\n",
              "        text-align: right;\n",
              "    }\n",
              "</style>\n",
              "<table border=\"1\" class=\"dataframe\">\n",
              "  <thead>\n",
              "    <tr style=\"text-align: right;\">\n",
              "      <th></th>\n",
              "      <th>ACY_AVL_BAL</th>\n",
              "    </tr>\n",
              "    <tr>\n",
              "      <th>CUSTOMER_UNIQUE_ID</th>\n",
              "      <th></th>\n",
              "    </tr>\n",
              "  </thead>\n",
              "  <tbody>\n",
              "    <tr>\n",
              "      <th>56000</th>\n",
              "      <td>136043.48</td>\n",
              "    </tr>\n",
              "    <tr>\n",
              "      <th>62005</th>\n",
              "      <td>1541719.95</td>\n",
              "    </tr>\n",
              "    <tr>\n",
              "      <th>104008</th>\n",
              "      <td>12364.06</td>\n",
              "    </tr>\n",
              "    <tr>\n",
              "      <th>175007</th>\n",
              "      <td>20029.55</td>\n",
              "    </tr>\n",
              "    <tr>\n",
              "      <th>200006</th>\n",
              "      <td>61489.56</td>\n",
              "    </tr>\n",
              "  </tbody>\n",
              "</table>\n",
              "</div>"
            ],
            "text/plain": [
              "                    ACY_AVL_BAL\n",
              "CUSTOMER_UNIQUE_ID             \n",
              "56000                 136043.48\n",
              "62005                1541719.95\n",
              "104008                 12364.06\n",
              "175007                 20029.55\n",
              "200006                 61489.56"
            ]
          },
          "metadata": {
            "tags": []
          },
          "execution_count": 181
        }
      ]
    },
    {
      "cell_type": "code",
      "metadata": {
        "id": "jcA5BvUP1LyG",
        "colab_type": "code",
        "colab": {}
      },
      "source": [
        "all_balances.set_index('CUSTOMER_UNIQUE_ID',inplace=True)"
      ],
      "execution_count": 0,
      "outputs": []
    },
    {
      "cell_type": "code",
      "metadata": {
        "id": "Z1i4HgmP3cau",
        "colab_type": "code",
        "outputId": "39453ea9-6c2b-4d27-834f-3f345a10bf7b",
        "colab": {
          "base_uri": "https://localhost:8080/",
          "height": 136
        }
      },
      "source": [
        "#focussing on only those who made loan applications according to all_loan_applications\n",
        "all_balances=all_balances.loc[important_indexes]"
      ],
      "execution_count": 183,
      "outputs": [
        {
          "output_type": "stream",
          "text": [
            "/usr/local/lib/python3.6/dist-packages/ipykernel_launcher.py:1: FutureWarning: \n",
            "Passing list-likes to .loc or [] with any missing label will raise\n",
            "KeyError in the future, you can use .reindex() as an alternative.\n",
            "\n",
            "See the documentation here:\n",
            "https://pandas.pydata.org/pandas-docs/stable/user_guide/indexing.html#deprecate-loc-reindex-listlike\n",
            "  \"\"\"Entry point for launching an IPython kernel.\n"
          ],
          "name": "stderr"
        }
      ]
    },
    {
      "cell_type": "code",
      "metadata": {
        "id": "Bnryq2583yZT",
        "colab_type": "code",
        "outputId": "4bb1ae61-c689-445b-f7ed-41e7ac9a2fc4",
        "colab": {
          "base_uri": "https://localhost:8080/",
          "height": 85
        }
      },
      "source": [
        "#checking for null values\n",
        "all_balances.isnull().sum()"
      ],
      "execution_count": 184,
      "outputs": [
        {
          "output_type": "execute_result",
          "data": {
            "text/plain": [
              "MASKED_ACCOUNT    490\n",
              "VAL_DT            490\n",
              "BAL               490\n",
              "dtype: int64"
            ]
          },
          "metadata": {
            "tags": []
          },
          "execution_count": 184
        }
      ]
    },
    {
      "cell_type": "code",
      "metadata": {
        "id": "wdltoCUt3807",
        "colab_type": "code",
        "colab": {}
      },
      "source": [
        "#trying to select the last date balance of customers who applied for loans\n",
        "#merger=all_balances.groupby([all_balances.index,all_balances.MASKED_ACCOUNT])[['VAL_DT']].max()"
      ],
      "execution_count": 0,
      "outputs": []
    },
    {
      "cell_type": "code",
      "metadata": {
        "id": "T8VX_RHQ5DnS",
        "colab_type": "code",
        "colab": {}
      },
      "source": [
        "all_balances_data=all_balances.sort_values('VAL_DT').groupby(all_balances.index).tail(1)"
      ],
      "execution_count": 0,
      "outputs": []
    },
    {
      "cell_type": "code",
      "metadata": {
        "id": "mbiZRueT7NK2",
        "colab_type": "code",
        "outputId": "181f1df3-6688-491a-9833-5368e6800fc1",
        "colab": {
          "base_uri": "https://localhost:8080/",
          "height": 235
        }
      },
      "source": [
        "all_balances_data.head()"
      ],
      "execution_count": 187,
      "outputs": [
        {
          "output_type": "execute_result",
          "data": {
            "text/html": [
              "<div>\n",
              "<style scoped>\n",
              "    .dataframe tbody tr th:only-of-type {\n",
              "        vertical-align: middle;\n",
              "    }\n",
              "\n",
              "    .dataframe tbody tr th {\n",
              "        vertical-align: top;\n",
              "    }\n",
              "\n",
              "    .dataframe thead th {\n",
              "        text-align: right;\n",
              "    }\n",
              "</style>\n",
              "<table border=\"1\" class=\"dataframe\">\n",
              "  <thead>\n",
              "    <tr style=\"text-align: right;\">\n",
              "      <th></th>\n",
              "      <th>MASKED_ACCOUNT</th>\n",
              "      <th>VAL_DT</th>\n",
              "      <th>BAL</th>\n",
              "    </tr>\n",
              "    <tr>\n",
              "      <th>CUSTOMER_UNIQUE_ID</th>\n",
              "      <th></th>\n",
              "      <th></th>\n",
              "      <th></th>\n",
              "    </tr>\n",
              "  </thead>\n",
              "  <tbody>\n",
              "    <tr>\n",
              "      <th>41981006</th>\n",
              "      <td>00******68</td>\n",
              "      <td>10/1/2019</td>\n",
              "      <td>40821.02</td>\n",
              "    </tr>\n",
              "    <tr>\n",
              "      <th>737790008</th>\n",
              "      <td>06******08</td>\n",
              "      <td>10/1/2019</td>\n",
              "      <td>323.75</td>\n",
              "    </tr>\n",
              "    <tr>\n",
              "      <th>521640001</th>\n",
              "      <td>00******56</td>\n",
              "      <td>10/1/2019</td>\n",
              "      <td>11974.56</td>\n",
              "    </tr>\n",
              "    <tr>\n",
              "      <th>391254009</th>\n",
              "      <td>00******30</td>\n",
              "      <td>10/1/2019</td>\n",
              "      <td>6813.05</td>\n",
              "    </tr>\n",
              "    <tr>\n",
              "      <th>657601000</th>\n",
              "      <td>00******15</td>\n",
              "      <td>10/1/2019</td>\n",
              "      <td>14998.88</td>\n",
              "    </tr>\n",
              "  </tbody>\n",
              "</table>\n",
              "</div>"
            ],
            "text/plain": [
              "                   MASKED_ACCOUNT     VAL_DT       BAL\n",
              "CUSTOMER_UNIQUE_ID                                    \n",
              "41981006               00******68  10/1/2019  40821.02\n",
              "737790008              06******08  10/1/2019    323.75\n",
              "521640001              00******56  10/1/2019  11974.56\n",
              "391254009              00******30  10/1/2019   6813.05\n",
              "657601000              00******15  10/1/2019  14998.88"
            ]
          },
          "metadata": {
            "tags": []
          },
          "execution_count": 187
        }
      ]
    },
    {
      "cell_type": "code",
      "metadata": {
        "id": "LRY1wdeh4XHS",
        "colab_type": "code",
        "outputId": "28807144-ee57-4ce2-a5e3-6a05ab0ecba3",
        "colab": {
          "base_uri": "https://localhost:8080/",
          "height": 34
        }
      },
      "source": [
        "all_balances_data.isnull().any(axis=1).sum()"
      ],
      "execution_count": 188,
      "outputs": [
        {
          "output_type": "execute_result",
          "data": {
            "text/plain": [
              "4"
            ]
          },
          "metadata": {
            "tags": []
          },
          "execution_count": 188
        }
      ]
    },
    {
      "cell_type": "code",
      "metadata": {
        "id": "kTn72WAUAks_",
        "colab_type": "code",
        "outputId": "86b59dbc-9e7b-428e-ee46-d0e4326b88e2",
        "colab": {
          "base_uri": "https://localhost:8080/",
          "height": 450
        }
      },
      "source": [
        "#drop rows with na values\n",
        "all_balances_data.dropna(how='any',axis=0)"
      ],
      "execution_count": 189,
      "outputs": [
        {
          "output_type": "execute_result",
          "data": {
            "text/html": [
              "<div>\n",
              "<style scoped>\n",
              "    .dataframe tbody tr th:only-of-type {\n",
              "        vertical-align: middle;\n",
              "    }\n",
              "\n",
              "    .dataframe tbody tr th {\n",
              "        vertical-align: top;\n",
              "    }\n",
              "\n",
              "    .dataframe thead th {\n",
              "        text-align: right;\n",
              "    }\n",
              "</style>\n",
              "<table border=\"1\" class=\"dataframe\">\n",
              "  <thead>\n",
              "    <tr style=\"text-align: right;\">\n",
              "      <th></th>\n",
              "      <th>MASKED_ACCOUNT</th>\n",
              "      <th>VAL_DT</th>\n",
              "      <th>BAL</th>\n",
              "    </tr>\n",
              "    <tr>\n",
              "      <th>CUSTOMER_UNIQUE_ID</th>\n",
              "      <th></th>\n",
              "      <th></th>\n",
              "      <th></th>\n",
              "    </tr>\n",
              "  </thead>\n",
              "  <tbody>\n",
              "    <tr>\n",
              "      <th>41981006</th>\n",
              "      <td>00******68</td>\n",
              "      <td>10/1/2019</td>\n",
              "      <td>40821.02</td>\n",
              "    </tr>\n",
              "    <tr>\n",
              "      <th>737790008</th>\n",
              "      <td>06******08</td>\n",
              "      <td>10/1/2019</td>\n",
              "      <td>323.75</td>\n",
              "    </tr>\n",
              "    <tr>\n",
              "      <th>521640001</th>\n",
              "      <td>00******56</td>\n",
              "      <td>10/1/2019</td>\n",
              "      <td>11974.56</td>\n",
              "    </tr>\n",
              "    <tr>\n",
              "      <th>391254009</th>\n",
              "      <td>00******30</td>\n",
              "      <td>10/1/2019</td>\n",
              "      <td>6813.05</td>\n",
              "    </tr>\n",
              "    <tr>\n",
              "      <th>657601000</th>\n",
              "      <td>00******15</td>\n",
              "      <td>10/1/2019</td>\n",
              "      <td>14998.88</td>\n",
              "    </tr>\n",
              "    <tr>\n",
              "      <th>...</th>\n",
              "      <td>...</td>\n",
              "      <td>...</td>\n",
              "      <td>...</td>\n",
              "    </tr>\n",
              "    <tr>\n",
              "      <th>801451003</th>\n",
              "      <td>07******68</td>\n",
              "      <td>9/9/2019</td>\n",
              "      <td>85273.88</td>\n",
              "    </tr>\n",
              "    <tr>\n",
              "      <th>588148009</th>\n",
              "      <td>00******46</td>\n",
              "      <td>9/9/2019</td>\n",
              "      <td>1097.83</td>\n",
              "    </tr>\n",
              "    <tr>\n",
              "      <th>13231006</th>\n",
              "      <td>00******65</td>\n",
              "      <td>9/9/2019</td>\n",
              "      <td>40002.64</td>\n",
              "    </tr>\n",
              "    <tr>\n",
              "      <th>823552000</th>\n",
              "      <td>07******66</td>\n",
              "      <td>9/9/2019</td>\n",
              "      <td>51076.68</td>\n",
              "    </tr>\n",
              "    <tr>\n",
              "      <th>515970011</th>\n",
              "      <td>07******40</td>\n",
              "      <td>9/9/2019</td>\n",
              "      <td>0.42</td>\n",
              "    </tr>\n",
              "  </tbody>\n",
              "</table>\n",
              "<p>17982 rows × 3 columns</p>\n",
              "</div>"
            ],
            "text/plain": [
              "                   MASKED_ACCOUNT     VAL_DT       BAL\n",
              "CUSTOMER_UNIQUE_ID                                    \n",
              "41981006               00******68  10/1/2019  40821.02\n",
              "737790008              06******08  10/1/2019    323.75\n",
              "521640001              00******56  10/1/2019  11974.56\n",
              "391254009              00******30  10/1/2019   6813.05\n",
              "657601000              00******15  10/1/2019  14998.88\n",
              "...                           ...        ...       ...\n",
              "801451003              07******68   9/9/2019  85273.88\n",
              "588148009              00******46   9/9/2019   1097.83\n",
              "13231006               00******65   9/9/2019  40002.64\n",
              "823552000              07******66   9/9/2019  51076.68\n",
              "515970011              07******40   9/9/2019      0.42\n",
              "\n",
              "[17982 rows x 3 columns]"
            ]
          },
          "metadata": {
            "tags": []
          },
          "execution_count": 189
        }
      ]
    },
    {
      "cell_type": "code",
      "metadata": {
        "id": "DuZlW63IsuEg",
        "colab_type": "code",
        "outputId": "d4e5047f-c839-46a5-f32f-2305a0280652",
        "colab": {
          "base_uri": "https://localhost:8080/",
          "height": 204
        }
      },
      "source": [
        "#rows with null values\n",
        "all_balances_data.loc[all_balances_data['VAL_DT'].isnull()]"
      ],
      "execution_count": 190,
      "outputs": [
        {
          "output_type": "execute_result",
          "data": {
            "text/html": [
              "<div>\n",
              "<style scoped>\n",
              "    .dataframe tbody tr th:only-of-type {\n",
              "        vertical-align: middle;\n",
              "    }\n",
              "\n",
              "    .dataframe tbody tr th {\n",
              "        vertical-align: top;\n",
              "    }\n",
              "\n",
              "    .dataframe thead th {\n",
              "        text-align: right;\n",
              "    }\n",
              "</style>\n",
              "<table border=\"1\" class=\"dataframe\">\n",
              "  <thead>\n",
              "    <tr style=\"text-align: right;\">\n",
              "      <th></th>\n",
              "      <th>MASKED_ACCOUNT</th>\n",
              "      <th>VAL_DT</th>\n",
              "      <th>BAL</th>\n",
              "    </tr>\n",
              "    <tr>\n",
              "      <th>CUSTOMER_UNIQUE_ID</th>\n",
              "      <th></th>\n",
              "      <th></th>\n",
              "      <th></th>\n",
              "    </tr>\n",
              "  </thead>\n",
              "  <tbody>\n",
              "    <tr>\n",
              "      <th>909766003</th>\n",
              "      <td>NaN</td>\n",
              "      <td>NaN</td>\n",
              "      <td>NaN</td>\n",
              "    </tr>\n",
              "    <tr>\n",
              "      <th>297233009</th>\n",
              "      <td>NaN</td>\n",
              "      <td>NaN</td>\n",
              "      <td>NaN</td>\n",
              "    </tr>\n",
              "    <tr>\n",
              "      <th>311246013</th>\n",
              "      <td>NaN</td>\n",
              "      <td>NaN</td>\n",
              "      <td>NaN</td>\n",
              "    </tr>\n",
              "    <tr>\n",
              "      <th>162998000</th>\n",
              "      <td>NaN</td>\n",
              "      <td>NaN</td>\n",
              "      <td>NaN</td>\n",
              "    </tr>\n",
              "  </tbody>\n",
              "</table>\n",
              "</div>"
            ],
            "text/plain": [
              "                   MASKED_ACCOUNT VAL_DT  BAL\n",
              "CUSTOMER_UNIQUE_ID                           \n",
              "909766003                     NaN    NaN  NaN\n",
              "297233009                     NaN    NaN  NaN\n",
              "311246013                     NaN    NaN  NaN\n",
              "162998000                     NaN    NaN  NaN"
            ]
          },
          "metadata": {
            "tags": []
          },
          "execution_count": 190
        }
      ]
    },
    {
      "cell_type": "code",
      "metadata": {
        "id": "_ciHciatvrZ_",
        "colab_type": "code",
        "colab": {}
      },
      "source": [
        "#drop row index with null values\n",
        "all_balances_data=all_balances_data.drop([909766003,297233009,311246013,162998000])"
      ],
      "execution_count": 0,
      "outputs": []
    },
    {
      "cell_type": "code",
      "metadata": {
        "id": "jgiZFvP2wQTW",
        "colab_type": "code",
        "outputId": "6bd249e6-d657-4884-daaf-87b4f3f25501",
        "colab": {
          "base_uri": "https://localhost:8080/",
          "height": 85
        }
      },
      "source": [
        "#all_balances_data treated\n",
        "all_balances_data.isna().sum()"
      ],
      "execution_count": 192,
      "outputs": [
        {
          "output_type": "execute_result",
          "data": {
            "text/plain": [
              "MASKED_ACCOUNT    0\n",
              "VAL_DT            0\n",
              "BAL               0\n",
              "dtype: int64"
            ]
          },
          "metadata": {
            "tags": []
          },
          "execution_count": 192
        }
      ]
    },
    {
      "cell_type": "code",
      "metadata": {
        "id": "nj8E1LLQ_Lfz",
        "colab_type": "code",
        "outputId": "6b743f0b-80fc-4350-f57b-06b9583a228f",
        "colab": {
          "base_uri": "https://localhost:8080/",
          "height": 450
        }
      },
      "source": [
        "#removing masked account Masked_account and val_dt\n",
        "all_balances_data.drop(['MASKED_ACCOUNT','VAL_DT'],axis=1)"
      ],
      "execution_count": 193,
      "outputs": [
        {
          "output_type": "execute_result",
          "data": {
            "text/html": [
              "<div>\n",
              "<style scoped>\n",
              "    .dataframe tbody tr th:only-of-type {\n",
              "        vertical-align: middle;\n",
              "    }\n",
              "\n",
              "    .dataframe tbody tr th {\n",
              "        vertical-align: top;\n",
              "    }\n",
              "\n",
              "    .dataframe thead th {\n",
              "        text-align: right;\n",
              "    }\n",
              "</style>\n",
              "<table border=\"1\" class=\"dataframe\">\n",
              "  <thead>\n",
              "    <tr style=\"text-align: right;\">\n",
              "      <th></th>\n",
              "      <th>BAL</th>\n",
              "    </tr>\n",
              "    <tr>\n",
              "      <th>CUSTOMER_UNIQUE_ID</th>\n",
              "      <th></th>\n",
              "    </tr>\n",
              "  </thead>\n",
              "  <tbody>\n",
              "    <tr>\n",
              "      <th>41981006</th>\n",
              "      <td>40821.02</td>\n",
              "    </tr>\n",
              "    <tr>\n",
              "      <th>737790008</th>\n",
              "      <td>323.75</td>\n",
              "    </tr>\n",
              "    <tr>\n",
              "      <th>521640001</th>\n",
              "      <td>11974.56</td>\n",
              "    </tr>\n",
              "    <tr>\n",
              "      <th>391254009</th>\n",
              "      <td>6813.05</td>\n",
              "    </tr>\n",
              "    <tr>\n",
              "      <th>657601000</th>\n",
              "      <td>14998.88</td>\n",
              "    </tr>\n",
              "    <tr>\n",
              "      <th>...</th>\n",
              "      <td>...</td>\n",
              "    </tr>\n",
              "    <tr>\n",
              "      <th>801451003</th>\n",
              "      <td>85273.88</td>\n",
              "    </tr>\n",
              "    <tr>\n",
              "      <th>588148009</th>\n",
              "      <td>1097.83</td>\n",
              "    </tr>\n",
              "    <tr>\n",
              "      <th>13231006</th>\n",
              "      <td>40002.64</td>\n",
              "    </tr>\n",
              "    <tr>\n",
              "      <th>823552000</th>\n",
              "      <td>51076.68</td>\n",
              "    </tr>\n",
              "    <tr>\n",
              "      <th>515970011</th>\n",
              "      <td>0.42</td>\n",
              "    </tr>\n",
              "  </tbody>\n",
              "</table>\n",
              "<p>17982 rows × 1 columns</p>\n",
              "</div>"
            ],
            "text/plain": [
              "                         BAL\n",
              "CUSTOMER_UNIQUE_ID          \n",
              "41981006            40821.02\n",
              "737790008             323.75\n",
              "521640001           11974.56\n",
              "391254009            6813.05\n",
              "657601000           14998.88\n",
              "...                      ...\n",
              "801451003           85273.88\n",
              "588148009            1097.83\n",
              "13231006            40002.64\n",
              "823552000           51076.68\n",
              "515970011               0.42\n",
              "\n",
              "[17982 rows x 1 columns]"
            ]
          },
          "metadata": {
            "tags": []
          },
          "execution_count": 193
        }
      ]
    },
    {
      "cell_type": "code",
      "metadata": {
        "id": "jle8aosyKcSL",
        "colab_type": "code",
        "colab": {}
      },
      "source": [
        "#convert index to int\n",
        "all_balances_data.index=all_balances_data.index.astype('int')"
      ],
      "execution_count": 0,
      "outputs": []
    },
    {
      "cell_type": "code",
      "metadata": {
        "id": "KfOKGktVK1H-",
        "colab_type": "code",
        "colab": {}
      },
      "source": [
        "all_balances_data.sort_index(inplace=True)"
      ],
      "execution_count": 0,
      "outputs": []
    },
    {
      "cell_type": "code",
      "metadata": {
        "id": "DaEhY7Cuwced",
        "colab_type": "code",
        "colab": {}
      },
      "source": [
        "#using regex101 online tool on all_demographics\n",
        "all_demographics.ADDRESS_LINE3=all_demographics.ADDRESS_LINE3.str.replace(',\\s*','')\n",
        "all_demographics.ADDRESS_LINE3=all_demographics.ADDRESS_LINE3.str.replace('\\d*','')"
      ],
      "execution_count": 0,
      "outputs": []
    },
    {
      "cell_type": "code",
      "metadata": {
        "id": "FvRoU-y2wvzz",
        "colab_type": "code",
        "outputId": "70920c80-ea3f-40e1-ce99-1c8b004de55f",
        "colab": {
          "base_uri": "https://localhost:8080/",
          "height": 338
        }
      },
      "source": [
        "all_demographics.head()"
      ],
      "execution_count": 197,
      "outputs": [
        {
          "output_type": "execute_result",
          "data": {
            "text/html": [
              "<div>\n",
              "<style scoped>\n",
              "    .dataframe tbody tr th:only-of-type {\n",
              "        vertical-align: middle;\n",
              "    }\n",
              "\n",
              "    .dataframe tbody tr th {\n",
              "        vertical-align: top;\n",
              "    }\n",
              "\n",
              "    .dataframe thead th {\n",
              "        text-align: right;\n",
              "    }\n",
              "</style>\n",
              "<table border=\"1\" class=\"dataframe\">\n",
              "  <thead>\n",
              "    <tr style=\"text-align: right;\">\n",
              "      <th></th>\n",
              "      <th>CUSTOMER_UNIQUE_ID</th>\n",
              "      <th>CUSTOMER_TYPE</th>\n",
              "      <th>ADDRESS_LINE3</th>\n",
              "      <th>ADDRESS_LINE4</th>\n",
              "      <th>COUNTRY</th>\n",
              "      <th>NATIONALITY</th>\n",
              "      <th>LANGUAGE</th>\n",
              "      <th>EXPOSURE_COUNTRY</th>\n",
              "      <th>LOCAL_BRANCH</th>\n",
              "      <th>FROZEN</th>\n",
              "      <th>DECEASED</th>\n",
              "      <th>WHEREABOUTS_UNKNOWN</th>\n",
              "      <th>CUSTOMER_CATEGORY</th>\n",
              "      <th>HO_AC_NO</th>\n",
              "      <th>FX_CUST_CLEAN_RISK_LIMIT</th>\n",
              "      <th>OVERALL_LIMIT</th>\n",
              "      <th>FX_CLEAN_RISK_LIMIT</th>\n",
              "      <th>CREDIT_RATING</th>\n",
              "      <th>LIMIT_CCY</th>\n",
              "      <th>CAS_CUST</th>\n",
              "      <th>LIAB_NODE</th>\n",
              "      <th>SEC_CUST_CLEAN_RISK_LIMIT</th>\n",
              "      <th>SEC_CLEAN_RISK_LIMIT</th>\n",
              "      <th>SEC_CUST_PSTL_RISK_LIMIT</th>\n",
              "      <th>SEC_PSTL_RISK_LIMIT</th>\n",
              "      <th>LIAB_BR</th>\n",
              "      <th>PAST_DUE_FLAG</th>\n",
              "      <th>DEFAULT_MEDIA</th>\n",
              "      <th>SSN</th>\n",
              "      <th>SWIFT_CODE</th>\n",
              "      <th>LOC_CODE</th>\n",
              "      <th>UTILITY_PROVIDER</th>\n",
              "      <th>UTILITY_PROVIDER_ID</th>\n",
              "      <th>RISK_PROFILE</th>\n",
              "      <th>DEBTOR_CATEGORY</th>\n",
              "      <th>UDF_1</th>\n",
              "      <th>UDF_2</th>\n",
              "      <th>UDF_3</th>\n",
              "      <th>UDF_4</th>\n",
              "      <th>UDF_5</th>\n",
              "      <th>...</th>\n",
              "      <th>PINCODE</th>\n",
              "      <th>MFI_CUSTOMER</th>\n",
              "      <th>CUSTOMER_PREFIX</th>\n",
              "      <th>DATE_OF_BIRTH</th>\n",
              "      <th>MINOR</th>\n",
              "      <th>SEX</th>\n",
              "      <th>RESIDENT_STATUS</th>\n",
              "      <th>AGE_PROOF_SUBMITTED</th>\n",
              "      <th>CUST_COMM_MODE</th>\n",
              "      <th>PLACE_OF_BIRTH</th>\n",
              "      <th>BIRTH_COUNTRY</th>\n",
              "      <th>US_RES_STATUS</th>\n",
              "      <th>VST_US_PREV</th>\n",
              "      <th>P_PINCODE</th>\n",
              "      <th>PREF_CONTACT_DT</th>\n",
              "      <th>PREF_CONTACT_TIME</th>\n",
              "      <th>D_PINCODE</th>\n",
              "      <th>EDUCATIONAL_STATUS</th>\n",
              "      <th>MARITAL_STATUS</th>\n",
              "      <th>SPOUSE_NAME</th>\n",
              "      <th>SPOUSE_EMP_STATUS</th>\n",
              "      <th>DEPENDENT_CHILDREN</th>\n",
              "      <th>DEPENDENT_OTHERS</th>\n",
              "      <th>ACCOMODATION</th>\n",
              "      <th>EMPLOYMENT_STATUS</th>\n",
              "      <th>EMPLOYMENT_TENURE</th>\n",
              "      <th>RETIREMENT_AGE</th>\n",
              "      <th>PREV_DESIGNATION</th>\n",
              "      <th>PREV_EMPLOYER</th>\n",
              "      <th>DESIGNATION</th>\n",
              "      <th>SALARY</th>\n",
              "      <th>OTHER_INCOME</th>\n",
              "      <th>RENT</th>\n",
              "      <th>INSURANCE</th>\n",
              "      <th>LOAN_PAYMENT</th>\n",
              "      <th>OTHER_EXPENSES</th>\n",
              "      <th>HOUSE_VALUE</th>\n",
              "      <th>CREDIT_CARDS</th>\n",
              "      <th>E_COUNTRY</th>\n",
              "      <th>CCY_PERS_INCEXP</th>\n",
              "    </tr>\n",
              "  </thead>\n",
              "  <tbody>\n",
              "    <tr>\n",
              "      <th>0</th>\n",
              "      <td>18030000</td>\n",
              "      <td>I</td>\n",
              "      <td>IKOYI</td>\n",
              "      <td>LAGOS</td>\n",
              "      <td>NG</td>\n",
              "      <td>NG</td>\n",
              "      <td>ENG</td>\n",
              "      <td>NG</td>\n",
              "      <td>3</td>\n",
              "      <td>N</td>\n",
              "      <td>N</td>\n",
              "      <td>N</td>\n",
              "      <td>IND</td>\n",
              "      <td>NaN</td>\n",
              "      <td>0.0</td>\n",
              "      <td>0.0</td>\n",
              "      <td>0.0</td>\n",
              "      <td>NaN</td>\n",
              "      <td>NGN</td>\n",
              "      <td>NaN</td>\n",
              "      <td>FCUBSPAR</td>\n",
              "      <td>0.0</td>\n",
              "      <td>0.0</td>\n",
              "      <td>0.0</td>\n",
              "      <td>0.0</td>\n",
              "      <td>3</td>\n",
              "      <td>NaN</td>\n",
              "      <td>MAIL</td>\n",
              "      <td>NaN</td>\n",
              "      <td>NaN</td>\n",
              "      <td>NaN</td>\n",
              "      <td>N</td>\n",
              "      <td>NaN</td>\n",
              "      <td>NaN</td>\n",
              "      <td>NaN</td>\n",
              "      <td>NaN</td>\n",
              "      <td>NaN</td>\n",
              "      <td>NaN</td>\n",
              "      <td>NaN</td>\n",
              "      <td>NaN</td>\n",
              "      <td>...</td>\n",
              "      <td>23401</td>\n",
              "      <td>N</td>\n",
              "      <td>MR</td>\n",
              "      <td>1966-08-15 00:00:00</td>\n",
              "      <td>N</td>\n",
              "      <td>M</td>\n",
              "      <td>R</td>\n",
              "      <td>N</td>\n",
              "      <td>E</td>\n",
              "      <td>NaN</td>\n",
              "      <td>NG</td>\n",
              "      <td>N</td>\n",
              "      <td>N</td>\n",
              "      <td>NaN</td>\n",
              "      <td>NaN</td>\n",
              "      <td>0.0</td>\n",
              "      <td>NaN</td>\n",
              "      <td>NaN</td>\n",
              "      <td>M</td>\n",
              "      <td>NaN</td>\n",
              "      <td>NaN</td>\n",
              "      <td>0.0</td>\n",
              "      <td>0.0</td>\n",
              "      <td>NaN</td>\n",
              "      <td>NaN</td>\n",
              "      <td>NaN</td>\n",
              "      <td>NaN</td>\n",
              "      <td>NaN</td>\n",
              "      <td>NaN</td>\n",
              "      <td>NaN</td>\n",
              "      <td>NaN</td>\n",
              "      <td>NaN</td>\n",
              "      <td>NaN</td>\n",
              "      <td>NaN</td>\n",
              "      <td>NaN</td>\n",
              "      <td>NaN</td>\n",
              "      <td>NaN</td>\n",
              "      <td>NaN</td>\n",
              "      <td>NaN</td>\n",
              "      <td>NaN</td>\n",
              "    </tr>\n",
              "    <tr>\n",
              "      <th>1</th>\n",
              "      <td>33020001</td>\n",
              "      <td>I</td>\n",
              "      <td>IKORODU</td>\n",
              "      <td>LAGOS</td>\n",
              "      <td>NG</td>\n",
              "      <td>NG</td>\n",
              "      <td>ENG</td>\n",
              "      <td>NG</td>\n",
              "      <td>6</td>\n",
              "      <td>N</td>\n",
              "      <td>N</td>\n",
              "      <td>N</td>\n",
              "      <td>IND</td>\n",
              "      <td>NaN</td>\n",
              "      <td>0.0</td>\n",
              "      <td>0.0</td>\n",
              "      <td>0.0</td>\n",
              "      <td>NaN</td>\n",
              "      <td>NGN</td>\n",
              "      <td>NaN</td>\n",
              "      <td>FCUBSPAR</td>\n",
              "      <td>0.0</td>\n",
              "      <td>0.0</td>\n",
              "      <td>0.0</td>\n",
              "      <td>0.0</td>\n",
              "      <td>6</td>\n",
              "      <td>NaN</td>\n",
              "      <td>MAIL</td>\n",
              "      <td>NaN</td>\n",
              "      <td>NaN</td>\n",
              "      <td>NaN</td>\n",
              "      <td>N</td>\n",
              "      <td>NaN</td>\n",
              "      <td>NaN</td>\n",
              "      <td>NaN</td>\n",
              "      <td>NaN</td>\n",
              "      <td>NaN</td>\n",
              "      <td>NaN</td>\n",
              "      <td>NaN</td>\n",
              "      <td>NaN</td>\n",
              "      <td>...</td>\n",
              "      <td>NaN</td>\n",
              "      <td>NaN</td>\n",
              "      <td>MR</td>\n",
              "      <td>1950-01-01 00:00:00</td>\n",
              "      <td>N</td>\n",
              "      <td>M</td>\n",
              "      <td>R</td>\n",
              "      <td>N</td>\n",
              "      <td>NaN</td>\n",
              "      <td>NaN</td>\n",
              "      <td>NG</td>\n",
              "      <td>NaN</td>\n",
              "      <td>NaN</td>\n",
              "      <td>NaN</td>\n",
              "      <td>NaN</td>\n",
              "      <td>NaN</td>\n",
              "      <td>NaN</td>\n",
              "      <td>NaN</td>\n",
              "      <td>S</td>\n",
              "      <td>NaN</td>\n",
              "      <td>NaN</td>\n",
              "      <td>0.0</td>\n",
              "      <td>0.0</td>\n",
              "      <td>NaN</td>\n",
              "      <td>NaN</td>\n",
              "      <td>NaN</td>\n",
              "      <td>NaN</td>\n",
              "      <td>NaN</td>\n",
              "      <td>NaN</td>\n",
              "      <td>NaN</td>\n",
              "      <td>NaN</td>\n",
              "      <td>NaN</td>\n",
              "      <td>NaN</td>\n",
              "      <td>NaN</td>\n",
              "      <td>NaN</td>\n",
              "      <td>NaN</td>\n",
              "      <td>NaN</td>\n",
              "      <td>NaN</td>\n",
              "      <td>NaN</td>\n",
              "      <td>NaN</td>\n",
              "    </tr>\n",
              "    <tr>\n",
              "      <th>2</th>\n",
              "      <td>69090004</td>\n",
              "      <td>I</td>\n",
              "      <td>Lagos State</td>\n",
              "      <td>,  VICTORIA ISLAND</td>\n",
              "      <td>NG</td>\n",
              "      <td>NG</td>\n",
              "      <td>ENG</td>\n",
              "      <td>NG</td>\n",
              "      <td>14</td>\n",
              "      <td>N</td>\n",
              "      <td>N</td>\n",
              "      <td>N</td>\n",
              "      <td>IND</td>\n",
              "      <td>NaN</td>\n",
              "      <td>0.0</td>\n",
              "      <td>0.0</td>\n",
              "      <td>0.0</td>\n",
              "      <td>NaN</td>\n",
              "      <td>NGN</td>\n",
              "      <td>NaN</td>\n",
              "      <td>FCUBSPAR</td>\n",
              "      <td>0.0</td>\n",
              "      <td>0.0</td>\n",
              "      <td>0.0</td>\n",
              "      <td>0.0</td>\n",
              "      <td>14</td>\n",
              "      <td>NaN</td>\n",
              "      <td>MAIL</td>\n",
              "      <td>NaN</td>\n",
              "      <td>NaN</td>\n",
              "      <td>NaN</td>\n",
              "      <td>N</td>\n",
              "      <td>NaN</td>\n",
              "      <td>NaN</td>\n",
              "      <td>NaN</td>\n",
              "      <td>NaN</td>\n",
              "      <td>NaN</td>\n",
              "      <td>NaN</td>\n",
              "      <td>NaN</td>\n",
              "      <td>NaN</td>\n",
              "      <td>...</td>\n",
              "      <td>234</td>\n",
              "      <td>N</td>\n",
              "      <td>Ms.</td>\n",
              "      <td>1970-04-10 00:00:00</td>\n",
              "      <td>N</td>\n",
              "      <td>F</td>\n",
              "      <td>R</td>\n",
              "      <td>N</td>\n",
              "      <td>E</td>\n",
              "      <td>NaN</td>\n",
              "      <td>NG</td>\n",
              "      <td>N</td>\n",
              "      <td>N</td>\n",
              "      <td>NaN</td>\n",
              "      <td>NaN</td>\n",
              "      <td>0.0</td>\n",
              "      <td>NaN</td>\n",
              "      <td>NaN</td>\n",
              "      <td>M</td>\n",
              "      <td>NaN</td>\n",
              "      <td>NaN</td>\n",
              "      <td>0.0</td>\n",
              "      <td>0.0</td>\n",
              "      <td>NaN</td>\n",
              "      <td>NaN</td>\n",
              "      <td>NaN</td>\n",
              "      <td>NaN</td>\n",
              "      <td>NaN</td>\n",
              "      <td>NaN</td>\n",
              "      <td>NaN</td>\n",
              "      <td>NaN</td>\n",
              "      <td>NaN</td>\n",
              "      <td>NaN</td>\n",
              "      <td>NaN</td>\n",
              "      <td>NaN</td>\n",
              "      <td>NaN</td>\n",
              "      <td>NaN</td>\n",
              "      <td>NaN</td>\n",
              "      <td>NaN</td>\n",
              "      <td>NaN</td>\n",
              "    </tr>\n",
              "    <tr>\n",
              "      <th>3</th>\n",
              "      <td>81010006</td>\n",
              "      <td>I</td>\n",
              "      <td>SHAGAMU ROADIKORODU</td>\n",
              "      <td>LAGOS</td>\n",
              "      <td>NG</td>\n",
              "      <td>NG</td>\n",
              "      <td>ENG</td>\n",
              "      <td>NG</td>\n",
              "      <td>6</td>\n",
              "      <td>N</td>\n",
              "      <td>N</td>\n",
              "      <td>N</td>\n",
              "      <td>IND</td>\n",
              "      <td>NaN</td>\n",
              "      <td>0.0</td>\n",
              "      <td>0.0</td>\n",
              "      <td>0.0</td>\n",
              "      <td>NaN</td>\n",
              "      <td>NGN</td>\n",
              "      <td>NaN</td>\n",
              "      <td>FCUBSPAR</td>\n",
              "      <td>0.0</td>\n",
              "      <td>0.0</td>\n",
              "      <td>0.0</td>\n",
              "      <td>0.0</td>\n",
              "      <td>6</td>\n",
              "      <td>NaN</td>\n",
              "      <td>MAIL</td>\n",
              "      <td>NaN</td>\n",
              "      <td>NaN</td>\n",
              "      <td>NaN</td>\n",
              "      <td>N</td>\n",
              "      <td>NaN</td>\n",
              "      <td>NaN</td>\n",
              "      <td>NaN</td>\n",
              "      <td>NaN</td>\n",
              "      <td>NaN</td>\n",
              "      <td>NaN</td>\n",
              "      <td>NaN</td>\n",
              "      <td>NaN</td>\n",
              "      <td>...</td>\n",
              "      <td>234</td>\n",
              "      <td>NaN</td>\n",
              "      <td>MR</td>\n",
              "      <td>1967-04-26 00:00:00</td>\n",
              "      <td>N</td>\n",
              "      <td>M</td>\n",
              "      <td>R</td>\n",
              "      <td>N</td>\n",
              "      <td>NaN</td>\n",
              "      <td>NaN</td>\n",
              "      <td>NG</td>\n",
              "      <td>NaN</td>\n",
              "      <td>NaN</td>\n",
              "      <td>NaN</td>\n",
              "      <td>NaN</td>\n",
              "      <td>NaN</td>\n",
              "      <td>NaN</td>\n",
              "      <td>NaN</td>\n",
              "      <td>M</td>\n",
              "      <td>NaN</td>\n",
              "      <td>NaN</td>\n",
              "      <td>0.0</td>\n",
              "      <td>0.0</td>\n",
              "      <td>NaN</td>\n",
              "      <td>NaN</td>\n",
              "      <td>NaN</td>\n",
              "      <td>NaN</td>\n",
              "      <td>NaN</td>\n",
              "      <td>NaN</td>\n",
              "      <td>NaN</td>\n",
              "      <td>NaN</td>\n",
              "      <td>NaN</td>\n",
              "      <td>NaN</td>\n",
              "      <td>NaN</td>\n",
              "      <td>NaN</td>\n",
              "      <td>NaN</td>\n",
              "      <td>NaN</td>\n",
              "      <td>NaN</td>\n",
              "      <td>NaN</td>\n",
              "      <td>NaN</td>\n",
              "    </tr>\n",
              "    <tr>\n",
              "      <th>4</th>\n",
              "      <td>71120007</td>\n",
              "      <td>I</td>\n",
              "      <td>SURULERE</td>\n",
              "      <td>LAGOS</td>\n",
              "      <td>NG</td>\n",
              "      <td>NG</td>\n",
              "      <td>ENG</td>\n",
              "      <td>NG</td>\n",
              "      <td>4</td>\n",
              "      <td>N</td>\n",
              "      <td>N</td>\n",
              "      <td>N</td>\n",
              "      <td>IND</td>\n",
              "      <td>NaN</td>\n",
              "      <td>0.0</td>\n",
              "      <td>0.0</td>\n",
              "      <td>0.0</td>\n",
              "      <td>NaN</td>\n",
              "      <td>NGN</td>\n",
              "      <td>NaN</td>\n",
              "      <td>FCUBSPAR</td>\n",
              "      <td>0.0</td>\n",
              "      <td>0.0</td>\n",
              "      <td>0.0</td>\n",
              "      <td>0.0</td>\n",
              "      <td>4</td>\n",
              "      <td>NaN</td>\n",
              "      <td>MAIL</td>\n",
              "      <td>NaN</td>\n",
              "      <td>NaN</td>\n",
              "      <td>NaN</td>\n",
              "      <td>N</td>\n",
              "      <td>NaN</td>\n",
              "      <td>NaN</td>\n",
              "      <td>NaN</td>\n",
              "      <td>NaN</td>\n",
              "      <td>NaN</td>\n",
              "      <td>NaN</td>\n",
              "      <td>NaN</td>\n",
              "      <td>NaN</td>\n",
              "      <td>...</td>\n",
              "      <td>234</td>\n",
              "      <td>N</td>\n",
              "      <td>MR</td>\n",
              "      <td>1965-09-24 00:00:00</td>\n",
              "      <td>N</td>\n",
              "      <td>M</td>\n",
              "      <td>R</td>\n",
              "      <td>N</td>\n",
              "      <td>M</td>\n",
              "      <td>NaN</td>\n",
              "      <td>NG</td>\n",
              "      <td>N</td>\n",
              "      <td>N</td>\n",
              "      <td>NaN</td>\n",
              "      <td>NaN</td>\n",
              "      <td>0.0</td>\n",
              "      <td>NaN</td>\n",
              "      <td>NaN</td>\n",
              "      <td>M</td>\n",
              "      <td>NaN</td>\n",
              "      <td>NaN</td>\n",
              "      <td>0.0</td>\n",
              "      <td>0.0</td>\n",
              "      <td>NaN</td>\n",
              "      <td>NaN</td>\n",
              "      <td>NaN</td>\n",
              "      <td>NaN</td>\n",
              "      <td>NaN</td>\n",
              "      <td>NaN</td>\n",
              "      <td>NaN</td>\n",
              "      <td>NaN</td>\n",
              "      <td>NaN</td>\n",
              "      <td>NaN</td>\n",
              "      <td>NaN</td>\n",
              "      <td>NaN</td>\n",
              "      <td>NaN</td>\n",
              "      <td>NaN</td>\n",
              "      <td>NaN</td>\n",
              "      <td>NaN</td>\n",
              "      <td>NaN</td>\n",
              "    </tr>\n",
              "  </tbody>\n",
              "</table>\n",
              "<p>5 rows × 127 columns</p>\n",
              "</div>"
            ],
            "text/plain": [
              "   CUSTOMER_UNIQUE_ID CUSTOMER_TYPE  ... E_COUNTRY CCY_PERS_INCEXP\n",
              "0            18030000             I  ...       NaN             NaN\n",
              "1            33020001             I  ...       NaN             NaN\n",
              "2            69090004             I  ...       NaN             NaN\n",
              "3            81010006             I  ...       NaN             NaN\n",
              "4            71120007             I  ...       NaN             NaN\n",
              "\n",
              "[5 rows x 127 columns]"
            ]
          },
          "metadata": {
            "tags": []
          },
          "execution_count": 197
        }
      ]
    },
    {
      "cell_type": "code",
      "metadata": {
        "id": "CkDVijrow5EO",
        "colab_type": "code",
        "colab": {}
      },
      "source": [
        "#dealing with line 4\n",
        "all_demographics.ADDRESS_LINE4=all_demographics.ADDRESS_LINE4.str.replace(',\\s*','')\n",
        "all_demographics.ADDRESS_LINE4=all_demographics.ADDRESS_LINE4.str.replace('\\d*','')"
      ],
      "execution_count": 0,
      "outputs": []
    },
    {
      "cell_type": "code",
      "metadata": {
        "id": "oawU2XRCxOs1",
        "colab_type": "code",
        "colab": {}
      },
      "source": [
        "#to csv\n",
        "all_demographics.to_csv('all_demographics2.csv')"
      ],
      "execution_count": 0,
      "outputs": []
    },
    {
      "cell_type": "code",
      "metadata": {
        "id": "aSkyGr0HxXLR",
        "colab_type": "code",
        "outputId": "53ca2431-5e88-4538-c865-b2db86267556",
        "colab": {
          "base_uri": "https://localhost:8080/",
          "height": 1000
        }
      },
      "source": [
        "all_demographics.ADDRESS_LINE4.value_counts().to_dict()"
      ],
      "execution_count": 200,
      "outputs": [
        {
          "output_type": "execute_result",
          "data": {
            "text/plain": [
              "{'': 2695,\n",
              " ' ': 26,\n",
              " ' ABUJA': 1,\n",
              " ' IJEGUN LAGOS': 1,\n",
              " ' LAGOS': 2,\n",
              " ' OFF POWER ENCOUNTER ROADPHC.': 1,\n",
              " ' OGUN STATE': 1,\n",
              " ' VICTORIA ISLAND': 1,\n",
              " ' ZAMFARA STATE': 1,\n",
              " '(COLLECT BY HAND)': 1,\n",
              " '(H)': 3,\n",
              " '(HOLD ALL CORRESPONDENCES)': 1,\n",
              " '(HOLD)': 2,\n",
              " '(SEND)': 2,\n",
              " '(TO BE COLLECTED)': 3,\n",
              " '.': 2,\n",
              " 'ABA': 1,\n",
              " 'ABA                 ': 2,\n",
              " 'ABAI': 1,\n",
              " 'ABAKALIKI ': 1,\n",
              " 'ABANDAN': 1,\n",
              " 'ABARANJE ROADIKOTUN.IKOTUN': 1,\n",
              " 'ABEOKUTA': 1,\n",
              " 'ABEOKUTA CLSE AREA  A GARKI': 1,\n",
              " 'ABEOKUTA.': 1,\n",
              " 'ABIA': 86,\n",
              " 'ABUJA': 52,\n",
              " 'ABUJA ': 1,\n",
              " 'ABUJA FCT': 1,\n",
              " 'ABUJA.': 4,\n",
              " 'AC/O-ONYEMA/UGO': 1,\n",
              " 'ADAMAWA': 58,\n",
              " 'ADAMAWA.': 1,\n",
              " 'ADO EKITI': 2,\n",
              " 'AGBARA': 1,\n",
              " 'AGO-OKOTALAGOS.': 1,\n",
              " 'AJAH LAGOS': 1,\n",
              " 'AKOKO EDO': 1,\n",
              " 'AKOWONJO LAGOS': 1,\n",
              " 'AKURE': 1,\n",
              " 'AKUTE': 1,\n",
              " 'AKUTEOGUN STATE.': 1,\n",
              " 'AKWA  IBOM': 1,\n",
              " 'AKWA IBOM': 119,\n",
              " 'AKWA IBOM STATE': 2,\n",
              " 'AKWA IBOM STATE.': 1,\n",
              " 'AKWA UBIM': 1,\n",
              " 'AKWA-IBOM': 4,\n",
              " 'AKWANGA ': 1,\n",
              " 'ALAKIAIBADAN': 1,\n",
              " 'ALLEN': 1,\n",
              " 'ANAMBRA': 90,\n",
              " 'ANAMBRA STATE.': 1,\n",
              " 'ANAMBRA.': 1,\n",
              " 'APAPA': 1,\n",
              " 'APAPAAPAPA': 1,\n",
              " 'ASABA': 1,\n",
              " 'ASO PADAMARARABA': 1,\n",
              " 'ASOKOROABUJA': 1,\n",
              " 'AUCHI': 1,\n",
              " 'AUCHI ': 1,\n",
              " 'AWKA': 1,\n",
              " 'Aba ': 1,\n",
              " 'Abuja': 2,\n",
              " 'B': 1,\n",
              " 'B CLOSEFLAT P.HARCOURT.': 1,\n",
              " 'BADORE LAGOS': 1,\n",
              " 'BANK': 1,\n",
              " 'BAUCHI': 79,\n",
              " 'BAYELSA': 62,\n",
              " 'BENIN': 2,\n",
              " 'BENIN.': 3,\n",
              " 'BENUE': 166,\n",
              " 'BENUE STATE': 1,\n",
              " 'BORNO': 95,\n",
              " 'BORNO STATE': 1,\n",
              " 'BORNO.': 4,\n",
              " 'BORNP': 1,\n",
              " 'BRASS': 2,\n",
              " 'CALABAR': 2,\n",
              " 'CBD ALAUSA IKEJA LAGOS': 1,\n",
              " 'COMPOUND ADAVI LGA': 1,\n",
              " 'CROISS RIVER': 1,\n",
              " 'CROSS RIVER': 94,\n",
              " 'CROSS RIVER STATE': 1,\n",
              " 'CRS': 1,\n",
              " 'D LINE': 1,\n",
              " 'DELTA': 164,\n",
              " 'DELTA.': 2,\n",
              " 'DEPT OF PROD. TECHNOLOGY': 1,\n",
              " 'DOLPHIN ESTATEIKOYI LAGOS': 1,\n",
              " 'DUTSE': 1,\n",
              " 'EBONYI': 28,\n",
              " 'EDO': 203,\n",
              " 'EDO STATE': 2,\n",
              " 'EGBEDA': 1,\n",
              " 'EGBEDA LAGOS': 1,\n",
              " 'EGBEDA.': 1,\n",
              " 'EKITI': 111,\n",
              " 'ELEWURA CHALLENGE': 1,\n",
              " 'ENUGU': 101,\n",
              " 'ENUGU STATE.': 1,\n",
              " 'F C T': 4,\n",
              " 'F.C.T': 109,\n",
              " 'F.C.T.': 16,\n",
              " 'FCT': 746,\n",
              " 'FCT ABUJA': 44,\n",
              " 'FCT.': 15,\n",
              " 'FEDERAL CAPITAL': 1,\n",
              " 'FEDPOLY OKO': 2,\n",
              " 'GOMBE': 188,\n",
              " 'GOMBE.': 5,\n",
              " 'IBADAN': 6,\n",
              " 'IBADAN OYO STATE': 1,\n",
              " 'IBADAN.': 2,\n",
              " 'IBADANOYO': 1,\n",
              " 'IDEJOVICTORIAISLAND': 17,\n",
              " 'IFAKO IJAIYE': 1,\n",
              " 'IFELODUN': 1,\n",
              " 'IGBO-EFONLEKKI': 1,\n",
              " 'IJANIKINOJO': 1,\n",
              " 'IKEJA': 5,\n",
              " 'IKERE': 2,\n",
              " 'IKORODU': 1,\n",
              " 'IKOTUN': 1,\n",
              " 'IKOTUN.': 1,\n",
              " 'IKOYI': 1,\n",
              " 'ILARO': 1,\n",
              " 'ILARO.': 2,\n",
              " 'ILORIN': 2,\n",
              " 'IMO': 59,\n",
              " 'IMO STATE': 1,\n",
              " 'IMO STATE.': 3,\n",
              " 'IMO.': 1,\n",
              " 'ISIALA MBANO': 1,\n",
              " 'ISOLO': 1,\n",
              " 'JIGAWA': 84,\n",
              " 'JIKWOYIABUJA': 1,\n",
              " 'JOS': 4,\n",
              " 'Jigawa': 1,\n",
              " 'KADUNA': 326,\n",
              " 'KADUNA ': 1,\n",
              " 'KANO': 212,\n",
              " 'KANO.': 4,\n",
              " 'KASTINA STATE': 1,\n",
              " 'KATINA': 1,\n",
              " 'KATSINA': 189,\n",
              " 'KAZAURE': 1,\n",
              " 'KEBBI': 54,\n",
              " 'KEBBI STATE': 1,\n",
              " 'KEBBI.': 1,\n",
              " 'KEEBI': 1,\n",
              " 'KING PEREKUNLE ROADPORT-HAR': 1,\n",
              " 'KOGI': 717,\n",
              " 'KOGI STATE': 2,\n",
              " 'KOGI.': 1,\n",
              " 'KOJI': 1,\n",
              " 'KOSOFE': 1,\n",
              " 'KWARA': 92,\n",
              " 'LAFIA': 1,\n",
              " 'LAGOA': 2,\n",
              " 'LAGOS': 4941,\n",
              " 'LAGOS STATE': 5,\n",
              " 'LAGOS.': 33,\n",
              " 'LAGOS..': 1,\n",
              " 'LAGSO': 1,\n",
              " 'LEKKI': 1,\n",
              " 'LGA  ABDULRAIM O OMEIZA RESIDENCE': 1,\n",
              " 'Lagos': 21,\n",
              " 'Lagos State': 1,\n",
              " 'MAFOLUKU': 1,\n",
              " 'MAGODOIOSI ISHERI': 1,\n",
              " 'MAIDUGURI': 1,\n",
              " 'MAKURDI': 2,\n",
              " 'MINNA': 2,\n",
              " 'MODAKEKE': 1,\n",
              " 'MUSHIN': 1,\n",
              " 'MUSHINLAGOS': 1,\n",
              " 'NASARAWA': 94,\n",
              " 'NASSARAWA': 6,\n",
              " 'NEAR JABI PRIMARY SCH ': 1,\n",
              " 'NEW TOWNBADAGRY': 1,\n",
              " 'NG': 2,\n",
              " 'NIGER': 169,\n",
              " 'NIGER STATE': 1,\n",
              " 'NIGER.': 1,\n",
              " 'NIGERIA': 5,\n",
              " 'NIL': 6,\n",
              " 'NO': 1,\n",
              " 'Nasarawa': 1,\n",
              " 'ODOKEKERE': 1,\n",
              " 'OFF LADIPO ROADMATORI IND.SCLAGOS': 1,\n",
              " 'OFF SAMUEL MANUWA STREET': 1,\n",
              " 'OGBOMOSO.': 1,\n",
              " 'OGUN': 578,\n",
              " 'OGUN ': 1,\n",
              " 'OGUN  STATE.': 2,\n",
              " 'OGUN STATE': 4,\n",
              " 'OGUN.': 7,\n",
              " 'OJOO LAGOS': 1,\n",
              " 'OND.O': 1,\n",
              " 'ONDO': 132,\n",
              " 'ONDO STATE': 2,\n",
              " 'ONDO.': 1,\n",
              " 'ORLUIMO': 1,\n",
              " 'OSHODI': 1,\n",
              " 'OSUN': 117,\n",
              " 'OSUN STATE': 2,\n",
              " 'OSUN.': 2,\n",
              " 'OTA': 1,\n",
              " 'OWERRI': 1,\n",
              " 'OWERRI WEST': 1,\n",
              " 'OWERRI WEST L.G.A.': 1,\n",
              " 'OWERRIIMO STATE.': 2,\n",
              " 'OY': 2,\n",
              " 'OYO': 580,\n",
              " 'OYO BOLUWAJIIBADAN': 1,\n",
              " 'OYO STATE': 3,\n",
              " 'OYO STATE.': 2,\n",
              " 'OYO-STATE.': 2,\n",
              " 'OYO.': 6,\n",
              " 'Ondo': 1,\n",
              " 'Oyo': 5,\n",
              " 'P.O BOX  ADETOKUNBO': 1,\n",
              " 'P.O.BOX': 1,\n",
              " 'PH': 1,\n",
              " 'PLATEAU': 88,\n",
              " 'PLATEAU  (BY HAND)': 1,\n",
              " 'PLATEAU STATE': 1,\n",
              " 'PORT HARCOURT': 7,\n",
              " 'PORT HARCOURT.': 1,\n",
              " 'PORT-HACOURT': 1,\n",
              " 'PORTHACOURT': 1,\n",
              " 'PORTHARCOURT': 1,\n",
              " 'POST': 1,\n",
              " 'Plateau': 1,\n",
              " 'RDO': 1,\n",
              " 'RIVER': 6,\n",
              " 'RIVERS': 780,\n",
              " 'RIVERS STATE': 6,\n",
              " 'RIVERS STATE.': 2,\n",
              " 'RIVERSE': 1,\n",
              " 'RIVES': 1,\n",
              " 'RIVRES': 1,\n",
              " 'Rivers': 12,\n",
              " 'SABO SAGAMU': 1,\n",
              " 'SANGO': 1,\n",
              " 'SAPELEDELTA STATE': 1,\n",
              " 'SEND': 2,\n",
              " 'SHAGAMU': 1,\n",
              " 'SHOMOLULAGOS': 1,\n",
              " 'SO': 1,\n",
              " 'SOKOTO': 125,\n",
              " 'SOKOTO ': 1,\n",
              " 'SOKOTO SOUTH': 1,\n",
              " 'STATE': 1,\n",
              " 'STATE.': 2,\n",
              " 'STMT-SEND': 1,\n",
              " 'SULEJA': 1,\n",
              " 'SURULERELAGOS': 1,\n",
              " 'TARABA': 24,\n",
              " 'TRANS AMADI': 2,\n",
              " 'UMUAHIA': 2,\n",
              " 'UMUODA': 1,\n",
              " 'UNIZIK': 1,\n",
              " 'UYO': 1,\n",
              " 'VICTORIA ISLAND': 4,\n",
              " 'VICTORIA ISLANDLAGOS': 2,\n",
              " 'WARRIDELTA': 1,\n",
              " 'YABA': 1,\n",
              " 'YOBE': 26,\n",
              " 'YOBE.(DELIVER BY HAND)': 1,\n",
              " 'YOBE.(H)': 2,\n",
              " 'Yobe': 1,\n",
              " 'ZAMAFARA': 1,\n",
              " 'ZAMFARA': 65,\n",
              " '`': 1,\n",
              " 'fct': 1,\n",
              " 'katsina': 1,\n",
              " 'ogun': 1,\n",
              " 'rivers': 2,\n",
              " 'stmt-hold': 1}"
            ]
          },
          "metadata": {
            "tags": []
          },
          "execution_count": 200
        }
      ]
    },
    {
      "cell_type": "code",
      "metadata": {
        "id": "m5arv1EJxgt4",
        "colab_type": "code",
        "outputId": "364a1fc3-c7bd-45fa-b51c-0280ac668e84",
        "colab": {
          "base_uri": "https://localhost:8080/",
          "height": 338
        }
      },
      "source": [
        "all_demographics.head()"
      ],
      "execution_count": 201,
      "outputs": [
        {
          "output_type": "execute_result",
          "data": {
            "text/html": [
              "<div>\n",
              "<style scoped>\n",
              "    .dataframe tbody tr th:only-of-type {\n",
              "        vertical-align: middle;\n",
              "    }\n",
              "\n",
              "    .dataframe tbody tr th {\n",
              "        vertical-align: top;\n",
              "    }\n",
              "\n",
              "    .dataframe thead th {\n",
              "        text-align: right;\n",
              "    }\n",
              "</style>\n",
              "<table border=\"1\" class=\"dataframe\">\n",
              "  <thead>\n",
              "    <tr style=\"text-align: right;\">\n",
              "      <th></th>\n",
              "      <th>CUSTOMER_UNIQUE_ID</th>\n",
              "      <th>CUSTOMER_TYPE</th>\n",
              "      <th>ADDRESS_LINE3</th>\n",
              "      <th>ADDRESS_LINE4</th>\n",
              "      <th>COUNTRY</th>\n",
              "      <th>NATIONALITY</th>\n",
              "      <th>LANGUAGE</th>\n",
              "      <th>EXPOSURE_COUNTRY</th>\n",
              "      <th>LOCAL_BRANCH</th>\n",
              "      <th>FROZEN</th>\n",
              "      <th>DECEASED</th>\n",
              "      <th>WHEREABOUTS_UNKNOWN</th>\n",
              "      <th>CUSTOMER_CATEGORY</th>\n",
              "      <th>HO_AC_NO</th>\n",
              "      <th>FX_CUST_CLEAN_RISK_LIMIT</th>\n",
              "      <th>OVERALL_LIMIT</th>\n",
              "      <th>FX_CLEAN_RISK_LIMIT</th>\n",
              "      <th>CREDIT_RATING</th>\n",
              "      <th>LIMIT_CCY</th>\n",
              "      <th>CAS_CUST</th>\n",
              "      <th>LIAB_NODE</th>\n",
              "      <th>SEC_CUST_CLEAN_RISK_LIMIT</th>\n",
              "      <th>SEC_CLEAN_RISK_LIMIT</th>\n",
              "      <th>SEC_CUST_PSTL_RISK_LIMIT</th>\n",
              "      <th>SEC_PSTL_RISK_LIMIT</th>\n",
              "      <th>LIAB_BR</th>\n",
              "      <th>PAST_DUE_FLAG</th>\n",
              "      <th>DEFAULT_MEDIA</th>\n",
              "      <th>SSN</th>\n",
              "      <th>SWIFT_CODE</th>\n",
              "      <th>LOC_CODE</th>\n",
              "      <th>UTILITY_PROVIDER</th>\n",
              "      <th>UTILITY_PROVIDER_ID</th>\n",
              "      <th>RISK_PROFILE</th>\n",
              "      <th>DEBTOR_CATEGORY</th>\n",
              "      <th>UDF_1</th>\n",
              "      <th>UDF_2</th>\n",
              "      <th>UDF_3</th>\n",
              "      <th>UDF_4</th>\n",
              "      <th>UDF_5</th>\n",
              "      <th>...</th>\n",
              "      <th>PINCODE</th>\n",
              "      <th>MFI_CUSTOMER</th>\n",
              "      <th>CUSTOMER_PREFIX</th>\n",
              "      <th>DATE_OF_BIRTH</th>\n",
              "      <th>MINOR</th>\n",
              "      <th>SEX</th>\n",
              "      <th>RESIDENT_STATUS</th>\n",
              "      <th>AGE_PROOF_SUBMITTED</th>\n",
              "      <th>CUST_COMM_MODE</th>\n",
              "      <th>PLACE_OF_BIRTH</th>\n",
              "      <th>BIRTH_COUNTRY</th>\n",
              "      <th>US_RES_STATUS</th>\n",
              "      <th>VST_US_PREV</th>\n",
              "      <th>P_PINCODE</th>\n",
              "      <th>PREF_CONTACT_DT</th>\n",
              "      <th>PREF_CONTACT_TIME</th>\n",
              "      <th>D_PINCODE</th>\n",
              "      <th>EDUCATIONAL_STATUS</th>\n",
              "      <th>MARITAL_STATUS</th>\n",
              "      <th>SPOUSE_NAME</th>\n",
              "      <th>SPOUSE_EMP_STATUS</th>\n",
              "      <th>DEPENDENT_CHILDREN</th>\n",
              "      <th>DEPENDENT_OTHERS</th>\n",
              "      <th>ACCOMODATION</th>\n",
              "      <th>EMPLOYMENT_STATUS</th>\n",
              "      <th>EMPLOYMENT_TENURE</th>\n",
              "      <th>RETIREMENT_AGE</th>\n",
              "      <th>PREV_DESIGNATION</th>\n",
              "      <th>PREV_EMPLOYER</th>\n",
              "      <th>DESIGNATION</th>\n",
              "      <th>SALARY</th>\n",
              "      <th>OTHER_INCOME</th>\n",
              "      <th>RENT</th>\n",
              "      <th>INSURANCE</th>\n",
              "      <th>LOAN_PAYMENT</th>\n",
              "      <th>OTHER_EXPENSES</th>\n",
              "      <th>HOUSE_VALUE</th>\n",
              "      <th>CREDIT_CARDS</th>\n",
              "      <th>E_COUNTRY</th>\n",
              "      <th>CCY_PERS_INCEXP</th>\n",
              "    </tr>\n",
              "  </thead>\n",
              "  <tbody>\n",
              "    <tr>\n",
              "      <th>0</th>\n",
              "      <td>18030000</td>\n",
              "      <td>I</td>\n",
              "      <td>IKOYI</td>\n",
              "      <td>LAGOS</td>\n",
              "      <td>NG</td>\n",
              "      <td>NG</td>\n",
              "      <td>ENG</td>\n",
              "      <td>NG</td>\n",
              "      <td>3</td>\n",
              "      <td>N</td>\n",
              "      <td>N</td>\n",
              "      <td>N</td>\n",
              "      <td>IND</td>\n",
              "      <td>NaN</td>\n",
              "      <td>0.0</td>\n",
              "      <td>0.0</td>\n",
              "      <td>0.0</td>\n",
              "      <td>NaN</td>\n",
              "      <td>NGN</td>\n",
              "      <td>NaN</td>\n",
              "      <td>FCUBSPAR</td>\n",
              "      <td>0.0</td>\n",
              "      <td>0.0</td>\n",
              "      <td>0.0</td>\n",
              "      <td>0.0</td>\n",
              "      <td>3</td>\n",
              "      <td>NaN</td>\n",
              "      <td>MAIL</td>\n",
              "      <td>NaN</td>\n",
              "      <td>NaN</td>\n",
              "      <td>NaN</td>\n",
              "      <td>N</td>\n",
              "      <td>NaN</td>\n",
              "      <td>NaN</td>\n",
              "      <td>NaN</td>\n",
              "      <td>NaN</td>\n",
              "      <td>NaN</td>\n",
              "      <td>NaN</td>\n",
              "      <td>NaN</td>\n",
              "      <td>NaN</td>\n",
              "      <td>...</td>\n",
              "      <td>23401</td>\n",
              "      <td>N</td>\n",
              "      <td>MR</td>\n",
              "      <td>1966-08-15 00:00:00</td>\n",
              "      <td>N</td>\n",
              "      <td>M</td>\n",
              "      <td>R</td>\n",
              "      <td>N</td>\n",
              "      <td>E</td>\n",
              "      <td>NaN</td>\n",
              "      <td>NG</td>\n",
              "      <td>N</td>\n",
              "      <td>N</td>\n",
              "      <td>NaN</td>\n",
              "      <td>NaN</td>\n",
              "      <td>0.0</td>\n",
              "      <td>NaN</td>\n",
              "      <td>NaN</td>\n",
              "      <td>M</td>\n",
              "      <td>NaN</td>\n",
              "      <td>NaN</td>\n",
              "      <td>0.0</td>\n",
              "      <td>0.0</td>\n",
              "      <td>NaN</td>\n",
              "      <td>NaN</td>\n",
              "      <td>NaN</td>\n",
              "      <td>NaN</td>\n",
              "      <td>NaN</td>\n",
              "      <td>NaN</td>\n",
              "      <td>NaN</td>\n",
              "      <td>NaN</td>\n",
              "      <td>NaN</td>\n",
              "      <td>NaN</td>\n",
              "      <td>NaN</td>\n",
              "      <td>NaN</td>\n",
              "      <td>NaN</td>\n",
              "      <td>NaN</td>\n",
              "      <td>NaN</td>\n",
              "      <td>NaN</td>\n",
              "      <td>NaN</td>\n",
              "    </tr>\n",
              "    <tr>\n",
              "      <th>1</th>\n",
              "      <td>33020001</td>\n",
              "      <td>I</td>\n",
              "      <td>IKORODU</td>\n",
              "      <td>LAGOS</td>\n",
              "      <td>NG</td>\n",
              "      <td>NG</td>\n",
              "      <td>ENG</td>\n",
              "      <td>NG</td>\n",
              "      <td>6</td>\n",
              "      <td>N</td>\n",
              "      <td>N</td>\n",
              "      <td>N</td>\n",
              "      <td>IND</td>\n",
              "      <td>NaN</td>\n",
              "      <td>0.0</td>\n",
              "      <td>0.0</td>\n",
              "      <td>0.0</td>\n",
              "      <td>NaN</td>\n",
              "      <td>NGN</td>\n",
              "      <td>NaN</td>\n",
              "      <td>FCUBSPAR</td>\n",
              "      <td>0.0</td>\n",
              "      <td>0.0</td>\n",
              "      <td>0.0</td>\n",
              "      <td>0.0</td>\n",
              "      <td>6</td>\n",
              "      <td>NaN</td>\n",
              "      <td>MAIL</td>\n",
              "      <td>NaN</td>\n",
              "      <td>NaN</td>\n",
              "      <td>NaN</td>\n",
              "      <td>N</td>\n",
              "      <td>NaN</td>\n",
              "      <td>NaN</td>\n",
              "      <td>NaN</td>\n",
              "      <td>NaN</td>\n",
              "      <td>NaN</td>\n",
              "      <td>NaN</td>\n",
              "      <td>NaN</td>\n",
              "      <td>NaN</td>\n",
              "      <td>...</td>\n",
              "      <td>NaN</td>\n",
              "      <td>NaN</td>\n",
              "      <td>MR</td>\n",
              "      <td>1950-01-01 00:00:00</td>\n",
              "      <td>N</td>\n",
              "      <td>M</td>\n",
              "      <td>R</td>\n",
              "      <td>N</td>\n",
              "      <td>NaN</td>\n",
              "      <td>NaN</td>\n",
              "      <td>NG</td>\n",
              "      <td>NaN</td>\n",
              "      <td>NaN</td>\n",
              "      <td>NaN</td>\n",
              "      <td>NaN</td>\n",
              "      <td>NaN</td>\n",
              "      <td>NaN</td>\n",
              "      <td>NaN</td>\n",
              "      <td>S</td>\n",
              "      <td>NaN</td>\n",
              "      <td>NaN</td>\n",
              "      <td>0.0</td>\n",
              "      <td>0.0</td>\n",
              "      <td>NaN</td>\n",
              "      <td>NaN</td>\n",
              "      <td>NaN</td>\n",
              "      <td>NaN</td>\n",
              "      <td>NaN</td>\n",
              "      <td>NaN</td>\n",
              "      <td>NaN</td>\n",
              "      <td>NaN</td>\n",
              "      <td>NaN</td>\n",
              "      <td>NaN</td>\n",
              "      <td>NaN</td>\n",
              "      <td>NaN</td>\n",
              "      <td>NaN</td>\n",
              "      <td>NaN</td>\n",
              "      <td>NaN</td>\n",
              "      <td>NaN</td>\n",
              "      <td>NaN</td>\n",
              "    </tr>\n",
              "    <tr>\n",
              "      <th>2</th>\n",
              "      <td>69090004</td>\n",
              "      <td>I</td>\n",
              "      <td>Lagos State</td>\n",
              "      <td>VICTORIA ISLAND</td>\n",
              "      <td>NG</td>\n",
              "      <td>NG</td>\n",
              "      <td>ENG</td>\n",
              "      <td>NG</td>\n",
              "      <td>14</td>\n",
              "      <td>N</td>\n",
              "      <td>N</td>\n",
              "      <td>N</td>\n",
              "      <td>IND</td>\n",
              "      <td>NaN</td>\n",
              "      <td>0.0</td>\n",
              "      <td>0.0</td>\n",
              "      <td>0.0</td>\n",
              "      <td>NaN</td>\n",
              "      <td>NGN</td>\n",
              "      <td>NaN</td>\n",
              "      <td>FCUBSPAR</td>\n",
              "      <td>0.0</td>\n",
              "      <td>0.0</td>\n",
              "      <td>0.0</td>\n",
              "      <td>0.0</td>\n",
              "      <td>14</td>\n",
              "      <td>NaN</td>\n",
              "      <td>MAIL</td>\n",
              "      <td>NaN</td>\n",
              "      <td>NaN</td>\n",
              "      <td>NaN</td>\n",
              "      <td>N</td>\n",
              "      <td>NaN</td>\n",
              "      <td>NaN</td>\n",
              "      <td>NaN</td>\n",
              "      <td>NaN</td>\n",
              "      <td>NaN</td>\n",
              "      <td>NaN</td>\n",
              "      <td>NaN</td>\n",
              "      <td>NaN</td>\n",
              "      <td>...</td>\n",
              "      <td>234</td>\n",
              "      <td>N</td>\n",
              "      <td>Ms.</td>\n",
              "      <td>1970-04-10 00:00:00</td>\n",
              "      <td>N</td>\n",
              "      <td>F</td>\n",
              "      <td>R</td>\n",
              "      <td>N</td>\n",
              "      <td>E</td>\n",
              "      <td>NaN</td>\n",
              "      <td>NG</td>\n",
              "      <td>N</td>\n",
              "      <td>N</td>\n",
              "      <td>NaN</td>\n",
              "      <td>NaN</td>\n",
              "      <td>0.0</td>\n",
              "      <td>NaN</td>\n",
              "      <td>NaN</td>\n",
              "      <td>M</td>\n",
              "      <td>NaN</td>\n",
              "      <td>NaN</td>\n",
              "      <td>0.0</td>\n",
              "      <td>0.0</td>\n",
              "      <td>NaN</td>\n",
              "      <td>NaN</td>\n",
              "      <td>NaN</td>\n",
              "      <td>NaN</td>\n",
              "      <td>NaN</td>\n",
              "      <td>NaN</td>\n",
              "      <td>NaN</td>\n",
              "      <td>NaN</td>\n",
              "      <td>NaN</td>\n",
              "      <td>NaN</td>\n",
              "      <td>NaN</td>\n",
              "      <td>NaN</td>\n",
              "      <td>NaN</td>\n",
              "      <td>NaN</td>\n",
              "      <td>NaN</td>\n",
              "      <td>NaN</td>\n",
              "      <td>NaN</td>\n",
              "    </tr>\n",
              "    <tr>\n",
              "      <th>3</th>\n",
              "      <td>81010006</td>\n",
              "      <td>I</td>\n",
              "      <td>SHAGAMU ROADIKORODU</td>\n",
              "      <td>LAGOS</td>\n",
              "      <td>NG</td>\n",
              "      <td>NG</td>\n",
              "      <td>ENG</td>\n",
              "      <td>NG</td>\n",
              "      <td>6</td>\n",
              "      <td>N</td>\n",
              "      <td>N</td>\n",
              "      <td>N</td>\n",
              "      <td>IND</td>\n",
              "      <td>NaN</td>\n",
              "      <td>0.0</td>\n",
              "      <td>0.0</td>\n",
              "      <td>0.0</td>\n",
              "      <td>NaN</td>\n",
              "      <td>NGN</td>\n",
              "      <td>NaN</td>\n",
              "      <td>FCUBSPAR</td>\n",
              "      <td>0.0</td>\n",
              "      <td>0.0</td>\n",
              "      <td>0.0</td>\n",
              "      <td>0.0</td>\n",
              "      <td>6</td>\n",
              "      <td>NaN</td>\n",
              "      <td>MAIL</td>\n",
              "      <td>NaN</td>\n",
              "      <td>NaN</td>\n",
              "      <td>NaN</td>\n",
              "      <td>N</td>\n",
              "      <td>NaN</td>\n",
              "      <td>NaN</td>\n",
              "      <td>NaN</td>\n",
              "      <td>NaN</td>\n",
              "      <td>NaN</td>\n",
              "      <td>NaN</td>\n",
              "      <td>NaN</td>\n",
              "      <td>NaN</td>\n",
              "      <td>...</td>\n",
              "      <td>234</td>\n",
              "      <td>NaN</td>\n",
              "      <td>MR</td>\n",
              "      <td>1967-04-26 00:00:00</td>\n",
              "      <td>N</td>\n",
              "      <td>M</td>\n",
              "      <td>R</td>\n",
              "      <td>N</td>\n",
              "      <td>NaN</td>\n",
              "      <td>NaN</td>\n",
              "      <td>NG</td>\n",
              "      <td>NaN</td>\n",
              "      <td>NaN</td>\n",
              "      <td>NaN</td>\n",
              "      <td>NaN</td>\n",
              "      <td>NaN</td>\n",
              "      <td>NaN</td>\n",
              "      <td>NaN</td>\n",
              "      <td>M</td>\n",
              "      <td>NaN</td>\n",
              "      <td>NaN</td>\n",
              "      <td>0.0</td>\n",
              "      <td>0.0</td>\n",
              "      <td>NaN</td>\n",
              "      <td>NaN</td>\n",
              "      <td>NaN</td>\n",
              "      <td>NaN</td>\n",
              "      <td>NaN</td>\n",
              "      <td>NaN</td>\n",
              "      <td>NaN</td>\n",
              "      <td>NaN</td>\n",
              "      <td>NaN</td>\n",
              "      <td>NaN</td>\n",
              "      <td>NaN</td>\n",
              "      <td>NaN</td>\n",
              "      <td>NaN</td>\n",
              "      <td>NaN</td>\n",
              "      <td>NaN</td>\n",
              "      <td>NaN</td>\n",
              "      <td>NaN</td>\n",
              "    </tr>\n",
              "    <tr>\n",
              "      <th>4</th>\n",
              "      <td>71120007</td>\n",
              "      <td>I</td>\n",
              "      <td>SURULERE</td>\n",
              "      <td>LAGOS</td>\n",
              "      <td>NG</td>\n",
              "      <td>NG</td>\n",
              "      <td>ENG</td>\n",
              "      <td>NG</td>\n",
              "      <td>4</td>\n",
              "      <td>N</td>\n",
              "      <td>N</td>\n",
              "      <td>N</td>\n",
              "      <td>IND</td>\n",
              "      <td>NaN</td>\n",
              "      <td>0.0</td>\n",
              "      <td>0.0</td>\n",
              "      <td>0.0</td>\n",
              "      <td>NaN</td>\n",
              "      <td>NGN</td>\n",
              "      <td>NaN</td>\n",
              "      <td>FCUBSPAR</td>\n",
              "      <td>0.0</td>\n",
              "      <td>0.0</td>\n",
              "      <td>0.0</td>\n",
              "      <td>0.0</td>\n",
              "      <td>4</td>\n",
              "      <td>NaN</td>\n",
              "      <td>MAIL</td>\n",
              "      <td>NaN</td>\n",
              "      <td>NaN</td>\n",
              "      <td>NaN</td>\n",
              "      <td>N</td>\n",
              "      <td>NaN</td>\n",
              "      <td>NaN</td>\n",
              "      <td>NaN</td>\n",
              "      <td>NaN</td>\n",
              "      <td>NaN</td>\n",
              "      <td>NaN</td>\n",
              "      <td>NaN</td>\n",
              "      <td>NaN</td>\n",
              "      <td>...</td>\n",
              "      <td>234</td>\n",
              "      <td>N</td>\n",
              "      <td>MR</td>\n",
              "      <td>1965-09-24 00:00:00</td>\n",
              "      <td>N</td>\n",
              "      <td>M</td>\n",
              "      <td>R</td>\n",
              "      <td>N</td>\n",
              "      <td>M</td>\n",
              "      <td>NaN</td>\n",
              "      <td>NG</td>\n",
              "      <td>N</td>\n",
              "      <td>N</td>\n",
              "      <td>NaN</td>\n",
              "      <td>NaN</td>\n",
              "      <td>0.0</td>\n",
              "      <td>NaN</td>\n",
              "      <td>NaN</td>\n",
              "      <td>M</td>\n",
              "      <td>NaN</td>\n",
              "      <td>NaN</td>\n",
              "      <td>0.0</td>\n",
              "      <td>0.0</td>\n",
              "      <td>NaN</td>\n",
              "      <td>NaN</td>\n",
              "      <td>NaN</td>\n",
              "      <td>NaN</td>\n",
              "      <td>NaN</td>\n",
              "      <td>NaN</td>\n",
              "      <td>NaN</td>\n",
              "      <td>NaN</td>\n",
              "      <td>NaN</td>\n",
              "      <td>NaN</td>\n",
              "      <td>NaN</td>\n",
              "      <td>NaN</td>\n",
              "      <td>NaN</td>\n",
              "      <td>NaN</td>\n",
              "      <td>NaN</td>\n",
              "      <td>NaN</td>\n",
              "      <td>NaN</td>\n",
              "    </tr>\n",
              "  </tbody>\n",
              "</table>\n",
              "<p>5 rows × 127 columns</p>\n",
              "</div>"
            ],
            "text/plain": [
              "   CUSTOMER_UNIQUE_ID CUSTOMER_TYPE  ... E_COUNTRY CCY_PERS_INCEXP\n",
              "0            18030000             I  ...       NaN             NaN\n",
              "1            33020001             I  ...       NaN             NaN\n",
              "2            69090004             I  ...       NaN             NaN\n",
              "3            81010006             I  ...       NaN             NaN\n",
              "4            71120007             I  ...       NaN             NaN\n",
              "\n",
              "[5 rows x 127 columns]"
            ]
          },
          "metadata": {
            "tags": []
          },
          "execution_count": 201
        }
      ]
    },
    {
      "cell_type": "code",
      "metadata": {
        "id": "s5NRhf_zxtHP",
        "colab_type": "code",
        "outputId": "b667913c-9860-4b15-8884-f12dfa809f29",
        "colab": {
          "base_uri": "https://localhost:8080/",
          "height": 221
        }
      },
      "source": [
        "all_demographics.isnull().sum()/len(all_demographics)"
      ],
      "execution_count": 202,
      "outputs": [
        {
          "output_type": "execute_result",
          "data": {
            "text/plain": [
              "CUSTOMER_UNIQUE_ID    0.000000\n",
              "CUSTOMER_TYPE         0.000000\n",
              "ADDRESS_LINE3         0.025543\n",
              "ADDRESS_LINE4         0.151308\n",
              "COUNTRY               0.000000\n",
              "                        ...   \n",
              "OTHER_EXPENSES        0.967501\n",
              "HOUSE_VALUE           0.967501\n",
              "CREDIT_CARDS          0.999722\n",
              "E_COUNTRY             0.987423\n",
              "CCY_PERS_INCEXP       0.999499\n",
              "Length: 127, dtype: float64"
            ]
          },
          "metadata": {
            "tags": []
          },
          "execution_count": 202
        }
      ]
    },
    {
      "cell_type": "code",
      "metadata": {
        "id": "nhIca-W_x5Cw",
        "colab_type": "code",
        "colab": {}
      },
      "source": [
        "#removing all columns with columns greater than 90% nan\n",
        "#all_demographics.dropna(thresh=.9*len(all_demographics),axis=1,inplace=True)"
      ],
      "execution_count": 0,
      "outputs": []
    },
    {
      "cell_type": "code",
      "metadata": {
        "id": "SzyspOh9ElWA",
        "colab_type": "code",
        "colab": {}
      },
      "source": [
        "#all_demographics=all_demographics_data.copy()"
      ],
      "execution_count": 0,
      "outputs": []
    },
    {
      "cell_type": "code",
      "metadata": {
        "id": "Bjow_IjsEM_O",
        "colab_type": "code",
        "colab": {}
      },
      "source": [
        "all_demographics=all_demographics.loc[:,all_demographics.isnull().mean() <= 0.2]"
      ],
      "execution_count": 0,
      "outputs": []
    },
    {
      "cell_type": "code",
      "metadata": {
        "id": "0-HSEUHuVHic",
        "colab_type": "code",
        "colab": {}
      },
      "source": [
        "#removing some columns from all_demographics data\n",
        "#removal was due to to many NaN values,and some the meaning was not given in data dictionary so i removed\n",
        "all_demographics=all_demographics.drop(['ADDRESS_LINE4','EXT_REF_NO','CIF_CREATION_DATE','STAFF','PRIVATE_CUSTOMER','AR_AP_TRACKING','CUSTOMER_PREFIX','DATE_OF_BIRTH','AGE_PROOF_SUBMITTED','BIRTH_COUNTRY','LIMIT_CCY','FT_ACCTING_AS_OF','DEFAULT_MEDIA','MINOR'],axis=1)"
      ],
      "execution_count": 0,
      "outputs": []
    },
    {
      "cell_type": "code",
      "metadata": {
        "id": "47q0fZKLZGYx",
        "colab_type": "code",
        "outputId": "78d28793-d3b5-4e98-ff67-adda9b4ee153",
        "colab": {
          "base_uri": "https://localhost:8080/",
          "height": 80
        }
      },
      "source": [
        "all_dictionary[all_dictionary['FEATURES']=='MINOR']"
      ],
      "execution_count": 207,
      "outputs": [
        {
          "output_type": "execute_result",
          "data": {
            "text/html": [
              "<div>\n",
              "<style scoped>\n",
              "    .dataframe tbody tr th:only-of-type {\n",
              "        vertical-align: middle;\n",
              "    }\n",
              "\n",
              "    .dataframe tbody tr th {\n",
              "        vertical-align: top;\n",
              "    }\n",
              "\n",
              "    .dataframe thead th {\n",
              "        text-align: right;\n",
              "    }\n",
              "</style>\n",
              "<table border=\"1\" class=\"dataframe\">\n",
              "  <thead>\n",
              "    <tr style=\"text-align: right;\">\n",
              "      <th></th>\n",
              "      <th>FEATURES</th>\n",
              "      <th>DESCRIPTION</th>\n",
              "      <th>DATA TYPE</th>\n",
              "      <th>Unnamed: 3</th>\n",
              "      <th>Unnamed: 4</th>\n",
              "    </tr>\n",
              "  </thead>\n",
              "  <tbody>\n",
              "    <tr>\n",
              "      <th>116</th>\n",
              "      <td>MINOR</td>\n",
              "      <td>Minor</td>\n",
              "      <td>NaN</td>\n",
              "      <td>NaN</td>\n",
              "      <td>NaN</td>\n",
              "    </tr>\n",
              "  </tbody>\n",
              "</table>\n",
              "</div>"
            ],
            "text/plain": [
              "    FEATURES DESCRIPTION DATA TYPE  Unnamed: 3  Unnamed: 4\n",
              "116    MINOR       Minor       NaN         NaN         NaN"
            ]
          },
          "metadata": {
            "tags": []
          },
          "execution_count": 207
        }
      ]
    },
    {
      "cell_type": "code",
      "metadata": {
        "id": "eUBjp4-rW_tO",
        "colab_type": "code",
        "outputId": "53c4963c-0434-4a1e-8fdd-0c1a238c805b",
        "colab": {
          "base_uri": "https://localhost:8080/",
          "height": 476
        }
      },
      "source": [
        "all_demographics.isnull().sum()"
      ],
      "execution_count": 208,
      "outputs": [
        {
          "output_type": "execute_result",
          "data": {
            "text/plain": [
              "CUSTOMER_UNIQUE_ID            0\n",
              "CUSTOMER_TYPE                 0\n",
              "ADDRESS_LINE3               459\n",
              "COUNTRY                       0\n",
              "NATIONALITY                   0\n",
              "LANGUAGE                      0\n",
              "EXPOSURE_COUNTRY              0\n",
              "LOCAL_BRANCH                  0\n",
              "FROZEN                        0\n",
              "DECEASED                      0\n",
              "WHEREABOUTS_UNKNOWN           0\n",
              "CUSTOMER_CATEGORY             0\n",
              "LIAB_NODE                     0\n",
              "LIAB_BR                       0\n",
              "UTILITY_PROVIDER              0\n",
              "AML_REQUIRED                  0\n",
              "UNADVISED                     0\n",
              "CONSOL_TAX_CERT_REQD          0\n",
              "INDIVIDUAL_TAX_CERT_REQD      0\n",
              "CLS_CCY_ALLOWED               0\n",
              "CLS_PARTICIPANT               0\n",
              "RP_CUSTOMER                   0\n",
              "AUTO_CREATE_ACCOUNT           0\n",
              "TRACK_LIMITS                  0\n",
              "SEX                          20\n",
              "MARITAL_STATUS              134\n",
              "dtype: int64"
            ]
          },
          "metadata": {
            "tags": []
          },
          "execution_count": 208
        }
      ]
    },
    {
      "cell_type": "code",
      "metadata": {
        "id": "ht2ycZwsyHVM",
        "colab_type": "code",
        "outputId": "e24fb653-2788-4bbb-eb49-9ff5f731ee35",
        "colab": {
          "base_uri": "https://localhost:8080/",
          "height": 459
        }
      },
      "source": [
        "all_demographics.isnull().sum().to_dict()"
      ],
      "execution_count": 209,
      "outputs": [
        {
          "output_type": "execute_result",
          "data": {
            "text/plain": [
              "{'ADDRESS_LINE3': 459,\n",
              " 'AML_REQUIRED': 0,\n",
              " 'AUTO_CREATE_ACCOUNT': 0,\n",
              " 'CLS_CCY_ALLOWED': 0,\n",
              " 'CLS_PARTICIPANT': 0,\n",
              " 'CONSOL_TAX_CERT_REQD': 0,\n",
              " 'COUNTRY': 0,\n",
              " 'CUSTOMER_CATEGORY': 0,\n",
              " 'CUSTOMER_TYPE': 0,\n",
              " 'CUSTOMER_UNIQUE_ID': 0,\n",
              " 'DECEASED': 0,\n",
              " 'EXPOSURE_COUNTRY': 0,\n",
              " 'FROZEN': 0,\n",
              " 'INDIVIDUAL_TAX_CERT_REQD': 0,\n",
              " 'LANGUAGE': 0,\n",
              " 'LIAB_BR': 0,\n",
              " 'LIAB_NODE': 0,\n",
              " 'LOCAL_BRANCH': 0,\n",
              " 'MARITAL_STATUS': 134,\n",
              " 'NATIONALITY': 0,\n",
              " 'RP_CUSTOMER': 0,\n",
              " 'SEX': 20,\n",
              " 'TRACK_LIMITS': 0,\n",
              " 'UNADVISED': 0,\n",
              " 'UTILITY_PROVIDER': 0,\n",
              " 'WHEREABOUTS_UNKNOWN': 0}"
            ]
          },
          "metadata": {
            "tags": []
          },
          "execution_count": 209
        }
      ]
    },
    {
      "cell_type": "code",
      "metadata": {
        "id": "i2XlG4H-yX2m",
        "colab_type": "code",
        "colab": {}
      },
      "source": [
        "#meaning of minor\n",
        "all_demographics.ADDRESS_LINE3.fillna(\"Unknown\",inplace=True)"
      ],
      "execution_count": 0,
      "outputs": []
    },
    {
      "cell_type": "code",
      "metadata": {
        "id": "3bCUlc0kyr-2",
        "colab_type": "code",
        "outputId": "7de01e7a-242b-4d3e-834c-c787caa18296",
        "colab": {
          "base_uri": "https://localhost:8080/",
          "height": 49
        }
      },
      "source": [
        "#meaning of ACY_AVL_BAL\n",
        "all_dictionary[all_dictionary['FEATURES']=='TRACK_LIMITS']"
      ],
      "execution_count": 211,
      "outputs": [
        {
          "output_type": "execute_result",
          "data": {
            "text/html": [
              "<div>\n",
              "<style scoped>\n",
              "    .dataframe tbody tr th:only-of-type {\n",
              "        vertical-align: middle;\n",
              "    }\n",
              "\n",
              "    .dataframe tbody tr th {\n",
              "        vertical-align: top;\n",
              "    }\n",
              "\n",
              "    .dataframe thead th {\n",
              "        text-align: right;\n",
              "    }\n",
              "</style>\n",
              "<table border=\"1\" class=\"dataframe\">\n",
              "  <thead>\n",
              "    <tr style=\"text-align: right;\">\n",
              "      <th></th>\n",
              "      <th>FEATURES</th>\n",
              "      <th>DESCRIPTION</th>\n",
              "      <th>DATA TYPE</th>\n",
              "      <th>Unnamed: 3</th>\n",
              "      <th>Unnamed: 4</th>\n",
              "    </tr>\n",
              "  </thead>\n",
              "  <tbody>\n",
              "  </tbody>\n",
              "</table>\n",
              "</div>"
            ],
            "text/plain": [
              "Empty DataFrame\n",
              "Columns: [FEATURES, DESCRIPTION, DATA TYPE, Unnamed: 3, Unnamed: 4]\n",
              "Index: []"
            ]
          },
          "metadata": {
            "tags": []
          },
          "execution_count": 211
        }
      ]
    },
    {
      "cell_type": "code",
      "metadata": {
        "id": "Wa4ONgVh0VRG",
        "colab_type": "code",
        "colab": {}
      },
      "source": [
        "all_demographics.SEX.fillna(\"Unknown\",inplace=True)"
      ],
      "execution_count": 0,
      "outputs": []
    },
    {
      "cell_type": "code",
      "metadata": {
        "id": "QLPZ6Ygg0ZtL",
        "colab_type": "code",
        "colab": {}
      },
      "source": [
        "all_demographics.MARITAL_STATUS.fillna(\"Unknown\",inplace=True)"
      ],
      "execution_count": 0,
      "outputs": []
    },
    {
      "cell_type": "code",
      "metadata": {
        "id": "sCFvJONQ0d4O",
        "colab_type": "code",
        "outputId": "144c70bc-2566-4e4c-d3cd-1eb09a81d9f5",
        "colab": {
          "base_uri": "https://localhost:8080/",
          "height": 476
        }
      },
      "source": [
        "all_demographics.isnull().sum()"
      ],
      "execution_count": 214,
      "outputs": [
        {
          "output_type": "execute_result",
          "data": {
            "text/plain": [
              "CUSTOMER_UNIQUE_ID          0\n",
              "CUSTOMER_TYPE               0\n",
              "ADDRESS_LINE3               0\n",
              "COUNTRY                     0\n",
              "NATIONALITY                 0\n",
              "LANGUAGE                    0\n",
              "EXPOSURE_COUNTRY            0\n",
              "LOCAL_BRANCH                0\n",
              "FROZEN                      0\n",
              "DECEASED                    0\n",
              "WHEREABOUTS_UNKNOWN         0\n",
              "CUSTOMER_CATEGORY           0\n",
              "LIAB_NODE                   0\n",
              "LIAB_BR                     0\n",
              "UTILITY_PROVIDER            0\n",
              "AML_REQUIRED                0\n",
              "UNADVISED                   0\n",
              "CONSOL_TAX_CERT_REQD        0\n",
              "INDIVIDUAL_TAX_CERT_REQD    0\n",
              "CLS_CCY_ALLOWED             0\n",
              "CLS_PARTICIPANT             0\n",
              "RP_CUSTOMER                 0\n",
              "AUTO_CREATE_ACCOUNT         0\n",
              "TRACK_LIMITS                0\n",
              "SEX                         0\n",
              "MARITAL_STATUS              0\n",
              "dtype: int64"
            ]
          },
          "metadata": {
            "tags": []
          },
          "execution_count": 214
        }
      ]
    },
    {
      "cell_type": "code",
      "metadata": {
        "id": "OcGSzt530tOy",
        "colab_type": "code",
        "colab": {}
      },
      "source": [
        "#all_demographics_data,Need to set index to customer ID\n",
        "#all_demographics_data treated\n",
        "all_demographics_data=all_demographics.copy()"
      ],
      "execution_count": 0,
      "outputs": []
    },
    {
      "cell_type": "code",
      "metadata": {
        "id": "KY2FnQftLF1r",
        "colab_type": "code",
        "colab": {}
      },
      "source": [
        "#convert index to int\n",
        "all_demographics_data.index=all_demographics_data.index.astype('int')"
      ],
      "execution_count": 0,
      "outputs": []
    },
    {
      "cell_type": "code",
      "metadata": {
        "id": "en5uQCdcLOdf",
        "colab_type": "code",
        "colab": {}
      },
      "source": [
        "all_demographics_data.sort_index(inplace=True)"
      ],
      "execution_count": 0,
      "outputs": []
    },
    {
      "cell_type": "code",
      "metadata": {
        "id": "9zhsUl1V0wFj",
        "colab_type": "code",
        "outputId": "360c6fc5-e92b-48ef-deab-a1051d8acef3",
        "colab": {
          "base_uri": "https://localhost:8080/",
          "height": 54
        }
      },
      "source": [
        "'''\n",
        "for i in columns:\n",
        "    result=all_demographics[i].value_counts().to_list()\n",
        "    percent=result[0]/sum(result)\n",
        "    if percent>.9:\n",
        "        all_demographics.drop(columns=i)'''"
      ],
      "execution_count": 218,
      "outputs": [
        {
          "output_type": "execute_result",
          "data": {
            "text/plain": [
              "'\\nfor i in columns:\\n    result=all_demographics[i].value_counts().to_list()\\n    percent=result[0]/sum(result)\\n    if percent>.9:\\n        all_demographics.drop(columns=i)'"
            ]
          },
          "metadata": {
            "tags": []
          },
          "execution_count": 218
        }
      ]
    },
    {
      "cell_type": "code",
      "metadata": {
        "id": "FcHyXydP1Vl1",
        "colab_type": "code",
        "colab": {}
      },
      "source": [
        "all_loans_application.index=all_loans_application.index.astype('int')"
      ],
      "execution_count": 0,
      "outputs": []
    },
    {
      "cell_type": "code",
      "metadata": {
        "id": "AbOeQmrWLYn-",
        "colab_type": "code",
        "colab": {}
      },
      "source": [
        "all_loans_application.sort_index(inplace=True)"
      ],
      "execution_count": 0,
      "outputs": []
    },
    {
      "cell_type": "code",
      "metadata": {
        "id": "xuc4wELkd5kS",
        "colab_type": "code",
        "colab": {}
      },
      "source": [
        "all_loans_application_data=all_loans_application.copy()"
      ],
      "execution_count": 0,
      "outputs": []
    },
    {
      "cell_type": "code",
      "metadata": {
        "id": "4Okk6FGghkZZ",
        "colab_type": "code",
        "outputId": "b14f81b7-4419-4362-d0dc-65aee7b5a2a3",
        "colab": {
          "base_uri": "https://localhost:8080/",
          "height": 450
        }
      },
      "source": [
        "all_loans_application_data.drop(['OFFERID','DATE_OF_APPLY'],axis=1)"
      ],
      "execution_count": 222,
      "outputs": [
        {
          "output_type": "execute_result",
          "data": {
            "text/html": [
              "<div>\n",
              "<style scoped>\n",
              "    .dataframe tbody tr th:only-of-type {\n",
              "        vertical-align: middle;\n",
              "    }\n",
              "\n",
              "    .dataframe tbody tr th {\n",
              "        vertical-align: top;\n",
              "    }\n",
              "\n",
              "    .dataframe thead th {\n",
              "        text-align: right;\n",
              "    }\n",
              "</style>\n",
              "<table border=\"1\" class=\"dataframe\">\n",
              "  <thead>\n",
              "    <tr style=\"text-align: right;\">\n",
              "      <th></th>\n",
              "      <th>INCR_ALLOWED</th>\n",
              "      <th>APPLIED_AMOUNT</th>\n",
              "      <th>APPLICATION_STATUS</th>\n",
              "      <th>MODULE</th>\n",
              "      <th>LOAN_CLASSIFICATION</th>\n",
              "    </tr>\n",
              "    <tr>\n",
              "      <th>CUSTOMER_UNIQUE_ID</th>\n",
              "      <th></th>\n",
              "      <th></th>\n",
              "      <th></th>\n",
              "      <th></th>\n",
              "      <th></th>\n",
              "    </tr>\n",
              "  </thead>\n",
              "  <tbody>\n",
              "    <tr>\n",
              "      <th>56000</th>\n",
              "      <td>46209.37</td>\n",
              "      <td>35000.0</td>\n",
              "      <td>D</td>\n",
              "      <td>AMPC</td>\n",
              "      <td>PERFORMING</td>\n",
              "    </tr>\n",
              "    <tr>\n",
              "      <th>62005</th>\n",
              "      <td>47280.70</td>\n",
              "      <td>50000.0</td>\n",
              "      <td>D</td>\n",
              "      <td>AMPC</td>\n",
              "      <td>PERFORMING</td>\n",
              "    </tr>\n",
              "    <tr>\n",
              "      <th>62005</th>\n",
              "      <td>47280.70</td>\n",
              "      <td>50000.0</td>\n",
              "      <td>D</td>\n",
              "      <td>AMPC</td>\n",
              "      <td>PERFORMING</td>\n",
              "    </tr>\n",
              "    <tr>\n",
              "      <th>104008</th>\n",
              "      <td>-5406.22</td>\n",
              "      <td>268000.0</td>\n",
              "      <td>D</td>\n",
              "      <td>STP</td>\n",
              "      <td>PERFORMING</td>\n",
              "    </tr>\n",
              "    <tr>\n",
              "      <th>175007</th>\n",
              "      <td>0.00</td>\n",
              "      <td>9000.0</td>\n",
              "      <td>D</td>\n",
              "      <td>LATO</td>\n",
              "      <td>PERFORMING</td>\n",
              "    </tr>\n",
              "    <tr>\n",
              "      <th>...</th>\n",
              "      <td>...</td>\n",
              "      <td>...</td>\n",
              "      <td>...</td>\n",
              "      <td>...</td>\n",
              "      <td>...</td>\n",
              "    </tr>\n",
              "    <tr>\n",
              "      <th>999823007</th>\n",
              "      <td>0.00</td>\n",
              "      <td>17000.0</td>\n",
              "      <td>D</td>\n",
              "      <td>LATO</td>\n",
              "      <td>PERFORMING</td>\n",
              "    </tr>\n",
              "    <tr>\n",
              "      <th>999823007</th>\n",
              "      <td>0.00</td>\n",
              "      <td>14000.0</td>\n",
              "      <td>D</td>\n",
              "      <td>LATO</td>\n",
              "      <td>NON-PERFORMING</td>\n",
              "    </tr>\n",
              "    <tr>\n",
              "      <th>999881002</th>\n",
              "      <td>36109.20</td>\n",
              "      <td>183635.0</td>\n",
              "      <td>D</td>\n",
              "      <td>STP</td>\n",
              "      <td>PERFORMING</td>\n",
              "    </tr>\n",
              "    <tr>\n",
              "      <th>999943009</th>\n",
              "      <td>0.00</td>\n",
              "      <td>18000.0</td>\n",
              "      <td>D</td>\n",
              "      <td>LATO</td>\n",
              "      <td>PERFORMING</td>\n",
              "    </tr>\n",
              "    <tr>\n",
              "      <th>999944001</th>\n",
              "      <td>-2485.34</td>\n",
              "      <td>4000.0</td>\n",
              "      <td>D</td>\n",
              "      <td>AMPC</td>\n",
              "      <td>PERFORMING</td>\n",
              "    </tr>\n",
              "  </tbody>\n",
              "</table>\n",
              "<p>23172 rows × 5 columns</p>\n",
              "</div>"
            ],
            "text/plain": [
              "                    INCR_ALLOWED  APPLIED_AMOUNT  ... MODULE LOAN_CLASSIFICATION\n",
              "CUSTOMER_UNIQUE_ID                                ...                           \n",
              "56000                   46209.37         35000.0  ...   AMPC          PERFORMING\n",
              "62005                   47280.70         50000.0  ...   AMPC          PERFORMING\n",
              "62005                   47280.70         50000.0  ...   AMPC          PERFORMING\n",
              "104008                  -5406.22        268000.0  ...    STP          PERFORMING\n",
              "175007                      0.00          9000.0  ...   LATO          PERFORMING\n",
              "...                          ...             ...  ...    ...                 ...\n",
              "999823007                   0.00         17000.0  ...   LATO          PERFORMING\n",
              "999823007                   0.00         14000.0  ...   LATO      NON-PERFORMING\n",
              "999881002               36109.20        183635.0  ...    STP          PERFORMING\n",
              "999943009                   0.00         18000.0  ...   LATO          PERFORMING\n",
              "999944001               -2485.34          4000.0  ...   AMPC          PERFORMING\n",
              "\n",
              "[23172 rows x 5 columns]"
            ]
          },
          "metadata": {
            "tags": []
          },
          "execution_count": 222
        }
      ]
    },
    {
      "cell_type": "code",
      "metadata": {
        "id": "wgqRID7Pcv_D",
        "colab_type": "code",
        "outputId": "cdd0a32f-acc7-49a7-bf09-3d1a0de6c835",
        "colab": {
          "base_uri": "https://localhost:8080/",
          "height": 34
        }
      },
      "source": [
        "##all_loans_application treated\n",
        "all_loans_application['LOAN_CLASSIFICATION'].unique()"
      ],
      "execution_count": 223,
      "outputs": [
        {
          "output_type": "execute_result",
          "data": {
            "text/plain": [
              "array(['PERFORMING', 'NON-PERFORMING'], dtype=object)"
            ]
          },
          "metadata": {
            "tags": []
          },
          "execution_count": 223
        }
      ]
    },
    {
      "cell_type": "code",
      "metadata": {
        "id": "aNcoYdsXhMBv",
        "colab_type": "code",
        "colab": {}
      },
      "source": [
        "#all_loans_application_data.reset_index(inplace=True)"
      ],
      "execution_count": 0,
      "outputs": []
    },
    {
      "cell_type": "code",
      "metadata": {
        "id": "416VQYuUfbHj",
        "colab_type": "code",
        "colab": {}
      },
      "source": [
        "#target varriable\n",
        "all_loans_application_data.loc[all_loans_application.LOAN_CLASSIFICATION=='PERFORMING','LOAN_CLASSIFICATION']=1"
      ],
      "execution_count": 0,
      "outputs": []
    },
    {
      "cell_type": "code",
      "metadata": {
        "id": "dZypoabBpAbS",
        "colab_type": "code",
        "colab": {}
      },
      "source": [
        "#target varriable\n",
        "all_loans_application_data.loc[all_loans_application.LOAN_CLASSIFICATION=='NON-PERFORMING','LOAN_CLASSIFICATION']=0"
      ],
      "execution_count": 0,
      "outputs": []
    },
    {
      "cell_type": "code",
      "metadata": {
        "id": "ttj--KL9pIyj",
        "colab_type": "code",
        "outputId": "f380b7e2-9666-43b8-883e-eff6e36baebc",
        "colab": {
          "base_uri": "https://localhost:8080/",
          "height": 34
        }
      },
      "source": [
        "#all_loans_application_data treated\n",
        "all_loans_application_data.LOAN_CLASSIFICATION.unique()"
      ],
      "execution_count": 227,
      "outputs": [
        {
          "output_type": "execute_result",
          "data": {
            "text/plain": [
              "array([1, 0])"
            ]
          },
          "metadata": {
            "tags": []
          },
          "execution_count": 227
        }
      ]
    },
    {
      "cell_type": "code",
      "metadata": {
        "id": "wZKjpY5QpgjO",
        "colab_type": "code",
        "colab": {}
      },
      "source": [
        "all_investments.set_index('CUSTOMER_UNIQUE_ID',inplace=True)"
      ],
      "execution_count": 0,
      "outputs": []
    },
    {
      "cell_type": "code",
      "metadata": {
        "id": "Bl8YyWAhpyGY",
        "colab_type": "code",
        "outputId": "74c18375-4165-4780-9e0d-539d2c28af44",
        "colab": {
          "base_uri": "https://localhost:8080/",
          "height": 691
        }
      },
      "source": [
        "all_investments.loc[important_indexes]"
      ],
      "execution_count": 229,
      "outputs": [
        {
          "output_type": "stream",
          "text": [
            "/usr/local/lib/python3.6/dist-packages/ipykernel_launcher.py:1: FutureWarning: \n",
            "Passing list-likes to .loc or [] with any missing label will raise\n",
            "KeyError in the future, you can use .reindex() as an alternative.\n",
            "\n",
            "See the documentation here:\n",
            "https://pandas.pydata.org/pandas-docs/stable/user_guide/indexing.html#deprecate-loc-reindex-listlike\n",
            "  \"\"\"Entry point for launching an IPython kernel.\n"
          ],
          "name": "stderr"
        },
        {
          "output_type": "execute_result",
          "data": {
            "text/html": [
              "<div>\n",
              "<style scoped>\n",
              "    .dataframe tbody tr th:only-of-type {\n",
              "        vertical-align: middle;\n",
              "    }\n",
              "\n",
              "    .dataframe tbody tr th {\n",
              "        vertical-align: top;\n",
              "    }\n",
              "\n",
              "    .dataframe thead th {\n",
              "        text-align: right;\n",
              "    }\n",
              "</style>\n",
              "<table border=\"1\" class=\"dataframe\">\n",
              "  <thead>\n",
              "    <tr style=\"text-align: right;\">\n",
              "      <th></th>\n",
              "      <th>CONTRACT_REF_NO</th>\n",
              "      <th>PRODUCT</th>\n",
              "      <th>PRODUCT_NAME</th>\n",
              "      <th>PAYMENT_METHOD</th>\n",
              "      <th>CURRENCY</th>\n",
              "      <th>AMOUNT</th>\n",
              "      <th>LCY_AMOUNT</th>\n",
              "      <th>BOOKING_DATE</th>\n",
              "      <th>MATURITY_DATE</th>\n",
              "      <th>ROLLOVER_ALLOWED</th>\n",
              "      <th>TENOR</th>\n",
              "      <th>ROLLOVER_COUNT</th>\n",
              "      <th>CONTRACT_STATUS</th>\n",
              "      <th>MAIN_COMP_RATE</th>\n",
              "      <th>MASKED_ACCOUNT</th>\n",
              "    </tr>\n",
              "    <tr>\n",
              "      <th>CUSTOMER_UNIQUE_ID</th>\n",
              "      <th></th>\n",
              "      <th></th>\n",
              "      <th></th>\n",
              "      <th></th>\n",
              "      <th></th>\n",
              "      <th></th>\n",
              "      <th></th>\n",
              "      <th></th>\n",
              "      <th></th>\n",
              "      <th></th>\n",
              "      <th></th>\n",
              "      <th></th>\n",
              "      <th></th>\n",
              "      <th></th>\n",
              "      <th></th>\n",
              "    </tr>\n",
              "  </thead>\n",
              "  <tbody>\n",
              "    <tr>\n",
              "      <th>562966000</th>\n",
              "      <td>NaN</td>\n",
              "      <td>NaN</td>\n",
              "      <td>NaN</td>\n",
              "      <td>NaN</td>\n",
              "      <td>NaN</td>\n",
              "      <td>NaN</td>\n",
              "      <td>NaN</td>\n",
              "      <td>NaN</td>\n",
              "      <td>NaN</td>\n",
              "      <td>NaN</td>\n",
              "      <td>NaN</td>\n",
              "      <td>NaN</td>\n",
              "      <td>NaN</td>\n",
              "      <td>NaN</td>\n",
              "      <td>NaN</td>\n",
              "    </tr>\n",
              "    <tr>\n",
              "      <th>867156003</th>\n",
              "      <td>NaN</td>\n",
              "      <td>NaN</td>\n",
              "      <td>NaN</td>\n",
              "      <td>NaN</td>\n",
              "      <td>NaN</td>\n",
              "      <td>NaN</td>\n",
              "      <td>NaN</td>\n",
              "      <td>NaN</td>\n",
              "      <td>NaN</td>\n",
              "      <td>NaN</td>\n",
              "      <td>NaN</td>\n",
              "      <td>NaN</td>\n",
              "      <td>NaN</td>\n",
              "      <td>NaN</td>\n",
              "      <td>NaN</td>\n",
              "    </tr>\n",
              "    <tr>\n",
              "      <th>747196003</th>\n",
              "      <td>099TBCS180100002</td>\n",
              "      <td>TBCS</td>\n",
              "      <td>TBILLS INVT. FOR CUSTOMER</td>\n",
              "      <td>D</td>\n",
              "      <td>NGN</td>\n",
              "      <td>3000000.0</td>\n",
              "      <td>3000000.0</td>\n",
              "      <td>1/10/2018</td>\n",
              "      <td>6/21/2018</td>\n",
              "      <td>N</td>\n",
              "      <td>163.0</td>\n",
              "      <td>0.0</td>\n",
              "      <td>L</td>\n",
              "      <td>13.0</td>\n",
              "      <td>07******36</td>\n",
              "    </tr>\n",
              "    <tr>\n",
              "      <th>747196003</th>\n",
              "      <td>099TBCS180850020</td>\n",
              "      <td>TBCS</td>\n",
              "      <td>TBILLS INVT. FOR CUSTOMER</td>\n",
              "      <td>D</td>\n",
              "      <td>NGN</td>\n",
              "      <td>1000000.0</td>\n",
              "      <td>1000000.0</td>\n",
              "      <td>3/26/2018</td>\n",
              "      <td>8/2/2018</td>\n",
              "      <td>N</td>\n",
              "      <td>132.0</td>\n",
              "      <td>0.0</td>\n",
              "      <td>L</td>\n",
              "      <td>12.0</td>\n",
              "      <td>07******36</td>\n",
              "    </tr>\n",
              "    <tr>\n",
              "      <th>747196003</th>\n",
              "      <td>099TBCS181830515</td>\n",
              "      <td>TBCS</td>\n",
              "      <td>TBILLS INVT. FOR CUSTOMER</td>\n",
              "      <td>D</td>\n",
              "      <td>NGN</td>\n",
              "      <td>2712000.0</td>\n",
              "      <td>2712000.0</td>\n",
              "      <td>7/2/2018</td>\n",
              "      <td>11/15/2018</td>\n",
              "      <td>N</td>\n",
              "      <td>136.0</td>\n",
              "      <td>0.0</td>\n",
              "      <td>L</td>\n",
              "      <td>11.0</td>\n",
              "      <td>07******36</td>\n",
              "    </tr>\n",
              "    <tr>\n",
              "      <th>...</th>\n",
              "      <td>...</td>\n",
              "      <td>...</td>\n",
              "      <td>...</td>\n",
              "      <td>...</td>\n",
              "      <td>...</td>\n",
              "      <td>...</td>\n",
              "      <td>...</td>\n",
              "      <td>...</td>\n",
              "      <td>...</td>\n",
              "      <td>...</td>\n",
              "      <td>...</td>\n",
              "      <td>...</td>\n",
              "      <td>...</td>\n",
              "      <td>...</td>\n",
              "      <td>...</td>\n",
              "    </tr>\n",
              "    <tr>\n",
              "      <th>778317002</th>\n",
              "      <td>NaN</td>\n",
              "      <td>NaN</td>\n",
              "      <td>NaN</td>\n",
              "      <td>NaN</td>\n",
              "      <td>NaN</td>\n",
              "      <td>NaN</td>\n",
              "      <td>NaN</td>\n",
              "      <td>NaN</td>\n",
              "      <td>NaN</td>\n",
              "      <td>NaN</td>\n",
              "      <td>NaN</td>\n",
              "      <td>NaN</td>\n",
              "      <td>NaN</td>\n",
              "      <td>NaN</td>\n",
              "      <td>NaN</td>\n",
              "    </tr>\n",
              "    <tr>\n",
              "      <th>448867003</th>\n",
              "      <td>NaN</td>\n",
              "      <td>NaN</td>\n",
              "      <td>NaN</td>\n",
              "      <td>NaN</td>\n",
              "      <td>NaN</td>\n",
              "      <td>NaN</td>\n",
              "      <td>NaN</td>\n",
              "      <td>NaN</td>\n",
              "      <td>NaN</td>\n",
              "      <td>NaN</td>\n",
              "      <td>NaN</td>\n",
              "      <td>NaN</td>\n",
              "      <td>NaN</td>\n",
              "      <td>NaN</td>\n",
              "      <td>NaN</td>\n",
              "    </tr>\n",
              "    <tr>\n",
              "      <th>760097005</th>\n",
              "      <td>NaN</td>\n",
              "      <td>NaN</td>\n",
              "      <td>NaN</td>\n",
              "      <td>NaN</td>\n",
              "      <td>NaN</td>\n",
              "      <td>NaN</td>\n",
              "      <td>NaN</td>\n",
              "      <td>NaN</td>\n",
              "      <td>NaN</td>\n",
              "      <td>NaN</td>\n",
              "      <td>NaN</td>\n",
              "      <td>NaN</td>\n",
              "      <td>NaN</td>\n",
              "      <td>NaN</td>\n",
              "      <td>NaN</td>\n",
              "    </tr>\n",
              "    <tr>\n",
              "      <th>440170019</th>\n",
              "      <td>NaN</td>\n",
              "      <td>NaN</td>\n",
              "      <td>NaN</td>\n",
              "      <td>NaN</td>\n",
              "      <td>NaN</td>\n",
              "      <td>NaN</td>\n",
              "      <td>NaN</td>\n",
              "      <td>NaN</td>\n",
              "      <td>NaN</td>\n",
              "      <td>NaN</td>\n",
              "      <td>NaN</td>\n",
              "      <td>NaN</td>\n",
              "      <td>NaN</td>\n",
              "      <td>NaN</td>\n",
              "      <td>NaN</td>\n",
              "    </tr>\n",
              "    <tr>\n",
              "      <th>65167007</th>\n",
              "      <td>NaN</td>\n",
              "      <td>NaN</td>\n",
              "      <td>NaN</td>\n",
              "      <td>NaN</td>\n",
              "      <td>NaN</td>\n",
              "      <td>NaN</td>\n",
              "      <td>NaN</td>\n",
              "      <td>NaN</td>\n",
              "      <td>NaN</td>\n",
              "      <td>NaN</td>\n",
              "      <td>NaN</td>\n",
              "      <td>NaN</td>\n",
              "      <td>NaN</td>\n",
              "      <td>NaN</td>\n",
              "      <td>NaN</td>\n",
              "    </tr>\n",
              "  </tbody>\n",
              "</table>\n",
              "<p>19144 rows × 15 columns</p>\n",
              "</div>"
            ],
            "text/plain": [
              "                     CONTRACT_REF_NO PRODUCT  ... MAIN_COMP_RATE MASKED_ACCOUNT\n",
              "CUSTOMER_UNIQUE_ID                            ...                              \n",
              "562966000                        NaN     NaN  ...            NaN            NaN\n",
              "867156003                        NaN     NaN  ...            NaN            NaN\n",
              "747196003           099TBCS180100002    TBCS  ...           13.0     07******36\n",
              "747196003           099TBCS180850020    TBCS  ...           12.0     07******36\n",
              "747196003           099TBCS181830515    TBCS  ...           11.0     07******36\n",
              "...                              ...     ...  ...            ...            ...\n",
              "778317002                        NaN     NaN  ...            NaN            NaN\n",
              "448867003                        NaN     NaN  ...            NaN            NaN\n",
              "760097005                        NaN     NaN  ...            NaN            NaN\n",
              "440170019                        NaN     NaN  ...            NaN            NaN\n",
              "65167007                         NaN     NaN  ...            NaN            NaN\n",
              "\n",
              "[19144 rows x 15 columns]"
            ]
          },
          "metadata": {
            "tags": []
          },
          "execution_count": 229
        }
      ]
    },
    {
      "cell_type": "code",
      "metadata": {
        "id": "RDj-JEQRLsBU",
        "colab_type": "code",
        "colab": {}
      },
      "source": [
        "#convert index to int\n",
        "all_investments.index=all_investments.index.astype('int')"
      ],
      "execution_count": 0,
      "outputs": []
    },
    {
      "cell_type": "code",
      "metadata": {
        "id": "VQHQdqPaLz14",
        "colab_type": "code",
        "colab": {}
      },
      "source": [
        "all_investments.sort_index(inplace=True)"
      ],
      "execution_count": 0,
      "outputs": []
    },
    {
      "cell_type": "code",
      "metadata": {
        "id": "uASSmbOMuBxG",
        "colab_type": "code",
        "outputId": "65e9fa27-e5f4-495f-efd5-f9a026864b5e",
        "colab": {
          "base_uri": "https://localhost:8080/",
          "height": 289
        }
      },
      "source": [
        "all_investments.isna().sum()"
      ],
      "execution_count": 232,
      "outputs": [
        {
          "output_type": "execute_result",
          "data": {
            "text/plain": [
              "CONTRACT_REF_NO     0\n",
              "PRODUCT             0\n",
              "PRODUCT_NAME        0\n",
              "PAYMENT_METHOD      0\n",
              "CURRENCY            0\n",
              "AMOUNT              0\n",
              "LCY_AMOUNT          0\n",
              "BOOKING_DATE        0\n",
              "MATURITY_DATE       1\n",
              "ROLLOVER_ALLOWED    0\n",
              "TENOR               1\n",
              "ROLLOVER_COUNT      0\n",
              "CONTRACT_STATUS     0\n",
              "MAIN_COMP_RATE      0\n",
              "MASKED_ACCOUNT      0\n",
              "dtype: int64"
            ]
          },
          "metadata": {
            "tags": []
          },
          "execution_count": 232
        }
      ]
    },
    {
      "cell_type": "code",
      "metadata": {
        "id": "uvMMY1qcq0Ui",
        "colab_type": "code",
        "colab": {}
      },
      "source": [
        "#dropping all rows with null values\n",
        "all_investments=all_investments.dropna(how='any',axis=0)"
      ],
      "execution_count": 0,
      "outputs": []
    },
    {
      "cell_type": "code",
      "metadata": {
        "id": "SSBRCsrPrJDz",
        "colab_type": "code",
        "outputId": "e5a5b3a1-8ad1-471d-bfc1-09f3c64981b0",
        "colab": {
          "base_uri": "https://localhost:8080/",
          "height": 289
        }
      },
      "source": [
        "#all_investment_data treated\n",
        "all_investments.isnull().sum()"
      ],
      "execution_count": 234,
      "outputs": [
        {
          "output_type": "execute_result",
          "data": {
            "text/plain": [
              "CONTRACT_REF_NO     0\n",
              "PRODUCT             0\n",
              "PRODUCT_NAME        0\n",
              "PAYMENT_METHOD      0\n",
              "CURRENCY            0\n",
              "AMOUNT              0\n",
              "LCY_AMOUNT          0\n",
              "BOOKING_DATE        0\n",
              "MATURITY_DATE       0\n",
              "ROLLOVER_ALLOWED    0\n",
              "TENOR               0\n",
              "ROLLOVER_COUNT      0\n",
              "CONTRACT_STATUS     0\n",
              "MAIN_COMP_RATE      0\n",
              "MASKED_ACCOUNT      0\n",
              "dtype: int64"
            ]
          },
          "metadata": {
            "tags": []
          },
          "execution_count": 234
        }
      ]
    },
    {
      "cell_type": "code",
      "metadata": {
        "id": "CluLuDGyrzI-",
        "colab_type": "code",
        "colab": {}
      },
      "source": [
        "#all_investments_data"
      ],
      "execution_count": 0,
      "outputs": []
    },
    {
      "cell_type": "code",
      "metadata": {
        "id": "NYm6XjRwQ655",
        "colab_type": "code",
        "colab": {}
      },
      "source": [
        "all_investments['BOOKING_DATE']=pd.to_datetime(all_investments['BOOKING_DATE'])\n",
        "all_investments['MATURITY_DATE']=pd.to_datetime(all_investments['MATURITY_DATE'])"
      ],
      "execution_count": 0,
      "outputs": []
    },
    {
      "cell_type": "code",
      "metadata": {
        "id": "8tm-myMFWVjq",
        "colab_type": "code",
        "colab": {}
      },
      "source": [
        "#function to find difference column for new date\n",
        "import numpy as np\n",
        "import datetime\n",
        "from dateutil.relativedelta import relativedelta\n",
        "from datetime import date\n",
        "def Time_Diff(time1,time2):\n",
        "  return np.timedelta64((time2-time1),'D')/np.timedelta64(1,'D')"
      ],
      "execution_count": 0,
      "outputs": []
    },
    {
      "cell_type": "code",
      "metadata": {
        "id": "KjxB_NXRYqca",
        "colab_type": "code",
        "colab": {}
      },
      "source": [
        "all_investments['date_diff']=all_investments.apply(lambda x :Time_Diff(x['BOOKING_DATE'],x['MATURITY_DATE']),axis=1)"
      ],
      "execution_count": 0,
      "outputs": []
    },
    {
      "cell_type": "code",
      "metadata": {
        "id": "6PM6XZZDZH7N",
        "colab_type": "code",
        "colab": {}
      },
      "source": [
        "all_investments=all_investments.drop(['MATURITY_DATE','BOOKING_DATE'],axis=1)"
      ],
      "execution_count": 0,
      "outputs": []
    },
    {
      "cell_type": "code",
      "metadata": {
        "id": "OaEQfd04ZnR6",
        "colab_type": "code",
        "outputId": "bf373ca1-1fb7-4cc7-f3c1-256604aafcf2",
        "colab": {
          "base_uri": "https://localhost:8080/",
          "height": 357
        }
      },
      "source": [
        "all_investments.head()"
      ],
      "execution_count": 240,
      "outputs": [
        {
          "output_type": "execute_result",
          "data": {
            "text/html": [
              "<div>\n",
              "<style scoped>\n",
              "    .dataframe tbody tr th:only-of-type {\n",
              "        vertical-align: middle;\n",
              "    }\n",
              "\n",
              "    .dataframe tbody tr th {\n",
              "        vertical-align: top;\n",
              "    }\n",
              "\n",
              "    .dataframe thead th {\n",
              "        text-align: right;\n",
              "    }\n",
              "</style>\n",
              "<table border=\"1\" class=\"dataframe\">\n",
              "  <thead>\n",
              "    <tr style=\"text-align: right;\">\n",
              "      <th></th>\n",
              "      <th>CONTRACT_REF_NO</th>\n",
              "      <th>PRODUCT</th>\n",
              "      <th>PRODUCT_NAME</th>\n",
              "      <th>PAYMENT_METHOD</th>\n",
              "      <th>CURRENCY</th>\n",
              "      <th>AMOUNT</th>\n",
              "      <th>LCY_AMOUNT</th>\n",
              "      <th>ROLLOVER_ALLOWED</th>\n",
              "      <th>TENOR</th>\n",
              "      <th>ROLLOVER_COUNT</th>\n",
              "      <th>CONTRACT_STATUS</th>\n",
              "      <th>MAIN_COMP_RATE</th>\n",
              "      <th>MASKED_ACCOUNT</th>\n",
              "      <th>date_diff</th>\n",
              "    </tr>\n",
              "    <tr>\n",
              "      <th>CUSTOMER_UNIQUE_ID</th>\n",
              "      <th></th>\n",
              "      <th></th>\n",
              "      <th></th>\n",
              "      <th></th>\n",
              "      <th></th>\n",
              "      <th></th>\n",
              "      <th></th>\n",
              "      <th></th>\n",
              "      <th></th>\n",
              "      <th></th>\n",
              "      <th></th>\n",
              "      <th></th>\n",
              "      <th></th>\n",
              "      <th></th>\n",
              "    </tr>\n",
              "  </thead>\n",
              "  <tbody>\n",
              "    <tr>\n",
              "      <th>226008</th>\n",
              "      <td>099MTDB193305017</td>\n",
              "      <td>MTDB</td>\n",
              "      <td>TERM DEPOSITS</td>\n",
              "      <td>B</td>\n",
              "      <td>NGN</td>\n",
              "      <td>200000.0</td>\n",
              "      <td>200000.0</td>\n",
              "      <td>Y</td>\n",
              "      <td>60.0</td>\n",
              "      <td>0</td>\n",
              "      <td>A</td>\n",
              "      <td>5.5</td>\n",
              "      <td>00******04</td>\n",
              "      <td>60.0</td>\n",
              "    </tr>\n",
              "    <tr>\n",
              "      <th>226008</th>\n",
              "      <td>099MTDB193170028</td>\n",
              "      <td>MTDB</td>\n",
              "      <td>TERM DEPOSITS</td>\n",
              "      <td>B</td>\n",
              "      <td>NGN</td>\n",
              "      <td>1000000.0</td>\n",
              "      <td>1000000.0</td>\n",
              "      <td>Y</td>\n",
              "      <td>30.0</td>\n",
              "      <td>0</td>\n",
              "      <td>A</td>\n",
              "      <td>5.5</td>\n",
              "      <td>00******49</td>\n",
              "      <td>30.0</td>\n",
              "    </tr>\n",
              "    <tr>\n",
              "      <th>1321003</th>\n",
              "      <td>099TBCS170190008</td>\n",
              "      <td>TBCS</td>\n",
              "      <td>TBILLS INVT. FOR CUSTOMER</td>\n",
              "      <td>D</td>\n",
              "      <td>NGN</td>\n",
              "      <td>1100000.0</td>\n",
              "      <td>1100000.0</td>\n",
              "      <td>N</td>\n",
              "      <td>364.0</td>\n",
              "      <td>0</td>\n",
              "      <td>L</td>\n",
              "      <td>18.5</td>\n",
              "      <td>00******36</td>\n",
              "      <td>364.0</td>\n",
              "    </tr>\n",
              "    <tr>\n",
              "      <th>1352000</th>\n",
              "      <td>099COMP171000003</td>\n",
              "      <td>COMP</td>\n",
              "      <td>COMMERCIAL PAPERS SOLD</td>\n",
              "      <td>D</td>\n",
              "      <td>NGN</td>\n",
              "      <td>450000.0</td>\n",
              "      <td>450000.0</td>\n",
              "      <td>Y</td>\n",
              "      <td>31.0</td>\n",
              "      <td>0</td>\n",
              "      <td>L</td>\n",
              "      <td>6.5</td>\n",
              "      <td>00******51</td>\n",
              "      <td>28.0</td>\n",
              "    </tr>\n",
              "    <tr>\n",
              "      <th>2366007</th>\n",
              "      <td>099MTDB19291A00G</td>\n",
              "      <td>MTDB</td>\n",
              "      <td>TERM DEPOSITS</td>\n",
              "      <td>B</td>\n",
              "      <td>NGN</td>\n",
              "      <td>200000.0</td>\n",
              "      <td>200000.0</td>\n",
              "      <td>Y</td>\n",
              "      <td>30.0</td>\n",
              "      <td>0</td>\n",
              "      <td>L</td>\n",
              "      <td>5.0</td>\n",
              "      <td>00******55</td>\n",
              "      <td>30.0</td>\n",
              "    </tr>\n",
              "  </tbody>\n",
              "</table>\n",
              "</div>"
            ],
            "text/plain": [
              "                     CONTRACT_REF_NO PRODUCT  ... MASKED_ACCOUNT date_diff\n",
              "CUSTOMER_UNIQUE_ID                            ...                         \n",
              "226008              099MTDB193305017    MTDB  ...     00******04      60.0\n",
              "226008              099MTDB193170028    MTDB  ...     00******49      30.0\n",
              "1321003             099TBCS170190008    TBCS  ...     00******36     364.0\n",
              "1352000             099COMP171000003    COMP  ...     00******51      28.0\n",
              "2366007             099MTDB19291A00G    MTDB  ...     00******55      30.0\n",
              "\n",
              "[5 rows x 14 columns]"
            ]
          },
          "metadata": {
            "tags": []
          },
          "execution_count": 240
        }
      ]
    },
    {
      "cell_type": "code",
      "metadata": {
        "id": "tIjzLolyLJaF",
        "colab_type": "code",
        "outputId": "45a7709a-e3f5-4228-caea-6dc0645dc28e",
        "colab": {
          "base_uri": "https://localhost:8080/",
          "height": 425
        }
      },
      "source": [
        "all_investments.loc[747196003]"
      ],
      "execution_count": 241,
      "outputs": [
        {
          "output_type": "execute_result",
          "data": {
            "text/html": [
              "<div>\n",
              "<style scoped>\n",
              "    .dataframe tbody tr th:only-of-type {\n",
              "        vertical-align: middle;\n",
              "    }\n",
              "\n",
              "    .dataframe tbody tr th {\n",
              "        vertical-align: top;\n",
              "    }\n",
              "\n",
              "    .dataframe thead th {\n",
              "        text-align: right;\n",
              "    }\n",
              "</style>\n",
              "<table border=\"1\" class=\"dataframe\">\n",
              "  <thead>\n",
              "    <tr style=\"text-align: right;\">\n",
              "      <th></th>\n",
              "      <th>CONTRACT_REF_NO</th>\n",
              "      <th>PRODUCT</th>\n",
              "      <th>PRODUCT_NAME</th>\n",
              "      <th>PAYMENT_METHOD</th>\n",
              "      <th>CURRENCY</th>\n",
              "      <th>AMOUNT</th>\n",
              "      <th>LCY_AMOUNT</th>\n",
              "      <th>ROLLOVER_ALLOWED</th>\n",
              "      <th>TENOR</th>\n",
              "      <th>ROLLOVER_COUNT</th>\n",
              "      <th>CONTRACT_STATUS</th>\n",
              "      <th>MAIN_COMP_RATE</th>\n",
              "      <th>MASKED_ACCOUNT</th>\n",
              "      <th>date_diff</th>\n",
              "    </tr>\n",
              "    <tr>\n",
              "      <th>CUSTOMER_UNIQUE_ID</th>\n",
              "      <th></th>\n",
              "      <th></th>\n",
              "      <th></th>\n",
              "      <th></th>\n",
              "      <th></th>\n",
              "      <th></th>\n",
              "      <th></th>\n",
              "      <th></th>\n",
              "      <th></th>\n",
              "      <th></th>\n",
              "      <th></th>\n",
              "      <th></th>\n",
              "      <th></th>\n",
              "      <th></th>\n",
              "    </tr>\n",
              "  </thead>\n",
              "  <tbody>\n",
              "    <tr>\n",
              "      <th>747196003</th>\n",
              "      <td>099TBCS180100002</td>\n",
              "      <td>TBCS</td>\n",
              "      <td>TBILLS INVT. FOR CUSTOMER</td>\n",
              "      <td>D</td>\n",
              "      <td>NGN</td>\n",
              "      <td>3000000.0</td>\n",
              "      <td>3000000.0</td>\n",
              "      <td>N</td>\n",
              "      <td>163.0</td>\n",
              "      <td>0</td>\n",
              "      <td>L</td>\n",
              "      <td>13.00</td>\n",
              "      <td>07******36</td>\n",
              "      <td>162.0</td>\n",
              "    </tr>\n",
              "    <tr>\n",
              "      <th>747196003</th>\n",
              "      <td>099TBCS183330563</td>\n",
              "      <td>TBCS</td>\n",
              "      <td>TBILLS INVT. FOR CUSTOMER</td>\n",
              "      <td>D</td>\n",
              "      <td>NGN</td>\n",
              "      <td>5500000.0</td>\n",
              "      <td>5500000.0</td>\n",
              "      <td>N</td>\n",
              "      <td>175.0</td>\n",
              "      <td>0</td>\n",
              "      <td>L</td>\n",
              "      <td>12.65</td>\n",
              "      <td>07******36</td>\n",
              "      <td>175.0</td>\n",
              "    </tr>\n",
              "    <tr>\n",
              "      <th>747196003</th>\n",
              "      <td>099TBCS182680589</td>\n",
              "      <td>TBCS</td>\n",
              "      <td>TBILLS INVT. FOR CUSTOMER</td>\n",
              "      <td>D</td>\n",
              "      <td>NGN</td>\n",
              "      <td>2000000.0</td>\n",
              "      <td>2000000.0</td>\n",
              "      <td>N</td>\n",
              "      <td>65.0</td>\n",
              "      <td>0</td>\n",
              "      <td>L</td>\n",
              "      <td>10.50</td>\n",
              "      <td>07******36</td>\n",
              "      <td>65.0</td>\n",
              "    </tr>\n",
              "    <tr>\n",
              "      <th>747196003</th>\n",
              "      <td>099TBCS180850020</td>\n",
              "      <td>TBCS</td>\n",
              "      <td>TBILLS INVT. FOR CUSTOMER</td>\n",
              "      <td>D</td>\n",
              "      <td>NGN</td>\n",
              "      <td>1000000.0</td>\n",
              "      <td>1000000.0</td>\n",
              "      <td>N</td>\n",
              "      <td>132.0</td>\n",
              "      <td>0</td>\n",
              "      <td>L</td>\n",
              "      <td>12.00</td>\n",
              "      <td>07******36</td>\n",
              "      <td>129.0</td>\n",
              "    </tr>\n",
              "    <tr>\n",
              "      <th>747196003</th>\n",
              "      <td>099TBCS181830515</td>\n",
              "      <td>TBCS</td>\n",
              "      <td>TBILLS INVT. FOR CUSTOMER</td>\n",
              "      <td>D</td>\n",
              "      <td>NGN</td>\n",
              "      <td>2712000.0</td>\n",
              "      <td>2712000.0</td>\n",
              "      <td>N</td>\n",
              "      <td>136.0</td>\n",
              "      <td>0</td>\n",
              "      <td>L</td>\n",
              "      <td>11.00</td>\n",
              "      <td>07******36</td>\n",
              "      <td>136.0</td>\n",
              "    </tr>\n",
              "  </tbody>\n",
              "</table>\n",
              "</div>"
            ],
            "text/plain": [
              "                     CONTRACT_REF_NO PRODUCT  ... MASKED_ACCOUNT date_diff\n",
              "CUSTOMER_UNIQUE_ID                            ...                         \n",
              "747196003           099TBCS180100002    TBCS  ...     07******36     162.0\n",
              "747196003           099TBCS183330563    TBCS  ...     07******36     175.0\n",
              "747196003           099TBCS182680589    TBCS  ...     07******36      65.0\n",
              "747196003           099TBCS180850020    TBCS  ...     07******36     129.0\n",
              "747196003           099TBCS181830515    TBCS  ...     07******36     136.0\n",
              "\n",
              "[5 rows x 14 columns]"
            ]
          },
          "metadata": {
            "tags": []
          },
          "execution_count": 241
        }
      ]
    },
    {
      "cell_type": "code",
      "metadata": {
        "id": "B3ude-mqL1xE",
        "colab_type": "code",
        "colab": {}
      },
      "source": [
        "#Seeing from the above info that documents all investments per customer.taking the \n",
        "#mean investments of the customer will be a better options\n",
        "#convert each of maturity date and  booking date in days.find the difference.and while grouping by find the mean days\n",
        "all_investments=all_investments.groupby(all_investments.index).agg({'AMOUNT':'mean','TENOR':'mean','MAIN_COMP_RATE':'mean','date_diff':'mean'})\n"
      ],
      "execution_count": 0,
      "outputs": []
    },
    {
      "cell_type": "code",
      "metadata": {
        "id": "r1VydboUX2FQ",
        "colab_type": "code",
        "outputId": "ddeb3c9f-45ba-46fe-ad39-3a2afb8b579a",
        "colab": {
          "base_uri": "https://localhost:8080/",
          "height": 235
        }
      },
      "source": [
        "all_investments.head()"
      ],
      "execution_count": 243,
      "outputs": [
        {
          "output_type": "execute_result",
          "data": {
            "text/html": [
              "<div>\n",
              "<style scoped>\n",
              "    .dataframe tbody tr th:only-of-type {\n",
              "        vertical-align: middle;\n",
              "    }\n",
              "\n",
              "    .dataframe tbody tr th {\n",
              "        vertical-align: top;\n",
              "    }\n",
              "\n",
              "    .dataframe thead th {\n",
              "        text-align: right;\n",
              "    }\n",
              "</style>\n",
              "<table border=\"1\" class=\"dataframe\">\n",
              "  <thead>\n",
              "    <tr style=\"text-align: right;\">\n",
              "      <th></th>\n",
              "      <th>AMOUNT</th>\n",
              "      <th>TENOR</th>\n",
              "      <th>MAIN_COMP_RATE</th>\n",
              "      <th>date_diff</th>\n",
              "    </tr>\n",
              "    <tr>\n",
              "      <th>CUSTOMER_UNIQUE_ID</th>\n",
              "      <th></th>\n",
              "      <th></th>\n",
              "      <th></th>\n",
              "      <th></th>\n",
              "    </tr>\n",
              "  </thead>\n",
              "  <tbody>\n",
              "    <tr>\n",
              "      <th>226008</th>\n",
              "      <td>600000.0</td>\n",
              "      <td>45.0</td>\n",
              "      <td>5.5</td>\n",
              "      <td>45.0</td>\n",
              "    </tr>\n",
              "    <tr>\n",
              "      <th>1321003</th>\n",
              "      <td>1100000.0</td>\n",
              "      <td>364.0</td>\n",
              "      <td>18.5</td>\n",
              "      <td>364.0</td>\n",
              "    </tr>\n",
              "    <tr>\n",
              "      <th>1352000</th>\n",
              "      <td>450000.0</td>\n",
              "      <td>31.0</td>\n",
              "      <td>6.5</td>\n",
              "      <td>28.0</td>\n",
              "    </tr>\n",
              "    <tr>\n",
              "      <th>2366007</th>\n",
              "      <td>150000.0</td>\n",
              "      <td>30.0</td>\n",
              "      <td>5.0</td>\n",
              "      <td>30.0</td>\n",
              "    </tr>\n",
              "    <tr>\n",
              "      <th>2471001</th>\n",
              "      <td>1000000.0</td>\n",
              "      <td>247.0</td>\n",
              "      <td>15.0</td>\n",
              "      <td>247.0</td>\n",
              "    </tr>\n",
              "  </tbody>\n",
              "</table>\n",
              "</div>"
            ],
            "text/plain": [
              "                       AMOUNT  TENOR  MAIN_COMP_RATE  date_diff\n",
              "CUSTOMER_UNIQUE_ID                                             \n",
              "226008               600000.0   45.0             5.5       45.0\n",
              "1321003             1100000.0  364.0            18.5      364.0\n",
              "1352000              450000.0   31.0             6.5       28.0\n",
              "2366007              150000.0   30.0             5.0       30.0\n",
              "2471001             1000000.0  247.0            15.0      247.0"
            ]
          },
          "metadata": {
            "tags": []
          },
          "execution_count": 243
        }
      ]
    },
    {
      "cell_type": "code",
      "metadata": {
        "id": "Pm30OZ2FtlTQ",
        "colab_type": "code",
        "colab": {}
      },
      "source": [
        "#all_investments_data Treated\n",
        "all_investments_data=all_investments.copy()"
      ],
      "execution_count": 0,
      "outputs": []
    },
    {
      "cell_type": "code",
      "metadata": {
        "id": "lFidOdyBYB50",
        "colab_type": "code",
        "outputId": "56bed88f-9c87-4ecb-b60a-498909915497",
        "colab": {
          "base_uri": "https://localhost:8080/",
          "height": 102
        }
      },
      "source": [
        "#all_investments_data treated\n",
        "all_investments_data.isnull().sum()"
      ],
      "execution_count": 245,
      "outputs": [
        {
          "output_type": "execute_result",
          "data": {
            "text/plain": [
              "AMOUNT            0\n",
              "TENOR             0\n",
              "MAIN_COMP_RATE    0\n",
              "date_diff         0\n",
              "dtype: int64"
            ]
          },
          "metadata": {
            "tags": []
          },
          "execution_count": 245
        }
      ]
    },
    {
      "cell_type": "code",
      "metadata": {
        "id": "nvA_2kU1cGu0",
        "colab_type": "code",
        "colab": {}
      },
      "source": [
        "all_loans.set_index('CUSTOMER_UNIQUE_ID',inplace=True)"
      ],
      "execution_count": 0,
      "outputs": []
    },
    {
      "cell_type": "code",
      "metadata": {
        "id": "uuuBt3ujMKG_",
        "colab_type": "code",
        "colab": {}
      },
      "source": [
        "#convert index to int\n",
        "all_loans.index=all_loans.index.astype('int')"
      ],
      "execution_count": 0,
      "outputs": []
    },
    {
      "cell_type": "code",
      "metadata": {
        "id": "sI0xnxReMSqO",
        "colab_type": "code",
        "colab": {}
      },
      "source": [
        "all_loans.sort_index(inplace=True)"
      ],
      "execution_count": 0,
      "outputs": []
    },
    {
      "cell_type": "code",
      "metadata": {
        "id": "c9-4q2T3d_Yp",
        "colab_type": "code",
        "outputId": "b804b51e-2468-4db0-ca7c-a4365a1a71f9",
        "colab": {
          "base_uri": "https://localhost:8080/",
          "height": 408
        }
      },
      "source": [
        "all_loans.head()"
      ],
      "execution_count": 249,
      "outputs": [
        {
          "output_type": "execute_result",
          "data": {
            "text/html": [
              "<div>\n",
              "<style scoped>\n",
              "    .dataframe tbody tr th:only-of-type {\n",
              "        vertical-align: middle;\n",
              "    }\n",
              "\n",
              "    .dataframe tbody tr th {\n",
              "        vertical-align: top;\n",
              "    }\n",
              "\n",
              "    .dataframe thead th {\n",
              "        text-align: right;\n",
              "    }\n",
              "</style>\n",
              "<table border=\"1\" class=\"dataframe\">\n",
              "  <thead>\n",
              "    <tr style=\"text-align: right;\">\n",
              "      <th></th>\n",
              "      <th>LOAN_REF</th>\n",
              "      <th>PRODUCT_CODE</th>\n",
              "      <th>PRODUCT_NAME</th>\n",
              "      <th>BOOK_DATE</th>\n",
              "      <th>MATURITY_DATE</th>\n",
              "      <th>AMOUNT_FINANCED</th>\n",
              "      <th>CURRENCY</th>\n",
              "      <th>ACCOUNT_STATUS</th>\n",
              "      <th>MASKED_ACCOUNT</th>\n",
              "    </tr>\n",
              "    <tr>\n",
              "      <th>CUSTOMER_UNIQUE_ID</th>\n",
              "      <th></th>\n",
              "      <th></th>\n",
              "      <th></th>\n",
              "      <th></th>\n",
              "      <th></th>\n",
              "      <th></th>\n",
              "      <th></th>\n",
              "      <th></th>\n",
              "      <th></th>\n",
              "    </tr>\n",
              "  </thead>\n",
              "  <tbody>\n",
              "    <tr>\n",
              "      <th>56000</th>\n",
              "      <td>099AMPC190321415</td>\n",
              "      <td>AMPC</td>\n",
              "      <td>ACCESS MONEY PAYDAY ADVANCE</td>\n",
              "      <td>2/1/2019</td>\n",
              "      <td>3/3/2019</td>\n",
              "      <td>24000.0</td>\n",
              "      <td>NGN</td>\n",
              "      <td>L</td>\n",
              "      <td>00******73</td>\n",
              "    </tr>\n",
              "    <tr>\n",
              "      <th>56000</th>\n",
              "      <td>099PDLP1930305Y2</td>\n",
              "      <td>PDLP</td>\n",
              "      <td>PAYDAY ADVANCE</td>\n",
              "      <td>10/30/2019</td>\n",
              "      <td>11/29/2019</td>\n",
              "      <td>135000.0</td>\n",
              "      <td>NGN</td>\n",
              "      <td>A</td>\n",
              "      <td>00******73</td>\n",
              "    </tr>\n",
              "    <tr>\n",
              "      <th>56000</th>\n",
              "      <td>099PDLP191513543</td>\n",
              "      <td>PDLP</td>\n",
              "      <td>PAYDAY ADVANCE</td>\n",
              "      <td>5/31/2019</td>\n",
              "      <td>6/30/2019</td>\n",
              "      <td>126000.0</td>\n",
              "      <td>NGN</td>\n",
              "      <td>L</td>\n",
              "      <td>00******73</td>\n",
              "    </tr>\n",
              "    <tr>\n",
              "      <th>56000</th>\n",
              "      <td>099PDLP190880084</td>\n",
              "      <td>PDLP</td>\n",
              "      <td>PAYDAY ADVANCE</td>\n",
              "      <td>3/29/2019</td>\n",
              "      <td>4/28/2019</td>\n",
              "      <td>10000.0</td>\n",
              "      <td>NGN</td>\n",
              "      <td>L</td>\n",
              "      <td>00******73</td>\n",
              "    </tr>\n",
              "    <tr>\n",
              "      <th>56000</th>\n",
              "      <td>099AMPC183333164</td>\n",
              "      <td>AMPC</td>\n",
              "      <td>ACCESS MONEY PAYDAY ADVANCE</td>\n",
              "      <td>11/29/2018</td>\n",
              "      <td>12/29/2018</td>\n",
              "      <td>18000.0</td>\n",
              "      <td>NGN</td>\n",
              "      <td>L</td>\n",
              "      <td>00******73</td>\n",
              "    </tr>\n",
              "  </tbody>\n",
              "</table>\n",
              "</div>"
            ],
            "text/plain": [
              "                            LOAN_REF PRODUCT_CODE  ... ACCOUNT_STATUS MASKED_ACCOUNT\n",
              "CUSTOMER_UNIQUE_ID                                 ...                              \n",
              "56000               099AMPC190321415         AMPC  ...              L     00******73\n",
              "56000               099PDLP1930305Y2         PDLP  ...              A     00******73\n",
              "56000               099PDLP191513543         PDLP  ...              L     00******73\n",
              "56000               099PDLP190880084         PDLP  ...              L     00******73\n",
              "56000               099AMPC183333164         AMPC  ...              L     00******73\n",
              "\n",
              "[5 rows x 9 columns]"
            ]
          },
          "metadata": {
            "tags": []
          },
          "execution_count": 249
        }
      ]
    },
    {
      "cell_type": "code",
      "metadata": {
        "id": "7W9cbCxMeCzQ",
        "colab_type": "code",
        "outputId": "36f9bcab-e0d0-476c-82a2-8749714186bc",
        "colab": {
          "base_uri": "https://localhost:8080/",
          "height": 895
        }
      },
      "source": [
        "all_loans.loc[important_indexes]"
      ],
      "execution_count": 250,
      "outputs": [
        {
          "output_type": "execute_result",
          "data": {
            "text/html": [
              "<div>\n",
              "<style scoped>\n",
              "    .dataframe tbody tr th:only-of-type {\n",
              "        vertical-align: middle;\n",
              "    }\n",
              "\n",
              "    .dataframe tbody tr th {\n",
              "        vertical-align: top;\n",
              "    }\n",
              "\n",
              "    .dataframe thead th {\n",
              "        text-align: right;\n",
              "    }\n",
              "</style>\n",
              "<table border=\"1\" class=\"dataframe\">\n",
              "  <thead>\n",
              "    <tr style=\"text-align: right;\">\n",
              "      <th></th>\n",
              "      <th>LOAN_REF</th>\n",
              "      <th>PRODUCT_CODE</th>\n",
              "      <th>PRODUCT_NAME</th>\n",
              "      <th>BOOK_DATE</th>\n",
              "      <th>MATURITY_DATE</th>\n",
              "      <th>AMOUNT_FINANCED</th>\n",
              "      <th>CURRENCY</th>\n",
              "      <th>ACCOUNT_STATUS</th>\n",
              "      <th>MASKED_ACCOUNT</th>\n",
              "    </tr>\n",
              "    <tr>\n",
              "      <th>CUSTOMER_UNIQUE_ID</th>\n",
              "      <th></th>\n",
              "      <th></th>\n",
              "      <th></th>\n",
              "      <th></th>\n",
              "      <th></th>\n",
              "      <th></th>\n",
              "      <th></th>\n",
              "      <th></th>\n",
              "      <th></th>\n",
              "    </tr>\n",
              "  </thead>\n",
              "  <tbody>\n",
              "    <tr>\n",
              "      <th>562966000</th>\n",
              "      <td>099AMPC173270599</td>\n",
              "      <td>AMPC</td>\n",
              "      <td>ACCESS MONEY PAYDAY ADVANCE</td>\n",
              "      <td>11/23/2017</td>\n",
              "      <td>12/23/2017</td>\n",
              "      <td>150000.0</td>\n",
              "      <td>NGN</td>\n",
              "      <td>L</td>\n",
              "      <td>00******32</td>\n",
              "    </tr>\n",
              "    <tr>\n",
              "      <th>562966000</th>\n",
              "      <td>099AMPC183093515</td>\n",
              "      <td>AMPC</td>\n",
              "      <td>ACCESS MONEY PAYDAY ADVANCE</td>\n",
              "      <td>11/5/2018</td>\n",
              "      <td>12/5/2018</td>\n",
              "      <td>300000.0</td>\n",
              "      <td>NGN</td>\n",
              "      <td>L</td>\n",
              "      <td>00******32</td>\n",
              "    </tr>\n",
              "    <tr>\n",
              "      <th>562966000</th>\n",
              "      <td>099PDLP190600827</td>\n",
              "      <td>PDLP</td>\n",
              "      <td>PAYDAY ADVANCE</td>\n",
              "      <td>3/1/2019</td>\n",
              "      <td>3/31/2019</td>\n",
              "      <td>500000.0</td>\n",
              "      <td>NGN</td>\n",
              "      <td>L</td>\n",
              "      <td>00******32</td>\n",
              "    </tr>\n",
              "    <tr>\n",
              "      <th>562966000</th>\n",
              "      <td>099AMPC180740112</td>\n",
              "      <td>AMPC</td>\n",
              "      <td>ACCESS MONEY PAYDAY ADVANCE</td>\n",
              "      <td>3/15/2018</td>\n",
              "      <td>4/14/2018</td>\n",
              "      <td>30000.0</td>\n",
              "      <td>NGN</td>\n",
              "      <td>L</td>\n",
              "      <td>00******32</td>\n",
              "    </tr>\n",
              "    <tr>\n",
              "      <th>562966000</th>\n",
              "      <td>099AMPC171671301</td>\n",
              "      <td>AMPC</td>\n",
              "      <td>ACCESS MONEY PAYDAY ADVANCE</td>\n",
              "      <td>6/16/2017</td>\n",
              "      <td>7/16/2017</td>\n",
              "      <td>200000.0</td>\n",
              "      <td>NGN</td>\n",
              "      <td>L</td>\n",
              "      <td>00******32</td>\n",
              "    </tr>\n",
              "    <tr>\n",
              "      <th>...</th>\n",
              "      <td>...</td>\n",
              "      <td>...</td>\n",
              "      <td>...</td>\n",
              "      <td>...</td>\n",
              "      <td>...</td>\n",
              "      <td>...</td>\n",
              "      <td>...</td>\n",
              "      <td>...</td>\n",
              "      <td>...</td>\n",
              "    </tr>\n",
              "    <tr>\n",
              "      <th>65167007</th>\n",
              "      <td>099AMPC173521158</td>\n",
              "      <td>AMPC</td>\n",
              "      <td>ACCESS MONEY PAYDAY ADVANCE</td>\n",
              "      <td>12/18/2017</td>\n",
              "      <td>1/17/2018</td>\n",
              "      <td>35000.0</td>\n",
              "      <td>NGN</td>\n",
              "      <td>L</td>\n",
              "      <td>00******06</td>\n",
              "    </tr>\n",
              "    <tr>\n",
              "      <th>65167007</th>\n",
              "      <td>099SADV191780030</td>\n",
              "      <td>SADV</td>\n",
              "      <td>ONLINE SALARY ADVANCE</td>\n",
              "      <td>6/27/2019</td>\n",
              "      <td>9/25/2019</td>\n",
              "      <td>98000.0</td>\n",
              "      <td>NGN</td>\n",
              "      <td>L</td>\n",
              "      <td>00******06</td>\n",
              "    </tr>\n",
              "    <tr>\n",
              "      <th>65167007</th>\n",
              "      <td>099PDLP192265220</td>\n",
              "      <td>PDLP</td>\n",
              "      <td>PAYDAY ADVANCE</td>\n",
              "      <td>8/14/2019</td>\n",
              "      <td>9/13/2019</td>\n",
              "      <td>20000.0</td>\n",
              "      <td>NGN</td>\n",
              "      <td>L</td>\n",
              "      <td>00******06</td>\n",
              "    </tr>\n",
              "    <tr>\n",
              "      <th>65167007</th>\n",
              "      <td>099AMPC180400323</td>\n",
              "      <td>AMPC</td>\n",
              "      <td>ACCESS MONEY PAYDAY ADVANCE</td>\n",
              "      <td>2/9/2018</td>\n",
              "      <td>3/11/2018</td>\n",
              "      <td>35000.0</td>\n",
              "      <td>NGN</td>\n",
              "      <td>L</td>\n",
              "      <td>00******06</td>\n",
              "    </tr>\n",
              "    <tr>\n",
              "      <th>65167007</th>\n",
              "      <td>099AMPC180720292</td>\n",
              "      <td>AMPC</td>\n",
              "      <td>ACCESS MONEY PAYDAY ADVANCE</td>\n",
              "      <td>3/13/2018</td>\n",
              "      <td>4/12/2018</td>\n",
              "      <td>35000.0</td>\n",
              "      <td>NGN</td>\n",
              "      <td>L</td>\n",
              "      <td>00******06</td>\n",
              "    </tr>\n",
              "  </tbody>\n",
              "</table>\n",
              "<p>278505 rows × 9 columns</p>\n",
              "</div>"
            ],
            "text/plain": [
              "                            LOAN_REF PRODUCT_CODE  ... ACCOUNT_STATUS MASKED_ACCOUNT\n",
              "CUSTOMER_UNIQUE_ID                                 ...                              \n",
              "562966000           099AMPC173270599         AMPC  ...              L     00******32\n",
              "562966000           099AMPC183093515         AMPC  ...              L     00******32\n",
              "562966000           099PDLP190600827         PDLP  ...              L     00******32\n",
              "562966000           099AMPC180740112         AMPC  ...              L     00******32\n",
              "562966000           099AMPC171671301         AMPC  ...              L     00******32\n",
              "...                              ...          ...  ...            ...            ...\n",
              "65167007            099AMPC173521158         AMPC  ...              L     00******06\n",
              "65167007            099SADV191780030         SADV  ...              L     00******06\n",
              "65167007            099PDLP192265220         PDLP  ...              L     00******06\n",
              "65167007            099AMPC180400323         AMPC  ...              L     00******06\n",
              "65167007            099AMPC180720292         AMPC  ...              L     00******06\n",
              "\n",
              "[278505 rows x 9 columns]"
            ]
          },
          "metadata": {
            "tags": []
          },
          "execution_count": 250
        }
      ]
    },
    {
      "cell_type": "code",
      "metadata": {
        "id": "77bQ3-__eOnF",
        "colab_type": "code",
        "outputId": "4d0d21c7-8960-41aa-e687-03e3dea463dc",
        "colab": {
          "base_uri": "https://localhost:8080/",
          "height": 187
        }
      },
      "source": [
        "all_loans.isnull().sum()/len(all_loans)"
      ],
      "execution_count": 251,
      "outputs": [
        {
          "output_type": "execute_result",
          "data": {
            "text/plain": [
              "LOAN_REF           0.0\n",
              "PRODUCT_CODE       0.0\n",
              "PRODUCT_NAME       0.0\n",
              "BOOK_DATE          0.0\n",
              "MATURITY_DATE      0.0\n",
              "AMOUNT_FINANCED    0.0\n",
              "CURRENCY           0.0\n",
              "ACCOUNT_STATUS     0.0\n",
              "MASKED_ACCOUNT     0.0\n",
              "dtype: float64"
            ]
          },
          "metadata": {
            "tags": []
          },
          "execution_count": 251
        }
      ]
    },
    {
      "cell_type": "code",
      "metadata": {
        "id": "qAf4nAuVmEMd",
        "colab_type": "code",
        "colab": {}
      },
      "source": [
        "#convert datecolumns to date type\n",
        "all_loans.MATURITY_DATE=pd.to_datetime(all_loans.MATURITY_DATE)\n",
        "all_loans.BOOK_DATE=pd.to_datetime(all_loans.BOOK_DATE)\n"
      ],
      "execution_count": 0,
      "outputs": []
    },
    {
      "cell_type": "code",
      "metadata": {
        "id": "bUIj34eimVhY",
        "colab_type": "code",
        "colab": {}
      },
      "source": [
        "all_loans['date_diff1']=(all_loans.MATURITY_DATE-all_loans.BOOK_DATE)/np.timedelta64(1,'D')"
      ],
      "execution_count": 0,
      "outputs": []
    },
    {
      "cell_type": "code",
      "metadata": {
        "id": "HIzJm_XOmeYk",
        "colab_type": "code",
        "colab": {}
      },
      "source": [
        "all_loans.index=all_loans.index.astype('int')\n"
      ],
      "execution_count": 0,
      "outputs": []
    },
    {
      "cell_type": "code",
      "metadata": {
        "id": "WJJUPXq2Mvuz",
        "colab_type": "code",
        "colab": {}
      },
      "source": [
        "all_loans.sort_index(inplace=True)"
      ],
      "execution_count": 0,
      "outputs": []
    },
    {
      "cell_type": "code",
      "metadata": {
        "id": "ivUe6K9kmiR2",
        "colab_type": "code",
        "colab": {}
      },
      "source": [
        "#aggregating the account status using mode \n",
        "account_status=all_loans.groupby(all_loans.index).ACCOUNT_STATUS.apply(pd.Series.mode).sort_index().to_frame()"
      ],
      "execution_count": 0,
      "outputs": []
    },
    {
      "cell_type": "code",
      "metadata": {
        "id": "hAXy-nNmmt2f",
        "colab_type": "code",
        "colab": {}
      },
      "source": [
        "amount=all_loans.groupby(all_loans.index).AMOUNT_FINANCED.mean().sort_index().to_frame()"
      ],
      "execution_count": 0,
      "outputs": []
    },
    {
      "cell_type": "code",
      "metadata": {
        "id": "xfpxM-V0mwYB",
        "colab_type": "code",
        "colab": {}
      },
      "source": [
        "product_code=all_loans.groupby(all_loans.index).PRODUCT_CODE.apply(pd.Series.mode).sort_index().to_frame()"
      ],
      "execution_count": 0,
      "outputs": []
    },
    {
      "cell_type": "code",
      "metadata": {
        "id": "uve7FD1_m4z4",
        "colab_type": "code",
        "colab": {}
      },
      "source": [
        "date_diff1=all_loans.groupby(all_loans.index).date_diff1.mean().sort_index().to_frame()"
      ],
      "execution_count": 0,
      "outputs": []
    },
    {
      "cell_type": "code",
      "metadata": {
        "id": "QoGaR3ZbnE0H",
        "colab_type": "code",
        "colab": {}
      },
      "source": [
        "#important columns from all_loans\n",
        "dfs=[amount,date_diff1]"
      ],
      "execution_count": 0,
      "outputs": []
    },
    {
      "cell_type": "code",
      "metadata": {
        "id": "sGIirP28nhSY",
        "colab_type": "code",
        "colab": {}
      },
      "source": [
        "all_loans_data=pd.concat(dfs,axis=1)"
      ],
      "execution_count": 0,
      "outputs": []
    },
    {
      "cell_type": "code",
      "metadata": {
        "id": "-9ZB2gEfCm8_",
        "colab_type": "code",
        "outputId": "ebbda5a9-9f75-4533-a886-9cfa56c6f616",
        "colab": {
          "base_uri": "https://localhost:8080/",
          "height": 450
        }
      },
      "source": [
        "#dropping date_diff1 since the column already exit in all_loans_application\n",
        "all_loans_data.drop('date_diff1',axis=1)"
      ],
      "execution_count": 262,
      "outputs": [
        {
          "output_type": "execute_result",
          "data": {
            "text/html": [
              "<div>\n",
              "<style scoped>\n",
              "    .dataframe tbody tr th:only-of-type {\n",
              "        vertical-align: middle;\n",
              "    }\n",
              "\n",
              "    .dataframe tbody tr th {\n",
              "        vertical-align: top;\n",
              "    }\n",
              "\n",
              "    .dataframe thead th {\n",
              "        text-align: right;\n",
              "    }\n",
              "</style>\n",
              "<table border=\"1\" class=\"dataframe\">\n",
              "  <thead>\n",
              "    <tr style=\"text-align: right;\">\n",
              "      <th></th>\n",
              "      <th>AMOUNT_FINANCED</th>\n",
              "    </tr>\n",
              "    <tr>\n",
              "      <th>CUSTOMER_UNIQUE_ID</th>\n",
              "      <th></th>\n",
              "    </tr>\n",
              "  </thead>\n",
              "  <tbody>\n",
              "    <tr>\n",
              "      <th>56000</th>\n",
              "      <td>56827.586207</td>\n",
              "    </tr>\n",
              "    <tr>\n",
              "      <th>62005</th>\n",
              "      <td>72074.074074</td>\n",
              "    </tr>\n",
              "    <tr>\n",
              "      <th>104008</th>\n",
              "      <td>46111.111111</td>\n",
              "    </tr>\n",
              "    <tr>\n",
              "      <th>175007</th>\n",
              "      <td>5235.294118</td>\n",
              "    </tr>\n",
              "    <tr>\n",
              "      <th>200006</th>\n",
              "      <td>74937.500000</td>\n",
              "    </tr>\n",
              "    <tr>\n",
              "      <th>...</th>\n",
              "      <td>...</td>\n",
              "    </tr>\n",
              "    <tr>\n",
              "      <th>999737005</th>\n",
              "      <td>2323.529412</td>\n",
              "    </tr>\n",
              "    <tr>\n",
              "      <th>999823007</th>\n",
              "      <td>8500.000000</td>\n",
              "    </tr>\n",
              "    <tr>\n",
              "      <th>999881002</th>\n",
              "      <td>137183.874000</td>\n",
              "    </tr>\n",
              "    <tr>\n",
              "      <th>999943009</th>\n",
              "      <td>18000.000000</td>\n",
              "    </tr>\n",
              "    <tr>\n",
              "      <th>999944001</th>\n",
              "      <td>9500.000000</td>\n",
              "    </tr>\n",
              "  </tbody>\n",
              "</table>\n",
              "<p>17986 rows × 1 columns</p>\n",
              "</div>"
            ],
            "text/plain": [
              "                    AMOUNT_FINANCED\n",
              "CUSTOMER_UNIQUE_ID                 \n",
              "56000                  56827.586207\n",
              "62005                  72074.074074\n",
              "104008                 46111.111111\n",
              "175007                  5235.294118\n",
              "200006                 74937.500000\n",
              "...                             ...\n",
              "999737005               2323.529412\n",
              "999823007               8500.000000\n",
              "999881002             137183.874000\n",
              "999943009              18000.000000\n",
              "999944001               9500.000000\n",
              "\n",
              "[17986 rows x 1 columns]"
            ]
          },
          "metadata": {
            "tags": []
          },
          "execution_count": 262
        }
      ]
    },
    {
      "cell_type": "code",
      "metadata": {
        "id": "7vrvz_iT6xzC",
        "colab_type": "code",
        "colab": {}
      },
      "source": [
        "#setting index of all_transactions\n",
        "all_transactions_digital.set_index('CUSTOMER_UNIQUE_ID',inplace=True)"
      ],
      "execution_count": 0,
      "outputs": []
    },
    {
      "cell_type": "code",
      "metadata": {
        "id": "O9mqlugSNDMQ",
        "colab_type": "code",
        "colab": {}
      },
      "source": [
        "#convert index to int\n",
        "all_transactions_digital.index=all_transactions_digital.index.astype('int')"
      ],
      "execution_count": 0,
      "outputs": []
    },
    {
      "cell_type": "code",
      "metadata": {
        "id": "LIW9ng5KN2Ic",
        "colab_type": "code",
        "colab": {}
      },
      "source": [
        "all_transactions_digital.sort_index(inplace=True)"
      ],
      "execution_count": 0,
      "outputs": []
    },
    {
      "cell_type": "code",
      "metadata": {
        "id": "krMLncr97HPr",
        "colab_type": "code",
        "outputId": "af78fa3a-1955-4d92-ebd0-48da67d412a9",
        "colab": {
          "base_uri": "https://localhost:8080/",
          "height": 425
        }
      },
      "source": [
        "all_transactions_digital.head()"
      ],
      "execution_count": 266,
      "outputs": [
        {
          "output_type": "execute_result",
          "data": {
            "text/html": [
              "<div>\n",
              "<style scoped>\n",
              "    .dataframe tbody tr th:only-of-type {\n",
              "        vertical-align: middle;\n",
              "    }\n",
              "\n",
              "    .dataframe tbody tr th {\n",
              "        vertical-align: top;\n",
              "    }\n",
              "\n",
              "    .dataframe thead th {\n",
              "        text-align: right;\n",
              "    }\n",
              "</style>\n",
              "<table border=\"1\" class=\"dataframe\">\n",
              "  <thead>\n",
              "    <tr style=\"text-align: right;\">\n",
              "      <th></th>\n",
              "      <th>MASKED_ACCT</th>\n",
              "      <th>TRN_REF_NO</th>\n",
              "      <th>AC_CCY</th>\n",
              "      <th>DRCR_IND</th>\n",
              "      <th>TRN_CODE</th>\n",
              "      <th>FCY_AMOUNT</th>\n",
              "      <th>EXCH_RATE</th>\n",
              "      <th>LCY_AMOUNT</th>\n",
              "      <th>TRN_DT</th>\n",
              "    </tr>\n",
              "    <tr>\n",
              "      <th>CUSTOMER_UNIQUE_ID</th>\n",
              "      <th></th>\n",
              "      <th></th>\n",
              "      <th></th>\n",
              "      <th></th>\n",
              "      <th></th>\n",
              "      <th></th>\n",
              "      <th></th>\n",
              "      <th></th>\n",
              "      <th></th>\n",
              "    </tr>\n",
              "  </thead>\n",
              "  <tbody>\n",
              "    <tr>\n",
              "      <th>56000</th>\n",
              "      <td>00******73</td>\n",
              "      <td>098AWRV192730K2Z</td>\n",
              "      <td>NGN</td>\n",
              "      <td>D</td>\n",
              "      <td>FFR</td>\n",
              "      <td>NaN</td>\n",
              "      <td>NaN</td>\n",
              "      <td>65.0</td>\n",
              "      <td>2019-09-30 00:00:00</td>\n",
              "    </tr>\n",
              "    <tr>\n",
              "      <th>56000</th>\n",
              "      <td>00******73</td>\n",
              "      <td>099MJNL19028I1X3</td>\n",
              "      <td>NGN</td>\n",
              "      <td>D</td>\n",
              "      <td>PWC</td>\n",
              "      <td>NaN</td>\n",
              "      <td>NaN</td>\n",
              "      <td>20.0</td>\n",
              "      <td>2019-01-29 00:00:00</td>\n",
              "    </tr>\n",
              "    <tr>\n",
              "      <th>56000</th>\n",
              "      <td>00******73</td>\n",
              "      <td>040ACWO19119001i</td>\n",
              "      <td>NGN</td>\n",
              "      <td>D</td>\n",
              "      <td>CWU</td>\n",
              "      <td>NaN</td>\n",
              "      <td>NaN</td>\n",
              "      <td>40000.0</td>\n",
              "      <td>2019-04-29 00:00:00</td>\n",
              "    </tr>\n",
              "    <tr>\n",
              "      <th>56000</th>\n",
              "      <td>00******73</td>\n",
              "      <td>099MJNL1902959RG</td>\n",
              "      <td>NGN</td>\n",
              "      <td>D</td>\n",
              "      <td>PWC</td>\n",
              "      <td>NaN</td>\n",
              "      <td>NaN</td>\n",
              "      <td>20.0</td>\n",
              "      <td>2019-01-29 00:00:00</td>\n",
              "    </tr>\n",
              "    <tr>\n",
              "      <th>56000</th>\n",
              "      <td>00******73</td>\n",
              "      <td>322ACWO19029003L</td>\n",
              "      <td>NGN</td>\n",
              "      <td>D</td>\n",
              "      <td>CWU</td>\n",
              "      <td>NaN</td>\n",
              "      <td>NaN</td>\n",
              "      <td>14000.0</td>\n",
              "      <td>2019-01-29 00:00:00</td>\n",
              "    </tr>\n",
              "  </tbody>\n",
              "</table>\n",
              "</div>"
            ],
            "text/plain": [
              "                   MASKED_ACCT  ...               TRN_DT\n",
              "CUSTOMER_UNIQUE_ID              ...                     \n",
              "56000               00******73  ...  2019-09-30 00:00:00\n",
              "56000               00******73  ...  2019-01-29 00:00:00\n",
              "56000               00******73  ...  2019-04-29 00:00:00\n",
              "56000               00******73  ...  2019-01-29 00:00:00\n",
              "56000               00******73  ...  2019-01-29 00:00:00\n",
              "\n",
              "[5 rows x 9 columns]"
            ]
          },
          "metadata": {
            "tags": []
          },
          "execution_count": 266
        }
      ]
    },
    {
      "cell_type": "code",
      "metadata": {
        "id": "Nz7iA7jK7Pud",
        "colab_type": "code",
        "colab": {
          "base_uri": "https://localhost:8080/",
          "height": 136
        },
        "outputId": "be8aa99d-5578-4f11-a516-2dd1ee7a249f"
      },
      "source": [
        "all_transactions_digital=all_transactions_digital.loc[important_indexes]"
      ],
      "execution_count": 267,
      "outputs": [
        {
          "output_type": "stream",
          "text": [
            "/usr/local/lib/python3.6/dist-packages/ipykernel_launcher.py:1: FutureWarning: \n",
            "Passing list-likes to .loc or [] with any missing label will raise\n",
            "KeyError in the future, you can use .reindex() as an alternative.\n",
            "\n",
            "See the documentation here:\n",
            "https://pandas.pydata.org/pandas-docs/stable/user_guide/indexing.html#deprecate-loc-reindex-listlike\n",
            "  \"\"\"Entry point for launching an IPython kernel.\n"
          ],
          "name": "stderr"
        }
      ]
    },
    {
      "cell_type": "code",
      "metadata": {
        "id": "d_KAUWoI7d64",
        "colab_type": "code",
        "colab": {
          "base_uri": "https://localhost:8080/",
          "height": 425
        },
        "outputId": "5cc0780f-5a08-4edd-c33f-edda386a8d57"
      },
      "source": [
        "all_transactions_digital.head()"
      ],
      "execution_count": 268,
      "outputs": [
        {
          "output_type": "execute_result",
          "data": {
            "text/html": [
              "<div>\n",
              "<style scoped>\n",
              "    .dataframe tbody tr th:only-of-type {\n",
              "        vertical-align: middle;\n",
              "    }\n",
              "\n",
              "    .dataframe tbody tr th {\n",
              "        vertical-align: top;\n",
              "    }\n",
              "\n",
              "    .dataframe thead th {\n",
              "        text-align: right;\n",
              "    }\n",
              "</style>\n",
              "<table border=\"1\" class=\"dataframe\">\n",
              "  <thead>\n",
              "    <tr style=\"text-align: right;\">\n",
              "      <th></th>\n",
              "      <th>MASKED_ACCT</th>\n",
              "      <th>TRN_REF_NO</th>\n",
              "      <th>AC_CCY</th>\n",
              "      <th>DRCR_IND</th>\n",
              "      <th>TRN_CODE</th>\n",
              "      <th>FCY_AMOUNT</th>\n",
              "      <th>EXCH_RATE</th>\n",
              "      <th>LCY_AMOUNT</th>\n",
              "      <th>TRN_DT</th>\n",
              "    </tr>\n",
              "    <tr>\n",
              "      <th>CUSTOMER_UNIQUE_ID</th>\n",
              "      <th></th>\n",
              "      <th></th>\n",
              "      <th></th>\n",
              "      <th></th>\n",
              "      <th></th>\n",
              "      <th></th>\n",
              "      <th></th>\n",
              "      <th></th>\n",
              "      <th></th>\n",
              "    </tr>\n",
              "  </thead>\n",
              "  <tbody>\n",
              "    <tr>\n",
              "      <th>562966000</th>\n",
              "      <td>06******15</td>\n",
              "      <td>09901kt192482422</td>\n",
              "      <td>NGN</td>\n",
              "      <td>D</td>\n",
              "      <td>SRC</td>\n",
              "      <td>NaN</td>\n",
              "      <td>NaN</td>\n",
              "      <td>11527.84</td>\n",
              "      <td>2019-09-05 00:00:00</td>\n",
              "    </tr>\n",
              "    <tr>\n",
              "      <th>562966000</th>\n",
              "      <td>00******32</td>\n",
              "      <td>098WNVV191610BH8</td>\n",
              "      <td>NGN</td>\n",
              "      <td>D</td>\n",
              "      <td>FWR</td>\n",
              "      <td>NaN</td>\n",
              "      <td>NaN</td>\n",
              "      <td>1600.00</td>\n",
              "      <td>2019-06-10 00:00:00</td>\n",
              "    </tr>\n",
              "    <tr>\n",
              "      <th>562966000</th>\n",
              "      <td>00******32</td>\n",
              "      <td>099ZTRF190024USN</td>\n",
              "      <td>NGN</td>\n",
              "      <td>D</td>\n",
              "      <td>DBC</td>\n",
              "      <td>0.0</td>\n",
              "      <td>NaN</td>\n",
              "      <td>1000.00</td>\n",
              "      <td>2019-01-02 00:00:00</td>\n",
              "    </tr>\n",
              "    <tr>\n",
              "      <th>562966000</th>\n",
              "      <td>00******32</td>\n",
              "      <td>099MJRL192763hvY</td>\n",
              "      <td>NGN</td>\n",
              "      <td>D</td>\n",
              "      <td>QTM</td>\n",
              "      <td>NaN</td>\n",
              "      <td>NaN</td>\n",
              "      <td>2220.00</td>\n",
              "      <td>2019-10-03 00:00:00</td>\n",
              "    </tr>\n",
              "    <tr>\n",
              "      <th>562966000</th>\n",
              "      <td>00******32</td>\n",
              "      <td>029INMC192760033</td>\n",
              "      <td>NGN</td>\n",
              "      <td>C</td>\n",
              "      <td>IAT</td>\n",
              "      <td>NaN</td>\n",
              "      <td>NaN</td>\n",
              "      <td>39675.00</td>\n",
              "      <td>2019-10-03 00:00:00</td>\n",
              "    </tr>\n",
              "  </tbody>\n",
              "</table>\n",
              "</div>"
            ],
            "text/plain": [
              "                   MASKED_ACCT  ...               TRN_DT\n",
              "CUSTOMER_UNIQUE_ID              ...                     \n",
              "562966000           06******15  ...  2019-09-05 00:00:00\n",
              "562966000           00******32  ...  2019-06-10 00:00:00\n",
              "562966000           00******32  ...  2019-01-02 00:00:00\n",
              "562966000           00******32  ...  2019-10-03 00:00:00\n",
              "562966000           00******32  ...  2019-10-03 00:00:00\n",
              "\n",
              "[5 rows x 9 columns]"
            ]
          },
          "metadata": {
            "tags": []
          },
          "execution_count": 268
        }
      ]
    },
    {
      "cell_type": "code",
      "metadata": {
        "id": "wY8zuuWT70s0",
        "colab_type": "code",
        "colab": {
          "base_uri": "https://localhost:8080/",
          "height": 187
        },
        "outputId": "ee6d8d1c-9378-40a3-b190-69ce112ae494"
      },
      "source": [
        "all_transactions_digital.isnull().sum()/len(all_transactions_digital)"
      ],
      "execution_count": 269,
      "outputs": [
        {
          "output_type": "execute_result",
          "data": {
            "text/plain": [
              "MASKED_ACCT    0.000018\n",
              "TRN_REF_NO     0.000018\n",
              "AC_CCY         0.000018\n",
              "DRCR_IND       0.000018\n",
              "TRN_CODE       0.000018\n",
              "FCY_AMOUNT     0.868479\n",
              "EXCH_RATE      0.999154\n",
              "LCY_AMOUNT     0.000018\n",
              "TRN_DT         0.000018\n",
              "dtype: float64"
            ]
          },
          "metadata": {
            "tags": []
          },
          "execution_count": 269
        }
      ]
    },
    {
      "cell_type": "code",
      "metadata": {
        "id": "A7bU0gLL8Qux",
        "colab_type": "code",
        "colab": {}
      },
      "source": [
        "#removing all null columns greater than 80%.living ones less than 80%\n",
        "all_transactions_digital=all_transactions_digital.loc[:,all_transactions_digital.isnull().mean() < 0.8]"
      ],
      "execution_count": 0,
      "outputs": []
    },
    {
      "cell_type": "code",
      "metadata": {
        "id": "erxGHdahB1tL",
        "colab_type": "code",
        "colab": {
          "base_uri": "https://localhost:8080/",
          "height": 153
        },
        "outputId": "42b1660d-d885-4326-80bb-9c4b0d7bd476"
      },
      "source": [
        "all_transactions_digital.isnull().sum()/len(all_transactions_digital)"
      ],
      "execution_count": 271,
      "outputs": [
        {
          "output_type": "execute_result",
          "data": {
            "text/plain": [
              "MASKED_ACCT    0.000018\n",
              "TRN_REF_NO     0.000018\n",
              "AC_CCY         0.000018\n",
              "DRCR_IND       0.000018\n",
              "TRN_CODE       0.000018\n",
              "LCY_AMOUNT     0.000018\n",
              "TRN_DT         0.000018\n",
              "dtype: float64"
            ]
          },
          "metadata": {
            "tags": []
          },
          "execution_count": 271
        }
      ]
    },
    {
      "cell_type": "code",
      "metadata": {
        "id": "Q7N3ftdsCnqK",
        "colab_type": "code",
        "colab": {
          "base_uri": "https://localhost:8080/",
          "height": 620
        },
        "outputId": "0b4b4d42-8722-40c7-a249-2d2902e8d89c"
      },
      "source": [
        "all_transactions_digital.dropna(how='any',axis=0)"
      ],
      "execution_count": 272,
      "outputs": [
        {
          "output_type": "execute_result",
          "data": {
            "text/html": [
              "<div>\n",
              "<style scoped>\n",
              "    .dataframe tbody tr th:only-of-type {\n",
              "        vertical-align: middle;\n",
              "    }\n",
              "\n",
              "    .dataframe tbody tr th {\n",
              "        vertical-align: top;\n",
              "    }\n",
              "\n",
              "    .dataframe thead th {\n",
              "        text-align: right;\n",
              "    }\n",
              "</style>\n",
              "<table border=\"1\" class=\"dataframe\">\n",
              "  <thead>\n",
              "    <tr style=\"text-align: right;\">\n",
              "      <th></th>\n",
              "      <th>MASKED_ACCT</th>\n",
              "      <th>TRN_REF_NO</th>\n",
              "      <th>AC_CCY</th>\n",
              "      <th>DRCR_IND</th>\n",
              "      <th>TRN_CODE</th>\n",
              "      <th>LCY_AMOUNT</th>\n",
              "      <th>TRN_DT</th>\n",
              "    </tr>\n",
              "    <tr>\n",
              "      <th>CUSTOMER_UNIQUE_ID</th>\n",
              "      <th></th>\n",
              "      <th></th>\n",
              "      <th></th>\n",
              "      <th></th>\n",
              "      <th></th>\n",
              "      <th></th>\n",
              "      <th></th>\n",
              "    </tr>\n",
              "  </thead>\n",
              "  <tbody>\n",
              "    <tr>\n",
              "      <th>562966000</th>\n",
              "      <td>06******15</td>\n",
              "      <td>09901kt192482422</td>\n",
              "      <td>NGN</td>\n",
              "      <td>D</td>\n",
              "      <td>SRC</td>\n",
              "      <td>11527.84</td>\n",
              "      <td>2019-09-05 00:00:00</td>\n",
              "    </tr>\n",
              "    <tr>\n",
              "      <th>562966000</th>\n",
              "      <td>00******32</td>\n",
              "      <td>098WNVV191610BH8</td>\n",
              "      <td>NGN</td>\n",
              "      <td>D</td>\n",
              "      <td>FWR</td>\n",
              "      <td>1600.00</td>\n",
              "      <td>2019-06-10 00:00:00</td>\n",
              "    </tr>\n",
              "    <tr>\n",
              "      <th>562966000</th>\n",
              "      <td>00******32</td>\n",
              "      <td>099ZTRF190024USN</td>\n",
              "      <td>NGN</td>\n",
              "      <td>D</td>\n",
              "      <td>DBC</td>\n",
              "      <td>1000.00</td>\n",
              "      <td>2019-01-02 00:00:00</td>\n",
              "    </tr>\n",
              "    <tr>\n",
              "      <th>562966000</th>\n",
              "      <td>00******32</td>\n",
              "      <td>099MJRL192763hvY</td>\n",
              "      <td>NGN</td>\n",
              "      <td>D</td>\n",
              "      <td>QTM</td>\n",
              "      <td>2220.00</td>\n",
              "      <td>2019-10-03 00:00:00</td>\n",
              "    </tr>\n",
              "    <tr>\n",
              "      <th>562966000</th>\n",
              "      <td>00******32</td>\n",
              "      <td>029INMC192760033</td>\n",
              "      <td>NGN</td>\n",
              "      <td>C</td>\n",
              "      <td>IAT</td>\n",
              "      <td>39675.00</td>\n",
              "      <td>2019-10-03 00:00:00</td>\n",
              "    </tr>\n",
              "    <tr>\n",
              "      <th>...</th>\n",
              "      <td>...</td>\n",
              "      <td>...</td>\n",
              "      <td>...</td>\n",
              "      <td>...</td>\n",
              "      <td>...</td>\n",
              "      <td>...</td>\n",
              "      <td>...</td>\n",
              "    </tr>\n",
              "    <tr>\n",
              "      <th>65167007</th>\n",
              "      <td>00******06</td>\n",
              "      <td>098WNVI190880BI9</td>\n",
              "      <td>NGN</td>\n",
              "      <td>D</td>\n",
              "      <td>FWR</td>\n",
              "      <td>3000.00</td>\n",
              "      <td>2019-03-29 00:00:00</td>\n",
              "    </tr>\n",
              "    <tr>\n",
              "      <th>65167007</th>\n",
              "      <td>00******06</td>\n",
              "      <td>098WNVI1918607dV</td>\n",
              "      <td>NGN</td>\n",
              "      <td>D</td>\n",
              "      <td>FWR</td>\n",
              "      <td>5000.00</td>\n",
              "      <td>2019-07-05 00:00:00</td>\n",
              "    </tr>\n",
              "    <tr>\n",
              "      <th>65167007</th>\n",
              "      <td>00******06</td>\n",
              "      <td>098WNVI1909109UO</td>\n",
              "      <td>NGN</td>\n",
              "      <td>D</td>\n",
              "      <td>FWR</td>\n",
              "      <td>4000.00</td>\n",
              "      <td>2019-04-01 00:00:00</td>\n",
              "    </tr>\n",
              "    <tr>\n",
              "      <th>65167007</th>\n",
              "      <td>00******06</td>\n",
              "      <td>098AWRV1903706ri</td>\n",
              "      <td>NGN</td>\n",
              "      <td>D</td>\n",
              "      <td>CWR</td>\n",
              "      <td>13000.00</td>\n",
              "      <td>2019-02-06 00:00:00</td>\n",
              "    </tr>\n",
              "    <tr>\n",
              "      <th>65167007</th>\n",
              "      <td>00******06</td>\n",
              "      <td>098WNVI192540HnW</td>\n",
              "      <td>NGN</td>\n",
              "      <td>D</td>\n",
              "      <td>FWR</td>\n",
              "      <td>7000.00</td>\n",
              "      <td>2019-09-11 00:00:00</td>\n",
              "    </tr>\n",
              "  </tbody>\n",
              "</table>\n",
              "<p>8842739 rows × 7 columns</p>\n",
              "</div>"
            ],
            "text/plain": [
              "                   MASKED_ACCT  ...               TRN_DT\n",
              "CUSTOMER_UNIQUE_ID              ...                     \n",
              "562966000           06******15  ...  2019-09-05 00:00:00\n",
              "562966000           00******32  ...  2019-06-10 00:00:00\n",
              "562966000           00******32  ...  2019-01-02 00:00:00\n",
              "562966000           00******32  ...  2019-10-03 00:00:00\n",
              "562966000           00******32  ...  2019-10-03 00:00:00\n",
              "...                        ...  ...                  ...\n",
              "65167007            00******06  ...  2019-03-29 00:00:00\n",
              "65167007            00******06  ...  2019-07-05 00:00:00\n",
              "65167007            00******06  ...  2019-04-01 00:00:00\n",
              "65167007            00******06  ...  2019-02-06 00:00:00\n",
              "65167007            00******06  ...  2019-09-11 00:00:00\n",
              "\n",
              "[8842739 rows x 7 columns]"
            ]
          },
          "metadata": {
            "tags": []
          },
          "execution_count": 272
        }
      ]
    },
    {
      "cell_type": "code",
      "metadata": {
        "id": "icw-9aKpDDFi",
        "colab_type": "code",
        "colab": {
          "base_uri": "https://localhost:8080/",
          "height": 153
        },
        "outputId": "0c20cfe8-17b3-4ebd-ecfc-ea9841dabde5"
      },
      "source": [
        "all_transactions_digital.isnull().sum()"
      ],
      "execution_count": 273,
      "outputs": [
        {
          "output_type": "execute_result",
          "data": {
            "text/plain": [
              "MASKED_ACCT    163\n",
              "TRN_REF_NO     163\n",
              "AC_CCY         163\n",
              "DRCR_IND       163\n",
              "TRN_CODE       163\n",
              "LCY_AMOUNT     163\n",
              "TRN_DT         163\n",
              "dtype: int64"
            ]
          },
          "metadata": {
            "tags": []
          },
          "execution_count": 273
        }
      ]
    },
    {
      "cell_type": "code",
      "metadata": {
        "id": "B0JEYYh4E0_X",
        "colab_type": "code",
        "colab": {}
      },
      "source": [
        "#out of the 7 fields i decided to pick masked account to check the row index that are null\n",
        "all_transactions_digital_idx=all_transactions_digital.loc[all_transactions_digital['MASKED_ACCT'].isnull()].index"
      ],
      "execution_count": 0,
      "outputs": []
    },
    {
      "cell_type": "code",
      "metadata": {
        "id": "AiDR5sKyFkGE",
        "colab_type": "code",
        "colab": {
          "base_uri": "https://localhost:8080/",
          "height": 119
        },
        "outputId": "dd9c82a9-63e8-4f7d-ade1-304ff4a1bad8"
      },
      "source": [
        "#indexes where there were null in the rows\n",
        "all_transactions_digital_idx"
      ],
      "execution_count": 275,
      "outputs": [
        {
          "output_type": "execute_result",
          "data": {
            "text/plain": [
              "Int64Index([688775005, 916490004, 829948005, 892728000, 627506006, 845721009,\n",
              "            905122006, 207407006, 816232009, 711015007,\n",
              "            ...\n",
              "            336561003, 611594006, 314075001,  53353011, 365834012, 105029001,\n",
              "             22594016, 832199003, 190903002, 162998000],\n",
              "           dtype='int64', name='CUSTOMER_UNIQUE_ID', length=163)"
            ]
          },
          "metadata": {
            "tags": []
          },
          "execution_count": 275
        }
      ]
    },
    {
      "cell_type": "code",
      "metadata": {
        "id": "KdnGorwcGGCk",
        "colab_type": "code",
        "colab": {}
      },
      "source": [
        "#drop row index with null values\n",
        "all_transactions_digital=all_transactions_digital.drop(all_transactions_digital_idx.tolist())"
      ],
      "execution_count": 0,
      "outputs": []
    },
    {
      "cell_type": "code",
      "metadata": {
        "id": "pftAD4MLelGO",
        "colab_type": "code",
        "colab": {}
      },
      "source": [
        "#all_transactions_digital_data treated\n",
        "all_transactions_digital_data=all_transactions_digital.copy()"
      ],
      "execution_count": 0,
      "outputs": []
    },
    {
      "cell_type": "code",
      "metadata": {
        "id": "aXHyz8PLes0j",
        "colab_type": "code",
        "colab": {
          "base_uri": "https://localhost:8080/",
          "height": 320
        },
        "outputId": "330c7f69-19e2-4e2e-f87d-7c482d5c721c"
      },
      "source": [
        "all_transactions_digital_data.head()"
      ],
      "execution_count": 278,
      "outputs": [
        {
          "output_type": "execute_result",
          "data": {
            "text/html": [
              "<div>\n",
              "<style scoped>\n",
              "    .dataframe tbody tr th:only-of-type {\n",
              "        vertical-align: middle;\n",
              "    }\n",
              "\n",
              "    .dataframe tbody tr th {\n",
              "        vertical-align: top;\n",
              "    }\n",
              "\n",
              "    .dataframe thead th {\n",
              "        text-align: right;\n",
              "    }\n",
              "</style>\n",
              "<table border=\"1\" class=\"dataframe\">\n",
              "  <thead>\n",
              "    <tr style=\"text-align: right;\">\n",
              "      <th></th>\n",
              "      <th>MASKED_ACCT</th>\n",
              "      <th>TRN_REF_NO</th>\n",
              "      <th>AC_CCY</th>\n",
              "      <th>DRCR_IND</th>\n",
              "      <th>TRN_CODE</th>\n",
              "      <th>LCY_AMOUNT</th>\n",
              "      <th>TRN_DT</th>\n",
              "    </tr>\n",
              "    <tr>\n",
              "      <th>CUSTOMER_UNIQUE_ID</th>\n",
              "      <th></th>\n",
              "      <th></th>\n",
              "      <th></th>\n",
              "      <th></th>\n",
              "      <th></th>\n",
              "      <th></th>\n",
              "      <th></th>\n",
              "    </tr>\n",
              "  </thead>\n",
              "  <tbody>\n",
              "    <tr>\n",
              "      <th>562966000</th>\n",
              "      <td>06******15</td>\n",
              "      <td>09901kt192482422</td>\n",
              "      <td>NGN</td>\n",
              "      <td>D</td>\n",
              "      <td>SRC</td>\n",
              "      <td>11527.84</td>\n",
              "      <td>2019-09-05 00:00:00</td>\n",
              "    </tr>\n",
              "    <tr>\n",
              "      <th>562966000</th>\n",
              "      <td>00******32</td>\n",
              "      <td>098WNVV191610BH8</td>\n",
              "      <td>NGN</td>\n",
              "      <td>D</td>\n",
              "      <td>FWR</td>\n",
              "      <td>1600.00</td>\n",
              "      <td>2019-06-10 00:00:00</td>\n",
              "    </tr>\n",
              "    <tr>\n",
              "      <th>562966000</th>\n",
              "      <td>00******32</td>\n",
              "      <td>099ZTRF190024USN</td>\n",
              "      <td>NGN</td>\n",
              "      <td>D</td>\n",
              "      <td>DBC</td>\n",
              "      <td>1000.00</td>\n",
              "      <td>2019-01-02 00:00:00</td>\n",
              "    </tr>\n",
              "    <tr>\n",
              "      <th>562966000</th>\n",
              "      <td>00******32</td>\n",
              "      <td>099MJRL192763hvY</td>\n",
              "      <td>NGN</td>\n",
              "      <td>D</td>\n",
              "      <td>QTM</td>\n",
              "      <td>2220.00</td>\n",
              "      <td>2019-10-03 00:00:00</td>\n",
              "    </tr>\n",
              "    <tr>\n",
              "      <th>562966000</th>\n",
              "      <td>00******32</td>\n",
              "      <td>029INMC192760033</td>\n",
              "      <td>NGN</td>\n",
              "      <td>C</td>\n",
              "      <td>IAT</td>\n",
              "      <td>39675.00</td>\n",
              "      <td>2019-10-03 00:00:00</td>\n",
              "    </tr>\n",
              "  </tbody>\n",
              "</table>\n",
              "</div>"
            ],
            "text/plain": [
              "                   MASKED_ACCT  ...               TRN_DT\n",
              "CUSTOMER_UNIQUE_ID              ...                     \n",
              "562966000           06******15  ...  2019-09-05 00:00:00\n",
              "562966000           00******32  ...  2019-06-10 00:00:00\n",
              "562966000           00******32  ...  2019-01-02 00:00:00\n",
              "562966000           00******32  ...  2019-10-03 00:00:00\n",
              "562966000           00******32  ...  2019-10-03 00:00:00\n",
              "\n",
              "[5 rows x 7 columns]"
            ]
          },
          "metadata": {
            "tags": []
          },
          "execution_count": 278
        }
      ]
    },
    {
      "cell_type": "code",
      "metadata": {
        "id": "T6-9Xer7fpeU",
        "colab_type": "code",
        "colab": {
          "base_uri": "https://localhost:8080/",
          "height": 620
        },
        "outputId": "b6672ebd-8b6a-4982-9861-0836f2145fdf"
      },
      "source": [
        "all_transactions_digital.loc[562966000]"
      ],
      "execution_count": 279,
      "outputs": [
        {
          "output_type": "execute_result",
          "data": {
            "text/html": [
              "<div>\n",
              "<style scoped>\n",
              "    .dataframe tbody tr th:only-of-type {\n",
              "        vertical-align: middle;\n",
              "    }\n",
              "\n",
              "    .dataframe tbody tr th {\n",
              "        vertical-align: top;\n",
              "    }\n",
              "\n",
              "    .dataframe thead th {\n",
              "        text-align: right;\n",
              "    }\n",
              "</style>\n",
              "<table border=\"1\" class=\"dataframe\">\n",
              "  <thead>\n",
              "    <tr style=\"text-align: right;\">\n",
              "      <th></th>\n",
              "      <th>MASKED_ACCT</th>\n",
              "      <th>TRN_REF_NO</th>\n",
              "      <th>AC_CCY</th>\n",
              "      <th>DRCR_IND</th>\n",
              "      <th>TRN_CODE</th>\n",
              "      <th>LCY_AMOUNT</th>\n",
              "      <th>TRN_DT</th>\n",
              "    </tr>\n",
              "    <tr>\n",
              "      <th>CUSTOMER_UNIQUE_ID</th>\n",
              "      <th></th>\n",
              "      <th></th>\n",
              "      <th></th>\n",
              "      <th></th>\n",
              "      <th></th>\n",
              "      <th></th>\n",
              "      <th></th>\n",
              "    </tr>\n",
              "  </thead>\n",
              "  <tbody>\n",
              "    <tr>\n",
              "      <th>562966000</th>\n",
              "      <td>06******15</td>\n",
              "      <td>09901kt192482422</td>\n",
              "      <td>NGN</td>\n",
              "      <td>D</td>\n",
              "      <td>SRC</td>\n",
              "      <td>11527.84</td>\n",
              "      <td>2019-09-05 00:00:00</td>\n",
              "    </tr>\n",
              "    <tr>\n",
              "      <th>562966000</th>\n",
              "      <td>00******32</td>\n",
              "      <td>098WNVV191610BH8</td>\n",
              "      <td>NGN</td>\n",
              "      <td>D</td>\n",
              "      <td>FWR</td>\n",
              "      <td>1600.00</td>\n",
              "      <td>2019-06-10 00:00:00</td>\n",
              "    </tr>\n",
              "    <tr>\n",
              "      <th>562966000</th>\n",
              "      <td>00******32</td>\n",
              "      <td>099ZTRF190024USN</td>\n",
              "      <td>NGN</td>\n",
              "      <td>D</td>\n",
              "      <td>DBC</td>\n",
              "      <td>1000.00</td>\n",
              "      <td>2019-01-02 00:00:00</td>\n",
              "    </tr>\n",
              "    <tr>\n",
              "      <th>562966000</th>\n",
              "      <td>00******32</td>\n",
              "      <td>099MJRL192763hvY</td>\n",
              "      <td>NGN</td>\n",
              "      <td>D</td>\n",
              "      <td>QTM</td>\n",
              "      <td>2220.00</td>\n",
              "      <td>2019-10-03 00:00:00</td>\n",
              "    </tr>\n",
              "    <tr>\n",
              "      <th>562966000</th>\n",
              "      <td>00******32</td>\n",
              "      <td>029INMC192760033</td>\n",
              "      <td>NGN</td>\n",
              "      <td>C</td>\n",
              "      <td>IAT</td>\n",
              "      <td>39675.00</td>\n",
              "      <td>2019-10-03 00:00:00</td>\n",
              "    </tr>\n",
              "    <tr>\n",
              "      <th>...</th>\n",
              "      <td>...</td>\n",
              "      <td>...</td>\n",
              "      <td>...</td>\n",
              "      <td>...</td>\n",
              "      <td>...</td>\n",
              "      <td>...</td>\n",
              "      <td>...</td>\n",
              "    </tr>\n",
              "    <tr>\n",
              "      <th>562966000</th>\n",
              "      <td>00******32</td>\n",
              "      <td>098WNVV191640ZEk</td>\n",
              "      <td>NGN</td>\n",
              "      <td>D</td>\n",
              "      <td>FWR</td>\n",
              "      <td>7000.00</td>\n",
              "      <td>2019-06-14 00:00:00</td>\n",
              "    </tr>\n",
              "    <tr>\n",
              "      <th>562966000</th>\n",
              "      <td>00******32</td>\n",
              "      <td>099ZTRF192631IXK</td>\n",
              "      <td>NGN</td>\n",
              "      <td>C</td>\n",
              "      <td>LDC</td>\n",
              "      <td>10000.00</td>\n",
              "      <td>2019-09-20 00:00:00</td>\n",
              "    </tr>\n",
              "    <tr>\n",
              "      <th>562966000</th>\n",
              "      <td>00******32</td>\n",
              "      <td>098WNVV191220LzW</td>\n",
              "      <td>NGN</td>\n",
              "      <td>D</td>\n",
              "      <td>FWR</td>\n",
              "      <td>6900.00</td>\n",
              "      <td>2019-05-02 00:00:00</td>\n",
              "    </tr>\n",
              "    <tr>\n",
              "      <th>562966000</th>\n",
              "      <td>00******47</td>\n",
              "      <td>029ACRV190510293</td>\n",
              "      <td>USD</td>\n",
              "      <td>C</td>\n",
              "      <td>REV</td>\n",
              "      <td>8.63</td>\n",
              "      <td>2019-02-20 00:00:00</td>\n",
              "    </tr>\n",
              "    <tr>\n",
              "      <th>562966000</th>\n",
              "      <td>00******32</td>\n",
              "      <td>099ZTRF1904288D5</td>\n",
              "      <td>NGN</td>\n",
              "      <td>D</td>\n",
              "      <td>DBC</td>\n",
              "      <td>4000.00</td>\n",
              "      <td>2019-02-11 00:00:00</td>\n",
              "    </tr>\n",
              "  </tbody>\n",
              "</table>\n",
              "<p>1917 rows × 7 columns</p>\n",
              "</div>"
            ],
            "text/plain": [
              "                   MASKED_ACCT  ...               TRN_DT\n",
              "CUSTOMER_UNIQUE_ID              ...                     \n",
              "562966000           06******15  ...  2019-09-05 00:00:00\n",
              "562966000           00******32  ...  2019-06-10 00:00:00\n",
              "562966000           00******32  ...  2019-01-02 00:00:00\n",
              "562966000           00******32  ...  2019-10-03 00:00:00\n",
              "562966000           00******32  ...  2019-10-03 00:00:00\n",
              "...                        ...  ...                  ...\n",
              "562966000           00******32  ...  2019-06-14 00:00:00\n",
              "562966000           00******32  ...  2019-09-20 00:00:00\n",
              "562966000           00******32  ...  2019-05-02 00:00:00\n",
              "562966000           00******47  ...  2019-02-20 00:00:00\n",
              "562966000           00******32  ...  2019-02-11 00:00:00\n",
              "\n",
              "[1917 rows x 7 columns]"
            ]
          },
          "metadata": {
            "tags": []
          },
          "execution_count": 279
        }
      ]
    },
    {
      "cell_type": "code",
      "metadata": {
        "id": "dJM_Ssi3lDhV",
        "colab_type": "code",
        "colab": {
          "base_uri": "https://localhost:8080/",
          "height": 111
        },
        "outputId": "208dde52-0010-4f7d-f3a6-516f4c7e6e20"
      },
      "source": [
        "#trying to check meaning of DRCR_IND\n",
        "all_dictionary[all_dictionary['FEATURES']=='DRCR_IND']"
      ],
      "execution_count": 280,
      "outputs": [
        {
          "output_type": "execute_result",
          "data": {
            "text/html": [
              "<div>\n",
              "<style scoped>\n",
              "    .dataframe tbody tr th:only-of-type {\n",
              "        vertical-align: middle;\n",
              "    }\n",
              "\n",
              "    .dataframe tbody tr th {\n",
              "        vertical-align: top;\n",
              "    }\n",
              "\n",
              "    .dataframe thead th {\n",
              "        text-align: right;\n",
              "    }\n",
              "</style>\n",
              "<table border=\"1\" class=\"dataframe\">\n",
              "  <thead>\n",
              "    <tr style=\"text-align: right;\">\n",
              "      <th></th>\n",
              "      <th>FEATURES</th>\n",
              "      <th>DESCRIPTION</th>\n",
              "      <th>DATA TYPE</th>\n",
              "      <th>Unnamed: 3</th>\n",
              "      <th>Unnamed: 4</th>\n",
              "    </tr>\n",
              "  </thead>\n",
              "  <tbody>\n",
              "    <tr>\n",
              "      <th>26</th>\n",
              "      <td>DRCR_IND</td>\n",
              "      <td>Debit/Credit indicator, D- Debit, C - Credit</td>\n",
              "      <td>CHAR</td>\n",
              "      <td>NaN</td>\n",
              "      <td>NaN</td>\n",
              "    </tr>\n",
              "    <tr>\n",
              "      <th>66</th>\n",
              "      <td>DRCR_IND</td>\n",
              "      <td>Debit/Credit indicator, D- Debit, C - Credit</td>\n",
              "      <td>CHAR</td>\n",
              "      <td>NaN</td>\n",
              "      <td>NaN</td>\n",
              "    </tr>\n",
              "  </tbody>\n",
              "</table>\n",
              "</div>"
            ],
            "text/plain": [
              "    FEATURES  ... Unnamed: 4\n",
              "26  DRCR_IND  ...        NaN\n",
              "66  DRCR_IND  ...        NaN\n",
              "\n",
              "[2 rows x 5 columns]"
            ]
          },
          "metadata": {
            "tags": []
          },
          "execution_count": 280
        }
      ]
    },
    {
      "cell_type": "code",
      "metadata": {
        "id": "rGmDGwh7nLzG",
        "colab_type": "code",
        "colab": {}
      },
      "source": [
        "all_transactions_digital=all_transactions_digital.groupby([all_transactions_digital.index,all_transactions_digital.DRCR_IND])[['LCY_AMOUNT']].sum()"
      ],
      "execution_count": 0,
      "outputs": []
    },
    {
      "cell_type": "code",
      "metadata": {
        "id": "Bp59FNA3nnB-",
        "colab_type": "code",
        "colab": {}
      },
      "source": [
        "all_transactions_digital=pd.pivot_table(all_transactions_digital.reset_index(),index='CUSTOMER_UNIQUE_ID',columns='DRCR_IND', values='LCY_AMOUNT',aggfunc=np.sum).reset_index()[['CUSTOMER_UNIQUE_ID', 'C', 'D']]"
      ],
      "execution_count": 0,
      "outputs": []
    },
    {
      "cell_type": "code",
      "metadata": {
        "id": "hSGG60jKo1iu",
        "colab_type": "code",
        "colab": {
          "base_uri": "https://localhost:8080/",
          "height": 102
        },
        "outputId": "6017e12e-b4b6-4f83-84cc-f743f521617a"
      },
      "source": [
        "all_transactions_digital.isnull().sum()"
      ],
      "execution_count": 283,
      "outputs": [
        {
          "output_type": "execute_result",
          "data": {
            "text/plain": [
              "DRCR_IND\n",
              "CUSTOMER_UNIQUE_ID     0\n",
              "C                     71\n",
              "D                      7\n",
              "dtype: int64"
            ]
          },
          "metadata": {
            "tags": []
          },
          "execution_count": 283
        }
      ]
    },
    {
      "cell_type": "code",
      "metadata": {
        "id": "cLJzTY3VpN-T",
        "colab_type": "code",
        "colab": {}
      },
      "source": [
        "# pick C to check the null index\n",
        "all_transactions_digital_null_idxC=all_transactions_digital.loc[all_transactions_digital['C'].isnull()].index"
      ],
      "execution_count": 0,
      "outputs": []
    },
    {
      "cell_type": "code",
      "metadata": {
        "id": "a-3cHTY2D5pJ",
        "colab_type": "code",
        "colab": {}
      },
      "source": [
        "#drop row index with null values in C column\n",
        "all_transactions_digital=all_transactions_digital.drop(all_transactions_digital_null_idxC.tolist())"
      ],
      "execution_count": 0,
      "outputs": []
    },
    {
      "cell_type": "code",
      "metadata": {
        "id": "dj7rqY2JFd_o",
        "colab_type": "code",
        "colab": {}
      },
      "source": [
        "#out of the 7 fields i decided to pick masked account to check the null index\n",
        "all_transactions_digital_null_idxD=all_transactions_digital.loc[all_transactions_digital['D'].isnull()].index"
      ],
      "execution_count": 0,
      "outputs": []
    },
    {
      "cell_type": "code",
      "metadata": {
        "id": "c22OcLYTGGsj",
        "colab_type": "code",
        "colab": {}
      },
      "source": [
        "#drop row index with null values in D column\n",
        "all_transactions_digital=all_transactions_digital.drop(all_transactions_digital_null_idxD.tolist())"
      ],
      "execution_count": 0,
      "outputs": []
    },
    {
      "cell_type": "code",
      "metadata": {
        "id": "zwiiB3urGOEx",
        "colab_type": "code",
        "colab": {
          "base_uri": "https://localhost:8080/",
          "height": 102
        },
        "outputId": "5dc32475-1d68-421e-fadb-58a17d8db656"
      },
      "source": [
        "all_transactions_digital.isnull().sum()"
      ],
      "execution_count": 288,
      "outputs": [
        {
          "output_type": "execute_result",
          "data": {
            "text/plain": [
              "DRCR_IND\n",
              "CUSTOMER_UNIQUE_ID    0\n",
              "C                     0\n",
              "D                     0\n",
              "dtype: int64"
            ]
          },
          "metadata": {
            "tags": []
          },
          "execution_count": 288
        }
      ]
    },
    {
      "cell_type": "code",
      "metadata": {
        "id": "00F0Nv4jGZAc",
        "colab_type": "code",
        "colab": {}
      },
      "source": [
        "#treated\n",
        "all_transactions_digital_data=all_transactions_digital.copy()"
      ],
      "execution_count": 0,
      "outputs": []
    },
    {
      "cell_type": "code",
      "metadata": {
        "id": "LmjrL1PwIMFF",
        "colab_type": "code",
        "colab": {}
      },
      "source": [
        "#bureau_score.set_index('CUSTOMER_UNIQUE_ID',inplace=True)\n"
      ],
      "execution_count": 0,
      "outputs": []
    },
    {
      "cell_type": "code",
      "metadata": {
        "id": "-n_SgJdRO0vn",
        "colab_type": "code",
        "colab": {}
      },
      "source": [
        "#bureau_score.sort_index(inplace=True)"
      ],
      "execution_count": 0,
      "outputs": []
    },
    {
      "cell_type": "code",
      "metadata": {
        "id": "bIapIfr4Hm5t",
        "colab_type": "code",
        "colab": {}
      },
      "source": [
        "#bureau_score=bureau_score.loc[important_indexes]"
      ],
      "execution_count": 0,
      "outputs": []
    },
    {
      "cell_type": "code",
      "metadata": {
        "id": "Tgbs-bweGoFt",
        "colab_type": "code",
        "colab": {}
      },
      "source": [
        "#bureau_score_data=bureau_score.copy()"
      ],
      "execution_count": 0,
      "outputs": []
    },
    {
      "cell_type": "code",
      "metadata": {
        "id": "NVUR5MYnH4fw",
        "colab_type": "code",
        "colab": {}
      },
      "source": [
        "dff=[all_loans_application_data,all_loans_data,all_investments_data,all_balances_data,all_accounts_data,all_demographics_data]"
      ],
      "execution_count": 0,
      "outputs": []
    },
    {
      "cell_type": "code",
      "metadata": {
        "id": "ttPbhCgrLsUK",
        "colab_type": "code",
        "colab": {}
      },
      "source": [
        "#train=dff[0].join(dff[1:])"
      ],
      "execution_count": 0,
      "outputs": []
    },
    {
      "cell_type": "code",
      "metadata": {
        "id": "TrHLzKMEdWE2",
        "colab_type": "code",
        "colab": {}
      },
      "source": [
        "#train.isnull().sum()/len(train)"
      ],
      "execution_count": 0,
      "outputs": []
    },
    {
      "cell_type": "code",
      "metadata": {
        "id": "8TXf4djLmaIp",
        "colab_type": "code",
        "colab": {}
      },
      "source": [
        "#train.index"
      ],
      "execution_count": 0,
      "outputs": []
    },
    {
      "cell_type": "code",
      "metadata": {
        "id": "E7MtmsPnLzpH",
        "colab_type": "code",
        "colab": {}
      },
      "source": [
        "from functools import reduce\n",
        "train=reduce(lambda x,y: pd.merge(x,y, on='CUSTOMER_UNIQUE_ID', how='outer'), dff)"
      ],
      "execution_count": 0,
      "outputs": []
    },
    {
      "cell_type": "code",
      "metadata": {
        "id": "KtaIehVJteeY",
        "colab_type": "code",
        "colab": {
          "base_uri": "https://localhost:8080/",
          "height": 765
        },
        "outputId": "b52b01af-d256-4acf-b4f9-ab19baab0381"
      },
      "source": [
        "train.isnull().sum()/len(train)"
      ],
      "execution_count": 298,
      "outputs": [
        {
          "output_type": "execute_result",
          "data": {
            "text/plain": [
              "CUSTOMER_UNIQUE_ID          0.000000\n",
              "OFFERID                     0.000000\n",
              "INCR_ALLOWED                0.000000\n",
              "APPLIED_AMOUNT              0.000000\n",
              "DATE_OF_APPLY               0.000000\n",
              "APPLICATION_STATUS          0.000000\n",
              "MODULE                      0.000000\n",
              "LOAN_CLASSIFICATION         0.000000\n",
              "AMOUNT_FINANCED             0.000000\n",
              "date_diff1                  0.000000\n",
              "AMOUNT                      0.950601\n",
              "TENOR                       0.950601\n",
              "MAIN_COMP_RATE              0.950601\n",
              "date_diff                   0.950601\n",
              "MASKED_ACCOUNT              0.288509\n",
              "VAL_DT                      0.288509\n",
              "BAL                         0.288509\n",
              "ACY_AVL_BAL                 0.000000\n",
              "CUSTOMER_TYPE               0.000817\n",
              "ADDRESS_LINE3               0.000817\n",
              "COUNTRY                     0.000817\n",
              "NATIONALITY                 0.000817\n",
              "LANGUAGE                    0.000817\n",
              "EXPOSURE_COUNTRY            0.000817\n",
              "LOCAL_BRANCH                0.000817\n",
              "FROZEN                      0.000817\n",
              "DECEASED                    0.000817\n",
              "WHEREABOUTS_UNKNOWN         0.000817\n",
              "CUSTOMER_CATEGORY           0.000817\n",
              "LIAB_NODE                   0.000817\n",
              "LIAB_BR                     0.000817\n",
              "UTILITY_PROVIDER            0.000817\n",
              "AML_REQUIRED                0.000817\n",
              "UNADVISED                   0.000817\n",
              "CONSOL_TAX_CERT_REQD        0.000817\n",
              "INDIVIDUAL_TAX_CERT_REQD    0.000817\n",
              "CLS_CCY_ALLOWED             0.000817\n",
              "CLS_PARTICIPANT             0.000817\n",
              "RP_CUSTOMER                 0.000817\n",
              "AUTO_CREATE_ACCOUNT         0.000817\n",
              "TRACK_LIMITS                0.000817\n",
              "SEX                         0.000817\n",
              "MARITAL_STATUS              0.000817\n",
              "dtype: float64"
            ]
          },
          "metadata": {
            "tags": []
          },
          "execution_count": 298
        }
      ]
    },
    {
      "cell_type": "code",
      "metadata": {
        "id": "EE-Zc8wDMIzG",
        "colab_type": "code",
        "colab": {}
      },
      "source": [
        "#removing all null columns greater than 80%.living ones less than 80%\n",
        "train=train.loc[:,train.isnull().mean() < 0.05]"
      ],
      "execution_count": 0,
      "outputs": []
    },
    {
      "cell_type": "code",
      "metadata": {
        "id": "hup9Et7lpzrb",
        "colab_type": "code",
        "colab": {
          "base_uri": "https://localhost:8080/",
          "height": 714
        },
        "outputId": "e868bb8d-b091-40e5-d691-ec9b9752990b"
      },
      "source": [
        "train.info()"
      ],
      "execution_count": 300,
      "outputs": [
        {
          "output_type": "stream",
          "text": [
            "<class 'pandas.core.frame.DataFrame'>\n",
            "Int64Index: 34252 entries, 0 to 34251\n",
            "Data columns (total 36 columns):\n",
            "CUSTOMER_UNIQUE_ID          34252 non-null int64\n",
            "OFFERID                     34252 non-null object\n",
            "INCR_ALLOWED                34252 non-null float64\n",
            "APPLIED_AMOUNT              34252 non-null float64\n",
            "DATE_OF_APPLY               34252 non-null object\n",
            "APPLICATION_STATUS          34252 non-null object\n",
            "MODULE                      34252 non-null object\n",
            "LOAN_CLASSIFICATION         34252 non-null int64\n",
            "AMOUNT_FINANCED             34252 non-null float64\n",
            "date_diff1                  34252 non-null float64\n",
            "ACY_AVL_BAL                 34252 non-null float64\n",
            "CUSTOMER_TYPE               34224 non-null object\n",
            "ADDRESS_LINE3               34224 non-null object\n",
            "COUNTRY                     34224 non-null object\n",
            "NATIONALITY                 34224 non-null object\n",
            "LANGUAGE                    34224 non-null object\n",
            "EXPOSURE_COUNTRY            34224 non-null object\n",
            "LOCAL_BRANCH                34224 non-null float64\n",
            "FROZEN                      34224 non-null object\n",
            "DECEASED                    34224 non-null object\n",
            "WHEREABOUTS_UNKNOWN         34224 non-null object\n",
            "CUSTOMER_CATEGORY           34224 non-null object\n",
            "LIAB_NODE                   34224 non-null object\n",
            "LIAB_BR                     34224 non-null float64\n",
            "UTILITY_PROVIDER            34224 non-null object\n",
            "AML_REQUIRED                34224 non-null object\n",
            "UNADVISED                   34224 non-null object\n",
            "CONSOL_TAX_CERT_REQD        34224 non-null object\n",
            "INDIVIDUAL_TAX_CERT_REQD    34224 non-null object\n",
            "CLS_CCY_ALLOWED             34224 non-null object\n",
            "CLS_PARTICIPANT             34224 non-null object\n",
            "RP_CUSTOMER                 34224 non-null object\n",
            "AUTO_CREATE_ACCOUNT         34224 non-null object\n",
            "TRACK_LIMITS                34224 non-null object\n",
            "SEX                         34224 non-null object\n",
            "MARITAL_STATUS              34224 non-null object\n",
            "dtypes: float64(7), int64(2), object(27)\n",
            "memory usage: 9.7+ MB\n"
          ],
          "name": "stdout"
        }
      ]
    },
    {
      "cell_type": "code",
      "metadata": {
        "id": "ULYL7DcRMYRH",
        "colab_type": "code",
        "colab": {
          "base_uri": "https://localhost:8080/",
          "height": 646
        },
        "outputId": "69d7fadd-9464-475d-d88e-83d6761cc116"
      },
      "source": [
        "train.isnull().sum()/len(train)"
      ],
      "execution_count": 301,
      "outputs": [
        {
          "output_type": "execute_result",
          "data": {
            "text/plain": [
              "CUSTOMER_UNIQUE_ID          0.000000\n",
              "OFFERID                     0.000000\n",
              "INCR_ALLOWED                0.000000\n",
              "APPLIED_AMOUNT              0.000000\n",
              "DATE_OF_APPLY               0.000000\n",
              "APPLICATION_STATUS          0.000000\n",
              "MODULE                      0.000000\n",
              "LOAN_CLASSIFICATION         0.000000\n",
              "AMOUNT_FINANCED             0.000000\n",
              "date_diff1                  0.000000\n",
              "ACY_AVL_BAL                 0.000000\n",
              "CUSTOMER_TYPE               0.000817\n",
              "ADDRESS_LINE3               0.000817\n",
              "COUNTRY                     0.000817\n",
              "NATIONALITY                 0.000817\n",
              "LANGUAGE                    0.000817\n",
              "EXPOSURE_COUNTRY            0.000817\n",
              "LOCAL_BRANCH                0.000817\n",
              "FROZEN                      0.000817\n",
              "DECEASED                    0.000817\n",
              "WHEREABOUTS_UNKNOWN         0.000817\n",
              "CUSTOMER_CATEGORY           0.000817\n",
              "LIAB_NODE                   0.000817\n",
              "LIAB_BR                     0.000817\n",
              "UTILITY_PROVIDER            0.000817\n",
              "AML_REQUIRED                0.000817\n",
              "UNADVISED                   0.000817\n",
              "CONSOL_TAX_CERT_REQD        0.000817\n",
              "INDIVIDUAL_TAX_CERT_REQD    0.000817\n",
              "CLS_CCY_ALLOWED             0.000817\n",
              "CLS_PARTICIPANT             0.000817\n",
              "RP_CUSTOMER                 0.000817\n",
              "AUTO_CREATE_ACCOUNT         0.000817\n",
              "TRACK_LIMITS                0.000817\n",
              "SEX                         0.000817\n",
              "MARITAL_STATUS              0.000817\n",
              "dtype: float64"
            ]
          },
          "metadata": {
            "tags": []
          },
          "execution_count": 301
        }
      ]
    },
    {
      "cell_type": "code",
      "metadata": {
        "id": "SKS7jJR0VOtg",
        "colab_type": "code",
        "colab": {}
      },
      "source": [
        "\n",
        "train.LOCAL_BRANCH.fillna(\"Unknown\",inplace=True)\n",
        "train.SEX.fillna(\"prefer not to say\",inplace=True)\n",
        "train.CUSTOMER_CATEGORY.fillna(\"unknown\",inplace=True)\n",
        "train.MARITAL_STATUS.fillna('unknown',inplace=True)\n",
        "train.ADDRESS_LINE3.fillna('unknown',inplace=True)\n",
        "\n"
      ],
      "execution_count": 0,
      "outputs": []
    },
    {
      "cell_type": "code",
      "metadata": {
        "id": "O7nvziwHM5oy",
        "colab_type": "code",
        "colab": {}
      },
      "source": [
        "train.drop(columns=['AUTO_CREATE_ACCOUNT'\n",
        "                    ,'FROZEN'                      \n",
        "                    ,'DECEASED'                     \n",
        "                    ,'WHEREABOUTS_UNKNOWN'\n",
        "                    ,'UTILITY_PROVIDER'\n",
        "                    ,'AML_REQUIRED'\n",
        "                    ,'INDIVIDUAL_TAX_CERT_REQD'\n",
        "                    ,'UNADVISED'\n",
        "                    ,'CONSOL_TAX_CERT_REQD'\n",
        "                    ,'CLS_CCY_ALLOWED'\n",
        "                    ,'CLS_PARTICIPANT'\n",
        "                    ,'TRACK_LIMITS',\n",
        "                    'RP_CUSTOMER',\n",
        "                    'EXPOSURE_COUNTRY',\n",
        "                    'CUSTOMER_TYPE',\n",
        "                    'LIAB_BR'\n",
        "                    ,'LIAB_NODE']\n",
        "           ,inplace=True)"
      ],
      "execution_count": 0,
      "outputs": []
    },
    {
      "cell_type": "code",
      "metadata": {
        "id": "DzyCzpE5SeCS",
        "colab_type": "code",
        "colab": {
          "base_uri": "https://localhost:8080/",
          "height": 357
        },
        "outputId": "488c589b-cbac-44e9-afbb-d0b46c2a0265"
      },
      "source": [
        "train.isnull().sum()/len(train)"
      ],
      "execution_count": 304,
      "outputs": [
        {
          "output_type": "execute_result",
          "data": {
            "text/plain": [
              "CUSTOMER_UNIQUE_ID     0.000000\n",
              "OFFERID                0.000000\n",
              "INCR_ALLOWED           0.000000\n",
              "APPLIED_AMOUNT         0.000000\n",
              "DATE_OF_APPLY          0.000000\n",
              "APPLICATION_STATUS     0.000000\n",
              "MODULE                 0.000000\n",
              "LOAN_CLASSIFICATION    0.000000\n",
              "AMOUNT_FINANCED        0.000000\n",
              "date_diff1             0.000000\n",
              "ACY_AVL_BAL            0.000000\n",
              "ADDRESS_LINE3          0.000000\n",
              "COUNTRY                0.000817\n",
              "NATIONALITY            0.000817\n",
              "LANGUAGE               0.000817\n",
              "LOCAL_BRANCH           0.000000\n",
              "CUSTOMER_CATEGORY      0.000000\n",
              "SEX                    0.000000\n",
              "MARITAL_STATUS         0.000000\n",
              "dtype: float64"
            ]
          },
          "metadata": {
            "tags": []
          },
          "execution_count": 304
        }
      ]
    },
    {
      "cell_type": "code",
      "metadata": {
        "id": "tZdEJd4IZGge",
        "colab_type": "code",
        "colab": {}
      },
      "source": [
        "train.drop(columns=['NATIONALITY','LANGUAGE','COUNTRY'],inplace=True)"
      ],
      "execution_count": 0,
      "outputs": []
    },
    {
      "cell_type": "code",
      "metadata": {
        "id": "0kh42D9nbV_k",
        "colab_type": "code",
        "colab": {
          "base_uri": "https://localhost:8080/",
          "height": 306
        },
        "outputId": "9fc0f32c-f545-4f32-ad6f-c09d29625f5e"
      },
      "source": [
        "train.isnull().sum()"
      ],
      "execution_count": 306,
      "outputs": [
        {
          "output_type": "execute_result",
          "data": {
            "text/plain": [
              "CUSTOMER_UNIQUE_ID     0\n",
              "OFFERID                0\n",
              "INCR_ALLOWED           0\n",
              "APPLIED_AMOUNT         0\n",
              "DATE_OF_APPLY          0\n",
              "APPLICATION_STATUS     0\n",
              "MODULE                 0\n",
              "LOAN_CLASSIFICATION    0\n",
              "AMOUNT_FINANCED        0\n",
              "date_diff1             0\n",
              "ACY_AVL_BAL            0\n",
              "ADDRESS_LINE3          0\n",
              "LOCAL_BRANCH           0\n",
              "CUSTOMER_CATEGORY      0\n",
              "SEX                    0\n",
              "MARITAL_STATUS         0\n",
              "dtype: int64"
            ]
          },
          "metadata": {
            "tags": []
          },
          "execution_count": 306
        }
      ]
    },
    {
      "cell_type": "code",
      "metadata": {
        "id": "PJzmz0IMbajP",
        "colab_type": "code",
        "colab": {}
      },
      "source": [
        "from sklearn.preprocessing import LabelEncoder\n",
        "from sklearn.model_selection import train_test_split\n"
      ],
      "execution_count": 0,
      "outputs": []
    },
    {
      "cell_type": "code",
      "metadata": {
        "id": "6xenU4kabl9i",
        "colab_type": "code",
        "colab": {}
      },
      "source": [
        "le={}\n",
        "for i in train.select_dtypes(include='object').columns:\n",
        "    le[i]=LabelEncoder()\n",
        "    train[i]=le[i].fit_transform(train[i].astype('str'))"
      ],
      "execution_count": 0,
      "outputs": []
    },
    {
      "cell_type": "code",
      "metadata": {
        "id": "8IklGKK-boEO",
        "colab_type": "code",
        "colab": {}
      },
      "source": [
        "y=train.pop('LOAN_CLASSIFICATION')"
      ],
      "execution_count": 0,
      "outputs": []
    },
    {
      "cell_type": "code",
      "metadata": {
        "id": "-uXNd6YYbxIM",
        "colab_type": "code",
        "colab": {}
      },
      "source": [
        "X_train,X_test,y_train,y_test=train_test_split(train,y,test_size=.3,random_state=234,stratify=y)\n",
        "\n"
      ],
      "execution_count": 0,
      "outputs": []
    },
    {
      "cell_type": "code",
      "metadata": {
        "id": "pVw8WUQ3b5QO",
        "colab_type": "code",
        "colab": {}
      },
      "source": [
        "from sklearn.preprocessing import MinMaxScaler\n",
        "from sklearn.compose import ColumnTransformer\n",
        "from sklearn.preprocessing import StandardScaler\n",
        "from sklearn.ensemble import RandomForestClassifier\n",
        "from sklearn.metrics import roc_curve, auc\n",
        "from xgboost import XGBClassifier \n",
        "import xgboost as xgb\n",
        "from sklearn.metrics import *"
      ],
      "execution_count": 0,
      "outputs": []
    },
    {
      "cell_type": "code",
      "metadata": {
        "id": "xUgV_OvWch75",
        "colab_type": "code",
        "colab": {}
      },
      "source": [
        "'''def get_model(X_train, X_test, y_train, y_test, model):\n",
        "\n",
        "    scaler = MinMaxScaler()\n",
        "    x_train_pre = scaler.fit_transform(X_train)\n",
        "    x_test_pre = scaler.transform(X_test)\n",
        "              \n",
        "    # y_preprocessing = StandardScaler()\n",
        "    # y_preprocessing.fit(y_train)\n",
        "    y_train_pre = y_train\n",
        "    y_test_pre = y_test\n",
        "\n",
        "        \n",
        "    if model == 'RFC':\n",
        "        model = RandomForestClassifier(n_estimators=200)\n",
        "        model.fit(x_train_pre,y_train_pre)\n",
        "        y_prob = model.predict(x_test_pre)\n",
        "        false_positive_rate, true_positive_rate, thresholds = roc_curve(y_test_pre, y_prob)\n",
        "        roc_auc = auc(false_positive_rate, true_positive_rate)\n",
        "        print(\"ROC:\", roc_auc)\n",
        "        \n",
        "    if model == 'XGB':\n",
        "        model = xgb.XGBClassifier(n_estimators=300)\n",
        "        model.fit(x_train_pre,y_train_pre) \n",
        "        y_prob = model.predict(x_test_pre)\n",
        "        false_positive_rate, true_positive_rate, thresholds = roc_curve(y_test_pre, y_prob)\n",
        "        roc_auc = auc(false_positive_rate, true_positive_rate)\n",
        "        print(\"ROC:\", roc_auc)'''\n",
        "\n",
        "  "
      ],
      "execution_count": 0,
      "outputs": []
    },
    {
      "cell_type": "code",
      "metadata": {
        "id": "9KWf5QPCdlDs",
        "colab_type": "code",
        "colab": {
          "base_uri": "https://localhost:8080/",
          "height": 34
        },
        "outputId": "556547e1-a9a4-4299-c224-94b797ffc043"
      },
      "source": [
        "scaler = MinMaxScaler()\n",
        "x_train_pre = scaler.fit_transform(X_train)\n",
        "x_test_pre = scaler.transform(X_test)\n",
        "              \n",
        "    # y_preprocessing = StandardScaler()\n",
        "    # y_preprocessing.fit(y_train)\n",
        "y_train_pre = y_train\n",
        "y_test_pre = y_test\n",
        "\n",
        "modelRF = RandomForestClassifier(n_estimators=200)\n",
        "modelRF.fit(x_train_pre,y_train_pre)\n",
        "y_probRF = modelRF.predict(x_test_pre)\n",
        "false_positive_rate, true_positive_rate, thresholds = roc_curve(y_test_pre, y_probRF)\n",
        "roc_aucRF = auc(false_positive_rate, true_positive_rate)\n",
        "print(\"ROC:\", roc_aucRF)\n",
        "\n",
        "     "
      ],
      "execution_count": 325,
      "outputs": [
        {
          "output_type": "stream",
          "text": [
            "ROC: 0.8166494427256888\n"
          ],
          "name": "stdout"
        }
      ]
    },
    {
      "cell_type": "code",
      "metadata": {
        "id": "6T2rypq7fjLw",
        "colab_type": "code",
        "colab": {}
      },
      "source": [
        ""
      ],
      "execution_count": 0,
      "outputs": []
    },
    {
      "cell_type": "code",
      "metadata": {
        "id": "9EZhfCz4d31Z",
        "colab_type": "code",
        "colab": {
          "base_uri": "https://localhost:8080/",
          "height": 34
        },
        "outputId": "c377af05-7e67-4c07-e2b1-d22f62cfcdbb"
      },
      "source": [
        "modelxgb =xgb.XGBClassifier(n_estimators=300)\n",
        "modelxgb.fit(x_train_pre,y_train_pre) \n",
        "y_probXGB = modelxgb.predict(x_test_pre)\n",
        "false_positive_rate, true_positive_rate, thresholds = roc_curve(y_test_pre, y_probXGB)\n",
        "roc_aucXGB = auc(false_positive_rate, true_positive_rate)\n",
        "print(\"ROC:\", roc_aucXGB)"
      ],
      "execution_count": 326,
      "outputs": [
        {
          "output_type": "stream",
          "text": [
            "ROC: 0.5222265702780909\n"
          ],
          "name": "stdout"
        }
      ]
    },
    {
      "cell_type": "code",
      "metadata": {
        "id": "iiHq6t5fh-Kb",
        "colab_type": "code",
        "colab": {
          "base_uri": "https://localhost:8080/",
          "height": 163
        },
        "outputId": "5bb52bf1-44c2-430e-9103-89100fac247c"
      },
      "source": [
        "f1_score(y_pred,y_test)"
      ],
      "execution_count": 327,
      "outputs": [
        {
          "output_type": "error",
          "ename": "NameError",
          "evalue": "ignored",
          "traceback": [
            "\u001b[0;31m---------------------------------------------------------------------------\u001b[0m",
            "\u001b[0;31mNameError\u001b[0m                                 Traceback (most recent call last)",
            "\u001b[0;32m<ipython-input-327-a1e44087812b>\u001b[0m in \u001b[0;36m<module>\u001b[0;34m()\u001b[0m\n\u001b[0;32m----> 1\u001b[0;31m \u001b[0mf1_score\u001b[0m\u001b[0;34m(\u001b[0m\u001b[0my_pred\u001b[0m\u001b[0;34m,\u001b[0m\u001b[0my_test\u001b[0m\u001b[0;34m)\u001b[0m\u001b[0;34m\u001b[0m\u001b[0;34m\u001b[0m\u001b[0m\n\u001b[0m",
            "\u001b[0;31mNameError\u001b[0m: name 'y_pred' is not defined"
          ]
        }
      ]
    }
  ]
}