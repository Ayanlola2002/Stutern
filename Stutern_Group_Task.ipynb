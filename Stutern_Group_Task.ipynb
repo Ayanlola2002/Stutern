{
  "nbformat": 4,
  "nbformat_minor": 0,
  "metadata": {
    "colab": {
      "name": "Stutern_Group_Task.ipynb",
      "provenance": [],
      "collapsed_sections": [],
      "authorship_tag": "ABX9TyPRILa4/idCW6XX2CXZDKfY",
      "include_colab_link": true
    },
    "kernelspec": {
      "name": "python3",
      "display_name": "Python 3"
    }
  },
  "cells": [
    {
      "cell_type": "markdown",
      "metadata": {
        "id": "view-in-github",
        "colab_type": "text"
      },
      "source": [
        "<a href=\"https://colab.research.google.com/github/Ayanlola2002/Stutern/blob/master/Stutern_Group_Task.ipynb\" target=\"_parent\"><img src=\"https://colab.research.google.com/assets/colab-badge.svg\" alt=\"Open In Colab\"/></a>"
      ]
    },
    {
      "cell_type": "code",
      "metadata": {
        "id": "FB3YWiYKf_Jm",
        "colab_type": "code",
        "outputId": "71835d95-68b2-45a9-b428-0232bf35dc0d",
        "colab": {
          "base_uri": "https://localhost:8080/",
          "height": 34
        }
      },
      "source": [
        "from google.colab import drive\n",
        "drive.mount('/content/drive')"
      ],
      "execution_count": 469,
      "outputs": [
        {
          "output_type": "stream",
          "text": [
            "Drive already mounted at /content/drive; to attempt to forcibly remount, call drive.mount(\"/content/drive\", force_remount=True).\n"
          ],
          "name": "stdout"
        }
      ]
    },
    {
      "cell_type": "code",
      "metadata": {
        "id": "m9HmYQkfgcVU",
        "colab_type": "code",
        "outputId": "33b42a28-b68a-4c1b-b9f4-c539b1e6cc03",
        "colab": {
          "base_uri": "https://localhost:8080/",
          "height": 71
        }
      },
      "source": [
        "import pandas as pd\n",
        "all_accounts=pd.read_csv('/content/drive/My Drive/raw/all_accounts.csv')\n",
        "all_balances=pd.read_csv('/content/drive/My Drive/raw/all_balances.csv')\n",
        "all_demographics=pd.read_csv('/content/drive/My Drive/raw/all_demographics.csv',encoding='latin',sep='|')\n",
        "all_investments=pd.read_csv('/content/drive/My Drive/raw/all_investments.csv')\n",
        "all_loans=pd.read_csv('/content/drive/My Drive/raw/all_loans.csv')\n",
        "all_loans_application=pd.read_csv('/content/drive/My Drive/raw/all_loans_application.csv')\n",
        "all_transactions_digital=pd.read_csv('/content/drive/My Drive/raw/all_transactions_digital.csv')\n",
        "bureau_score=pd.read_csv('/content/drive/My Drive/raw/bureau_score.csv')\n",
        "all_dictionary=pd.read_csv('/content/drive/My Drive/raw/dictionary.csv',skiprows=[0])"
      ],
      "execution_count": 470,
      "outputs": [
        {
          "output_type": "stream",
          "text": [
            "/usr/local/lib/python3.6/dist-packages/IPython/core/interactiveshell.py:2718: DtypeWarning: Columns (17,19,26,28,30,35,36,37,38,39,61,71,73,74,85,100,103,114,115,125,126) have mixed types. Specify dtype option on import or set low_memory=False.\n",
            "  interactivity=interactivity, compiler=compiler, result=result)\n"
          ],
          "name": "stderr"
        }
      ]
    },
    {
      "cell_type": "code",
      "metadata": {
        "id": "tMvJoDaIoCWS",
        "colab_type": "code",
        "outputId": "358fd20e-2506-4178-d944-b53ba8e1c227",
        "colab": {
          "base_uri": "https://localhost:8080/",
          "height": 51
        }
      },
      "source": [
        "#we use the all_loans_applications customer id \n",
        "#this indicates all those customers that apply for loans \n",
        "#it may also be possible that a customer ask for multiple loans\n",
        "print(all_loans.shape)\n",
        "print(all_loans_application.shape)"
      ],
      "execution_count": 373,
      "outputs": [
        {
          "output_type": "stream",
          "text": [
            "(278505, 10)\n",
            "(23172, 8)\n"
          ],
          "name": "stdout"
        }
      ]
    },
    {
      "cell_type": "code",
      "metadata": {
        "id": "SBaUH3D3nKpU",
        "colab_type": "code",
        "colab": {}
      },
      "source": [
        "all_loans_application_data=all_loans_application.copy()"
      ],
      "execution_count": 0,
      "outputs": []
    },
    {
      "cell_type": "code",
      "metadata": {
        "id": "n0Mkks35rJWZ",
        "colab_type": "code",
        "colab": {}
      },
      "source": [
        "#setting customerId as index \n",
        "all_loans_application.set_index('CUSTOMER_UNIQUE_ID',inplace=True)"
      ],
      "execution_count": 0,
      "outputs": []
    },
    {
      "cell_type": "code",
      "metadata": {
        "id": "Gpq4ALVtrwCt",
        "colab_type": "code",
        "colab": {}
      },
      "source": [
        "#extracting customer ID from  all_loan_applications\n",
        "important_indexes=all_loans_application.index.unique()"
      ],
      "execution_count": 0,
      "outputs": []
    },
    {
      "cell_type": "code",
      "metadata": {
        "id": "e6D8FwIdsUk5",
        "colab_type": "code",
        "colab": {}
      },
      "source": [
        "#resetting of all_accounts index\n",
        "all_accounts.set_index('CUSTOMER_UNIQUE_ID',inplace=True)\n"
      ],
      "execution_count": 0,
      "outputs": []
    },
    {
      "cell_type": "code",
      "metadata": {
        "id": "VJ5TsCPFtABW",
        "colab_type": "code",
        "outputId": "ee1a0303-b18b-43ae-c933-a09901aa923d",
        "colab": {
          "base_uri": "https://localhost:8080/",
          "height": 136
        }
      },
      "source": [
        "all_accounts=all_accounts.loc[important_indexes]"
      ],
      "execution_count": 378,
      "outputs": [
        {
          "output_type": "stream",
          "text": [
            "/usr/local/lib/python3.6/dist-packages/ipykernel_launcher.py:1: FutureWarning: \n",
            "Passing list-likes to .loc or [] with any missing label will raise\n",
            "KeyError in the future, you can use .reindex() as an alternative.\n",
            "\n",
            "See the documentation here:\n",
            "https://pandas.pydata.org/pandas-docs/stable/user_guide/indexing.html#deprecate-loc-reindex-listlike\n",
            "  \"\"\"Entry point for launching an IPython kernel.\n"
          ],
          "name": "stderr"
        }
      ]
    },
    {
      "cell_type": "code",
      "metadata": {
        "id": "tN55i3RttPEt",
        "colab_type": "code",
        "outputId": "79f869c2-24b7-4141-a795-f7c28f0f605e",
        "colab": {
          "base_uri": "https://localhost:8080/",
          "height": 68
        }
      },
      "source": [
        "all_accounts['RECORD_STAT'].value_counts()"
      ],
      "execution_count": 379,
      "outputs": [
        {
          "output_type": "execute_result",
          "data": {
            "text/plain": [
              "O    27281\n",
              "C     1776\n",
              "Name: RECORD_STAT, dtype: int64"
            ]
          },
          "metadata": {
            "tags": []
          },
          "execution_count": 379
        }
      ]
    },
    {
      "cell_type": "code",
      "metadata": {
        "id": "KOn0ZfsKt3gF",
        "colab_type": "code",
        "outputId": "f8175615-f482-4484-e5ff-c475b0fe35a3",
        "colab": {
          "base_uri": "https://localhost:8080/",
          "height": 34
        }
      },
      "source": [
        "all_accounts.shape"
      ],
      "execution_count": 380,
      "outputs": [
        {
          "output_type": "execute_result",
          "data": {
            "text/plain": [
              "(29068, 4)"
            ]
          },
          "metadata": {
            "tags": []
          },
          "execution_count": 380
        }
      ]
    },
    {
      "cell_type": "code",
      "metadata": {
        "id": "oSZEzZx8uNi0",
        "colab_type": "code",
        "colab": {}
      },
      "source": [
        "all_accounts.drop(columns='MASKED_ACCOUNT',inplace=True)"
      ],
      "execution_count": 0,
      "outputs": []
    },
    {
      "cell_type": "code",
      "metadata": {
        "id": "gGJkUY9Utv7N",
        "colab_type": "code",
        "outputId": "91e4efea-e68d-40c0-a69e-8c1d6f725288",
        "colab": {
          "base_uri": "https://localhost:8080/",
          "height": 102
        }
      },
      "source": [
        "#checking different type of currency\n",
        "all_accounts['CCY'].value_counts()"
      ],
      "execution_count": 382,
      "outputs": [
        {
          "output_type": "execute_result",
          "data": {
            "text/plain": [
              "NGN    26765\n",
              "USD     2082\n",
              "GBP      146\n",
              "EUR       64\n",
              "Name: CCY, dtype: int64"
            ]
          },
          "metadata": {
            "tags": []
          },
          "execution_count": 382
        }
      ]
    },
    {
      "cell_type": "code",
      "metadata": {
        "id": "T-fu_iW8up4N",
        "colab_type": "code",
        "colab": {}
      },
      "source": [
        "#function to convert different currency to naira\n",
        "def con(data):\n",
        "    data.loc[data.CCY=='USD','ACY_AVL_BAL']=data.loc[data.CCY=='USD','ACY_AVL_BAL'].apply(lambda x: x*365)\n",
        "    data.loc[data.CCY=='EUR','ACY_AVL_BAL']=data.loc[data.CCY=='EUR','ACY_AVL_BAL'].apply(lambda x: x*398)\n",
        "    data.loc[data.CCY=='GBP','ACY_AVL_BAL']=data.loc[data.CCY=='GPB','ACY_AVL_BAL'].apply(lambda x: x*467)\n",
        "    data.loc[data.CCY=='JPY','ACY_AVL_BAL']=data.loc[data.CCY=='JPY','ACY_AVL_BAL'].apply(lambda x: x*3.31)\n",
        "    return data"
      ],
      "execution_count": 0,
      "outputs": []
    },
    {
      "cell_type": "code",
      "metadata": {
        "id": "ByC8yVm2ulGS",
        "colab_type": "code",
        "colab": {}
      },
      "source": [
        "#changing all account to naira notes\n",
        "all_accounts=con(all_accounts)"
      ],
      "execution_count": 0,
      "outputs": []
    },
    {
      "cell_type": "code",
      "metadata": {
        "id": "Pt1Rxx0Eu4E7",
        "colab_type": "code",
        "colab": {}
      },
      "source": [
        "#convert index to int\n",
        "all_accounts.index=all_accounts.index.astype('int')"
      ],
      "execution_count": 0,
      "outputs": []
    },
    {
      "cell_type": "code",
      "metadata": {
        "id": "YLm-BaAEvFGL",
        "colab_type": "code",
        "colab": {}
      },
      "source": [
        "#sort index\n",
        "all_accounts.sort_index(inplace=True)"
      ],
      "execution_count": 0,
      "outputs": []
    },
    {
      "cell_type": "code",
      "metadata": {
        "id": "F90T0-wwnM0M",
        "colab_type": "code",
        "outputId": "3adcd48a-2373-440f-bbaf-f374b6c46c47",
        "colab": {
          "base_uri": "https://localhost:8080/",
          "height": 80
        }
      },
      "source": [
        "#meaning of ACY_AVL_BAL\n",
        "all_dictionary[all_dictionary['FEATURES']=='ACY_AVL_BAL']"
      ],
      "execution_count": 387,
      "outputs": [
        {
          "output_type": "execute_result",
          "data": {
            "text/html": [
              "<div>\n",
              "<style scoped>\n",
              "    .dataframe tbody tr th:only-of-type {\n",
              "        vertical-align: middle;\n",
              "    }\n",
              "\n",
              "    .dataframe tbody tr th {\n",
              "        vertical-align: top;\n",
              "    }\n",
              "\n",
              "    .dataframe thead th {\n",
              "        text-align: right;\n",
              "    }\n",
              "</style>\n",
              "<table border=\"1\" class=\"dataframe\">\n",
              "  <thead>\n",
              "    <tr style=\"text-align: right;\">\n",
              "      <th></th>\n",
              "      <th>FEATURES</th>\n",
              "      <th>DESCRIPTION</th>\n",
              "      <th>DATA TYPE</th>\n",
              "      <th>Unnamed: 3</th>\n",
              "      <th>Unnamed: 4</th>\n",
              "    </tr>\n",
              "  </thead>\n",
              "  <tbody>\n",
              "    <tr>\n",
              "      <th>14</th>\n",
              "      <td>ACY_AVL_BAL</td>\n",
              "      <td>Specifies the available balance in the account...</td>\n",
              "      <td>NUMBER</td>\n",
              "      <td>NaN</td>\n",
              "      <td>NaN</td>\n",
              "    </tr>\n",
              "  </tbody>\n",
              "</table>\n",
              "</div>"
            ],
            "text/plain": [
              "       FEATURES  ... Unnamed: 4\n",
              "14  ACY_AVL_BAL  ...        NaN\n",
              "\n",
              "[1 rows x 5 columns]"
            ]
          },
          "metadata": {
            "tags": []
          },
          "execution_count": 387
        }
      ]
    },
    {
      "cell_type": "code",
      "metadata": {
        "id": "lXhHFFuO-4m-",
        "colab_type": "code",
        "outputId": "574a7343-d29f-4529-f60c-a8dc8f9a0a55",
        "colab": {
          "base_uri": "https://localhost:8080/",
          "height": 221
        }
      },
      "source": [
        "#some of the ACY_AVL_BAL IS negative we will assumed it is zero \n",
        "all_accounts['ACY_AVL_BAL'].value_counts()"
      ],
      "execution_count": 388,
      "outputs": [
        {
          "output_type": "execute_result",
          "data": {
            "text/plain": [
              " 0.00          12405\n",
              "-52.50           243\n",
              "-105.00           69\n",
              " 950.00           33\n",
              " 1.00             26\n",
              "               ...  \n",
              " 77773.41          1\n",
              " 4058776.43        1\n",
              " 125.53            1\n",
              " 14164.08          1\n",
              "-145.34            1\n",
              "Name: ACY_AVL_BAL, Length: 14389, dtype: int64"
            ]
          },
          "metadata": {
            "tags": []
          },
          "execution_count": 388
        }
      ]
    },
    {
      "cell_type": "code",
      "metadata": {
        "id": "6K8ZIOrwvLTH",
        "colab_type": "code",
        "colab": {}
      },
      "source": [
        "#for all ACY_AVL_BAL that is negative RECORD STAT IS C we convert to zero so as not to affect our model\n",
        "all_accounts.loc[(all_accounts.ACY_AVL_BAL!=0) & (all_accounts.RECORD_STAT==\"C\"),'ACY_AVL_BAL']=0"
      ],
      "execution_count": 0,
      "outputs": []
    },
    {
      "cell_type": "code",
      "metadata": {
        "id": "rRKTe47B_7JH",
        "colab_type": "code",
        "outputId": "1cd08e3f-4c0e-428b-d46c-007684ac22a3",
        "colab": {
          "base_uri": "https://localhost:8080/",
          "height": 221
        }
      },
      "source": [
        "all_accounts.index.value_counts()"
      ],
      "execution_count": 390,
      "outputs": [
        {
          "output_type": "execute_result",
          "data": {
            "text/plain": [
              "69090004     34\n",
              "578029002    27\n",
              "172877006    25\n",
              "657601000    23\n",
              "679735005    22\n",
              "             ..\n",
              "952341006     1\n",
              "73406011      1\n",
              "234473009     1\n",
              "806118002     1\n",
              "909990007     1\n",
              "Name: CUSTOMER_UNIQUE_ID, Length: 17986, dtype: int64"
            ]
          },
          "metadata": {
            "tags": []
          },
          "execution_count": 390
        }
      ]
    },
    {
      "cell_type": "code",
      "metadata": {
        "id": "zNlF6_BiAHlo",
        "colab_type": "code",
        "outputId": "fc2a42a8-174e-4736-a1ff-9891ac22fa35",
        "colab": {
          "base_uri": "https://localhost:8080/",
          "height": 1000
        }
      },
      "source": [
        "#most of the customer id appears more than ones so we can group by like the example below\n",
        "all_accounts.loc[69090004]"
      ],
      "execution_count": 391,
      "outputs": [
        {
          "output_type": "execute_result",
          "data": {
            "text/html": [
              "<div>\n",
              "<style scoped>\n",
              "    .dataframe tbody tr th:only-of-type {\n",
              "        vertical-align: middle;\n",
              "    }\n",
              "\n",
              "    .dataframe tbody tr th {\n",
              "        vertical-align: top;\n",
              "    }\n",
              "\n",
              "    .dataframe thead th {\n",
              "        text-align: right;\n",
              "    }\n",
              "</style>\n",
              "<table border=\"1\" class=\"dataframe\">\n",
              "  <thead>\n",
              "    <tr style=\"text-align: right;\">\n",
              "      <th></th>\n",
              "      <th>RECORD_STAT</th>\n",
              "      <th>ACY_AVL_BAL</th>\n",
              "      <th>CCY</th>\n",
              "    </tr>\n",
              "    <tr>\n",
              "      <th>CUSTOMER_UNIQUE_ID</th>\n",
              "      <th></th>\n",
              "      <th></th>\n",
              "      <th></th>\n",
              "    </tr>\n",
              "  </thead>\n",
              "  <tbody>\n",
              "    <tr>\n",
              "      <th>69090004</th>\n",
              "      <td>O</td>\n",
              "      <td>0.00</td>\n",
              "      <td>USD</td>\n",
              "    </tr>\n",
              "    <tr>\n",
              "      <th>69090004</th>\n",
              "      <td>C</td>\n",
              "      <td>0.00</td>\n",
              "      <td>NGN</td>\n",
              "    </tr>\n",
              "    <tr>\n",
              "      <th>69090004</th>\n",
              "      <td>O</td>\n",
              "      <td>37128.66</td>\n",
              "      <td>NGN</td>\n",
              "    </tr>\n",
              "    <tr>\n",
              "      <th>69090004</th>\n",
              "      <td>O</td>\n",
              "      <td>0.00</td>\n",
              "      <td>NGN</td>\n",
              "    </tr>\n",
              "    <tr>\n",
              "      <th>69090004</th>\n",
              "      <td>O</td>\n",
              "      <td>28.09</td>\n",
              "      <td>NGN</td>\n",
              "    </tr>\n",
              "    <tr>\n",
              "      <th>69090004</th>\n",
              "      <td>O</td>\n",
              "      <td>0.00</td>\n",
              "      <td>NGN</td>\n",
              "    </tr>\n",
              "    <tr>\n",
              "      <th>69090004</th>\n",
              "      <td>O</td>\n",
              "      <td>0.00</td>\n",
              "      <td>NGN</td>\n",
              "    </tr>\n",
              "    <tr>\n",
              "      <th>69090004</th>\n",
              "      <td>O</td>\n",
              "      <td>1262799.23</td>\n",
              "      <td>NGN</td>\n",
              "    </tr>\n",
              "    <tr>\n",
              "      <th>69090004</th>\n",
              "      <td>O</td>\n",
              "      <td>89483.40</td>\n",
              "      <td>USD</td>\n",
              "    </tr>\n",
              "    <tr>\n",
              "      <th>69090004</th>\n",
              "      <td>C</td>\n",
              "      <td>0.00</td>\n",
              "      <td>USD</td>\n",
              "    </tr>\n",
              "    <tr>\n",
              "      <th>69090004</th>\n",
              "      <td>O</td>\n",
              "      <td>0.00</td>\n",
              "      <td>NGN</td>\n",
              "    </tr>\n",
              "    <tr>\n",
              "      <th>69090004</th>\n",
              "      <td>O</td>\n",
              "      <td>0.00</td>\n",
              "      <td>NGN</td>\n",
              "    </tr>\n",
              "    <tr>\n",
              "      <th>69090004</th>\n",
              "      <td>O</td>\n",
              "      <td>0.00</td>\n",
              "      <td>NGN</td>\n",
              "    </tr>\n",
              "    <tr>\n",
              "      <th>69090004</th>\n",
              "      <td>O</td>\n",
              "      <td>NaN</td>\n",
              "      <td>GBP</td>\n",
              "    </tr>\n",
              "    <tr>\n",
              "      <th>69090004</th>\n",
              "      <td>O</td>\n",
              "      <td>0.00</td>\n",
              "      <td>NGN</td>\n",
              "    </tr>\n",
              "    <tr>\n",
              "      <th>69090004</th>\n",
              "      <td>O</td>\n",
              "      <td>0.00</td>\n",
              "      <td>NGN</td>\n",
              "    </tr>\n",
              "    <tr>\n",
              "      <th>69090004</th>\n",
              "      <td>C</td>\n",
              "      <td>0.00</td>\n",
              "      <td>NGN</td>\n",
              "    </tr>\n",
              "    <tr>\n",
              "      <th>69090004</th>\n",
              "      <td>O</td>\n",
              "      <td>0.00</td>\n",
              "      <td>NGN</td>\n",
              "    </tr>\n",
              "    <tr>\n",
              "      <th>69090004</th>\n",
              "      <td>O</td>\n",
              "      <td>13698.45</td>\n",
              "      <td>USD</td>\n",
              "    </tr>\n",
              "    <tr>\n",
              "      <th>69090004</th>\n",
              "      <td>C</td>\n",
              "      <td>0.00</td>\n",
              "      <td>NGN</td>\n",
              "    </tr>\n",
              "    <tr>\n",
              "      <th>69090004</th>\n",
              "      <td>O</td>\n",
              "      <td>29.01</td>\n",
              "      <td>NGN</td>\n",
              "    </tr>\n",
              "    <tr>\n",
              "      <th>69090004</th>\n",
              "      <td>O</td>\n",
              "      <td>0.00</td>\n",
              "      <td>NGN</td>\n",
              "    </tr>\n",
              "    <tr>\n",
              "      <th>69090004</th>\n",
              "      <td>O</td>\n",
              "      <td>0.00</td>\n",
              "      <td>NGN</td>\n",
              "    </tr>\n",
              "    <tr>\n",
              "      <th>69090004</th>\n",
              "      <td>C</td>\n",
              "      <td>0.00</td>\n",
              "      <td>NGN</td>\n",
              "    </tr>\n",
              "    <tr>\n",
              "      <th>69090004</th>\n",
              "      <td>O</td>\n",
              "      <td>0.00</td>\n",
              "      <td>USD</td>\n",
              "    </tr>\n",
              "    <tr>\n",
              "      <th>69090004</th>\n",
              "      <td>O</td>\n",
              "      <td>0.00</td>\n",
              "      <td>USD</td>\n",
              "    </tr>\n",
              "    <tr>\n",
              "      <th>69090004</th>\n",
              "      <td>O</td>\n",
              "      <td>0.00</td>\n",
              "      <td>NGN</td>\n",
              "    </tr>\n",
              "    <tr>\n",
              "      <th>69090004</th>\n",
              "      <td>O</td>\n",
              "      <td>0.00</td>\n",
              "      <td>NGN</td>\n",
              "    </tr>\n",
              "    <tr>\n",
              "      <th>69090004</th>\n",
              "      <td>O</td>\n",
              "      <td>NaN</td>\n",
              "      <td>GBP</td>\n",
              "    </tr>\n",
              "    <tr>\n",
              "      <th>69090004</th>\n",
              "      <td>O</td>\n",
              "      <td>0.00</td>\n",
              "      <td>USD</td>\n",
              "    </tr>\n",
              "    <tr>\n",
              "      <th>69090004</th>\n",
              "      <td>O</td>\n",
              "      <td>0.00</td>\n",
              "      <td>USD</td>\n",
              "    </tr>\n",
              "    <tr>\n",
              "      <th>69090004</th>\n",
              "      <td>O</td>\n",
              "      <td>0.00</td>\n",
              "      <td>USD</td>\n",
              "    </tr>\n",
              "    <tr>\n",
              "      <th>69090004</th>\n",
              "      <td>O</td>\n",
              "      <td>182391.76</td>\n",
              "      <td>NGN</td>\n",
              "    </tr>\n",
              "    <tr>\n",
              "      <th>69090004</th>\n",
              "      <td>O</td>\n",
              "      <td>0.00</td>\n",
              "      <td>NGN</td>\n",
              "    </tr>\n",
              "  </tbody>\n",
              "</table>\n",
              "</div>"
            ],
            "text/plain": [
              "                   RECORD_STAT  ACY_AVL_BAL  CCY\n",
              "CUSTOMER_UNIQUE_ID                              \n",
              "69090004                     O         0.00  USD\n",
              "69090004                     C         0.00  NGN\n",
              "69090004                     O     37128.66  NGN\n",
              "69090004                     O         0.00  NGN\n",
              "69090004                     O        28.09  NGN\n",
              "69090004                     O         0.00  NGN\n",
              "69090004                     O         0.00  NGN\n",
              "69090004                     O   1262799.23  NGN\n",
              "69090004                     O     89483.40  USD\n",
              "69090004                     C         0.00  USD\n",
              "69090004                     O         0.00  NGN\n",
              "69090004                     O         0.00  NGN\n",
              "69090004                     O         0.00  NGN\n",
              "69090004                     O          NaN  GBP\n",
              "69090004                     O         0.00  NGN\n",
              "69090004                     O         0.00  NGN\n",
              "69090004                     C         0.00  NGN\n",
              "69090004                     O         0.00  NGN\n",
              "69090004                     O     13698.45  USD\n",
              "69090004                     C         0.00  NGN\n",
              "69090004                     O        29.01  NGN\n",
              "69090004                     O         0.00  NGN\n",
              "69090004                     O         0.00  NGN\n",
              "69090004                     C         0.00  NGN\n",
              "69090004                     O         0.00  USD\n",
              "69090004                     O         0.00  USD\n",
              "69090004                     O         0.00  NGN\n",
              "69090004                     O         0.00  NGN\n",
              "69090004                     O          NaN  GBP\n",
              "69090004                     O         0.00  USD\n",
              "69090004                     O         0.00  USD\n",
              "69090004                     O         0.00  USD\n",
              "69090004                     O    182391.76  NGN\n",
              "69090004                     O         0.00  NGN"
            ]
          },
          "metadata": {
            "tags": []
          },
          "execution_count": 391
        }
      ]
    },
    {
      "cell_type": "code",
      "metadata": {
        "id": "lLclZ5HnBRPH",
        "colab_type": "code",
        "colab": {}
      },
      "source": [
        "#currency was removed because all ACY_AVL_BAL was coverted to same currency naira\n",
        "all_accounts_data=all_accounts.groupby([all_accounts.index])[['ACY_AVL_BAL']].sum()"
      ],
      "execution_count": 0,
      "outputs": []
    },
    {
      "cell_type": "code",
      "metadata": {
        "id": "g2v6xNgawKdT",
        "colab_type": "code",
        "outputId": "f2b54027-93ea-42ec-b5f8-577979cda995",
        "colab": {
          "base_uri": "https://localhost:8080/",
          "height": 153
        }
      },
      "source": [
        "all_accounts.info()"
      ],
      "execution_count": 393,
      "outputs": [
        {
          "output_type": "stream",
          "text": [
            "<class 'pandas.core.frame.DataFrame'>\n",
            "Int64Index: 29068 entries, 56000 to 999944001\n",
            "Data columns (total 3 columns):\n",
            "RECORD_STAT    29057 non-null object\n",
            "ACY_AVL_BAL    28938 non-null float64\n",
            "CCY            29057 non-null object\n",
            "dtypes: float64(1), object(2)\n",
            "memory usage: 1.5+ MB\n"
          ],
          "name": "stdout"
        }
      ]
    },
    {
      "cell_type": "code",
      "metadata": {
        "id": "WJ-3coyLCO4W",
        "colab_type": "code",
        "outputId": "b800a0e8-d3af-433c-ec06-e3eaa03b5052",
        "colab": {
          "base_uri": "https://localhost:8080/",
          "height": 235
        }
      },
      "source": [
        "#there will be no need to merge CCY column to all_accounts dataframe since we converted all currency to naira.\n",
        "all_accounts_data.head()"
      ],
      "execution_count": 394,
      "outputs": [
        {
          "output_type": "execute_result",
          "data": {
            "text/html": [
              "<div>\n",
              "<style scoped>\n",
              "    .dataframe tbody tr th:only-of-type {\n",
              "        vertical-align: middle;\n",
              "    }\n",
              "\n",
              "    .dataframe tbody tr th {\n",
              "        vertical-align: top;\n",
              "    }\n",
              "\n",
              "    .dataframe thead th {\n",
              "        text-align: right;\n",
              "    }\n",
              "</style>\n",
              "<table border=\"1\" class=\"dataframe\">\n",
              "  <thead>\n",
              "    <tr style=\"text-align: right;\">\n",
              "      <th></th>\n",
              "      <th>ACY_AVL_BAL</th>\n",
              "    </tr>\n",
              "    <tr>\n",
              "      <th>CUSTOMER_UNIQUE_ID</th>\n",
              "      <th></th>\n",
              "    </tr>\n",
              "  </thead>\n",
              "  <tbody>\n",
              "    <tr>\n",
              "      <th>56000</th>\n",
              "      <td>136043.48</td>\n",
              "    </tr>\n",
              "    <tr>\n",
              "      <th>62005</th>\n",
              "      <td>1541719.95</td>\n",
              "    </tr>\n",
              "    <tr>\n",
              "      <th>104008</th>\n",
              "      <td>12364.06</td>\n",
              "    </tr>\n",
              "    <tr>\n",
              "      <th>175007</th>\n",
              "      <td>20029.55</td>\n",
              "    </tr>\n",
              "    <tr>\n",
              "      <th>200006</th>\n",
              "      <td>61489.56</td>\n",
              "    </tr>\n",
              "  </tbody>\n",
              "</table>\n",
              "</div>"
            ],
            "text/plain": [
              "                    ACY_AVL_BAL\n",
              "CUSTOMER_UNIQUE_ID             \n",
              "56000                 136043.48\n",
              "62005                1541719.95\n",
              "104008                 12364.06\n",
              "175007                 20029.55\n",
              "200006                 61489.56"
            ]
          },
          "metadata": {
            "tags": []
          },
          "execution_count": 394
        }
      ]
    },
    {
      "cell_type": "code",
      "metadata": {
        "id": "jcA5BvUP1LyG",
        "colab_type": "code",
        "colab": {}
      },
      "source": [
        "all_balances.set_index('CUSTOMER_UNIQUE_ID',inplace=True)"
      ],
      "execution_count": 0,
      "outputs": []
    },
    {
      "cell_type": "code",
      "metadata": {
        "id": "Z1i4HgmP3cau",
        "colab_type": "code",
        "outputId": "2eeb5a97-a96d-47ed-ec0b-2a203d780ab0",
        "colab": {
          "base_uri": "https://localhost:8080/",
          "height": 136
        }
      },
      "source": [
        "#focussing on only those who made loan applications according to all_loan_applications\n",
        "all_balances=all_balances.loc[important_indexes]"
      ],
      "execution_count": 396,
      "outputs": [
        {
          "output_type": "stream",
          "text": [
            "/usr/local/lib/python3.6/dist-packages/ipykernel_launcher.py:1: FutureWarning: \n",
            "Passing list-likes to .loc or [] with any missing label will raise\n",
            "KeyError in the future, you can use .reindex() as an alternative.\n",
            "\n",
            "See the documentation here:\n",
            "https://pandas.pydata.org/pandas-docs/stable/user_guide/indexing.html#deprecate-loc-reindex-listlike\n",
            "  \"\"\"Entry point for launching an IPython kernel.\n"
          ],
          "name": "stderr"
        }
      ]
    },
    {
      "cell_type": "code",
      "metadata": {
        "id": "Bnryq2583yZT",
        "colab_type": "code",
        "outputId": "44fc21f5-1441-4450-eada-4c355b6b9685",
        "colab": {
          "base_uri": "https://localhost:8080/",
          "height": 85
        }
      },
      "source": [
        "#checking for null values\n",
        "all_balances.isnull().sum()"
      ],
      "execution_count": 397,
      "outputs": [
        {
          "output_type": "execute_result",
          "data": {
            "text/plain": [
              "MASKED_ACCOUNT    490\n",
              "VAL_DT            490\n",
              "BAL               490\n",
              "dtype: int64"
            ]
          },
          "metadata": {
            "tags": []
          },
          "execution_count": 397
        }
      ]
    },
    {
      "cell_type": "code",
      "metadata": {
        "id": "wdltoCUt3807",
        "colab_type": "code",
        "colab": {}
      },
      "source": [
        "#trying to select the last date balance of customers who applied for loans\n",
        "#merger=all_balances.groupby([all_balances.index,all_balances.MASKED_ACCOUNT])[['VAL_DT']].max()"
      ],
      "execution_count": 0,
      "outputs": []
    },
    {
      "cell_type": "code",
      "metadata": {
        "id": "T8VX_RHQ5DnS",
        "colab_type": "code",
        "colab": {}
      },
      "source": [
        "all_balances_data=all_balances.sort_values('VAL_DT').groupby(all_balances.index).tail(1)"
      ],
      "execution_count": 0,
      "outputs": []
    },
    {
      "cell_type": "code",
      "metadata": {
        "id": "mbiZRueT7NK2",
        "colab_type": "code",
        "outputId": "36a3624b-1fa1-44af-9b96-9f7fd27975e7",
        "colab": {
          "base_uri": "https://localhost:8080/",
          "height": 235
        }
      },
      "source": [
        "all_balances_data.head()"
      ],
      "execution_count": 400,
      "outputs": [
        {
          "output_type": "execute_result",
          "data": {
            "text/html": [
              "<div>\n",
              "<style scoped>\n",
              "    .dataframe tbody tr th:only-of-type {\n",
              "        vertical-align: middle;\n",
              "    }\n",
              "\n",
              "    .dataframe tbody tr th {\n",
              "        vertical-align: top;\n",
              "    }\n",
              "\n",
              "    .dataframe thead th {\n",
              "        text-align: right;\n",
              "    }\n",
              "</style>\n",
              "<table border=\"1\" class=\"dataframe\">\n",
              "  <thead>\n",
              "    <tr style=\"text-align: right;\">\n",
              "      <th></th>\n",
              "      <th>MASKED_ACCOUNT</th>\n",
              "      <th>VAL_DT</th>\n",
              "      <th>BAL</th>\n",
              "    </tr>\n",
              "    <tr>\n",
              "      <th>CUSTOMER_UNIQUE_ID</th>\n",
              "      <th></th>\n",
              "      <th></th>\n",
              "      <th></th>\n",
              "    </tr>\n",
              "  </thead>\n",
              "  <tbody>\n",
              "    <tr>\n",
              "      <th>41981006</th>\n",
              "      <td>00******68</td>\n",
              "      <td>10/1/2019</td>\n",
              "      <td>40821.02</td>\n",
              "    </tr>\n",
              "    <tr>\n",
              "      <th>737790008</th>\n",
              "      <td>06******08</td>\n",
              "      <td>10/1/2019</td>\n",
              "      <td>323.75</td>\n",
              "    </tr>\n",
              "    <tr>\n",
              "      <th>521640001</th>\n",
              "      <td>00******56</td>\n",
              "      <td>10/1/2019</td>\n",
              "      <td>11974.56</td>\n",
              "    </tr>\n",
              "    <tr>\n",
              "      <th>391254009</th>\n",
              "      <td>00******30</td>\n",
              "      <td>10/1/2019</td>\n",
              "      <td>6813.05</td>\n",
              "    </tr>\n",
              "    <tr>\n",
              "      <th>657601000</th>\n",
              "      <td>00******15</td>\n",
              "      <td>10/1/2019</td>\n",
              "      <td>14998.88</td>\n",
              "    </tr>\n",
              "  </tbody>\n",
              "</table>\n",
              "</div>"
            ],
            "text/plain": [
              "                   MASKED_ACCOUNT     VAL_DT       BAL\n",
              "CUSTOMER_UNIQUE_ID                                    \n",
              "41981006               00******68  10/1/2019  40821.02\n",
              "737790008              06******08  10/1/2019    323.75\n",
              "521640001              00******56  10/1/2019  11974.56\n",
              "391254009              00******30  10/1/2019   6813.05\n",
              "657601000              00******15  10/1/2019  14998.88"
            ]
          },
          "metadata": {
            "tags": []
          },
          "execution_count": 400
        }
      ]
    },
    {
      "cell_type": "code",
      "metadata": {
        "id": "LRY1wdeh4XHS",
        "colab_type": "code",
        "outputId": "59e94a8b-763e-4d31-8898-fba004710fc3",
        "colab": {
          "base_uri": "https://localhost:8080/",
          "height": 34
        }
      },
      "source": [
        "all_balances_data.isnull().any(axis=1).sum()"
      ],
      "execution_count": 401,
      "outputs": [
        {
          "output_type": "execute_result",
          "data": {
            "text/plain": [
              "4"
            ]
          },
          "metadata": {
            "tags": []
          },
          "execution_count": 401
        }
      ]
    },
    {
      "cell_type": "code",
      "metadata": {
        "id": "kTn72WAUAks_",
        "colab_type": "code",
        "outputId": "32ae5d16-593d-4b39-a1ba-8651578a0f17",
        "colab": {
          "base_uri": "https://localhost:8080/",
          "height": 450
        }
      },
      "source": [
        "#drop rows with na values\n",
        "all_balances_data.dropna(how='any',axis=0)"
      ],
      "execution_count": 402,
      "outputs": [
        {
          "output_type": "execute_result",
          "data": {
            "text/html": [
              "<div>\n",
              "<style scoped>\n",
              "    .dataframe tbody tr th:only-of-type {\n",
              "        vertical-align: middle;\n",
              "    }\n",
              "\n",
              "    .dataframe tbody tr th {\n",
              "        vertical-align: top;\n",
              "    }\n",
              "\n",
              "    .dataframe thead th {\n",
              "        text-align: right;\n",
              "    }\n",
              "</style>\n",
              "<table border=\"1\" class=\"dataframe\">\n",
              "  <thead>\n",
              "    <tr style=\"text-align: right;\">\n",
              "      <th></th>\n",
              "      <th>MASKED_ACCOUNT</th>\n",
              "      <th>VAL_DT</th>\n",
              "      <th>BAL</th>\n",
              "    </tr>\n",
              "    <tr>\n",
              "      <th>CUSTOMER_UNIQUE_ID</th>\n",
              "      <th></th>\n",
              "      <th></th>\n",
              "      <th></th>\n",
              "    </tr>\n",
              "  </thead>\n",
              "  <tbody>\n",
              "    <tr>\n",
              "      <th>41981006</th>\n",
              "      <td>00******68</td>\n",
              "      <td>10/1/2019</td>\n",
              "      <td>40821.02</td>\n",
              "    </tr>\n",
              "    <tr>\n",
              "      <th>737790008</th>\n",
              "      <td>06******08</td>\n",
              "      <td>10/1/2019</td>\n",
              "      <td>323.75</td>\n",
              "    </tr>\n",
              "    <tr>\n",
              "      <th>521640001</th>\n",
              "      <td>00******56</td>\n",
              "      <td>10/1/2019</td>\n",
              "      <td>11974.56</td>\n",
              "    </tr>\n",
              "    <tr>\n",
              "      <th>391254009</th>\n",
              "      <td>00******30</td>\n",
              "      <td>10/1/2019</td>\n",
              "      <td>6813.05</td>\n",
              "    </tr>\n",
              "    <tr>\n",
              "      <th>657601000</th>\n",
              "      <td>00******15</td>\n",
              "      <td>10/1/2019</td>\n",
              "      <td>14998.88</td>\n",
              "    </tr>\n",
              "    <tr>\n",
              "      <th>...</th>\n",
              "      <td>...</td>\n",
              "      <td>...</td>\n",
              "      <td>...</td>\n",
              "    </tr>\n",
              "    <tr>\n",
              "      <th>801451003</th>\n",
              "      <td>07******68</td>\n",
              "      <td>9/9/2019</td>\n",
              "      <td>85273.88</td>\n",
              "    </tr>\n",
              "    <tr>\n",
              "      <th>588148009</th>\n",
              "      <td>00******46</td>\n",
              "      <td>9/9/2019</td>\n",
              "      <td>1097.83</td>\n",
              "    </tr>\n",
              "    <tr>\n",
              "      <th>13231006</th>\n",
              "      <td>00******65</td>\n",
              "      <td>9/9/2019</td>\n",
              "      <td>40002.64</td>\n",
              "    </tr>\n",
              "    <tr>\n",
              "      <th>823552000</th>\n",
              "      <td>07******66</td>\n",
              "      <td>9/9/2019</td>\n",
              "      <td>51076.68</td>\n",
              "    </tr>\n",
              "    <tr>\n",
              "      <th>515970011</th>\n",
              "      <td>07******40</td>\n",
              "      <td>9/9/2019</td>\n",
              "      <td>0.42</td>\n",
              "    </tr>\n",
              "  </tbody>\n",
              "</table>\n",
              "<p>17982 rows × 3 columns</p>\n",
              "</div>"
            ],
            "text/plain": [
              "                   MASKED_ACCOUNT     VAL_DT       BAL\n",
              "CUSTOMER_UNIQUE_ID                                    \n",
              "41981006               00******68  10/1/2019  40821.02\n",
              "737790008              06******08  10/1/2019    323.75\n",
              "521640001              00******56  10/1/2019  11974.56\n",
              "391254009              00******30  10/1/2019   6813.05\n",
              "657601000              00******15  10/1/2019  14998.88\n",
              "...                           ...        ...       ...\n",
              "801451003              07******68   9/9/2019  85273.88\n",
              "588148009              00******46   9/9/2019   1097.83\n",
              "13231006               00******65   9/9/2019  40002.64\n",
              "823552000              07******66   9/9/2019  51076.68\n",
              "515970011              07******40   9/9/2019      0.42\n",
              "\n",
              "[17982 rows x 3 columns]"
            ]
          },
          "metadata": {
            "tags": []
          },
          "execution_count": 402
        }
      ]
    },
    {
      "cell_type": "code",
      "metadata": {
        "id": "DuZlW63IsuEg",
        "colab_type": "code",
        "outputId": "85ad3691-6335-46f0-ceef-60e00b0e0513",
        "colab": {
          "base_uri": "https://localhost:8080/",
          "height": 204
        }
      },
      "source": [
        "#rows with null values\n",
        "all_balances_data.loc[all_balances_data['VAL_DT'].isnull()]"
      ],
      "execution_count": 403,
      "outputs": [
        {
          "output_type": "execute_result",
          "data": {
            "text/html": [
              "<div>\n",
              "<style scoped>\n",
              "    .dataframe tbody tr th:only-of-type {\n",
              "        vertical-align: middle;\n",
              "    }\n",
              "\n",
              "    .dataframe tbody tr th {\n",
              "        vertical-align: top;\n",
              "    }\n",
              "\n",
              "    .dataframe thead th {\n",
              "        text-align: right;\n",
              "    }\n",
              "</style>\n",
              "<table border=\"1\" class=\"dataframe\">\n",
              "  <thead>\n",
              "    <tr style=\"text-align: right;\">\n",
              "      <th></th>\n",
              "      <th>MASKED_ACCOUNT</th>\n",
              "      <th>VAL_DT</th>\n",
              "      <th>BAL</th>\n",
              "    </tr>\n",
              "    <tr>\n",
              "      <th>CUSTOMER_UNIQUE_ID</th>\n",
              "      <th></th>\n",
              "      <th></th>\n",
              "      <th></th>\n",
              "    </tr>\n",
              "  </thead>\n",
              "  <tbody>\n",
              "    <tr>\n",
              "      <th>909766003</th>\n",
              "      <td>NaN</td>\n",
              "      <td>NaN</td>\n",
              "      <td>NaN</td>\n",
              "    </tr>\n",
              "    <tr>\n",
              "      <th>297233009</th>\n",
              "      <td>NaN</td>\n",
              "      <td>NaN</td>\n",
              "      <td>NaN</td>\n",
              "    </tr>\n",
              "    <tr>\n",
              "      <th>311246013</th>\n",
              "      <td>NaN</td>\n",
              "      <td>NaN</td>\n",
              "      <td>NaN</td>\n",
              "    </tr>\n",
              "    <tr>\n",
              "      <th>162998000</th>\n",
              "      <td>NaN</td>\n",
              "      <td>NaN</td>\n",
              "      <td>NaN</td>\n",
              "    </tr>\n",
              "  </tbody>\n",
              "</table>\n",
              "</div>"
            ],
            "text/plain": [
              "                   MASKED_ACCOUNT VAL_DT  BAL\n",
              "CUSTOMER_UNIQUE_ID                           \n",
              "909766003                     NaN    NaN  NaN\n",
              "297233009                     NaN    NaN  NaN\n",
              "311246013                     NaN    NaN  NaN\n",
              "162998000                     NaN    NaN  NaN"
            ]
          },
          "metadata": {
            "tags": []
          },
          "execution_count": 403
        }
      ]
    },
    {
      "cell_type": "code",
      "metadata": {
        "id": "_ciHciatvrZ_",
        "colab_type": "code",
        "colab": {}
      },
      "source": [
        "#drop row index with null values\n",
        "all_balances_data=all_balances_data.drop([909766003,297233009,311246013,162998000])"
      ],
      "execution_count": 0,
      "outputs": []
    },
    {
      "cell_type": "code",
      "metadata": {
        "id": "jgiZFvP2wQTW",
        "colab_type": "code",
        "outputId": "1b32a0e3-9924-499d-f372-71aec59add67",
        "colab": {
          "base_uri": "https://localhost:8080/",
          "height": 85
        }
      },
      "source": [
        "all_balances_data.isna().sum()"
      ],
      "execution_count": 405,
      "outputs": [
        {
          "output_type": "execute_result",
          "data": {
            "text/plain": [
              "MASKED_ACCOUNT    0\n",
              "VAL_DT            0\n",
              "BAL               0\n",
              "dtype: int64"
            ]
          },
          "metadata": {
            "tags": []
          },
          "execution_count": 405
        }
      ]
    },
    {
      "cell_type": "code",
      "metadata": {
        "id": "DaEhY7Cuwced",
        "colab_type": "code",
        "colab": {}
      },
      "source": [
        "#using regex101 online tool on all_demographics\n",
        "all_demographics.ADDRESS_LINE3=all_demographics.ADDRESS_LINE3.str.replace(',\\s*','')\n",
        "all_demographics.ADDRESS_LINE3=all_demographics.ADDRESS_LINE3.str.replace('\\d*','')"
      ],
      "execution_count": 0,
      "outputs": []
    },
    {
      "cell_type": "code",
      "metadata": {
        "id": "FvRoU-y2wvzz",
        "colab_type": "code",
        "outputId": "f4788df9-6317-49a8-9601-49721552d1a5",
        "colab": {
          "base_uri": "https://localhost:8080/",
          "height": 338
        }
      },
      "source": [
        "all_demographics.head()"
      ],
      "execution_count": 407,
      "outputs": [
        {
          "output_type": "execute_result",
          "data": {
            "text/html": [
              "<div>\n",
              "<style scoped>\n",
              "    .dataframe tbody tr th:only-of-type {\n",
              "        vertical-align: middle;\n",
              "    }\n",
              "\n",
              "    .dataframe tbody tr th {\n",
              "        vertical-align: top;\n",
              "    }\n",
              "\n",
              "    .dataframe thead th {\n",
              "        text-align: right;\n",
              "    }\n",
              "</style>\n",
              "<table border=\"1\" class=\"dataframe\">\n",
              "  <thead>\n",
              "    <tr style=\"text-align: right;\">\n",
              "      <th></th>\n",
              "      <th>CUSTOMER_UNIQUE_ID</th>\n",
              "      <th>CUSTOMER_TYPE</th>\n",
              "      <th>ADDRESS_LINE3</th>\n",
              "      <th>ADDRESS_LINE4</th>\n",
              "      <th>COUNTRY</th>\n",
              "      <th>NATIONALITY</th>\n",
              "      <th>LANGUAGE</th>\n",
              "      <th>EXPOSURE_COUNTRY</th>\n",
              "      <th>LOCAL_BRANCH</th>\n",
              "      <th>FROZEN</th>\n",
              "      <th>DECEASED</th>\n",
              "      <th>WHEREABOUTS_UNKNOWN</th>\n",
              "      <th>CUSTOMER_CATEGORY</th>\n",
              "      <th>HO_AC_NO</th>\n",
              "      <th>FX_CUST_CLEAN_RISK_LIMIT</th>\n",
              "      <th>OVERALL_LIMIT</th>\n",
              "      <th>FX_CLEAN_RISK_LIMIT</th>\n",
              "      <th>CREDIT_RATING</th>\n",
              "      <th>LIMIT_CCY</th>\n",
              "      <th>CAS_CUST</th>\n",
              "      <th>LIAB_NODE</th>\n",
              "      <th>SEC_CUST_CLEAN_RISK_LIMIT</th>\n",
              "      <th>SEC_CLEAN_RISK_LIMIT</th>\n",
              "      <th>SEC_CUST_PSTL_RISK_LIMIT</th>\n",
              "      <th>SEC_PSTL_RISK_LIMIT</th>\n",
              "      <th>LIAB_BR</th>\n",
              "      <th>PAST_DUE_FLAG</th>\n",
              "      <th>DEFAULT_MEDIA</th>\n",
              "      <th>SSN</th>\n",
              "      <th>SWIFT_CODE</th>\n",
              "      <th>LOC_CODE</th>\n",
              "      <th>UTILITY_PROVIDER</th>\n",
              "      <th>UTILITY_PROVIDER_ID</th>\n",
              "      <th>RISK_PROFILE</th>\n",
              "      <th>DEBTOR_CATEGORY</th>\n",
              "      <th>UDF_1</th>\n",
              "      <th>UDF_2</th>\n",
              "      <th>UDF_3</th>\n",
              "      <th>UDF_4</th>\n",
              "      <th>UDF_5</th>\n",
              "      <th>...</th>\n",
              "      <th>PINCODE</th>\n",
              "      <th>MFI_CUSTOMER</th>\n",
              "      <th>CUSTOMER_PREFIX</th>\n",
              "      <th>DATE_OF_BIRTH</th>\n",
              "      <th>MINOR</th>\n",
              "      <th>SEX</th>\n",
              "      <th>RESIDENT_STATUS</th>\n",
              "      <th>AGE_PROOF_SUBMITTED</th>\n",
              "      <th>CUST_COMM_MODE</th>\n",
              "      <th>PLACE_OF_BIRTH</th>\n",
              "      <th>BIRTH_COUNTRY</th>\n",
              "      <th>US_RES_STATUS</th>\n",
              "      <th>VST_US_PREV</th>\n",
              "      <th>P_PINCODE</th>\n",
              "      <th>PREF_CONTACT_DT</th>\n",
              "      <th>PREF_CONTACT_TIME</th>\n",
              "      <th>D_PINCODE</th>\n",
              "      <th>EDUCATIONAL_STATUS</th>\n",
              "      <th>MARITAL_STATUS</th>\n",
              "      <th>SPOUSE_NAME</th>\n",
              "      <th>SPOUSE_EMP_STATUS</th>\n",
              "      <th>DEPENDENT_CHILDREN</th>\n",
              "      <th>DEPENDENT_OTHERS</th>\n",
              "      <th>ACCOMODATION</th>\n",
              "      <th>EMPLOYMENT_STATUS</th>\n",
              "      <th>EMPLOYMENT_TENURE</th>\n",
              "      <th>RETIREMENT_AGE</th>\n",
              "      <th>PREV_DESIGNATION</th>\n",
              "      <th>PREV_EMPLOYER</th>\n",
              "      <th>DESIGNATION</th>\n",
              "      <th>SALARY</th>\n",
              "      <th>OTHER_INCOME</th>\n",
              "      <th>RENT</th>\n",
              "      <th>INSURANCE</th>\n",
              "      <th>LOAN_PAYMENT</th>\n",
              "      <th>OTHER_EXPENSES</th>\n",
              "      <th>HOUSE_VALUE</th>\n",
              "      <th>CREDIT_CARDS</th>\n",
              "      <th>E_COUNTRY</th>\n",
              "      <th>CCY_PERS_INCEXP</th>\n",
              "    </tr>\n",
              "  </thead>\n",
              "  <tbody>\n",
              "    <tr>\n",
              "      <th>0</th>\n",
              "      <td>18030000</td>\n",
              "      <td>I</td>\n",
              "      <td>IKOYI</td>\n",
              "      <td>LAGOS</td>\n",
              "      <td>NG</td>\n",
              "      <td>NG</td>\n",
              "      <td>ENG</td>\n",
              "      <td>NG</td>\n",
              "      <td>3</td>\n",
              "      <td>N</td>\n",
              "      <td>N</td>\n",
              "      <td>N</td>\n",
              "      <td>IND</td>\n",
              "      <td>NaN</td>\n",
              "      <td>0.0</td>\n",
              "      <td>0.0</td>\n",
              "      <td>0.0</td>\n",
              "      <td>NaN</td>\n",
              "      <td>NGN</td>\n",
              "      <td>NaN</td>\n",
              "      <td>FCUBSPAR</td>\n",
              "      <td>0.0</td>\n",
              "      <td>0.0</td>\n",
              "      <td>0.0</td>\n",
              "      <td>0.0</td>\n",
              "      <td>3</td>\n",
              "      <td>NaN</td>\n",
              "      <td>MAIL</td>\n",
              "      <td>NaN</td>\n",
              "      <td>NaN</td>\n",
              "      <td>NaN</td>\n",
              "      <td>N</td>\n",
              "      <td>NaN</td>\n",
              "      <td>NaN</td>\n",
              "      <td>NaN</td>\n",
              "      <td>NaN</td>\n",
              "      <td>NaN</td>\n",
              "      <td>NaN</td>\n",
              "      <td>NaN</td>\n",
              "      <td>NaN</td>\n",
              "      <td>...</td>\n",
              "      <td>23401</td>\n",
              "      <td>N</td>\n",
              "      <td>MR</td>\n",
              "      <td>1966-08-15 00:00:00</td>\n",
              "      <td>N</td>\n",
              "      <td>M</td>\n",
              "      <td>R</td>\n",
              "      <td>N</td>\n",
              "      <td>E</td>\n",
              "      <td>NaN</td>\n",
              "      <td>NG</td>\n",
              "      <td>N</td>\n",
              "      <td>N</td>\n",
              "      <td>NaN</td>\n",
              "      <td>NaN</td>\n",
              "      <td>0.0</td>\n",
              "      <td>NaN</td>\n",
              "      <td>NaN</td>\n",
              "      <td>M</td>\n",
              "      <td>NaN</td>\n",
              "      <td>NaN</td>\n",
              "      <td>0.0</td>\n",
              "      <td>0.0</td>\n",
              "      <td>NaN</td>\n",
              "      <td>NaN</td>\n",
              "      <td>NaN</td>\n",
              "      <td>NaN</td>\n",
              "      <td>NaN</td>\n",
              "      <td>NaN</td>\n",
              "      <td>NaN</td>\n",
              "      <td>NaN</td>\n",
              "      <td>NaN</td>\n",
              "      <td>NaN</td>\n",
              "      <td>NaN</td>\n",
              "      <td>NaN</td>\n",
              "      <td>NaN</td>\n",
              "      <td>NaN</td>\n",
              "      <td>NaN</td>\n",
              "      <td>NaN</td>\n",
              "      <td>NaN</td>\n",
              "    </tr>\n",
              "    <tr>\n",
              "      <th>1</th>\n",
              "      <td>33020001</td>\n",
              "      <td>I</td>\n",
              "      <td>IKORODU</td>\n",
              "      <td>LAGOS</td>\n",
              "      <td>NG</td>\n",
              "      <td>NG</td>\n",
              "      <td>ENG</td>\n",
              "      <td>NG</td>\n",
              "      <td>6</td>\n",
              "      <td>N</td>\n",
              "      <td>N</td>\n",
              "      <td>N</td>\n",
              "      <td>IND</td>\n",
              "      <td>NaN</td>\n",
              "      <td>0.0</td>\n",
              "      <td>0.0</td>\n",
              "      <td>0.0</td>\n",
              "      <td>NaN</td>\n",
              "      <td>NGN</td>\n",
              "      <td>NaN</td>\n",
              "      <td>FCUBSPAR</td>\n",
              "      <td>0.0</td>\n",
              "      <td>0.0</td>\n",
              "      <td>0.0</td>\n",
              "      <td>0.0</td>\n",
              "      <td>6</td>\n",
              "      <td>NaN</td>\n",
              "      <td>MAIL</td>\n",
              "      <td>NaN</td>\n",
              "      <td>NaN</td>\n",
              "      <td>NaN</td>\n",
              "      <td>N</td>\n",
              "      <td>NaN</td>\n",
              "      <td>NaN</td>\n",
              "      <td>NaN</td>\n",
              "      <td>NaN</td>\n",
              "      <td>NaN</td>\n",
              "      <td>NaN</td>\n",
              "      <td>NaN</td>\n",
              "      <td>NaN</td>\n",
              "      <td>...</td>\n",
              "      <td>NaN</td>\n",
              "      <td>NaN</td>\n",
              "      <td>MR</td>\n",
              "      <td>1950-01-01 00:00:00</td>\n",
              "      <td>N</td>\n",
              "      <td>M</td>\n",
              "      <td>R</td>\n",
              "      <td>N</td>\n",
              "      <td>NaN</td>\n",
              "      <td>NaN</td>\n",
              "      <td>NG</td>\n",
              "      <td>NaN</td>\n",
              "      <td>NaN</td>\n",
              "      <td>NaN</td>\n",
              "      <td>NaN</td>\n",
              "      <td>NaN</td>\n",
              "      <td>NaN</td>\n",
              "      <td>NaN</td>\n",
              "      <td>S</td>\n",
              "      <td>NaN</td>\n",
              "      <td>NaN</td>\n",
              "      <td>0.0</td>\n",
              "      <td>0.0</td>\n",
              "      <td>NaN</td>\n",
              "      <td>NaN</td>\n",
              "      <td>NaN</td>\n",
              "      <td>NaN</td>\n",
              "      <td>NaN</td>\n",
              "      <td>NaN</td>\n",
              "      <td>NaN</td>\n",
              "      <td>NaN</td>\n",
              "      <td>NaN</td>\n",
              "      <td>NaN</td>\n",
              "      <td>NaN</td>\n",
              "      <td>NaN</td>\n",
              "      <td>NaN</td>\n",
              "      <td>NaN</td>\n",
              "      <td>NaN</td>\n",
              "      <td>NaN</td>\n",
              "      <td>NaN</td>\n",
              "    </tr>\n",
              "    <tr>\n",
              "      <th>2</th>\n",
              "      <td>69090004</td>\n",
              "      <td>I</td>\n",
              "      <td>Lagos State</td>\n",
              "      <td>,  VICTORIA ISLAND</td>\n",
              "      <td>NG</td>\n",
              "      <td>NG</td>\n",
              "      <td>ENG</td>\n",
              "      <td>NG</td>\n",
              "      <td>14</td>\n",
              "      <td>N</td>\n",
              "      <td>N</td>\n",
              "      <td>N</td>\n",
              "      <td>IND</td>\n",
              "      <td>NaN</td>\n",
              "      <td>0.0</td>\n",
              "      <td>0.0</td>\n",
              "      <td>0.0</td>\n",
              "      <td>NaN</td>\n",
              "      <td>NGN</td>\n",
              "      <td>NaN</td>\n",
              "      <td>FCUBSPAR</td>\n",
              "      <td>0.0</td>\n",
              "      <td>0.0</td>\n",
              "      <td>0.0</td>\n",
              "      <td>0.0</td>\n",
              "      <td>14</td>\n",
              "      <td>NaN</td>\n",
              "      <td>MAIL</td>\n",
              "      <td>NaN</td>\n",
              "      <td>NaN</td>\n",
              "      <td>NaN</td>\n",
              "      <td>N</td>\n",
              "      <td>NaN</td>\n",
              "      <td>NaN</td>\n",
              "      <td>NaN</td>\n",
              "      <td>NaN</td>\n",
              "      <td>NaN</td>\n",
              "      <td>NaN</td>\n",
              "      <td>NaN</td>\n",
              "      <td>NaN</td>\n",
              "      <td>...</td>\n",
              "      <td>234</td>\n",
              "      <td>N</td>\n",
              "      <td>Ms.</td>\n",
              "      <td>1970-04-10 00:00:00</td>\n",
              "      <td>N</td>\n",
              "      <td>F</td>\n",
              "      <td>R</td>\n",
              "      <td>N</td>\n",
              "      <td>E</td>\n",
              "      <td>NaN</td>\n",
              "      <td>NG</td>\n",
              "      <td>N</td>\n",
              "      <td>N</td>\n",
              "      <td>NaN</td>\n",
              "      <td>NaN</td>\n",
              "      <td>0.0</td>\n",
              "      <td>NaN</td>\n",
              "      <td>NaN</td>\n",
              "      <td>M</td>\n",
              "      <td>NaN</td>\n",
              "      <td>NaN</td>\n",
              "      <td>0.0</td>\n",
              "      <td>0.0</td>\n",
              "      <td>NaN</td>\n",
              "      <td>NaN</td>\n",
              "      <td>NaN</td>\n",
              "      <td>NaN</td>\n",
              "      <td>NaN</td>\n",
              "      <td>NaN</td>\n",
              "      <td>NaN</td>\n",
              "      <td>NaN</td>\n",
              "      <td>NaN</td>\n",
              "      <td>NaN</td>\n",
              "      <td>NaN</td>\n",
              "      <td>NaN</td>\n",
              "      <td>NaN</td>\n",
              "      <td>NaN</td>\n",
              "      <td>NaN</td>\n",
              "      <td>NaN</td>\n",
              "      <td>NaN</td>\n",
              "    </tr>\n",
              "    <tr>\n",
              "      <th>3</th>\n",
              "      <td>81010006</td>\n",
              "      <td>I</td>\n",
              "      <td>SHAGAMU ROADIKORODU</td>\n",
              "      <td>LAGOS</td>\n",
              "      <td>NG</td>\n",
              "      <td>NG</td>\n",
              "      <td>ENG</td>\n",
              "      <td>NG</td>\n",
              "      <td>6</td>\n",
              "      <td>N</td>\n",
              "      <td>N</td>\n",
              "      <td>N</td>\n",
              "      <td>IND</td>\n",
              "      <td>NaN</td>\n",
              "      <td>0.0</td>\n",
              "      <td>0.0</td>\n",
              "      <td>0.0</td>\n",
              "      <td>NaN</td>\n",
              "      <td>NGN</td>\n",
              "      <td>NaN</td>\n",
              "      <td>FCUBSPAR</td>\n",
              "      <td>0.0</td>\n",
              "      <td>0.0</td>\n",
              "      <td>0.0</td>\n",
              "      <td>0.0</td>\n",
              "      <td>6</td>\n",
              "      <td>NaN</td>\n",
              "      <td>MAIL</td>\n",
              "      <td>NaN</td>\n",
              "      <td>NaN</td>\n",
              "      <td>NaN</td>\n",
              "      <td>N</td>\n",
              "      <td>NaN</td>\n",
              "      <td>NaN</td>\n",
              "      <td>NaN</td>\n",
              "      <td>NaN</td>\n",
              "      <td>NaN</td>\n",
              "      <td>NaN</td>\n",
              "      <td>NaN</td>\n",
              "      <td>NaN</td>\n",
              "      <td>...</td>\n",
              "      <td>234</td>\n",
              "      <td>NaN</td>\n",
              "      <td>MR</td>\n",
              "      <td>1967-04-26 00:00:00</td>\n",
              "      <td>N</td>\n",
              "      <td>M</td>\n",
              "      <td>R</td>\n",
              "      <td>N</td>\n",
              "      <td>NaN</td>\n",
              "      <td>NaN</td>\n",
              "      <td>NG</td>\n",
              "      <td>NaN</td>\n",
              "      <td>NaN</td>\n",
              "      <td>NaN</td>\n",
              "      <td>NaN</td>\n",
              "      <td>NaN</td>\n",
              "      <td>NaN</td>\n",
              "      <td>NaN</td>\n",
              "      <td>M</td>\n",
              "      <td>NaN</td>\n",
              "      <td>NaN</td>\n",
              "      <td>0.0</td>\n",
              "      <td>0.0</td>\n",
              "      <td>NaN</td>\n",
              "      <td>NaN</td>\n",
              "      <td>NaN</td>\n",
              "      <td>NaN</td>\n",
              "      <td>NaN</td>\n",
              "      <td>NaN</td>\n",
              "      <td>NaN</td>\n",
              "      <td>NaN</td>\n",
              "      <td>NaN</td>\n",
              "      <td>NaN</td>\n",
              "      <td>NaN</td>\n",
              "      <td>NaN</td>\n",
              "      <td>NaN</td>\n",
              "      <td>NaN</td>\n",
              "      <td>NaN</td>\n",
              "      <td>NaN</td>\n",
              "      <td>NaN</td>\n",
              "    </tr>\n",
              "    <tr>\n",
              "      <th>4</th>\n",
              "      <td>71120007</td>\n",
              "      <td>I</td>\n",
              "      <td>SURULERE</td>\n",
              "      <td>LAGOS</td>\n",
              "      <td>NG</td>\n",
              "      <td>NG</td>\n",
              "      <td>ENG</td>\n",
              "      <td>NG</td>\n",
              "      <td>4</td>\n",
              "      <td>N</td>\n",
              "      <td>N</td>\n",
              "      <td>N</td>\n",
              "      <td>IND</td>\n",
              "      <td>NaN</td>\n",
              "      <td>0.0</td>\n",
              "      <td>0.0</td>\n",
              "      <td>0.0</td>\n",
              "      <td>NaN</td>\n",
              "      <td>NGN</td>\n",
              "      <td>NaN</td>\n",
              "      <td>FCUBSPAR</td>\n",
              "      <td>0.0</td>\n",
              "      <td>0.0</td>\n",
              "      <td>0.0</td>\n",
              "      <td>0.0</td>\n",
              "      <td>4</td>\n",
              "      <td>NaN</td>\n",
              "      <td>MAIL</td>\n",
              "      <td>NaN</td>\n",
              "      <td>NaN</td>\n",
              "      <td>NaN</td>\n",
              "      <td>N</td>\n",
              "      <td>NaN</td>\n",
              "      <td>NaN</td>\n",
              "      <td>NaN</td>\n",
              "      <td>NaN</td>\n",
              "      <td>NaN</td>\n",
              "      <td>NaN</td>\n",
              "      <td>NaN</td>\n",
              "      <td>NaN</td>\n",
              "      <td>...</td>\n",
              "      <td>234</td>\n",
              "      <td>N</td>\n",
              "      <td>MR</td>\n",
              "      <td>1965-09-24 00:00:00</td>\n",
              "      <td>N</td>\n",
              "      <td>M</td>\n",
              "      <td>R</td>\n",
              "      <td>N</td>\n",
              "      <td>M</td>\n",
              "      <td>NaN</td>\n",
              "      <td>NG</td>\n",
              "      <td>N</td>\n",
              "      <td>N</td>\n",
              "      <td>NaN</td>\n",
              "      <td>NaN</td>\n",
              "      <td>0.0</td>\n",
              "      <td>NaN</td>\n",
              "      <td>NaN</td>\n",
              "      <td>M</td>\n",
              "      <td>NaN</td>\n",
              "      <td>NaN</td>\n",
              "      <td>0.0</td>\n",
              "      <td>0.0</td>\n",
              "      <td>NaN</td>\n",
              "      <td>NaN</td>\n",
              "      <td>NaN</td>\n",
              "      <td>NaN</td>\n",
              "      <td>NaN</td>\n",
              "      <td>NaN</td>\n",
              "      <td>NaN</td>\n",
              "      <td>NaN</td>\n",
              "      <td>NaN</td>\n",
              "      <td>NaN</td>\n",
              "      <td>NaN</td>\n",
              "      <td>NaN</td>\n",
              "      <td>NaN</td>\n",
              "      <td>NaN</td>\n",
              "      <td>NaN</td>\n",
              "      <td>NaN</td>\n",
              "      <td>NaN</td>\n",
              "    </tr>\n",
              "  </tbody>\n",
              "</table>\n",
              "<p>5 rows × 127 columns</p>\n",
              "</div>"
            ],
            "text/plain": [
              "   CUSTOMER_UNIQUE_ID CUSTOMER_TYPE  ... E_COUNTRY CCY_PERS_INCEXP\n",
              "0            18030000             I  ...       NaN             NaN\n",
              "1            33020001             I  ...       NaN             NaN\n",
              "2            69090004             I  ...       NaN             NaN\n",
              "3            81010006             I  ...       NaN             NaN\n",
              "4            71120007             I  ...       NaN             NaN\n",
              "\n",
              "[5 rows x 127 columns]"
            ]
          },
          "metadata": {
            "tags": []
          },
          "execution_count": 407
        }
      ]
    },
    {
      "cell_type": "code",
      "metadata": {
        "id": "CkDVijrow5EO",
        "colab_type": "code",
        "colab": {}
      },
      "source": [
        "#dealing with line 4\n",
        "all_demographics.ADDRESS_LINE4=all_demographics.ADDRESS_LINE4.str.replace(',\\s*','')\n",
        "all_demographics.ADDRESS_LINE4=all_demographics.ADDRESS_LINE4.str.replace('\\d*','')"
      ],
      "execution_count": 0,
      "outputs": []
    },
    {
      "cell_type": "code",
      "metadata": {
        "id": "oawU2XRCxOs1",
        "colab_type": "code",
        "colab": {}
      },
      "source": [
        "#to csv\n",
        "all_demographics.to_csv('all_demographics2.csv')"
      ],
      "execution_count": 0,
      "outputs": []
    },
    {
      "cell_type": "code",
      "metadata": {
        "id": "aSkyGr0HxXLR",
        "colab_type": "code",
        "outputId": "31ea76a9-cd74-4f0c-8c8f-bb9e2eb10969",
        "colab": {
          "base_uri": "https://localhost:8080/",
          "height": 1000
        }
      },
      "source": [
        "all_demographics.ADDRESS_LINE4.value_counts().to_dict()"
      ],
      "execution_count": 410,
      "outputs": [
        {
          "output_type": "execute_result",
          "data": {
            "text/plain": [
              "{'': 2695,\n",
              " ' ': 26,\n",
              " ' ABUJA': 1,\n",
              " ' IJEGUN LAGOS': 1,\n",
              " ' LAGOS': 2,\n",
              " ' OFF POWER ENCOUNTER ROADPHC.': 1,\n",
              " ' OGUN STATE': 1,\n",
              " ' VICTORIA ISLAND': 1,\n",
              " ' ZAMFARA STATE': 1,\n",
              " '(COLLECT BY HAND)': 1,\n",
              " '(H)': 3,\n",
              " '(HOLD ALL CORRESPONDENCES)': 1,\n",
              " '(HOLD)': 2,\n",
              " '(SEND)': 2,\n",
              " '(TO BE COLLECTED)': 3,\n",
              " '.': 2,\n",
              " 'ABA': 1,\n",
              " 'ABA                 ': 2,\n",
              " 'ABAI': 1,\n",
              " 'ABAKALIKI ': 1,\n",
              " 'ABANDAN': 1,\n",
              " 'ABARANJE ROADIKOTUN.IKOTUN': 1,\n",
              " 'ABEOKUTA': 1,\n",
              " 'ABEOKUTA CLSE AREA  A GARKI': 1,\n",
              " 'ABEOKUTA.': 1,\n",
              " 'ABIA': 86,\n",
              " 'ABUJA': 52,\n",
              " 'ABUJA ': 1,\n",
              " 'ABUJA FCT': 1,\n",
              " 'ABUJA.': 4,\n",
              " 'AC/O-ONYEMA/UGO': 1,\n",
              " 'ADAMAWA': 58,\n",
              " 'ADAMAWA.': 1,\n",
              " 'ADO EKITI': 2,\n",
              " 'AGBARA': 1,\n",
              " 'AGO-OKOTALAGOS.': 1,\n",
              " 'AJAH LAGOS': 1,\n",
              " 'AKOKO EDO': 1,\n",
              " 'AKOWONJO LAGOS': 1,\n",
              " 'AKURE': 1,\n",
              " 'AKUTE': 1,\n",
              " 'AKUTEOGUN STATE.': 1,\n",
              " 'AKWA  IBOM': 1,\n",
              " 'AKWA IBOM': 119,\n",
              " 'AKWA IBOM STATE': 2,\n",
              " 'AKWA IBOM STATE.': 1,\n",
              " 'AKWA UBIM': 1,\n",
              " 'AKWA-IBOM': 4,\n",
              " 'AKWANGA ': 1,\n",
              " 'ALAKIAIBADAN': 1,\n",
              " 'ALLEN': 1,\n",
              " 'ANAMBRA': 90,\n",
              " 'ANAMBRA STATE.': 1,\n",
              " 'ANAMBRA.': 1,\n",
              " 'APAPA': 1,\n",
              " 'APAPAAPAPA': 1,\n",
              " 'ASABA': 1,\n",
              " 'ASO PADAMARARABA': 1,\n",
              " 'ASOKOROABUJA': 1,\n",
              " 'AUCHI': 1,\n",
              " 'AUCHI ': 1,\n",
              " 'AWKA': 1,\n",
              " 'Aba ': 1,\n",
              " 'Abuja': 2,\n",
              " 'B': 1,\n",
              " 'B CLOSEFLAT P.HARCOURT.': 1,\n",
              " 'BADORE LAGOS': 1,\n",
              " 'BANK': 1,\n",
              " 'BAUCHI': 79,\n",
              " 'BAYELSA': 62,\n",
              " 'BENIN': 2,\n",
              " 'BENIN.': 3,\n",
              " 'BENUE': 166,\n",
              " 'BENUE STATE': 1,\n",
              " 'BORNO': 95,\n",
              " 'BORNO STATE': 1,\n",
              " 'BORNO.': 4,\n",
              " 'BORNP': 1,\n",
              " 'BRASS': 2,\n",
              " 'CALABAR': 2,\n",
              " 'CBD ALAUSA IKEJA LAGOS': 1,\n",
              " 'COMPOUND ADAVI LGA': 1,\n",
              " 'CROISS RIVER': 1,\n",
              " 'CROSS RIVER': 94,\n",
              " 'CROSS RIVER STATE': 1,\n",
              " 'CRS': 1,\n",
              " 'D LINE': 1,\n",
              " 'DELTA': 164,\n",
              " 'DELTA.': 2,\n",
              " 'DEPT OF PROD. TECHNOLOGY': 1,\n",
              " 'DOLPHIN ESTATEIKOYI LAGOS': 1,\n",
              " 'DUTSE': 1,\n",
              " 'EBONYI': 28,\n",
              " 'EDO': 203,\n",
              " 'EDO STATE': 2,\n",
              " 'EGBEDA': 1,\n",
              " 'EGBEDA LAGOS': 1,\n",
              " 'EGBEDA.': 1,\n",
              " 'EKITI': 111,\n",
              " 'ELEWURA CHALLENGE': 1,\n",
              " 'ENUGU': 101,\n",
              " 'ENUGU STATE.': 1,\n",
              " 'F C T': 4,\n",
              " 'F.C.T': 109,\n",
              " 'F.C.T.': 16,\n",
              " 'FCT': 746,\n",
              " 'FCT ABUJA': 44,\n",
              " 'FCT.': 15,\n",
              " 'FEDERAL CAPITAL': 1,\n",
              " 'FEDPOLY OKO': 2,\n",
              " 'GOMBE': 188,\n",
              " 'GOMBE.': 5,\n",
              " 'IBADAN': 6,\n",
              " 'IBADAN OYO STATE': 1,\n",
              " 'IBADAN.': 2,\n",
              " 'IBADANOYO': 1,\n",
              " 'IDEJOVICTORIAISLAND': 17,\n",
              " 'IFAKO IJAIYE': 1,\n",
              " 'IFELODUN': 1,\n",
              " 'IGBO-EFONLEKKI': 1,\n",
              " 'IJANIKINOJO': 1,\n",
              " 'IKEJA': 5,\n",
              " 'IKERE': 2,\n",
              " 'IKORODU': 1,\n",
              " 'IKOTUN': 1,\n",
              " 'IKOTUN.': 1,\n",
              " 'IKOYI': 1,\n",
              " 'ILARO': 1,\n",
              " 'ILARO.': 2,\n",
              " 'ILORIN': 2,\n",
              " 'IMO': 59,\n",
              " 'IMO STATE': 1,\n",
              " 'IMO STATE.': 3,\n",
              " 'IMO.': 1,\n",
              " 'ISIALA MBANO': 1,\n",
              " 'ISOLO': 1,\n",
              " 'JIGAWA': 84,\n",
              " 'JIKWOYIABUJA': 1,\n",
              " 'JOS': 4,\n",
              " 'Jigawa': 1,\n",
              " 'KADUNA': 326,\n",
              " 'KADUNA ': 1,\n",
              " 'KANO': 212,\n",
              " 'KANO.': 4,\n",
              " 'KASTINA STATE': 1,\n",
              " 'KATINA': 1,\n",
              " 'KATSINA': 189,\n",
              " 'KAZAURE': 1,\n",
              " 'KEBBI': 54,\n",
              " 'KEBBI STATE': 1,\n",
              " 'KEBBI.': 1,\n",
              " 'KEEBI': 1,\n",
              " 'KING PEREKUNLE ROADPORT-HAR': 1,\n",
              " 'KOGI': 717,\n",
              " 'KOGI STATE': 2,\n",
              " 'KOGI.': 1,\n",
              " 'KOJI': 1,\n",
              " 'KOSOFE': 1,\n",
              " 'KWARA': 92,\n",
              " 'LAFIA': 1,\n",
              " 'LAGOA': 2,\n",
              " 'LAGOS': 4941,\n",
              " 'LAGOS STATE': 5,\n",
              " 'LAGOS.': 33,\n",
              " 'LAGOS..': 1,\n",
              " 'LAGSO': 1,\n",
              " 'LEKKI': 1,\n",
              " 'LGA  ABDULRAIM O OMEIZA RESIDENCE': 1,\n",
              " 'Lagos': 21,\n",
              " 'Lagos State': 1,\n",
              " 'MAFOLUKU': 1,\n",
              " 'MAGODOIOSI ISHERI': 1,\n",
              " 'MAIDUGURI': 1,\n",
              " 'MAKURDI': 2,\n",
              " 'MINNA': 2,\n",
              " 'MODAKEKE': 1,\n",
              " 'MUSHIN': 1,\n",
              " 'MUSHINLAGOS': 1,\n",
              " 'NASARAWA': 94,\n",
              " 'NASSARAWA': 6,\n",
              " 'NEAR JABI PRIMARY SCH ': 1,\n",
              " 'NEW TOWNBADAGRY': 1,\n",
              " 'NG': 2,\n",
              " 'NIGER': 169,\n",
              " 'NIGER STATE': 1,\n",
              " 'NIGER.': 1,\n",
              " 'NIGERIA': 5,\n",
              " 'NIL': 6,\n",
              " 'NO': 1,\n",
              " 'Nasarawa': 1,\n",
              " 'ODOKEKERE': 1,\n",
              " 'OFF LADIPO ROADMATORI IND.SCLAGOS': 1,\n",
              " 'OFF SAMUEL MANUWA STREET': 1,\n",
              " 'OGBOMOSO.': 1,\n",
              " 'OGUN': 578,\n",
              " 'OGUN ': 1,\n",
              " 'OGUN  STATE.': 2,\n",
              " 'OGUN STATE': 4,\n",
              " 'OGUN.': 7,\n",
              " 'OJOO LAGOS': 1,\n",
              " 'OND.O': 1,\n",
              " 'ONDO': 132,\n",
              " 'ONDO STATE': 2,\n",
              " 'ONDO.': 1,\n",
              " 'ORLUIMO': 1,\n",
              " 'OSHODI': 1,\n",
              " 'OSUN': 117,\n",
              " 'OSUN STATE': 2,\n",
              " 'OSUN.': 2,\n",
              " 'OTA': 1,\n",
              " 'OWERRI': 1,\n",
              " 'OWERRI WEST': 1,\n",
              " 'OWERRI WEST L.G.A.': 1,\n",
              " 'OWERRIIMO STATE.': 2,\n",
              " 'OY': 2,\n",
              " 'OYO': 580,\n",
              " 'OYO BOLUWAJIIBADAN': 1,\n",
              " 'OYO STATE': 3,\n",
              " 'OYO STATE.': 2,\n",
              " 'OYO-STATE.': 2,\n",
              " 'OYO.': 6,\n",
              " 'Ondo': 1,\n",
              " 'Oyo': 5,\n",
              " 'P.O BOX  ADETOKUNBO': 1,\n",
              " 'P.O.BOX': 1,\n",
              " 'PH': 1,\n",
              " 'PLATEAU': 88,\n",
              " 'PLATEAU  (BY HAND)': 1,\n",
              " 'PLATEAU STATE': 1,\n",
              " 'PORT HARCOURT': 7,\n",
              " 'PORT HARCOURT.': 1,\n",
              " 'PORT-HACOURT': 1,\n",
              " 'PORTHACOURT': 1,\n",
              " 'PORTHARCOURT': 1,\n",
              " 'POST': 1,\n",
              " 'Plateau': 1,\n",
              " 'RDO': 1,\n",
              " 'RIVER': 6,\n",
              " 'RIVERS': 780,\n",
              " 'RIVERS STATE': 6,\n",
              " 'RIVERS STATE.': 2,\n",
              " 'RIVERSE': 1,\n",
              " 'RIVES': 1,\n",
              " 'RIVRES': 1,\n",
              " 'Rivers': 12,\n",
              " 'SABO SAGAMU': 1,\n",
              " 'SANGO': 1,\n",
              " 'SAPELEDELTA STATE': 1,\n",
              " 'SEND': 2,\n",
              " 'SHAGAMU': 1,\n",
              " 'SHOMOLULAGOS': 1,\n",
              " 'SO': 1,\n",
              " 'SOKOTO': 125,\n",
              " 'SOKOTO ': 1,\n",
              " 'SOKOTO SOUTH': 1,\n",
              " 'STATE': 1,\n",
              " 'STATE.': 2,\n",
              " 'STMT-SEND': 1,\n",
              " 'SULEJA': 1,\n",
              " 'SURULERELAGOS': 1,\n",
              " 'TARABA': 24,\n",
              " 'TRANS AMADI': 2,\n",
              " 'UMUAHIA': 2,\n",
              " 'UMUODA': 1,\n",
              " 'UNIZIK': 1,\n",
              " 'UYO': 1,\n",
              " 'VICTORIA ISLAND': 4,\n",
              " 'VICTORIA ISLANDLAGOS': 2,\n",
              " 'WARRIDELTA': 1,\n",
              " 'YABA': 1,\n",
              " 'YOBE': 26,\n",
              " 'YOBE.(DELIVER BY HAND)': 1,\n",
              " 'YOBE.(H)': 2,\n",
              " 'Yobe': 1,\n",
              " 'ZAMAFARA': 1,\n",
              " 'ZAMFARA': 65,\n",
              " '`': 1,\n",
              " 'fct': 1,\n",
              " 'katsina': 1,\n",
              " 'ogun': 1,\n",
              " 'rivers': 2,\n",
              " 'stmt-hold': 1}"
            ]
          },
          "metadata": {
            "tags": []
          },
          "execution_count": 410
        }
      ]
    },
    {
      "cell_type": "code",
      "metadata": {
        "id": "m5arv1EJxgt4",
        "colab_type": "code",
        "outputId": "d0592720-05a5-4b0d-8210-cb76123ac60f",
        "colab": {
          "base_uri": "https://localhost:8080/",
          "height": 338
        }
      },
      "source": [
        "all_demographics.head()"
      ],
      "execution_count": 411,
      "outputs": [
        {
          "output_type": "execute_result",
          "data": {
            "text/html": [
              "<div>\n",
              "<style scoped>\n",
              "    .dataframe tbody tr th:only-of-type {\n",
              "        vertical-align: middle;\n",
              "    }\n",
              "\n",
              "    .dataframe tbody tr th {\n",
              "        vertical-align: top;\n",
              "    }\n",
              "\n",
              "    .dataframe thead th {\n",
              "        text-align: right;\n",
              "    }\n",
              "</style>\n",
              "<table border=\"1\" class=\"dataframe\">\n",
              "  <thead>\n",
              "    <tr style=\"text-align: right;\">\n",
              "      <th></th>\n",
              "      <th>CUSTOMER_UNIQUE_ID</th>\n",
              "      <th>CUSTOMER_TYPE</th>\n",
              "      <th>ADDRESS_LINE3</th>\n",
              "      <th>ADDRESS_LINE4</th>\n",
              "      <th>COUNTRY</th>\n",
              "      <th>NATIONALITY</th>\n",
              "      <th>LANGUAGE</th>\n",
              "      <th>EXPOSURE_COUNTRY</th>\n",
              "      <th>LOCAL_BRANCH</th>\n",
              "      <th>FROZEN</th>\n",
              "      <th>DECEASED</th>\n",
              "      <th>WHEREABOUTS_UNKNOWN</th>\n",
              "      <th>CUSTOMER_CATEGORY</th>\n",
              "      <th>HO_AC_NO</th>\n",
              "      <th>FX_CUST_CLEAN_RISK_LIMIT</th>\n",
              "      <th>OVERALL_LIMIT</th>\n",
              "      <th>FX_CLEAN_RISK_LIMIT</th>\n",
              "      <th>CREDIT_RATING</th>\n",
              "      <th>LIMIT_CCY</th>\n",
              "      <th>CAS_CUST</th>\n",
              "      <th>LIAB_NODE</th>\n",
              "      <th>SEC_CUST_CLEAN_RISK_LIMIT</th>\n",
              "      <th>SEC_CLEAN_RISK_LIMIT</th>\n",
              "      <th>SEC_CUST_PSTL_RISK_LIMIT</th>\n",
              "      <th>SEC_PSTL_RISK_LIMIT</th>\n",
              "      <th>LIAB_BR</th>\n",
              "      <th>PAST_DUE_FLAG</th>\n",
              "      <th>DEFAULT_MEDIA</th>\n",
              "      <th>SSN</th>\n",
              "      <th>SWIFT_CODE</th>\n",
              "      <th>LOC_CODE</th>\n",
              "      <th>UTILITY_PROVIDER</th>\n",
              "      <th>UTILITY_PROVIDER_ID</th>\n",
              "      <th>RISK_PROFILE</th>\n",
              "      <th>DEBTOR_CATEGORY</th>\n",
              "      <th>UDF_1</th>\n",
              "      <th>UDF_2</th>\n",
              "      <th>UDF_3</th>\n",
              "      <th>UDF_4</th>\n",
              "      <th>UDF_5</th>\n",
              "      <th>...</th>\n",
              "      <th>PINCODE</th>\n",
              "      <th>MFI_CUSTOMER</th>\n",
              "      <th>CUSTOMER_PREFIX</th>\n",
              "      <th>DATE_OF_BIRTH</th>\n",
              "      <th>MINOR</th>\n",
              "      <th>SEX</th>\n",
              "      <th>RESIDENT_STATUS</th>\n",
              "      <th>AGE_PROOF_SUBMITTED</th>\n",
              "      <th>CUST_COMM_MODE</th>\n",
              "      <th>PLACE_OF_BIRTH</th>\n",
              "      <th>BIRTH_COUNTRY</th>\n",
              "      <th>US_RES_STATUS</th>\n",
              "      <th>VST_US_PREV</th>\n",
              "      <th>P_PINCODE</th>\n",
              "      <th>PREF_CONTACT_DT</th>\n",
              "      <th>PREF_CONTACT_TIME</th>\n",
              "      <th>D_PINCODE</th>\n",
              "      <th>EDUCATIONAL_STATUS</th>\n",
              "      <th>MARITAL_STATUS</th>\n",
              "      <th>SPOUSE_NAME</th>\n",
              "      <th>SPOUSE_EMP_STATUS</th>\n",
              "      <th>DEPENDENT_CHILDREN</th>\n",
              "      <th>DEPENDENT_OTHERS</th>\n",
              "      <th>ACCOMODATION</th>\n",
              "      <th>EMPLOYMENT_STATUS</th>\n",
              "      <th>EMPLOYMENT_TENURE</th>\n",
              "      <th>RETIREMENT_AGE</th>\n",
              "      <th>PREV_DESIGNATION</th>\n",
              "      <th>PREV_EMPLOYER</th>\n",
              "      <th>DESIGNATION</th>\n",
              "      <th>SALARY</th>\n",
              "      <th>OTHER_INCOME</th>\n",
              "      <th>RENT</th>\n",
              "      <th>INSURANCE</th>\n",
              "      <th>LOAN_PAYMENT</th>\n",
              "      <th>OTHER_EXPENSES</th>\n",
              "      <th>HOUSE_VALUE</th>\n",
              "      <th>CREDIT_CARDS</th>\n",
              "      <th>E_COUNTRY</th>\n",
              "      <th>CCY_PERS_INCEXP</th>\n",
              "    </tr>\n",
              "  </thead>\n",
              "  <tbody>\n",
              "    <tr>\n",
              "      <th>0</th>\n",
              "      <td>18030000</td>\n",
              "      <td>I</td>\n",
              "      <td>IKOYI</td>\n",
              "      <td>LAGOS</td>\n",
              "      <td>NG</td>\n",
              "      <td>NG</td>\n",
              "      <td>ENG</td>\n",
              "      <td>NG</td>\n",
              "      <td>3</td>\n",
              "      <td>N</td>\n",
              "      <td>N</td>\n",
              "      <td>N</td>\n",
              "      <td>IND</td>\n",
              "      <td>NaN</td>\n",
              "      <td>0.0</td>\n",
              "      <td>0.0</td>\n",
              "      <td>0.0</td>\n",
              "      <td>NaN</td>\n",
              "      <td>NGN</td>\n",
              "      <td>NaN</td>\n",
              "      <td>FCUBSPAR</td>\n",
              "      <td>0.0</td>\n",
              "      <td>0.0</td>\n",
              "      <td>0.0</td>\n",
              "      <td>0.0</td>\n",
              "      <td>3</td>\n",
              "      <td>NaN</td>\n",
              "      <td>MAIL</td>\n",
              "      <td>NaN</td>\n",
              "      <td>NaN</td>\n",
              "      <td>NaN</td>\n",
              "      <td>N</td>\n",
              "      <td>NaN</td>\n",
              "      <td>NaN</td>\n",
              "      <td>NaN</td>\n",
              "      <td>NaN</td>\n",
              "      <td>NaN</td>\n",
              "      <td>NaN</td>\n",
              "      <td>NaN</td>\n",
              "      <td>NaN</td>\n",
              "      <td>...</td>\n",
              "      <td>23401</td>\n",
              "      <td>N</td>\n",
              "      <td>MR</td>\n",
              "      <td>1966-08-15 00:00:00</td>\n",
              "      <td>N</td>\n",
              "      <td>M</td>\n",
              "      <td>R</td>\n",
              "      <td>N</td>\n",
              "      <td>E</td>\n",
              "      <td>NaN</td>\n",
              "      <td>NG</td>\n",
              "      <td>N</td>\n",
              "      <td>N</td>\n",
              "      <td>NaN</td>\n",
              "      <td>NaN</td>\n",
              "      <td>0.0</td>\n",
              "      <td>NaN</td>\n",
              "      <td>NaN</td>\n",
              "      <td>M</td>\n",
              "      <td>NaN</td>\n",
              "      <td>NaN</td>\n",
              "      <td>0.0</td>\n",
              "      <td>0.0</td>\n",
              "      <td>NaN</td>\n",
              "      <td>NaN</td>\n",
              "      <td>NaN</td>\n",
              "      <td>NaN</td>\n",
              "      <td>NaN</td>\n",
              "      <td>NaN</td>\n",
              "      <td>NaN</td>\n",
              "      <td>NaN</td>\n",
              "      <td>NaN</td>\n",
              "      <td>NaN</td>\n",
              "      <td>NaN</td>\n",
              "      <td>NaN</td>\n",
              "      <td>NaN</td>\n",
              "      <td>NaN</td>\n",
              "      <td>NaN</td>\n",
              "      <td>NaN</td>\n",
              "      <td>NaN</td>\n",
              "    </tr>\n",
              "    <tr>\n",
              "      <th>1</th>\n",
              "      <td>33020001</td>\n",
              "      <td>I</td>\n",
              "      <td>IKORODU</td>\n",
              "      <td>LAGOS</td>\n",
              "      <td>NG</td>\n",
              "      <td>NG</td>\n",
              "      <td>ENG</td>\n",
              "      <td>NG</td>\n",
              "      <td>6</td>\n",
              "      <td>N</td>\n",
              "      <td>N</td>\n",
              "      <td>N</td>\n",
              "      <td>IND</td>\n",
              "      <td>NaN</td>\n",
              "      <td>0.0</td>\n",
              "      <td>0.0</td>\n",
              "      <td>0.0</td>\n",
              "      <td>NaN</td>\n",
              "      <td>NGN</td>\n",
              "      <td>NaN</td>\n",
              "      <td>FCUBSPAR</td>\n",
              "      <td>0.0</td>\n",
              "      <td>0.0</td>\n",
              "      <td>0.0</td>\n",
              "      <td>0.0</td>\n",
              "      <td>6</td>\n",
              "      <td>NaN</td>\n",
              "      <td>MAIL</td>\n",
              "      <td>NaN</td>\n",
              "      <td>NaN</td>\n",
              "      <td>NaN</td>\n",
              "      <td>N</td>\n",
              "      <td>NaN</td>\n",
              "      <td>NaN</td>\n",
              "      <td>NaN</td>\n",
              "      <td>NaN</td>\n",
              "      <td>NaN</td>\n",
              "      <td>NaN</td>\n",
              "      <td>NaN</td>\n",
              "      <td>NaN</td>\n",
              "      <td>...</td>\n",
              "      <td>NaN</td>\n",
              "      <td>NaN</td>\n",
              "      <td>MR</td>\n",
              "      <td>1950-01-01 00:00:00</td>\n",
              "      <td>N</td>\n",
              "      <td>M</td>\n",
              "      <td>R</td>\n",
              "      <td>N</td>\n",
              "      <td>NaN</td>\n",
              "      <td>NaN</td>\n",
              "      <td>NG</td>\n",
              "      <td>NaN</td>\n",
              "      <td>NaN</td>\n",
              "      <td>NaN</td>\n",
              "      <td>NaN</td>\n",
              "      <td>NaN</td>\n",
              "      <td>NaN</td>\n",
              "      <td>NaN</td>\n",
              "      <td>S</td>\n",
              "      <td>NaN</td>\n",
              "      <td>NaN</td>\n",
              "      <td>0.0</td>\n",
              "      <td>0.0</td>\n",
              "      <td>NaN</td>\n",
              "      <td>NaN</td>\n",
              "      <td>NaN</td>\n",
              "      <td>NaN</td>\n",
              "      <td>NaN</td>\n",
              "      <td>NaN</td>\n",
              "      <td>NaN</td>\n",
              "      <td>NaN</td>\n",
              "      <td>NaN</td>\n",
              "      <td>NaN</td>\n",
              "      <td>NaN</td>\n",
              "      <td>NaN</td>\n",
              "      <td>NaN</td>\n",
              "      <td>NaN</td>\n",
              "      <td>NaN</td>\n",
              "      <td>NaN</td>\n",
              "      <td>NaN</td>\n",
              "    </tr>\n",
              "    <tr>\n",
              "      <th>2</th>\n",
              "      <td>69090004</td>\n",
              "      <td>I</td>\n",
              "      <td>Lagos State</td>\n",
              "      <td>VICTORIA ISLAND</td>\n",
              "      <td>NG</td>\n",
              "      <td>NG</td>\n",
              "      <td>ENG</td>\n",
              "      <td>NG</td>\n",
              "      <td>14</td>\n",
              "      <td>N</td>\n",
              "      <td>N</td>\n",
              "      <td>N</td>\n",
              "      <td>IND</td>\n",
              "      <td>NaN</td>\n",
              "      <td>0.0</td>\n",
              "      <td>0.0</td>\n",
              "      <td>0.0</td>\n",
              "      <td>NaN</td>\n",
              "      <td>NGN</td>\n",
              "      <td>NaN</td>\n",
              "      <td>FCUBSPAR</td>\n",
              "      <td>0.0</td>\n",
              "      <td>0.0</td>\n",
              "      <td>0.0</td>\n",
              "      <td>0.0</td>\n",
              "      <td>14</td>\n",
              "      <td>NaN</td>\n",
              "      <td>MAIL</td>\n",
              "      <td>NaN</td>\n",
              "      <td>NaN</td>\n",
              "      <td>NaN</td>\n",
              "      <td>N</td>\n",
              "      <td>NaN</td>\n",
              "      <td>NaN</td>\n",
              "      <td>NaN</td>\n",
              "      <td>NaN</td>\n",
              "      <td>NaN</td>\n",
              "      <td>NaN</td>\n",
              "      <td>NaN</td>\n",
              "      <td>NaN</td>\n",
              "      <td>...</td>\n",
              "      <td>234</td>\n",
              "      <td>N</td>\n",
              "      <td>Ms.</td>\n",
              "      <td>1970-04-10 00:00:00</td>\n",
              "      <td>N</td>\n",
              "      <td>F</td>\n",
              "      <td>R</td>\n",
              "      <td>N</td>\n",
              "      <td>E</td>\n",
              "      <td>NaN</td>\n",
              "      <td>NG</td>\n",
              "      <td>N</td>\n",
              "      <td>N</td>\n",
              "      <td>NaN</td>\n",
              "      <td>NaN</td>\n",
              "      <td>0.0</td>\n",
              "      <td>NaN</td>\n",
              "      <td>NaN</td>\n",
              "      <td>M</td>\n",
              "      <td>NaN</td>\n",
              "      <td>NaN</td>\n",
              "      <td>0.0</td>\n",
              "      <td>0.0</td>\n",
              "      <td>NaN</td>\n",
              "      <td>NaN</td>\n",
              "      <td>NaN</td>\n",
              "      <td>NaN</td>\n",
              "      <td>NaN</td>\n",
              "      <td>NaN</td>\n",
              "      <td>NaN</td>\n",
              "      <td>NaN</td>\n",
              "      <td>NaN</td>\n",
              "      <td>NaN</td>\n",
              "      <td>NaN</td>\n",
              "      <td>NaN</td>\n",
              "      <td>NaN</td>\n",
              "      <td>NaN</td>\n",
              "      <td>NaN</td>\n",
              "      <td>NaN</td>\n",
              "      <td>NaN</td>\n",
              "    </tr>\n",
              "    <tr>\n",
              "      <th>3</th>\n",
              "      <td>81010006</td>\n",
              "      <td>I</td>\n",
              "      <td>SHAGAMU ROADIKORODU</td>\n",
              "      <td>LAGOS</td>\n",
              "      <td>NG</td>\n",
              "      <td>NG</td>\n",
              "      <td>ENG</td>\n",
              "      <td>NG</td>\n",
              "      <td>6</td>\n",
              "      <td>N</td>\n",
              "      <td>N</td>\n",
              "      <td>N</td>\n",
              "      <td>IND</td>\n",
              "      <td>NaN</td>\n",
              "      <td>0.0</td>\n",
              "      <td>0.0</td>\n",
              "      <td>0.0</td>\n",
              "      <td>NaN</td>\n",
              "      <td>NGN</td>\n",
              "      <td>NaN</td>\n",
              "      <td>FCUBSPAR</td>\n",
              "      <td>0.0</td>\n",
              "      <td>0.0</td>\n",
              "      <td>0.0</td>\n",
              "      <td>0.0</td>\n",
              "      <td>6</td>\n",
              "      <td>NaN</td>\n",
              "      <td>MAIL</td>\n",
              "      <td>NaN</td>\n",
              "      <td>NaN</td>\n",
              "      <td>NaN</td>\n",
              "      <td>N</td>\n",
              "      <td>NaN</td>\n",
              "      <td>NaN</td>\n",
              "      <td>NaN</td>\n",
              "      <td>NaN</td>\n",
              "      <td>NaN</td>\n",
              "      <td>NaN</td>\n",
              "      <td>NaN</td>\n",
              "      <td>NaN</td>\n",
              "      <td>...</td>\n",
              "      <td>234</td>\n",
              "      <td>NaN</td>\n",
              "      <td>MR</td>\n",
              "      <td>1967-04-26 00:00:00</td>\n",
              "      <td>N</td>\n",
              "      <td>M</td>\n",
              "      <td>R</td>\n",
              "      <td>N</td>\n",
              "      <td>NaN</td>\n",
              "      <td>NaN</td>\n",
              "      <td>NG</td>\n",
              "      <td>NaN</td>\n",
              "      <td>NaN</td>\n",
              "      <td>NaN</td>\n",
              "      <td>NaN</td>\n",
              "      <td>NaN</td>\n",
              "      <td>NaN</td>\n",
              "      <td>NaN</td>\n",
              "      <td>M</td>\n",
              "      <td>NaN</td>\n",
              "      <td>NaN</td>\n",
              "      <td>0.0</td>\n",
              "      <td>0.0</td>\n",
              "      <td>NaN</td>\n",
              "      <td>NaN</td>\n",
              "      <td>NaN</td>\n",
              "      <td>NaN</td>\n",
              "      <td>NaN</td>\n",
              "      <td>NaN</td>\n",
              "      <td>NaN</td>\n",
              "      <td>NaN</td>\n",
              "      <td>NaN</td>\n",
              "      <td>NaN</td>\n",
              "      <td>NaN</td>\n",
              "      <td>NaN</td>\n",
              "      <td>NaN</td>\n",
              "      <td>NaN</td>\n",
              "      <td>NaN</td>\n",
              "      <td>NaN</td>\n",
              "      <td>NaN</td>\n",
              "    </tr>\n",
              "    <tr>\n",
              "      <th>4</th>\n",
              "      <td>71120007</td>\n",
              "      <td>I</td>\n",
              "      <td>SURULERE</td>\n",
              "      <td>LAGOS</td>\n",
              "      <td>NG</td>\n",
              "      <td>NG</td>\n",
              "      <td>ENG</td>\n",
              "      <td>NG</td>\n",
              "      <td>4</td>\n",
              "      <td>N</td>\n",
              "      <td>N</td>\n",
              "      <td>N</td>\n",
              "      <td>IND</td>\n",
              "      <td>NaN</td>\n",
              "      <td>0.0</td>\n",
              "      <td>0.0</td>\n",
              "      <td>0.0</td>\n",
              "      <td>NaN</td>\n",
              "      <td>NGN</td>\n",
              "      <td>NaN</td>\n",
              "      <td>FCUBSPAR</td>\n",
              "      <td>0.0</td>\n",
              "      <td>0.0</td>\n",
              "      <td>0.0</td>\n",
              "      <td>0.0</td>\n",
              "      <td>4</td>\n",
              "      <td>NaN</td>\n",
              "      <td>MAIL</td>\n",
              "      <td>NaN</td>\n",
              "      <td>NaN</td>\n",
              "      <td>NaN</td>\n",
              "      <td>N</td>\n",
              "      <td>NaN</td>\n",
              "      <td>NaN</td>\n",
              "      <td>NaN</td>\n",
              "      <td>NaN</td>\n",
              "      <td>NaN</td>\n",
              "      <td>NaN</td>\n",
              "      <td>NaN</td>\n",
              "      <td>NaN</td>\n",
              "      <td>...</td>\n",
              "      <td>234</td>\n",
              "      <td>N</td>\n",
              "      <td>MR</td>\n",
              "      <td>1965-09-24 00:00:00</td>\n",
              "      <td>N</td>\n",
              "      <td>M</td>\n",
              "      <td>R</td>\n",
              "      <td>N</td>\n",
              "      <td>M</td>\n",
              "      <td>NaN</td>\n",
              "      <td>NG</td>\n",
              "      <td>N</td>\n",
              "      <td>N</td>\n",
              "      <td>NaN</td>\n",
              "      <td>NaN</td>\n",
              "      <td>0.0</td>\n",
              "      <td>NaN</td>\n",
              "      <td>NaN</td>\n",
              "      <td>M</td>\n",
              "      <td>NaN</td>\n",
              "      <td>NaN</td>\n",
              "      <td>0.0</td>\n",
              "      <td>0.0</td>\n",
              "      <td>NaN</td>\n",
              "      <td>NaN</td>\n",
              "      <td>NaN</td>\n",
              "      <td>NaN</td>\n",
              "      <td>NaN</td>\n",
              "      <td>NaN</td>\n",
              "      <td>NaN</td>\n",
              "      <td>NaN</td>\n",
              "      <td>NaN</td>\n",
              "      <td>NaN</td>\n",
              "      <td>NaN</td>\n",
              "      <td>NaN</td>\n",
              "      <td>NaN</td>\n",
              "      <td>NaN</td>\n",
              "      <td>NaN</td>\n",
              "      <td>NaN</td>\n",
              "      <td>NaN</td>\n",
              "    </tr>\n",
              "  </tbody>\n",
              "</table>\n",
              "<p>5 rows × 127 columns</p>\n",
              "</div>"
            ],
            "text/plain": [
              "   CUSTOMER_UNIQUE_ID CUSTOMER_TYPE  ... E_COUNTRY CCY_PERS_INCEXP\n",
              "0            18030000             I  ...       NaN             NaN\n",
              "1            33020001             I  ...       NaN             NaN\n",
              "2            69090004             I  ...       NaN             NaN\n",
              "3            81010006             I  ...       NaN             NaN\n",
              "4            71120007             I  ...       NaN             NaN\n",
              "\n",
              "[5 rows x 127 columns]"
            ]
          },
          "metadata": {
            "tags": []
          },
          "execution_count": 411
        }
      ]
    },
    {
      "cell_type": "code",
      "metadata": {
        "id": "s5NRhf_zxtHP",
        "colab_type": "code",
        "outputId": "9ef477d6-52c8-4841-fdbf-8d3e0d0ea5b3",
        "colab": {
          "base_uri": "https://localhost:8080/",
          "height": 221
        }
      },
      "source": [
        "all_demographics.isnull().sum()/len(all_demographics)"
      ],
      "execution_count": 412,
      "outputs": [
        {
          "output_type": "execute_result",
          "data": {
            "text/plain": [
              "CUSTOMER_UNIQUE_ID    0.000000\n",
              "CUSTOMER_TYPE         0.000000\n",
              "ADDRESS_LINE3         0.025543\n",
              "ADDRESS_LINE4         0.151308\n",
              "COUNTRY               0.000000\n",
              "                        ...   \n",
              "OTHER_EXPENSES        0.967501\n",
              "HOUSE_VALUE           0.967501\n",
              "CREDIT_CARDS          0.999722\n",
              "E_COUNTRY             0.987423\n",
              "CCY_PERS_INCEXP       0.999499\n",
              "Length: 127, dtype: float64"
            ]
          },
          "metadata": {
            "tags": []
          },
          "execution_count": 412
        }
      ]
    },
    {
      "cell_type": "code",
      "metadata": {
        "id": "nhIca-W_x5Cw",
        "colab_type": "code",
        "colab": {}
      },
      "source": [
        "#removing all columns with columns greater than 90% nan\n",
        "#all_demographics.dropna(thresh=.9*len(all_demographics),axis=1,inplace=True)"
      ],
      "execution_count": 0,
      "outputs": []
    },
    {
      "cell_type": "code",
      "metadata": {
        "id": "SzyspOh9ElWA",
        "colab_type": "code",
        "colab": {}
      },
      "source": [
        "#all_demographics=all_demographics_data.copy()"
      ],
      "execution_count": 0,
      "outputs": []
    },
    {
      "cell_type": "code",
      "metadata": {
        "id": "Bjow_IjsEM_O",
        "colab_type": "code",
        "colab": {}
      },
      "source": [
        "all_demographics=all_demographics.loc[:,all_demographics.isnull().mean() <= 0.2]"
      ],
      "execution_count": 0,
      "outputs": []
    },
    {
      "cell_type": "code",
      "metadata": {
        "id": "0-HSEUHuVHic",
        "colab_type": "code",
        "colab": {}
      },
      "source": [
        "#removing some columns from all_demographics data\n",
        "#removal was due to to many NaN values,and some the meaning was not given in data dictionary so i removed\n",
        "all_demographics=all_demographics.drop(['ADDRESS_LINE4','EXT_REF_NO','CIF_CREATION_DATE','STAFF','PRIVATE_CUSTOMER','AR_AP_TRACKING','CUSTOMER_PREFIX','DATE_OF_BIRTH','AGE_PROOF_SUBMITTED','BIRTH_COUNTRY','LIMIT_CCY','FT_ACCTING_AS_OF','DEFAULT_MEDIA','MINOR'],axis=1)"
      ],
      "execution_count": 0,
      "outputs": []
    },
    {
      "cell_type": "code",
      "metadata": {
        "id": "47q0fZKLZGYx",
        "colab_type": "code",
        "colab": {
          "base_uri": "https://localhost:8080/",
          "height": 80
        },
        "outputId": "0e2d6352-5df9-4db1-92ec-ed86f20ff10a"
      },
      "source": [
        "all_dictionary[all_dictionary['FEATURES']=='MINOR']"
      ],
      "execution_count": 417,
      "outputs": [
        {
          "output_type": "execute_result",
          "data": {
            "text/html": [
              "<div>\n",
              "<style scoped>\n",
              "    .dataframe tbody tr th:only-of-type {\n",
              "        vertical-align: middle;\n",
              "    }\n",
              "\n",
              "    .dataframe tbody tr th {\n",
              "        vertical-align: top;\n",
              "    }\n",
              "\n",
              "    .dataframe thead th {\n",
              "        text-align: right;\n",
              "    }\n",
              "</style>\n",
              "<table border=\"1\" class=\"dataframe\">\n",
              "  <thead>\n",
              "    <tr style=\"text-align: right;\">\n",
              "      <th></th>\n",
              "      <th>FEATURES</th>\n",
              "      <th>DESCRIPTION</th>\n",
              "      <th>DATA TYPE</th>\n",
              "      <th>Unnamed: 3</th>\n",
              "      <th>Unnamed: 4</th>\n",
              "    </tr>\n",
              "  </thead>\n",
              "  <tbody>\n",
              "    <tr>\n",
              "      <th>116</th>\n",
              "      <td>MINOR</td>\n",
              "      <td>Minor</td>\n",
              "      <td>NaN</td>\n",
              "      <td>NaN</td>\n",
              "      <td>NaN</td>\n",
              "    </tr>\n",
              "  </tbody>\n",
              "</table>\n",
              "</div>"
            ],
            "text/plain": [
              "    FEATURES DESCRIPTION DATA TYPE  Unnamed: 3  Unnamed: 4\n",
              "116    MINOR       Minor       NaN         NaN         NaN"
            ]
          },
          "metadata": {
            "tags": []
          },
          "execution_count": 417
        }
      ]
    },
    {
      "cell_type": "code",
      "metadata": {
        "id": "eUBjp4-rW_tO",
        "colab_type": "code",
        "colab": {
          "base_uri": "https://localhost:8080/",
          "height": 476
        },
        "outputId": "ce3cbc6e-f60d-4d7a-c491-95eaa4547929"
      },
      "source": [
        "all_demographics.isnull().sum()"
      ],
      "execution_count": 418,
      "outputs": [
        {
          "output_type": "execute_result",
          "data": {
            "text/plain": [
              "CUSTOMER_UNIQUE_ID            0\n",
              "CUSTOMER_TYPE                 0\n",
              "ADDRESS_LINE3               459\n",
              "COUNTRY                       0\n",
              "NATIONALITY                   0\n",
              "LANGUAGE                      0\n",
              "EXPOSURE_COUNTRY              0\n",
              "LOCAL_BRANCH                  0\n",
              "FROZEN                        0\n",
              "DECEASED                      0\n",
              "WHEREABOUTS_UNKNOWN           0\n",
              "CUSTOMER_CATEGORY             0\n",
              "LIAB_NODE                     0\n",
              "LIAB_BR                       0\n",
              "UTILITY_PROVIDER              0\n",
              "AML_REQUIRED                  0\n",
              "UNADVISED                     0\n",
              "CONSOL_TAX_CERT_REQD          0\n",
              "INDIVIDUAL_TAX_CERT_REQD      0\n",
              "CLS_CCY_ALLOWED               0\n",
              "CLS_PARTICIPANT               0\n",
              "RP_CUSTOMER                   0\n",
              "AUTO_CREATE_ACCOUNT           0\n",
              "TRACK_LIMITS                  0\n",
              "SEX                          20\n",
              "MARITAL_STATUS              134\n",
              "dtype: int64"
            ]
          },
          "metadata": {
            "tags": []
          },
          "execution_count": 418
        }
      ]
    },
    {
      "cell_type": "code",
      "metadata": {
        "id": "ht2ycZwsyHVM",
        "colab_type": "code",
        "outputId": "8d2bcf96-a0ea-4b16-cb67-a9307e100dc0",
        "colab": {
          "base_uri": "https://localhost:8080/",
          "height": 459
        }
      },
      "source": [
        "all_demographics.isnull().sum().to_dict()"
      ],
      "execution_count": 419,
      "outputs": [
        {
          "output_type": "execute_result",
          "data": {
            "text/plain": [
              "{'ADDRESS_LINE3': 459,\n",
              " 'AML_REQUIRED': 0,\n",
              " 'AUTO_CREATE_ACCOUNT': 0,\n",
              " 'CLS_CCY_ALLOWED': 0,\n",
              " 'CLS_PARTICIPANT': 0,\n",
              " 'CONSOL_TAX_CERT_REQD': 0,\n",
              " 'COUNTRY': 0,\n",
              " 'CUSTOMER_CATEGORY': 0,\n",
              " 'CUSTOMER_TYPE': 0,\n",
              " 'CUSTOMER_UNIQUE_ID': 0,\n",
              " 'DECEASED': 0,\n",
              " 'EXPOSURE_COUNTRY': 0,\n",
              " 'FROZEN': 0,\n",
              " 'INDIVIDUAL_TAX_CERT_REQD': 0,\n",
              " 'LANGUAGE': 0,\n",
              " 'LIAB_BR': 0,\n",
              " 'LIAB_NODE': 0,\n",
              " 'LOCAL_BRANCH': 0,\n",
              " 'MARITAL_STATUS': 134,\n",
              " 'NATIONALITY': 0,\n",
              " 'RP_CUSTOMER': 0,\n",
              " 'SEX': 20,\n",
              " 'TRACK_LIMITS': 0,\n",
              " 'UNADVISED': 0,\n",
              " 'UTILITY_PROVIDER': 0,\n",
              " 'WHEREABOUTS_UNKNOWN': 0}"
            ]
          },
          "metadata": {
            "tags": []
          },
          "execution_count": 419
        }
      ]
    },
    {
      "cell_type": "code",
      "metadata": {
        "id": "i2XlG4H-yX2m",
        "colab_type": "code",
        "colab": {}
      },
      "source": [
        "#meaning of minor\n",
        "all_demographics.ADDRESS_LINE3.fillna(\"Unknown\",inplace=True)"
      ],
      "execution_count": 0,
      "outputs": []
    },
    {
      "cell_type": "code",
      "metadata": {
        "id": "3bCUlc0kyr-2",
        "colab_type": "code",
        "outputId": "cd9d74c6-f940-43dd-90ce-bb910629a95a",
        "colab": {
          "base_uri": "https://localhost:8080/",
          "height": 49
        }
      },
      "source": [
        "#meaning of ACY_AVL_BAL\n",
        "all_dictionary[all_dictionary['FEATURES']=='TRACK_LIMITS']"
      ],
      "execution_count": 421,
      "outputs": [
        {
          "output_type": "execute_result",
          "data": {
            "text/html": [
              "<div>\n",
              "<style scoped>\n",
              "    .dataframe tbody tr th:only-of-type {\n",
              "        vertical-align: middle;\n",
              "    }\n",
              "\n",
              "    .dataframe tbody tr th {\n",
              "        vertical-align: top;\n",
              "    }\n",
              "\n",
              "    .dataframe thead th {\n",
              "        text-align: right;\n",
              "    }\n",
              "</style>\n",
              "<table border=\"1\" class=\"dataframe\">\n",
              "  <thead>\n",
              "    <tr style=\"text-align: right;\">\n",
              "      <th></th>\n",
              "      <th>FEATURES</th>\n",
              "      <th>DESCRIPTION</th>\n",
              "      <th>DATA TYPE</th>\n",
              "      <th>Unnamed: 3</th>\n",
              "      <th>Unnamed: 4</th>\n",
              "    </tr>\n",
              "  </thead>\n",
              "  <tbody>\n",
              "  </tbody>\n",
              "</table>\n",
              "</div>"
            ],
            "text/plain": [
              "Empty DataFrame\n",
              "Columns: [FEATURES, DESCRIPTION, DATA TYPE, Unnamed: 3, Unnamed: 4]\n",
              "Index: []"
            ]
          },
          "metadata": {
            "tags": []
          },
          "execution_count": 421
        }
      ]
    },
    {
      "cell_type": "code",
      "metadata": {
        "id": "Wa4ONgVh0VRG",
        "colab_type": "code",
        "colab": {}
      },
      "source": [
        "all_demographics.SEX.fillna(\"Unknown\",inplace=True)"
      ],
      "execution_count": 0,
      "outputs": []
    },
    {
      "cell_type": "code",
      "metadata": {
        "id": "QLPZ6Ygg0ZtL",
        "colab_type": "code",
        "colab": {}
      },
      "source": [
        "all_demographics.MARITAL_STATUS.fillna(\"Unknown\",inplace=True)"
      ],
      "execution_count": 0,
      "outputs": []
    },
    {
      "cell_type": "code",
      "metadata": {
        "id": "sCFvJONQ0d4O",
        "colab_type": "code",
        "outputId": "af60e293-2397-4aa7-df70-a0b5e3501c96",
        "colab": {
          "base_uri": "https://localhost:8080/",
          "height": 476
        }
      },
      "source": [
        "all_demographics.isnull().sum()"
      ],
      "execution_count": 424,
      "outputs": [
        {
          "output_type": "execute_result",
          "data": {
            "text/plain": [
              "CUSTOMER_UNIQUE_ID          0\n",
              "CUSTOMER_TYPE               0\n",
              "ADDRESS_LINE3               0\n",
              "COUNTRY                     0\n",
              "NATIONALITY                 0\n",
              "LANGUAGE                    0\n",
              "EXPOSURE_COUNTRY            0\n",
              "LOCAL_BRANCH                0\n",
              "FROZEN                      0\n",
              "DECEASED                    0\n",
              "WHEREABOUTS_UNKNOWN         0\n",
              "CUSTOMER_CATEGORY           0\n",
              "LIAB_NODE                   0\n",
              "LIAB_BR                     0\n",
              "UTILITY_PROVIDER            0\n",
              "AML_REQUIRED                0\n",
              "UNADVISED                   0\n",
              "CONSOL_TAX_CERT_REQD        0\n",
              "INDIVIDUAL_TAX_CERT_REQD    0\n",
              "CLS_CCY_ALLOWED             0\n",
              "CLS_PARTICIPANT             0\n",
              "RP_CUSTOMER                 0\n",
              "AUTO_CREATE_ACCOUNT         0\n",
              "TRACK_LIMITS                0\n",
              "SEX                         0\n",
              "MARITAL_STATUS              0\n",
              "dtype: int64"
            ]
          },
          "metadata": {
            "tags": []
          },
          "execution_count": 424
        }
      ]
    },
    {
      "cell_type": "code",
      "metadata": {
        "id": "OcGSzt530tOy",
        "colab_type": "code",
        "colab": {}
      },
      "source": [
        "#all_demographics_data,Need to set index to customer ID\n",
        "all_demographics_data=all_demographics.copy()"
      ],
      "execution_count": 0,
      "outputs": []
    },
    {
      "cell_type": "code",
      "metadata": {
        "id": "9zhsUl1V0wFj",
        "colab_type": "code",
        "colab": {
          "base_uri": "https://localhost:8080/",
          "height": 54
        },
        "outputId": "2a602f62-3401-4448-bfdf-592936d94fd2"
      },
      "source": [
        "'''\n",
        "for i in columns:\n",
        "    result=all_demographics[i].value_counts().to_list()\n",
        "    percent=result[0]/sum(result)\n",
        "    if percent>.9:\n",
        "        all_demographics.drop(columns=i)'''"
      ],
      "execution_count": 368,
      "outputs": [
        {
          "output_type": "execute_result",
          "data": {
            "text/plain": [
              "'\\nfor i in columns:\\n    result=all_demographics[i].value_counts().to_list()\\n    percent=result[0]/sum(result)\\n    if percent>.9:\\n        all_demographics.drop(columns=i)'"
            ]
          },
          "metadata": {
            "tags": []
          },
          "execution_count": 368
        }
      ]
    },
    {
      "cell_type": "code",
      "metadata": {
        "id": "FcHyXydP1Vl1",
        "colab_type": "code",
        "colab": {}
      },
      "source": [
        "all_loans_application.index=all_loans_application.index.astype('int')"
      ],
      "execution_count": 0,
      "outputs": []
    },
    {
      "cell_type": "code",
      "metadata": {
        "id": "xuc4wELkd5kS",
        "colab_type": "code",
        "colab": {}
      },
      "source": [
        "all_loans_application_data=all_loans_application.copy()"
      ],
      "execution_count": 0,
      "outputs": []
    },
    {
      "cell_type": "code",
      "metadata": {
        "id": "4Okk6FGghkZZ",
        "colab_type": "code",
        "colab": {
          "base_uri": "https://localhost:8080/",
          "height": 450
        },
        "outputId": "9911fdb5-c122-4e8c-f04a-64ce98b2e0af"
      },
      "source": [
        "all_loans_application_data"
      ],
      "execution_count": 434,
      "outputs": [
        {
          "output_type": "execute_result",
          "data": {
            "text/html": [
              "<div>\n",
              "<style scoped>\n",
              "    .dataframe tbody tr th:only-of-type {\n",
              "        vertical-align: middle;\n",
              "    }\n",
              "\n",
              "    .dataframe tbody tr th {\n",
              "        vertical-align: top;\n",
              "    }\n",
              "\n",
              "    .dataframe thead th {\n",
              "        text-align: right;\n",
              "    }\n",
              "</style>\n",
              "<table border=\"1\" class=\"dataframe\">\n",
              "  <thead>\n",
              "    <tr style=\"text-align: right;\">\n",
              "      <th></th>\n",
              "      <th>OFFERID</th>\n",
              "      <th>INCR_ALLOWED</th>\n",
              "      <th>APPLIED_AMOUNT</th>\n",
              "      <th>DATE_OF_APPLY</th>\n",
              "      <th>APPLICATION_STATUS</th>\n",
              "      <th>MODULE</th>\n",
              "      <th>LOAN_CLASSIFICATION</th>\n",
              "    </tr>\n",
              "    <tr>\n",
              "      <th>CUSTOMER_UNIQUE_ID</th>\n",
              "      <th></th>\n",
              "      <th></th>\n",
              "      <th></th>\n",
              "      <th></th>\n",
              "      <th></th>\n",
              "      <th></th>\n",
              "      <th></th>\n",
              "    </tr>\n",
              "  </thead>\n",
              "  <tbody>\n",
              "    <tr>\n",
              "      <th>562966000</th>\n",
              "      <td>099AMPC173040537</td>\n",
              "      <td>370803.43</td>\n",
              "      <td>1040.0</td>\n",
              "      <td>10/31/2017 10:36:23 AM</td>\n",
              "      <td>D</td>\n",
              "      <td>AMPC</td>\n",
              "      <td>PERFORMING</td>\n",
              "    </tr>\n",
              "    <tr>\n",
              "      <th>562966000</th>\n",
              "      <td>099AMPC173040537</td>\n",
              "      <td>370803.43</td>\n",
              "      <td>1040.0</td>\n",
              "      <td>10/31/2017 10:37:10 AM</td>\n",
              "      <td>D</td>\n",
              "      <td>AMPC</td>\n",
              "      <td>PERFORMING</td>\n",
              "    </tr>\n",
              "    <tr>\n",
              "      <th>562966000</th>\n",
              "      <td>099AMPC173040539</td>\n",
              "      <td>370803.43</td>\n",
              "      <td>1040.0</td>\n",
              "      <td>10/31/2017 10:39:06 AM</td>\n",
              "      <td>D</td>\n",
              "      <td>AMPC</td>\n",
              "      <td>PERFORMING</td>\n",
              "    </tr>\n",
              "    <tr>\n",
              "      <th>867156003</th>\n",
              "      <td>099AMPC173040543</td>\n",
              "      <td>15278.69</td>\n",
              "      <td>13000.0</td>\n",
              "      <td>10/31/2017 10:44:39 AM</td>\n",
              "      <td>D</td>\n",
              "      <td>AMPC</td>\n",
              "      <td>PERFORMING</td>\n",
              "    </tr>\n",
              "    <tr>\n",
              "      <th>747196003</th>\n",
              "      <td>099AMPC173040545</td>\n",
              "      <td>136863.90</td>\n",
              "      <td>1000.0</td>\n",
              "      <td>10/31/2017 10:44:58 AM</td>\n",
              "      <td>D</td>\n",
              "      <td>AMPC</td>\n",
              "      <td>PERFORMING</td>\n",
              "    </tr>\n",
              "    <tr>\n",
              "      <th>...</th>\n",
              "      <td>...</td>\n",
              "      <td>...</td>\n",
              "      <td>...</td>\n",
              "      <td>...</td>\n",
              "      <td>...</td>\n",
              "      <td>...</td>\n",
              "      <td>...</td>\n",
              "    </tr>\n",
              "    <tr>\n",
              "      <th>212922009</th>\n",
              "      <td>099STPL19294000G</td>\n",
              "      <td>76659.00</td>\n",
              "      <td>389000.0</td>\n",
              "      <td>10/21/2019 6:03:09 PM</td>\n",
              "      <td>D</td>\n",
              "      <td>STP</td>\n",
              "      <td>PERFORMING</td>\n",
              "    </tr>\n",
              "    <tr>\n",
              "      <th>422330002</th>\n",
              "      <td>099STPL1929403V3</td>\n",
              "      <td>33229.51</td>\n",
              "      <td>10000.0</td>\n",
              "      <td>10/21/2019 7:08:40 AM</td>\n",
              "      <td>D</td>\n",
              "      <td>STP</td>\n",
              "      <td>PERFORMING</td>\n",
              "    </tr>\n",
              "    <tr>\n",
              "      <th>334578018</th>\n",
              "      <td>099STPL193010006</td>\n",
              "      <td>98616.43</td>\n",
              "      <td>400000.0</td>\n",
              "      <td>10/26/2019 9:44:13 AM</td>\n",
              "      <td>D</td>\n",
              "      <td>STP</td>\n",
              "      <td>PERFORMING</td>\n",
              "    </tr>\n",
              "    <tr>\n",
              "      <th>440170019</th>\n",
              "      <td>099STPL19301000D</td>\n",
              "      <td>67800.03</td>\n",
              "      <td>344000.0</td>\n",
              "      <td>10/27/2019 11:34:56 AM</td>\n",
              "      <td>D</td>\n",
              "      <td>STP</td>\n",
              "      <td>PERFORMING</td>\n",
              "    </tr>\n",
              "    <tr>\n",
              "      <th>65167007</th>\n",
              "      <td>099STPL19301000K</td>\n",
              "      <td>76885.29</td>\n",
              "      <td>200000.0</td>\n",
              "      <td>10/28/2019 3:19:43 PM</td>\n",
              "      <td>D</td>\n",
              "      <td>STP</td>\n",
              "      <td>PERFORMING</td>\n",
              "    </tr>\n",
              "  </tbody>\n",
              "</table>\n",
              "<p>23172 rows × 7 columns</p>\n",
              "</div>"
            ],
            "text/plain": [
              "                             OFFERID  INCR_ALLOWED  ...  MODULE LOAN_CLASSIFICATION\n",
              "CUSTOMER_UNIQUE_ID                                  ...                            \n",
              "562966000           099AMPC173040537     370803.43  ...    AMPC          PERFORMING\n",
              "562966000           099AMPC173040537     370803.43  ...    AMPC          PERFORMING\n",
              "562966000           099AMPC173040539     370803.43  ...    AMPC          PERFORMING\n",
              "867156003           099AMPC173040543      15278.69  ...    AMPC          PERFORMING\n",
              "747196003           099AMPC173040545     136863.90  ...    AMPC          PERFORMING\n",
              "...                              ...           ...  ...     ...                 ...\n",
              "212922009           099STPL19294000G      76659.00  ...     STP          PERFORMING\n",
              "422330002           099STPL1929403V3      33229.51  ...     STP          PERFORMING\n",
              "334578018           099STPL193010006      98616.43  ...     STP          PERFORMING\n",
              "440170019           099STPL19301000D      67800.03  ...     STP          PERFORMING\n",
              "65167007            099STPL19301000K      76885.29  ...     STP          PERFORMING\n",
              "\n",
              "[23172 rows x 7 columns]"
            ]
          },
          "metadata": {
            "tags": []
          },
          "execution_count": 434
        }
      ]
    },
    {
      "cell_type": "code",
      "metadata": {
        "id": "wgqRID7Pcv_D",
        "colab_type": "code",
        "colab": {
          "base_uri": "https://localhost:8080/",
          "height": 34
        },
        "outputId": "09956aee-4fba-4d30-fbd7-06942bff878d"
      },
      "source": [
        "##all_loans_application treated\n",
        "all_loans_application['LOAN_CLASSIFICATION'].unique()"
      ],
      "execution_count": 435,
      "outputs": [
        {
          "output_type": "execute_result",
          "data": {
            "text/plain": [
              "array(['PERFORMING', 'NON-PERFORMING'], dtype=object)"
            ]
          },
          "metadata": {
            "tags": []
          },
          "execution_count": 435
        }
      ]
    },
    {
      "cell_type": "code",
      "metadata": {
        "id": "aNcoYdsXhMBv",
        "colab_type": "code",
        "colab": {}
      },
      "source": [
        "#all_loans_application_data.reset_index(inplace=True)"
      ],
      "execution_count": 0,
      "outputs": []
    },
    {
      "cell_type": "code",
      "metadata": {
        "id": "416VQYuUfbHj",
        "colab_type": "code",
        "colab": {}
      },
      "source": [
        "all_loans_application_data.loc[all_loans_application.LOAN_CLASSIFICATION=='PERFORMING','LOAN_CLASSIFICATION']=1"
      ],
      "execution_count": 0,
      "outputs": []
    },
    {
      "cell_type": "code",
      "metadata": {
        "id": "dZypoabBpAbS",
        "colab_type": "code",
        "colab": {}
      },
      "source": [
        "all_loans_application_data.loc[all_loans_application.LOAN_CLASSIFICATION=='NON-PERFORMING','LOAN_CLASSIFICATION']=0"
      ],
      "execution_count": 0,
      "outputs": []
    },
    {
      "cell_type": "code",
      "metadata": {
        "id": "ttj--KL9pIyj",
        "colab_type": "code",
        "colab": {
          "base_uri": "https://localhost:8080/",
          "height": 34
        },
        "outputId": "61240ec3-e98a-4810-b5bb-da8f55c5c8b6"
      },
      "source": [
        "#all_loans_application_data treated\n",
        "all_loans_application_data.LOAN_CLASSIFICATION.unique()"
      ],
      "execution_count": 444,
      "outputs": [
        {
          "output_type": "execute_result",
          "data": {
            "text/plain": [
              "array([1, 0])"
            ]
          },
          "metadata": {
            "tags": []
          },
          "execution_count": 444
        }
      ]
    },
    {
      "cell_type": "code",
      "metadata": {
        "id": "wZKjpY5QpgjO",
        "colab_type": "code",
        "colab": {}
      },
      "source": [
        "all_investments.set_index('CUSTOMER_UNIQUE_ID',inplace=True)"
      ],
      "execution_count": 0,
      "outputs": []
    },
    {
      "cell_type": "code",
      "metadata": {
        "id": "Bl8YyWAhpyGY",
        "colab_type": "code",
        "colab": {
          "base_uri": "https://localhost:8080/",
          "height": 691
        },
        "outputId": "73e8defc-91d4-4dd1-cbee-b95eab99956c"
      },
      "source": [
        "all_investments.loc[important_indexes]"
      ],
      "execution_count": 472,
      "outputs": [
        {
          "output_type": "stream",
          "text": [
            "/usr/local/lib/python3.6/dist-packages/ipykernel_launcher.py:1: FutureWarning: \n",
            "Passing list-likes to .loc or [] with any missing label will raise\n",
            "KeyError in the future, you can use .reindex() as an alternative.\n",
            "\n",
            "See the documentation here:\n",
            "https://pandas.pydata.org/pandas-docs/stable/user_guide/indexing.html#deprecate-loc-reindex-listlike\n",
            "  \"\"\"Entry point for launching an IPython kernel.\n"
          ],
          "name": "stderr"
        },
        {
          "output_type": "execute_result",
          "data": {
            "text/html": [
              "<div>\n",
              "<style scoped>\n",
              "    .dataframe tbody tr th:only-of-type {\n",
              "        vertical-align: middle;\n",
              "    }\n",
              "\n",
              "    .dataframe tbody tr th {\n",
              "        vertical-align: top;\n",
              "    }\n",
              "\n",
              "    .dataframe thead th {\n",
              "        text-align: right;\n",
              "    }\n",
              "</style>\n",
              "<table border=\"1\" class=\"dataframe\">\n",
              "  <thead>\n",
              "    <tr style=\"text-align: right;\">\n",
              "      <th></th>\n",
              "      <th>CONTRACT_REF_NO</th>\n",
              "      <th>PRODUCT</th>\n",
              "      <th>PRODUCT_NAME</th>\n",
              "      <th>PAYMENT_METHOD</th>\n",
              "      <th>CURRENCY</th>\n",
              "      <th>AMOUNT</th>\n",
              "      <th>LCY_AMOUNT</th>\n",
              "      <th>BOOKING_DATE</th>\n",
              "      <th>MATURITY_DATE</th>\n",
              "      <th>ROLLOVER_ALLOWED</th>\n",
              "      <th>TENOR</th>\n",
              "      <th>ROLLOVER_COUNT</th>\n",
              "      <th>CONTRACT_STATUS</th>\n",
              "      <th>MAIN_COMP_RATE</th>\n",
              "      <th>MASKED_ACCOUNT</th>\n",
              "    </tr>\n",
              "    <tr>\n",
              "      <th>CUSTOMER_UNIQUE_ID</th>\n",
              "      <th></th>\n",
              "      <th></th>\n",
              "      <th></th>\n",
              "      <th></th>\n",
              "      <th></th>\n",
              "      <th></th>\n",
              "      <th></th>\n",
              "      <th></th>\n",
              "      <th></th>\n",
              "      <th></th>\n",
              "      <th></th>\n",
              "      <th></th>\n",
              "      <th></th>\n",
              "      <th></th>\n",
              "      <th></th>\n",
              "    </tr>\n",
              "  </thead>\n",
              "  <tbody>\n",
              "    <tr>\n",
              "      <th>562966000</th>\n",
              "      <td>NaN</td>\n",
              "      <td>NaN</td>\n",
              "      <td>NaN</td>\n",
              "      <td>NaN</td>\n",
              "      <td>NaN</td>\n",
              "      <td>NaN</td>\n",
              "      <td>NaN</td>\n",
              "      <td>NaN</td>\n",
              "      <td>NaN</td>\n",
              "      <td>NaN</td>\n",
              "      <td>NaN</td>\n",
              "      <td>NaN</td>\n",
              "      <td>NaN</td>\n",
              "      <td>NaN</td>\n",
              "      <td>NaN</td>\n",
              "    </tr>\n",
              "    <tr>\n",
              "      <th>867156003</th>\n",
              "      <td>NaN</td>\n",
              "      <td>NaN</td>\n",
              "      <td>NaN</td>\n",
              "      <td>NaN</td>\n",
              "      <td>NaN</td>\n",
              "      <td>NaN</td>\n",
              "      <td>NaN</td>\n",
              "      <td>NaN</td>\n",
              "      <td>NaN</td>\n",
              "      <td>NaN</td>\n",
              "      <td>NaN</td>\n",
              "      <td>NaN</td>\n",
              "      <td>NaN</td>\n",
              "      <td>NaN</td>\n",
              "      <td>NaN</td>\n",
              "    </tr>\n",
              "    <tr>\n",
              "      <th>747196003</th>\n",
              "      <td>099TBCS180100002</td>\n",
              "      <td>TBCS</td>\n",
              "      <td>TBILLS INVT. FOR CUSTOMER</td>\n",
              "      <td>D</td>\n",
              "      <td>NGN</td>\n",
              "      <td>3000000.0</td>\n",
              "      <td>3000000.0</td>\n",
              "      <td>1/10/2018</td>\n",
              "      <td>6/21/2018</td>\n",
              "      <td>N</td>\n",
              "      <td>163.0</td>\n",
              "      <td>0.0</td>\n",
              "      <td>L</td>\n",
              "      <td>13.0</td>\n",
              "      <td>07******36</td>\n",
              "    </tr>\n",
              "    <tr>\n",
              "      <th>747196003</th>\n",
              "      <td>099TBCS180850020</td>\n",
              "      <td>TBCS</td>\n",
              "      <td>TBILLS INVT. FOR CUSTOMER</td>\n",
              "      <td>D</td>\n",
              "      <td>NGN</td>\n",
              "      <td>1000000.0</td>\n",
              "      <td>1000000.0</td>\n",
              "      <td>3/26/2018</td>\n",
              "      <td>8/2/2018</td>\n",
              "      <td>N</td>\n",
              "      <td>132.0</td>\n",
              "      <td>0.0</td>\n",
              "      <td>L</td>\n",
              "      <td>12.0</td>\n",
              "      <td>07******36</td>\n",
              "    </tr>\n",
              "    <tr>\n",
              "      <th>747196003</th>\n",
              "      <td>099TBCS181830515</td>\n",
              "      <td>TBCS</td>\n",
              "      <td>TBILLS INVT. FOR CUSTOMER</td>\n",
              "      <td>D</td>\n",
              "      <td>NGN</td>\n",
              "      <td>2712000.0</td>\n",
              "      <td>2712000.0</td>\n",
              "      <td>7/2/2018</td>\n",
              "      <td>11/15/2018</td>\n",
              "      <td>N</td>\n",
              "      <td>136.0</td>\n",
              "      <td>0.0</td>\n",
              "      <td>L</td>\n",
              "      <td>11.0</td>\n",
              "      <td>07******36</td>\n",
              "    </tr>\n",
              "    <tr>\n",
              "      <th>...</th>\n",
              "      <td>...</td>\n",
              "      <td>...</td>\n",
              "      <td>...</td>\n",
              "      <td>...</td>\n",
              "      <td>...</td>\n",
              "      <td>...</td>\n",
              "      <td>...</td>\n",
              "      <td>...</td>\n",
              "      <td>...</td>\n",
              "      <td>...</td>\n",
              "      <td>...</td>\n",
              "      <td>...</td>\n",
              "      <td>...</td>\n",
              "      <td>...</td>\n",
              "      <td>...</td>\n",
              "    </tr>\n",
              "    <tr>\n",
              "      <th>778317002</th>\n",
              "      <td>NaN</td>\n",
              "      <td>NaN</td>\n",
              "      <td>NaN</td>\n",
              "      <td>NaN</td>\n",
              "      <td>NaN</td>\n",
              "      <td>NaN</td>\n",
              "      <td>NaN</td>\n",
              "      <td>NaN</td>\n",
              "      <td>NaN</td>\n",
              "      <td>NaN</td>\n",
              "      <td>NaN</td>\n",
              "      <td>NaN</td>\n",
              "      <td>NaN</td>\n",
              "      <td>NaN</td>\n",
              "      <td>NaN</td>\n",
              "    </tr>\n",
              "    <tr>\n",
              "      <th>448867003</th>\n",
              "      <td>NaN</td>\n",
              "      <td>NaN</td>\n",
              "      <td>NaN</td>\n",
              "      <td>NaN</td>\n",
              "      <td>NaN</td>\n",
              "      <td>NaN</td>\n",
              "      <td>NaN</td>\n",
              "      <td>NaN</td>\n",
              "      <td>NaN</td>\n",
              "      <td>NaN</td>\n",
              "      <td>NaN</td>\n",
              "      <td>NaN</td>\n",
              "      <td>NaN</td>\n",
              "      <td>NaN</td>\n",
              "      <td>NaN</td>\n",
              "    </tr>\n",
              "    <tr>\n",
              "      <th>760097005</th>\n",
              "      <td>NaN</td>\n",
              "      <td>NaN</td>\n",
              "      <td>NaN</td>\n",
              "      <td>NaN</td>\n",
              "      <td>NaN</td>\n",
              "      <td>NaN</td>\n",
              "      <td>NaN</td>\n",
              "      <td>NaN</td>\n",
              "      <td>NaN</td>\n",
              "      <td>NaN</td>\n",
              "      <td>NaN</td>\n",
              "      <td>NaN</td>\n",
              "      <td>NaN</td>\n",
              "      <td>NaN</td>\n",
              "      <td>NaN</td>\n",
              "    </tr>\n",
              "    <tr>\n",
              "      <th>440170019</th>\n",
              "      <td>NaN</td>\n",
              "      <td>NaN</td>\n",
              "      <td>NaN</td>\n",
              "      <td>NaN</td>\n",
              "      <td>NaN</td>\n",
              "      <td>NaN</td>\n",
              "      <td>NaN</td>\n",
              "      <td>NaN</td>\n",
              "      <td>NaN</td>\n",
              "      <td>NaN</td>\n",
              "      <td>NaN</td>\n",
              "      <td>NaN</td>\n",
              "      <td>NaN</td>\n",
              "      <td>NaN</td>\n",
              "      <td>NaN</td>\n",
              "    </tr>\n",
              "    <tr>\n",
              "      <th>65167007</th>\n",
              "      <td>NaN</td>\n",
              "      <td>NaN</td>\n",
              "      <td>NaN</td>\n",
              "      <td>NaN</td>\n",
              "      <td>NaN</td>\n",
              "      <td>NaN</td>\n",
              "      <td>NaN</td>\n",
              "      <td>NaN</td>\n",
              "      <td>NaN</td>\n",
              "      <td>NaN</td>\n",
              "      <td>NaN</td>\n",
              "      <td>NaN</td>\n",
              "      <td>NaN</td>\n",
              "      <td>NaN</td>\n",
              "      <td>NaN</td>\n",
              "    </tr>\n",
              "  </tbody>\n",
              "</table>\n",
              "<p>19144 rows × 15 columns</p>\n",
              "</div>"
            ],
            "text/plain": [
              "                     CONTRACT_REF_NO PRODUCT  ... MAIN_COMP_RATE MASKED_ACCOUNT\n",
              "CUSTOMER_UNIQUE_ID                            ...                              \n",
              "562966000                        NaN     NaN  ...            NaN            NaN\n",
              "867156003                        NaN     NaN  ...            NaN            NaN\n",
              "747196003           099TBCS180100002    TBCS  ...           13.0     07******36\n",
              "747196003           099TBCS180850020    TBCS  ...           12.0     07******36\n",
              "747196003           099TBCS181830515    TBCS  ...           11.0     07******36\n",
              "...                              ...     ...  ...            ...            ...\n",
              "778317002                        NaN     NaN  ...            NaN            NaN\n",
              "448867003                        NaN     NaN  ...            NaN            NaN\n",
              "760097005                        NaN     NaN  ...            NaN            NaN\n",
              "440170019                        NaN     NaN  ...            NaN            NaN\n",
              "65167007                         NaN     NaN  ...            NaN            NaN\n",
              "\n",
              "[19144 rows x 15 columns]"
            ]
          },
          "metadata": {
            "tags": []
          },
          "execution_count": 472
        }
      ]
    },
    {
      "cell_type": "code",
      "metadata": {
        "id": "uASSmbOMuBxG",
        "colab_type": "code",
        "colab": {
          "base_uri": "https://localhost:8080/",
          "height": 289
        },
        "outputId": "24bf66a9-69b9-4656-a0af-ce06202f1728"
      },
      "source": [
        "all_investments.isna().sum()"
      ],
      "execution_count": 478,
      "outputs": [
        {
          "output_type": "execute_result",
          "data": {
            "text/plain": [
              "CONTRACT_REF_NO     0\n",
              "PRODUCT             0\n",
              "PRODUCT_NAME        0\n",
              "PAYMENT_METHOD      0\n",
              "CURRENCY            0\n",
              "AMOUNT              0\n",
              "LCY_AMOUNT          0\n",
              "BOOKING_DATE        0\n",
              "MATURITY_DATE       0\n",
              "ROLLOVER_ALLOWED    0\n",
              "TENOR               0\n",
              "ROLLOVER_COUNT      0\n",
              "CONTRACT_STATUS     0\n",
              "MAIN_COMP_RATE      0\n",
              "MASKED_ACCOUNT      0\n",
              "dtype: int64"
            ]
          },
          "metadata": {
            "tags": []
          },
          "execution_count": 478
        }
      ]
    },
    {
      "cell_type": "code",
      "metadata": {
        "id": "uvMMY1qcq0Ui",
        "colab_type": "code",
        "colab": {}
      },
      "source": [
        "#dropping all rows with null values\n",
        "all_investments=all_investments.dropna(how='any',axis=0)"
      ],
      "execution_count": 0,
      "outputs": []
    },
    {
      "cell_type": "code",
      "metadata": {
        "id": "SSBRCsrPrJDz",
        "colab_type": "code",
        "colab": {
          "base_uri": "https://localhost:8080/",
          "height": 289
        },
        "outputId": "bb0958db-a387-48be-8a7e-d388d61ef7a5"
      },
      "source": [
        "#all_investment_data treated\n",
        "all_investments.isnull().sum()"
      ],
      "execution_count": 480,
      "outputs": [
        {
          "output_type": "execute_result",
          "data": {
            "text/plain": [
              "CONTRACT_REF_NO     0\n",
              "PRODUCT             0\n",
              "PRODUCT_NAME        0\n",
              "PAYMENT_METHOD      0\n",
              "CURRENCY            0\n",
              "AMOUNT              0\n",
              "LCY_AMOUNT          0\n",
              "BOOKING_DATE        0\n",
              "MATURITY_DATE       0\n",
              "ROLLOVER_ALLOWED    0\n",
              "TENOR               0\n",
              "ROLLOVER_COUNT      0\n",
              "CONTRACT_STATUS     0\n",
              "MAIN_COMP_RATE      0\n",
              "MASKED_ACCOUNT      0\n",
              "dtype: int64"
            ]
          },
          "metadata": {
            "tags": []
          },
          "execution_count": 480
        }
      ]
    },
    {
      "cell_type": "code",
      "metadata": {
        "id": "CluLuDGyrzI-",
        "colab_type": "code",
        "colab": {
          "base_uri": "https://localhost:8080/",
          "height": 136
        },
        "outputId": "cf53a366-6d85-41c4-e465-3e323abc3e7a"
      },
      "source": [
        ""
      ],
      "execution_count": 467,
      "outputs": [
        {
          "output_type": "stream",
          "text": [
            "/usr/local/lib/python3.6/dist-packages/ipykernel_launcher.py:1: FutureWarning: \n",
            "Passing list-likes to .loc or [] with any missing label will raise\n",
            "KeyError in the future, you can use .reindex() as an alternative.\n",
            "\n",
            "See the documentation here:\n",
            "https://pandas.pydata.org/pandas-docs/stable/user_guide/indexing.html#deprecate-loc-reindex-listlike\n",
            "  \"\"\"Entry point for launching an IPython kernel.\n"
          ],
          "name": "stderr"
        }
      ]
    },
    {
      "cell_type": "code",
      "metadata": {
        "id": "2jnDp6z6sRsl",
        "colab_type": "code",
        "colab": {
          "base_uri": "https://localhost:8080/",
          "height": 289
        },
        "outputId": "33658605-d453-4734-f014-0512cd821128"
      },
      "source": [
        "all_investments.isnull().sum()"
      ],
      "execution_count": 481,
      "outputs": [
        {
          "output_type": "execute_result",
          "data": {
            "text/plain": [
              "CONTRACT_REF_NO     0\n",
              "PRODUCT             0\n",
              "PRODUCT_NAME        0\n",
              "PAYMENT_METHOD      0\n",
              "CURRENCY            0\n",
              "AMOUNT              0\n",
              "LCY_AMOUNT          0\n",
              "BOOKING_DATE        0\n",
              "MATURITY_DATE       0\n",
              "ROLLOVER_ALLOWED    0\n",
              "TENOR               0\n",
              "ROLLOVER_COUNT      0\n",
              "CONTRACT_STATUS     0\n",
              "MAIN_COMP_RATE      0\n",
              "MASKED_ACCOUNT      0\n",
              "dtype: int64"
            ]
          },
          "metadata": {
            "tags": []
          },
          "execution_count": 481
        }
      ]
    },
    {
      "cell_type": "code",
      "metadata": {
        "id": "Pm30OZ2FtlTQ",
        "colab_type": "code",
        "colab": {}
      },
      "source": [
        ""
      ],
      "execution_count": 0,
      "outputs": []
    }
  ]
}