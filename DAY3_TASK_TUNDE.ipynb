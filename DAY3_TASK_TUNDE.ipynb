{
  "nbformat": 4,
  "nbformat_minor": 0,
  "metadata": {
    "colab": {
      "name": "DAY3_TASK_TUNDE.ipynb",
      "provenance": [],
      "include_colab_link": true
    },
    "kernelspec": {
      "name": "python3",
      "display_name": "Python 3"
    }
  },
  "cells": [
    {
      "cell_type": "markdown",
      "metadata": {
        "id": "view-in-github",
        "colab_type": "text"
      },
      "source": [
        "<a href=\"https://colab.research.google.com/github/Ayanlola2002/Stutern/blob/master/DAY3_TASK_TUNDE.ipynb\" target=\"_parent\"><img src=\"https://colab.research.google.com/assets/colab-badge.svg\" alt=\"Open In Colab\"/></a>"
      ]
    },
    {
      "cell_type": "code",
      "metadata": {
        "id": "oxNq0G_tTPbh",
        "colab_type": "code",
        "colab": {}
      },
      "source": [
        "#import neccessary libraries\n",
        "import pandas as pd\n",
        "import matplotlib.pyplot as plt\n",
        "\n"
      ],
      "execution_count": 0,
      "outputs": []
    },
    {
      "cell_type": "code",
      "metadata": {
        "id": "lj_GWr5XQ6aP",
        "colab_type": "code",
        "colab": {}
      },
      "source": [
        "#creating skills as lists\n",
        "skills=['Reading',\n",
        "'Critical Thinking',\n",
        "'Time Management',\n",
        "'Mathematics',\n",
        "'Computer Programming',\n",
        "'System Design',\n",
        "'Report Writing',\n",
        "'Listening',\n",
        "'Teamwork',\n",
        "'Curiosity (Asking Questions)']"
      ],
      "execution_count": 0,
      "outputs": []
    },
    {
      "cell_type": "code",
      "metadata": {
        "id": "sG87KYtsRwCH",
        "colab_type": "code",
        "colab": {}
      },
      "source": [
        "#creating my ranking as a lists\n",
        "ranking=[8,9,7,9,9,7,8,7,9,9]"
      ],
      "execution_count": 0,
      "outputs": []
    },
    {
      "cell_type": "code",
      "metadata": {
        "id": "hcmpDQTHSWYk",
        "colab_type": "code",
        "colab": {
          "base_uri": "https://localhost:8080/",
          "height": 217
        },
        "outputId": "01750275-b3e0-4488-b67c-07e97dc7b9fa"
      },
      "source": [
        "#creating skills_ranking dictionary\n",
        "skills_ranking_dict={'Skills':skills,'Rank':ranking}\n",
        "skills_ranking_dict"
      ],
      "execution_count": 29,
      "outputs": [
        {
          "output_type": "execute_result",
          "data": {
            "text/plain": [
              "{'Rank': [8, 9, 7, 9, 9, 7, 8, 7, 9, 9],\n",
              " 'Skills': ['Reading',\n",
              "  'Critical Thinking',\n",
              "  'Time Management',\n",
              "  'Mathematics',\n",
              "  'Computer Programming',\n",
              "  'System Design',\n",
              "  'Report Writing',\n",
              "  'Listening',\n",
              "  'Teamwork',\n",
              "  'Curiosity (Asking Questions)']}"
            ]
          },
          "metadata": {
            "tags": []
          },
          "execution_count": 29
        }
      ]
    },
    {
      "cell_type": "code",
      "metadata": {
        "id": "zsbl978vTYVh",
        "colab_type": "code",
        "colab": {
          "base_uri": "https://localhost:8080/",
          "height": 348
        },
        "outputId": "2114fdfc-703b-46fe-b0a0-a693909fa568"
      },
      "source": [
        "#creating a dataframe for the dictionary\n",
        "df=pd.DataFrame(data=skills_ranking_dict,index=None)\n",
        "df"
      ],
      "execution_count": 30,
      "outputs": [
        {
          "output_type": "execute_result",
          "data": {
            "text/html": [
              "<div>\n",
              "<style scoped>\n",
              "    .dataframe tbody tr th:only-of-type {\n",
              "        vertical-align: middle;\n",
              "    }\n",
              "\n",
              "    .dataframe tbody tr th {\n",
              "        vertical-align: top;\n",
              "    }\n",
              "\n",
              "    .dataframe thead th {\n",
              "        text-align: right;\n",
              "    }\n",
              "</style>\n",
              "<table border=\"1\" class=\"dataframe\">\n",
              "  <thead>\n",
              "    <tr style=\"text-align: right;\">\n",
              "      <th></th>\n",
              "      <th>Skills</th>\n",
              "      <th>Rank</th>\n",
              "    </tr>\n",
              "  </thead>\n",
              "  <tbody>\n",
              "    <tr>\n",
              "      <th>0</th>\n",
              "      <td>Reading</td>\n",
              "      <td>8</td>\n",
              "    </tr>\n",
              "    <tr>\n",
              "      <th>1</th>\n",
              "      <td>Critical Thinking</td>\n",
              "      <td>9</td>\n",
              "    </tr>\n",
              "    <tr>\n",
              "      <th>2</th>\n",
              "      <td>Time Management</td>\n",
              "      <td>7</td>\n",
              "    </tr>\n",
              "    <tr>\n",
              "      <th>3</th>\n",
              "      <td>Mathematics</td>\n",
              "      <td>9</td>\n",
              "    </tr>\n",
              "    <tr>\n",
              "      <th>4</th>\n",
              "      <td>Computer Programming</td>\n",
              "      <td>9</td>\n",
              "    </tr>\n",
              "    <tr>\n",
              "      <th>5</th>\n",
              "      <td>System Design</td>\n",
              "      <td>7</td>\n",
              "    </tr>\n",
              "    <tr>\n",
              "      <th>6</th>\n",
              "      <td>Report Writing</td>\n",
              "      <td>8</td>\n",
              "    </tr>\n",
              "    <tr>\n",
              "      <th>7</th>\n",
              "      <td>Listening</td>\n",
              "      <td>7</td>\n",
              "    </tr>\n",
              "    <tr>\n",
              "      <th>8</th>\n",
              "      <td>Teamwork</td>\n",
              "      <td>9</td>\n",
              "    </tr>\n",
              "    <tr>\n",
              "      <th>9</th>\n",
              "      <td>Curiosity (Asking Questions)</td>\n",
              "      <td>9</td>\n",
              "    </tr>\n",
              "  </tbody>\n",
              "</table>\n",
              "</div>"
            ],
            "text/plain": [
              "                         Skills  Rank\n",
              "0                       Reading     8\n",
              "1             Critical Thinking     9\n",
              "2               Time Management     7\n",
              "3                   Mathematics     9\n",
              "4          Computer Programming     9\n",
              "5                 System Design     7\n",
              "6                Report Writing     8\n",
              "7                     Listening     7\n",
              "8                      Teamwork     9\n",
              "9  Curiosity (Asking Questions)     9"
            ]
          },
          "metadata": {
            "tags": []
          },
          "execution_count": 30
        }
      ]
    },
    {
      "cell_type": "code",
      "metadata": {
        "id": "ZxQsgGCyUF0F",
        "colab_type": "code",
        "colab": {
          "base_uri": "https://localhost:8080/",
          "height": 477
        },
        "outputId": "b621e12b-6007-4c78-dde2-b80950d89e0f"
      },
      "source": [
        "plt.figure(figsize=(9,5))\n",
        "plt.bar(skills,ranking,alpha=0.5)\n",
        "plt.xticks(skills,rotation=90)\n",
        "plt.yticks(ranking,fontsize=7)\n",
        "plt.xlabel('Skills',fontsize=7)\n",
        "plt.ylabel('Ranking',fontsize=7)\n",
        "plt.title('Bar Plot For Skill and Ranking')\n",
        "plt.grid()\n",
        "\n",
        "plt.show()"
      ],
      "execution_count": 37,
      "outputs": [
        {
          "output_type": "display_data",
          "data": {
            "image/png": "[encoded data removed]",
            "text/plain": [
              "<Figure size 648x360 with 1 Axes>"
            ]
          },
          "metadata": {
            "tags": []
          }
        }
      ]
    },
    {
      "cell_type": "code",
      "metadata": {
        "id": "3p5lH9BUXTRc",
        "colab_type": "code",
        "colab": {}
      },
      "source": [
        ""
      ],
      "execution_count": 0,
      "outputs": []
    }
  ]
}