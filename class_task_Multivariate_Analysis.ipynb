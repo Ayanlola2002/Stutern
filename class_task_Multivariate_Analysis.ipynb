{
  "nbformat": 4,
  "nbformat_minor": 0,
  "metadata": {
    "colab": {
      "name": "Multivariate_Analysis.ipynb",
      "provenance": [],
      "authorship_tag": "ABX9TyNjYHfcGu3GViMoVrOPOsNg",
      "include_colab_link": true
    },
    "kernelspec": {
      "name": "python3",
      "display_name": "Python 3"
    }
  },
  "cells": [
    {
      "cell_type": "markdown",
      "metadata": {
        "id": "view-in-github",
        "colab_type": "text"
      },
      "source": [
        "<a href=\"https://colab.research.google.com/github/Ayanlola2002/Stutern/blob/master/Multivariate_Analysis.ipynb\" target=\"_parent\"><img src=\"https://colab.research.google.com/assets/colab-badge.svg\" alt=\"Open In Colab\"/></a>"
      ]
    },
    {
      "cell_type": "code",
      "metadata": {
        "id": "omzxod91jsit",
        "colab_type": "code",
        "colab": {}
      },
      "source": [
        "# Core\n",
        "import pandas as pd\n",
        "import numpy as np\n",
        "\n",
        "# Data Visualisation\n",
        "import matplotlib.pyplot as plt\n",
        "import seaborn as sns\n",
        "%matplotlib inline"
      ],
      "execution_count": 0,
      "outputs": []
    },
    {
      "cell_type": "code",
      "metadata": {
        "id": "ENavDeVynHcr",
        "colab_type": "code",
        "outputId": "1b57e191-86c9-42f7-b981-0aa920ef4524",
        "colab": {
          "base_uri": "https://localhost:8080/",
          "height": 1000
        }
      },
      "source": [
        "!pip install pydataset --disable-pip-version-check -q  # install a Python package containing the dataset\n",
        "import pydataset\n",
        "from pydataset import data\n",
        "df = data('mtcars')\n",
        "data('mtcars', show_doc=True)"
      ],
      "execution_count": 26,
      "outputs": [
        {
          "output_type": "stream",
          "text": [
            "mtcars\n",
            "\n",
            "PyDataset Documentation (adopted from R Documentation. The displayed examples are in R)\n",
            "\n",
            "## Motor Trend Car Road Tests\n",
            "\n",
            "### Description\n",
            "\n",
            "The data was extracted from the 1974 _Motor Trend_ US magazine, and comprises\n",
            "fuel consumption and 10 aspects of automobile design and performance for 32\n",
            "automobiles (1973–74 models).\n",
            "\n",
            "### Usage\n",
            "\n",
            "    mtcars\n",
            "\n",
            "### Format\n",
            "\n",
            "A data frame with 32 observations on 11 variables.\n",
            "\n",
            "[, 1]\n",
            "\n",
            "mpg\n",
            "\n",
            "Miles/(US) gallon\n",
            "\n",
            "[, 2]\n",
            "\n",
            "cyl\n",
            "\n",
            "Number of cylinders\n",
            "\n",
            "[, 3]\n",
            "\n",
            "disp\n",
            "\n",
            "Displacement (cu.in.)\n",
            "\n",
            "[, 4]\n",
            "\n",
            "hp\n",
            "\n",
            "Gross horsepower\n",
            "\n",
            "[, 5]\n",
            "\n",
            "drat\n",
            "\n",
            "Rear axle ratio\n",
            "\n",
            "[, 6]\n",
            "\n",
            "wt\n",
            "\n",
            "Weight (lb/1000)\n",
            "\n",
            "[, 7]\n",
            "\n",
            "qsec\n",
            "\n",
            "1/4 mile time\n",
            "\n",
            "[, 8]\n",
            "\n",
            "vs\n",
            "\n",
            "V/S\n",
            "\n",
            "[, 9]\n",
            "\n",
            "am\n",
            "\n",
            "Transmission (0 = automatic, 1 = manual)\n",
            "\n",
            "[,10]\n",
            "\n",
            "gear\n",
            "\n",
            "Number of forward gears\n",
            "\n",
            "[,11]\n",
            "\n",
            "carb\n",
            "\n",
            "Number of carburetors\n",
            "\n",
            "### Source\n",
            "\n",
            "Henderson and Velleman (1981), Building multiple regression models\n",
            "interactively. _Biometrics_, **37**, 391–411.\n",
            "\n",
            "### Examples\n",
            "\n",
            "    require(graphics)\n",
            "    pairs(mtcars, main = \"mtcars data\")\n",
            "    coplot(mpg ~ disp | as.factor(cyl), data = mtcars,\n",
            "           panel = panel.smooth, rows = 1)\n",
            "\n",
            "\n"
          ],
          "name": "stdout"
        }
      ]
    },
    {
      "cell_type": "code",
      "metadata": {
        "id": "-N-FsCwsnfCk",
        "colab_type": "code",
        "outputId": "4a4e5018-1ec5-41d9-e36c-fd19c1562409",
        "colab": {
          "base_uri": "https://localhost:8080/",
          "height": 297
        }
      },
      "source": [
        "#We can also quickly examine the distribution of values and first few rows of the dataset:\n",
        "df.describe()"
      ],
      "execution_count": 27,
      "outputs": [
        {
          "output_type": "execute_result",
          "data": {
            "text/html": [
              "<div>\n",
              "<style scoped>\n",
              "    .dataframe tbody tr th:only-of-type {\n",
              "        vertical-align: middle;\n",
              "    }\n",
              "\n",
              "    .dataframe tbody tr th {\n",
              "        vertical-align: top;\n",
              "    }\n",
              "\n",
              "    .dataframe thead th {\n",
              "        text-align: right;\n",
              "    }\n",
              "</style>\n",
              "<table border=\"1\" class=\"dataframe\">\n",
              "  <thead>\n",
              "    <tr style=\"text-align: right;\">\n",
              "      <th></th>\n",
              "      <th>mpg</th>\n",
              "      <th>cyl</th>\n",
              "      <th>disp</th>\n",
              "      <th>hp</th>\n",
              "      <th>drat</th>\n",
              "      <th>wt</th>\n",
              "      <th>qsec</th>\n",
              "      <th>vs</th>\n",
              "      <th>am</th>\n",
              "      <th>gear</th>\n",
              "      <th>carb</th>\n",
              "    </tr>\n",
              "  </thead>\n",
              "  <tbody>\n",
              "    <tr>\n",
              "      <th>count</th>\n",
              "      <td>32.000000</td>\n",
              "      <td>32.000000</td>\n",
              "      <td>32.000000</td>\n",
              "      <td>32.000000</td>\n",
              "      <td>32.000000</td>\n",
              "      <td>32.000000</td>\n",
              "      <td>32.000000</td>\n",
              "      <td>32.000000</td>\n",
              "      <td>32.000000</td>\n",
              "      <td>32.000000</td>\n",
              "      <td>32.0000</td>\n",
              "    </tr>\n",
              "    <tr>\n",
              "      <th>mean</th>\n",
              "      <td>20.090625</td>\n",
              "      <td>6.187500</td>\n",
              "      <td>230.721875</td>\n",
              "      <td>146.687500</td>\n",
              "      <td>3.596563</td>\n",
              "      <td>3.217250</td>\n",
              "      <td>17.848750</td>\n",
              "      <td>0.437500</td>\n",
              "      <td>0.406250</td>\n",
              "      <td>3.687500</td>\n",
              "      <td>2.8125</td>\n",
              "    </tr>\n",
              "    <tr>\n",
              "      <th>std</th>\n",
              "      <td>6.026948</td>\n",
              "      <td>1.785922</td>\n",
              "      <td>123.938694</td>\n",
              "      <td>68.562868</td>\n",
              "      <td>0.534679</td>\n",
              "      <td>0.978457</td>\n",
              "      <td>1.786943</td>\n",
              "      <td>0.504016</td>\n",
              "      <td>0.498991</td>\n",
              "      <td>0.737804</td>\n",
              "      <td>1.6152</td>\n",
              "    </tr>\n",
              "    <tr>\n",
              "      <th>min</th>\n",
              "      <td>10.400000</td>\n",
              "      <td>4.000000</td>\n",
              "      <td>71.100000</td>\n",
              "      <td>52.000000</td>\n",
              "      <td>2.760000</td>\n",
              "      <td>1.513000</td>\n",
              "      <td>14.500000</td>\n",
              "      <td>0.000000</td>\n",
              "      <td>0.000000</td>\n",
              "      <td>3.000000</td>\n",
              "      <td>1.0000</td>\n",
              "    </tr>\n",
              "    <tr>\n",
              "      <th>25%</th>\n",
              "      <td>15.425000</td>\n",
              "      <td>4.000000</td>\n",
              "      <td>120.825000</td>\n",
              "      <td>96.500000</td>\n",
              "      <td>3.080000</td>\n",
              "      <td>2.581250</td>\n",
              "      <td>16.892500</td>\n",
              "      <td>0.000000</td>\n",
              "      <td>0.000000</td>\n",
              "      <td>3.000000</td>\n",
              "      <td>2.0000</td>\n",
              "    </tr>\n",
              "    <tr>\n",
              "      <th>50%</th>\n",
              "      <td>19.200000</td>\n",
              "      <td>6.000000</td>\n",
              "      <td>196.300000</td>\n",
              "      <td>123.000000</td>\n",
              "      <td>3.695000</td>\n",
              "      <td>3.325000</td>\n",
              "      <td>17.710000</td>\n",
              "      <td>0.000000</td>\n",
              "      <td>0.000000</td>\n",
              "      <td>4.000000</td>\n",
              "      <td>2.0000</td>\n",
              "    </tr>\n",
              "    <tr>\n",
              "      <th>75%</th>\n",
              "      <td>22.800000</td>\n",
              "      <td>8.000000</td>\n",
              "      <td>326.000000</td>\n",
              "      <td>180.000000</td>\n",
              "      <td>3.920000</td>\n",
              "      <td>3.610000</td>\n",
              "      <td>18.900000</td>\n",
              "      <td>1.000000</td>\n",
              "      <td>1.000000</td>\n",
              "      <td>4.000000</td>\n",
              "      <td>4.0000</td>\n",
              "    </tr>\n",
              "    <tr>\n",
              "      <th>max</th>\n",
              "      <td>33.900000</td>\n",
              "      <td>8.000000</td>\n",
              "      <td>472.000000</td>\n",
              "      <td>335.000000</td>\n",
              "      <td>4.930000</td>\n",
              "      <td>5.424000</td>\n",
              "      <td>22.900000</td>\n",
              "      <td>1.000000</td>\n",
              "      <td>1.000000</td>\n",
              "      <td>5.000000</td>\n",
              "      <td>8.0000</td>\n",
              "    </tr>\n",
              "  </tbody>\n",
              "</table>\n",
              "</div>"
            ],
            "text/plain": [
              "             mpg        cyl        disp  ...         am       gear     carb\n",
              "count  32.000000  32.000000   32.000000  ...  32.000000  32.000000  32.0000\n",
              "mean   20.090625   6.187500  230.721875  ...   0.406250   3.687500   2.8125\n",
              "std     6.026948   1.785922  123.938694  ...   0.498991   0.737804   1.6152\n",
              "min    10.400000   4.000000   71.100000  ...   0.000000   3.000000   1.0000\n",
              "25%    15.425000   4.000000  120.825000  ...   0.000000   3.000000   2.0000\n",
              "50%    19.200000   6.000000  196.300000  ...   0.000000   4.000000   2.0000\n",
              "75%    22.800000   8.000000  326.000000  ...   1.000000   4.000000   4.0000\n",
              "max    33.900000   8.000000  472.000000  ...   1.000000   5.000000   8.0000\n",
              "\n",
              "[8 rows x 11 columns]"
            ]
          },
          "metadata": {
            "tags": []
          },
          "execution_count": 27
        }
      ]
    },
    {
      "cell_type": "code",
      "metadata": {
        "id": "7d_rzKJXnspN",
        "colab_type": "code",
        "outputId": "6277d2c9-2f70-4417-be80-c22bec3fbdbb",
        "colab": {
          "base_uri": "https://localhost:8080/",
          "height": 204
        }
      },
      "source": [
        "df.head()"
      ],
      "execution_count": 28,
      "outputs": [
        {
          "output_type": "execute_result",
          "data": {
            "text/html": [
              "<div>\n",
              "<style scoped>\n",
              "    .dataframe tbody tr th:only-of-type {\n",
              "        vertical-align: middle;\n",
              "    }\n",
              "\n",
              "    .dataframe tbody tr th {\n",
              "        vertical-align: top;\n",
              "    }\n",
              "\n",
              "    .dataframe thead th {\n",
              "        text-align: right;\n",
              "    }\n",
              "</style>\n",
              "<table border=\"1\" class=\"dataframe\">\n",
              "  <thead>\n",
              "    <tr style=\"text-align: right;\">\n",
              "      <th></th>\n",
              "      <th>mpg</th>\n",
              "      <th>cyl</th>\n",
              "      <th>disp</th>\n",
              "      <th>hp</th>\n",
              "      <th>drat</th>\n",
              "      <th>wt</th>\n",
              "      <th>qsec</th>\n",
              "      <th>vs</th>\n",
              "      <th>am</th>\n",
              "      <th>gear</th>\n",
              "      <th>carb</th>\n",
              "    </tr>\n",
              "  </thead>\n",
              "  <tbody>\n",
              "    <tr>\n",
              "      <th>Mazda RX4</th>\n",
              "      <td>21.0</td>\n",
              "      <td>6</td>\n",
              "      <td>160.0</td>\n",
              "      <td>110</td>\n",
              "      <td>3.90</td>\n",
              "      <td>2.620</td>\n",
              "      <td>16.46</td>\n",
              "      <td>0</td>\n",
              "      <td>1</td>\n",
              "      <td>4</td>\n",
              "      <td>4</td>\n",
              "    </tr>\n",
              "    <tr>\n",
              "      <th>Mazda RX4 Wag</th>\n",
              "      <td>21.0</td>\n",
              "      <td>6</td>\n",
              "      <td>160.0</td>\n",
              "      <td>110</td>\n",
              "      <td>3.90</td>\n",
              "      <td>2.875</td>\n",
              "      <td>17.02</td>\n",
              "      <td>0</td>\n",
              "      <td>1</td>\n",
              "      <td>4</td>\n",
              "      <td>4</td>\n",
              "    </tr>\n",
              "    <tr>\n",
              "      <th>Datsun 710</th>\n",
              "      <td>22.8</td>\n",
              "      <td>4</td>\n",
              "      <td>108.0</td>\n",
              "      <td>93</td>\n",
              "      <td>3.85</td>\n",
              "      <td>2.320</td>\n",
              "      <td>18.61</td>\n",
              "      <td>1</td>\n",
              "      <td>1</td>\n",
              "      <td>4</td>\n",
              "      <td>1</td>\n",
              "    </tr>\n",
              "    <tr>\n",
              "      <th>Hornet 4 Drive</th>\n",
              "      <td>21.4</td>\n",
              "      <td>6</td>\n",
              "      <td>258.0</td>\n",
              "      <td>110</td>\n",
              "      <td>3.08</td>\n",
              "      <td>3.215</td>\n",
              "      <td>19.44</td>\n",
              "      <td>1</td>\n",
              "      <td>0</td>\n",
              "      <td>3</td>\n",
              "      <td>1</td>\n",
              "    </tr>\n",
              "    <tr>\n",
              "      <th>Hornet Sportabout</th>\n",
              "      <td>18.7</td>\n",
              "      <td>8</td>\n",
              "      <td>360.0</td>\n",
              "      <td>175</td>\n",
              "      <td>3.15</td>\n",
              "      <td>3.440</td>\n",
              "      <td>17.02</td>\n",
              "      <td>0</td>\n",
              "      <td>0</td>\n",
              "      <td>3</td>\n",
              "      <td>2</td>\n",
              "    </tr>\n",
              "  </tbody>\n",
              "</table>\n",
              "</div>"
            ],
            "text/plain": [
              "                    mpg  cyl   disp   hp  drat  ...   qsec  vs  am  gear  carb\n",
              "Mazda RX4          21.0    6  160.0  110  3.90  ...  16.46   0   1     4     4\n",
              "Mazda RX4 Wag      21.0    6  160.0  110  3.90  ...  17.02   0   1     4     4\n",
              "Datsun 710         22.8    4  108.0   93  3.85  ...  18.61   1   1     4     1\n",
              "Hornet 4 Drive     21.4    6  258.0  110  3.08  ...  19.44   1   0     3     1\n",
              "Hornet Sportabout  18.7    8  360.0  175  3.15  ...  17.02   0   0     3     2\n",
              "\n",
              "[5 rows x 11 columns]"
            ]
          },
          "metadata": {
            "tags": []
          },
          "execution_count": 28
        }
      ]
    },
    {
      "cell_type": "code",
      "metadata": {
        "id": "ykvi3jDgiZfC",
        "colab_type": "code",
        "colab": {
          "base_uri": "https://localhost:8080/",
          "height": 390
        },
        "outputId": "2ad7187d-5c3c-4acc-a1d9-b7c9776a0f92"
      },
      "source": [
        "\n",
        "# check how many missings we have per feature\n",
        "missings = df.isnull().sum().to_frame()\n",
        "\n",
        "# give column the name nMissings\n",
        "missings.columns = ['nMissings']\n",
        "\n",
        "# make new columns that gives information about missing percentage\n",
        "missings['percMissing'] = missings['nMissings']/1460\n",
        "\n",
        "# sort values by nMissings values\n",
        "ordered_missings = missings.sort_values(by = ['nMissings'], ascending=False)\n",
        "ordered_missings"
      ],
      "execution_count": 29,
      "outputs": [
        {
          "output_type": "execute_result",
          "data": {
            "text/html": [
              "<div>\n",
              "<style scoped>\n",
              "    .dataframe tbody tr th:only-of-type {\n",
              "        vertical-align: middle;\n",
              "    }\n",
              "\n",
              "    .dataframe tbody tr th {\n",
              "        vertical-align: top;\n",
              "    }\n",
              "\n",
              "    .dataframe thead th {\n",
              "        text-align: right;\n",
              "    }\n",
              "</style>\n",
              "<table border=\"1\" class=\"dataframe\">\n",
              "  <thead>\n",
              "    <tr style=\"text-align: right;\">\n",
              "      <th></th>\n",
              "      <th>nMissings</th>\n",
              "      <th>percMissing</th>\n",
              "    </tr>\n",
              "  </thead>\n",
              "  <tbody>\n",
              "    <tr>\n",
              "      <th>mpg</th>\n",
              "      <td>0</td>\n",
              "      <td>0.0</td>\n",
              "    </tr>\n",
              "    <tr>\n",
              "      <th>cyl</th>\n",
              "      <td>0</td>\n",
              "      <td>0.0</td>\n",
              "    </tr>\n",
              "    <tr>\n",
              "      <th>disp</th>\n",
              "      <td>0</td>\n",
              "      <td>0.0</td>\n",
              "    </tr>\n",
              "    <tr>\n",
              "      <th>hp</th>\n",
              "      <td>0</td>\n",
              "      <td>0.0</td>\n",
              "    </tr>\n",
              "    <tr>\n",
              "      <th>drat</th>\n",
              "      <td>0</td>\n",
              "      <td>0.0</td>\n",
              "    </tr>\n",
              "    <tr>\n",
              "      <th>wt</th>\n",
              "      <td>0</td>\n",
              "      <td>0.0</td>\n",
              "    </tr>\n",
              "    <tr>\n",
              "      <th>qsec</th>\n",
              "      <td>0</td>\n",
              "      <td>0.0</td>\n",
              "    </tr>\n",
              "    <tr>\n",
              "      <th>vs</th>\n",
              "      <td>0</td>\n",
              "      <td>0.0</td>\n",
              "    </tr>\n",
              "    <tr>\n",
              "      <th>am</th>\n",
              "      <td>0</td>\n",
              "      <td>0.0</td>\n",
              "    </tr>\n",
              "    <tr>\n",
              "      <th>gear</th>\n",
              "      <td>0</td>\n",
              "      <td>0.0</td>\n",
              "    </tr>\n",
              "    <tr>\n",
              "      <th>carb</th>\n",
              "      <td>0</td>\n",
              "      <td>0.0</td>\n",
              "    </tr>\n",
              "  </tbody>\n",
              "</table>\n",
              "</div>"
            ],
            "text/plain": [
              "      nMissings  percMissing\n",
              "mpg           0          0.0\n",
              "cyl           0          0.0\n",
              "disp          0          0.0\n",
              "hp            0          0.0\n",
              "drat          0          0.0\n",
              "wt            0          0.0\n",
              "qsec          0          0.0\n",
              "vs            0          0.0\n",
              "am            0          0.0\n",
              "gear          0          0.0\n",
              "carb          0          0.0"
            ]
          },
          "metadata": {
            "tags": []
          },
          "execution_count": 29
        }
      ]
    },
    {
      "cell_type": "code",
      "metadata": {
        "id": "WMTKr3xkisSa",
        "colab_type": "code",
        "colab": {}
      },
      "source": [
        "# List of numerical attributes\n",
        "num_cols=df.select_dtypes(exclude=['object']).columns"
      ],
      "execution_count": 0,
      "outputs": []
    },
    {
      "cell_type": "code",
      "metadata": {
        "id": "YSfpCLP3jAv9",
        "colab_type": "code",
        "colab": {
          "base_uri": "https://localhost:8080/",
          "height": 34
        },
        "outputId": "c59d7af5-800d-481c-8ce8-ce2e5dddb66e"
      },
      "source": [
        "\n",
        "#Categorical columns within the dataset\n",
        "df.select_dtypes(include=['object']).columns"
      ],
      "execution_count": 31,
      "outputs": [
        {
          "output_type": "execute_result",
          "data": {
            "text/plain": [
              "Index([], dtype='object')"
            ]
          },
          "metadata": {
            "tags": []
          },
          "execution_count": 31
        }
      ]
    },
    {
      "cell_type": "code",
      "metadata": {
        "id": "8zPtnwxcjLmo",
        "colab_type": "code",
        "colab": {
          "base_uri": "https://localhost:8080/",
          "height": 204
        },
        "outputId": "e1a308bb-f206-4d61-a8db-2762a150fb89"
      },
      "source": [
        "#investigate the target varriable(House Prices)\n",
        "print(df['mpg'].describe())\n",
        "print(\"median  \",df['mpg'].median())\n",
        "print(\"Number of missings:\", df['mpg'].isna().sum())"
      ],
      "execution_count": 32,
      "outputs": [
        {
          "output_type": "stream",
          "text": [
            "count    32.000000\n",
            "mean     20.090625\n",
            "std       6.026948\n",
            "min      10.400000\n",
            "25%      15.425000\n",
            "50%      19.200000\n",
            "75%      22.800000\n",
            "max      33.900000\n",
            "Name: mpg, dtype: float64\n",
            "median   19.2\n",
            "Number of missings: 0\n"
          ],
          "name": "stdout"
        }
      ]
    },
    {
      "cell_type": "code",
      "metadata": {
        "id": "2EdKgboWjZTu",
        "colab_type": "code",
        "colab": {
          "base_uri": "https://localhost:8080/",
          "height": 367
        },
        "outputId": "da09282a-9fc8-419d-e938-fbe01fb1791a"
      },
      "source": [
        "# visualizing the distribution of target varriable(house prices)\n",
        "target = df.mpg\n",
        "print(\"Distribution Of Sales Price FIG.1\")\n",
        "plt.figure(figsize=(14, 5))\n",
        "sns.distplot(target)\n",
        "plt.title('Distribution of mpg')\n",
        "plt.show()"
      ],
      "execution_count": 33,
      "outputs": [
        {
          "output_type": "stream",
          "text": [
            "Distribution Of Sales Price FIG.1\n"
          ],
          "name": "stdout"
        },
        {
          "output_type": "display_data",
          "data": {
            "image/png": "[encoded data removed]",
            "text/plain": [
              "<Figure size 1008x360 with 1 Axes>"
            ]
          },
          "metadata": {
            "tags": []
          }
        }
      ]
    },
    {
      "cell_type": "code",
      "metadata": {
        "id": "YLf4_j4akE6A",
        "colab_type": "code",
        "colab": {
          "base_uri": "https://localhost:8080/",
          "height": 430
        },
        "outputId": "1c15d42a-b9bb-4595-ba28-5a08d5e061bd"
      },
      "source": [
        "#Distributions of attributes\n",
        "num_attributes = df.select_dtypes(exclude='object').drop('mpg', axis=1).copy()\n",
        "\n",
        "print(\"Distribution of ALL Numerical Features\",\" \",\"FIG 2\")\n",
        "fig = plt.figure(figsize=(12,18))\n",
        "for i in range(len(num_attributes.columns)):\n",
        "    fig.add_subplot(10,4,i+1)\n",
        "    sns.distplot(num_attributes.iloc[:,i].dropna())\n",
        "    plt.xlabel(num_attributes.columns[i])\n",
        "\n",
        "plt.tight_layout()\n",
        "plt.show()"
      ],
      "execution_count": 34,
      "outputs": [
        {
          "output_type": "stream",
          "text": [
            "Distribution of ALL Numerical Features   FIG 2\n"
          ],
          "name": "stdout"
        },
        {
          "output_type": "display_data",
          "data": {
            "image/png": "[encoded data removed]",
            "text/plain": [
              "<Figure size 864x1296 with 10 Axes>"
            ]
          },
          "metadata": {
            "tags": []
          }
        }
      ]
    },
    {
      "cell_type": "code",
      "metadata": {
        "id": "FEC1m-N7k7NE",
        "colab_type": "code",
        "colab": {
          "base_uri": "https://localhost:8080/",
          "height": 432
        },
        "outputId": "04f2ae36-2f53-4d03-9fe7-bd8c2773e093"
      },
      "source": [
        "print(\"FIG 4. Scatter Plot\")\n",
        "f = plt.figure(figsize=(12,18))\n",
        "\n",
        "for i in range(len(num_attributes.columns)):\n",
        "    f.add_subplot(10,4, i+1)\n",
        "    sns.scatterplot(num_attributes.iloc[:,i], target)\n",
        "    \n",
        "plt.tight_layout()\n",
        "plt.show()"
      ],
      "execution_count": 35,
      "outputs": [
        {
          "output_type": "stream",
          "text": [
            "FIG 4. Scatter Plot\n"
          ],
          "name": "stdout"
        },
        {
          "output_type": "display_data",
          "data": {
            "image/png": "[encoded data removed]",
            "text/plain": [
              "<Figure size 864x1296 with 10 Axes>"
            ]
          },
          "metadata": {
            "tags": []
          }
        }
      ]
    },
    {
      "cell_type": "code",
      "metadata": {
        "id": "4LP6aKKKlb6E",
        "colab_type": "code",
        "colab": {}
      },
      "source": [
        "# get the correlation coefficients between these features.\n",
        "num_corr =df[num_cols].corr()"
      ],
      "execution_count": 0,
      "outputs": []
    },
    {
      "cell_type": "code",
      "metadata": {
        "id": "SnIE2EthloJ1",
        "colab_type": "code",
        "colab": {
          "base_uri": "https://localhost:8080/",
          "height": 478
        },
        "outputId": "12f6865d-c9e3-4394-b890-4f133381d475"
      },
      "source": [
        "# Set the width and height of the figure\n",
        "print(\"Fig 3 \")\n",
        "plt.figure(figsize=(14,7))\n",
        "\n",
        "# Add title\n",
        "plt.title(\"Correlation between each feature related to size and mpg\")\n",
        "\n",
        "# Heatmap showing average arrival delay for each airline by month\n",
        "sns.heatmap(data=num_corr, annot=True)"
      ],
      "execution_count": 37,
      "outputs": [
        {
          "output_type": "stream",
          "text": [
            "Fig 3 \n"
          ],
          "name": "stdout"
        },
        {
          "output_type": "execute_result",
          "data": {
            "text/plain": [
              "<matplotlib.axes._subplots.AxesSubplot at 0x7f8ee382a128>"
            ]
          },
          "metadata": {
            "tags": []
          },
          "execution_count": 37
        },
        {
          "output_type": "display_data",
          "data": {
            "image/png": "[encoded data removed]",
            "text/plain": [
              "<Figure size 1008x504 with 2 Axes>"
            ]
          },
          "metadata": {
            "tags": []
          }
        }
      ]
    },
    {
      "cell_type": "code",
      "metadata": {
        "id": "goRuAdHKm8oP",
        "colab_type": "code",
        "colab": {
          "base_uri": "https://localhost:8080/",
          "height": 221
        },
        "outputId": "1b2e6424-e89f-41cc-9849-ed73e6c82d19"
      },
      "source": [
        "#Sort correlation with sale price in order and display\n",
        "num_corr.sort_values(['mpg'], ascending=False, inplace=True)\n",
        "print(num_corr.mpg)"
      ],
      "execution_count": 38,
      "outputs": [
        {
          "output_type": "stream",
          "text": [
            "mpg     1.000000\n",
            "drat    0.681172\n",
            "vs      0.664039\n",
            "am      0.599832\n",
            "gear    0.480285\n",
            "qsec    0.418684\n",
            "carb   -0.550925\n",
            "hp     -0.776168\n",
            "disp   -0.847551\n",
            "cyl    -0.852162\n",
            "wt     -0.867659\n",
            "Name: mpg, dtype: float64\n"
          ],
          "name": "stdout"
        }
      ]
    },
    {
      "cell_type": "code",
      "metadata": {
        "id": "2qvEv6Czn6gV",
        "colab_type": "code",
        "outputId": "9c4d45f1-a2b1-445e-ddc4-e999ae45026f",
        "colab": {
          "base_uri": "https://localhost:8080/",
          "height": 34
        }
      },
      "source": [
        "from sklearn.model_selection import train_test_split\n",
        "\n",
        "# split the dataset into features available for prediction (X) and value to predict (y)\n",
        "y = df['mpg'].values\n",
        "X = df.drop('mpg', 1).values\n",
        "feature_names = df.drop('mpg', 1).columns\n",
        "\n",
        "# save 30% of the records for the test set\n",
        "X_train, X_test, y_train, y_test = train_test_split(X, y, test_size=0.7, random_state=123)\n",
        "X_train.shape"
      ],
      "execution_count": 0,
      "outputs": [
        {
          "output_type": "execute_result",
          "data": {
            "text/plain": [
              "(9, 10)"
            ]
          },
          "metadata": {
            "tags": []
          },
          "execution_count": 6
        }
      ]
    },
    {
      "cell_type": "markdown",
      "metadata": {
        "id": "vqgdLaLmooLI",
        "colab_type": "text"
      },
      "source": [
        "As you can see from the description above, the number of predictive features available in this dataset (10) is comparable to the number of records (22). Such conditions tend to produce overfitted models that give exceptional predictions on their own training data, but poor predictions on the withheld test data. We will see an example of an overfitted model below.\n",
        "\n"
      ]
    },
    {
      "cell_type": "code",
      "metadata": {
        "id": "-C27p9FXovmJ",
        "colab_type": "code",
        "outputId": "9f6210c7-2590-4103-8ed0-c8ecd9174d70",
        "colab": {
          "base_uri": "https://localhost:8080/",
          "height": 34
        }
      },
      "source": [
        "#The following lines of code fit a linear model (without regularization) using all of the original features:\n",
        "from sklearn.linear_model import LinearRegression\n",
        "\n",
        "lm = LinearRegression()\n",
        "lm.fit(X_train, y_train)"
      ],
      "execution_count": 0,
      "outputs": [
        {
          "output_type": "execute_result",
          "data": {
            "text/plain": [
              "LinearRegression(copy_X=True, fit_intercept=True, n_jobs=None, normalize=False)"
            ]
          },
          "metadata": {
            "tags": []
          },
          "execution_count": 7
        }
      ]
    },
    {
      "cell_type": "code",
      "metadata": {
        "id": "EEuQU9rwo-Yz",
        "colab_type": "code",
        "outputId": "62c90332-5b67-48cd-d738-646e7292fd92",
        "colab": {
          "base_uri": "https://localhost:8080/",
          "height": 407
        }
      },
      "source": [
        "import pandas as pd\n",
        "from sklearn.metrics import r2_score\n",
        "\n",
        "# print R^2 for the training set\n",
        "print('The R-squared value for the training set is: {:0.4f}'.format(r2_score(y_train, lm.predict(X_train))))\n",
        "\n",
        "# print intercept and coefficients\n",
        "param_df = pd.DataFrame({\"Coefficient\": [lm.intercept_] + list(lm.coef_),\n",
        "                         \"Feature\": ['intercept'] + list(feature_names)})\n",
        "param_df[['Feature', 'Coefficient']]\n"
      ],
      "execution_count": 0,
      "outputs": [
        {
          "output_type": "stream",
          "text": [
            "The R-squared value for the training set is: 1.0000\n"
          ],
          "name": "stdout"
        },
        {
          "output_type": "execute_result",
          "data": {
            "text/html": [
              "<div>\n",
              "<style scoped>\n",
              "    .dataframe tbody tr th:only-of-type {\n",
              "        vertical-align: middle;\n",
              "    }\n",
              "\n",
              "    .dataframe tbody tr th {\n",
              "        vertical-align: top;\n",
              "    }\n",
              "\n",
              "    .dataframe thead th {\n",
              "        text-align: right;\n",
              "    }\n",
              "</style>\n",
              "<table border=\"1\" class=\"dataframe\">\n",
              "  <thead>\n",
              "    <tr style=\"text-align: right;\">\n",
              "      <th></th>\n",
              "      <th>Feature</th>\n",
              "      <th>Coefficient</th>\n",
              "    </tr>\n",
              "  </thead>\n",
              "  <tbody>\n",
              "    <tr>\n",
              "      <th>0</th>\n",
              "      <td>intercept</td>\n",
              "      <td>-96.037501</td>\n",
              "    </tr>\n",
              "    <tr>\n",
              "      <th>1</th>\n",
              "      <td>cyl</td>\n",
              "      <td>-5.777114</td>\n",
              "    </tr>\n",
              "    <tr>\n",
              "      <th>2</th>\n",
              "      <td>disp</td>\n",
              "      <td>0.183642</td>\n",
              "    </tr>\n",
              "    <tr>\n",
              "      <th>3</th>\n",
              "      <td>hp</td>\n",
              "      <td>-0.245128</td>\n",
              "    </tr>\n",
              "    <tr>\n",
              "      <th>4</th>\n",
              "      <td>drat</td>\n",
              "      <td>20.683140</td>\n",
              "    </tr>\n",
              "    <tr>\n",
              "      <th>5</th>\n",
              "      <td>wt</td>\n",
              "      <td>6.713631</td>\n",
              "    </tr>\n",
              "    <tr>\n",
              "      <th>6</th>\n",
              "      <td>qsec</td>\n",
              "      <td>5.128808</td>\n",
              "    </tr>\n",
              "    <tr>\n",
              "      <th>7</th>\n",
              "      <td>vs</td>\n",
              "      <td>-12.882279</td>\n",
              "    </tr>\n",
              "    <tr>\n",
              "      <th>8</th>\n",
              "      <td>am</td>\n",
              "      <td>34.980730</td>\n",
              "    </tr>\n",
              "    <tr>\n",
              "      <th>9</th>\n",
              "      <td>gear</td>\n",
              "      <td>-19.251219</td>\n",
              "    </tr>\n",
              "    <tr>\n",
              "      <th>10</th>\n",
              "      <td>carb</td>\n",
              "      <td>9.163095</td>\n",
              "    </tr>\n",
              "  </tbody>\n",
              "</table>\n",
              "</div>"
            ],
            "text/plain": [
              "      Feature  Coefficient\n",
              "0   intercept   -96.037501\n",
              "1         cyl    -5.777114\n",
              "2        disp     0.183642\n",
              "3          hp    -0.245128\n",
              "4        drat    20.683140\n",
              "5          wt     6.713631\n",
              "6        qsec     5.128808\n",
              "7          vs   -12.882279\n",
              "8          am    34.980730\n",
              "9        gear   -19.251219\n",
              "10       carb     9.163095"
            ]
          },
          "metadata": {
            "tags": []
          },
          "execution_count": 8
        }
      ]
    },
    {
      "cell_type": "markdown",
      "metadata": {
        "id": "mYxwVNMPpMWW",
        "colab_type": "text"
      },
      "source": [
        "Notice that the model performs very well on the training data to which it was fitted. (Predictions of the model account for 89% of the variance in mpg values.) Some of the feature coefficients may reflect our intuition: for example, heavy cars tend to have worse gas mileage ($\\beta_{\\textrm{wt}} = -5.0$), and cars with manual transmissions tend to have better gas mileage ($\\beta_{\\textrm{am}} = 5.2$).\n",
        "\n"
      ]
    },
    {
      "cell_type": "code",
      "metadata": {
        "id": "grVPJUYKpOJE",
        "colab_type": "code",
        "outputId": "e3262fe9-c4b8-4f7c-d8b3-fe324d752abe",
        "colab": {
          "base_uri": "https://localhost:8080/",
          "height": 204
        }
      },
      "source": [
        "import numpy as np\n",
        "\n",
        "predicted = lm.predict(X_test)\n",
        "\n",
        "r_squared = r2_score(y_test, predicted)\n",
        "mae = np.mean(abs(predicted - y_test))\n",
        "rmse = np.sqrt(np.mean((predicted - y_test)**2))\n",
        "rae = np.mean(abs(predicted - y_test)) / np.mean(abs(y_test - np.mean(y_test)))\n",
        "rse = np.mean((predicted - y_test)**2) / np.mean((y_test - np.mean(y_test))**2)\n",
        "\n",
        "# Create a data frame for storing results from each model\n",
        "summary_df = pd.DataFrame(index = ['R-squared', 'Mean Absolute Error', 'Root Mean Squared Error',\n",
        "                                   'Relative Absolute Error', 'Relative Squared Error'])\n",
        "summary_df['Linear Regression, all variables'] = [r_squared, mae, rmse, rae, rse]\n",
        "summary_df"
      ],
      "execution_count": 0,
      "outputs": [
        {
          "output_type": "execute_result",
          "data": {
            "text/html": [
              "<div>\n",
              "<style scoped>\n",
              "    .dataframe tbody tr th:only-of-type {\n",
              "        vertical-align: middle;\n",
              "    }\n",
              "\n",
              "    .dataframe tbody tr th {\n",
              "        vertical-align: top;\n",
              "    }\n",
              "\n",
              "    .dataframe thead th {\n",
              "        text-align: right;\n",
              "    }\n",
              "</style>\n",
              "<table border=\"1\" class=\"dataframe\">\n",
              "  <thead>\n",
              "    <tr style=\"text-align: right;\">\n",
              "      <th></th>\n",
              "      <th>Linear Regression, all variables</th>\n",
              "    </tr>\n",
              "  </thead>\n",
              "  <tbody>\n",
              "    <tr>\n",
              "      <th>R-squared</th>\n",
              "      <td>-15.887973</td>\n",
              "    </tr>\n",
              "    <tr>\n",
              "      <th>Mean Absolute Error</th>\n",
              "      <td>15.632566</td>\n",
              "    </tr>\n",
              "    <tr>\n",
              "      <th>Root Mean Squared Error</th>\n",
              "      <td>22.142005</td>\n",
              "    </tr>\n",
              "    <tr>\n",
              "      <th>Relative Absolute Error</th>\n",
              "      <td>3.630851</td>\n",
              "    </tr>\n",
              "    <tr>\n",
              "      <th>Relative Squared Error</th>\n",
              "      <td>16.887973</td>\n",
              "    </tr>\n",
              "  </tbody>\n",
              "</table>\n",
              "</div>"
            ],
            "text/plain": [
              "                         Linear Regression, all variables\n",
              "R-squared                                      -15.887973\n",
              "Mean Absolute Error                             15.632566\n",
              "Root Mean Squared Error                         22.142005\n",
              "Relative Absolute Error                          3.630851\n",
              "Relative Squared Error                          16.887973"
            ]
          },
          "metadata": {
            "tags": []
          },
          "execution_count": 9
        }
      ]
    },
    {
      "cell_type": "markdown",
      "metadata": {
        "id": "P_NTcWVHp2GR",
        "colab_type": "text"
      },
      "source": [
        "Notice that the R-squared value for true vs. predicted mpg of the test set is much lower than it was for the training set. (Granted, our test set is not very large, so some fluctuation is expected.) This is indicative of model overfitting."
      ]
    }
  ]
}
