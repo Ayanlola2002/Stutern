{
  "nbformat": 4,
  "nbformat_minor": 0,
  "metadata": {
    "colab": {
      "name": "newsGroup_classification_assignment.ipynb",
      "provenance": [],
      "authorship_tag": "ABX9TyPhJL34AjI9UZlkG7rnsDJv",
      "include_colab_link": true
    },
    "kernelspec": {
      "name": "python3",
      "display_name": "Python 3"
    }
  },
  "cells": [
    {
      "cell_type": "markdown",
      "metadata": {
        "id": "view-in-github",
        "colab_type": "text"
      },
      "source": [
        "<a href=\"https://colab.research.google.com/github/Ayanlola2002/Stutern/blob/master/newsGroup_classification_assignment.ipynb\" target=\"_parent\"><img src=\"https://colab.research.google.com/assets/colab-badge.svg\" alt=\"Open In Colab\"/></a>"
      ]
    },
    {
      "cell_type": "code",
      "metadata": {
        "id": "pyNre_HQ3Yam",
        "colab_type": "code",
        "colab": {}
      },
      "source": [
        "#Importing modules\n",
        "import numpy as np\n",
        "import pandas as pd\n",
        "import os"
      ],
      "execution_count": 0,
      "outputs": []
    },
    {
      "cell_type": "code",
      "metadata": {
        "id": "yVXssVCc3iEJ",
        "colab_type": "code",
        "colab": {}
      },
      "source": [
        "DATA_DIR='20_newsgroups'"
      ],
      "execution_count": 0,
      "outputs": []
    },
    {
      "cell_type": "code",
      "metadata": {
        "id": "HVml-CBh3hqm",
        "colab_type": "code",
        "colab": {}
      },
      "source": [
        "#Listing folders\n",
        "\n",
        "folders=sorted(os.listdir(os.path.join(DATA_DIR))) # os.listdir gives a list of all files in this path\n",
        "folders"
      ],
      "execution_count": 0,
      "outputs": []
    },
    {
      "cell_type": "code",
      "metadata": {
        "id": "Sgaejdx33iAZ",
        "colab_type": "code",
        "colab": {}
      },
      "source": [
        "folders[5]"
      ],
      "execution_count": 0,
      "outputs": []
    },
    {
      "cell_type": "code",
      "metadata": {
        "id": "96i39uOW3iHJ",
        "colab_type": "code",
        "colab": {}
      },
      "source": [
        "#Loading the data into kernel\n",
        "\n",
        "data={} # data is a dictionary of the form { folder1 : [doc1,doc2,....,doc1000] , folder2 : [doc1,doc2,doc3,....] }\n",
        "for folder in folders:\n",
        "    data[folder]=[]\n",
        "    for file in os.listdir(os.path.join(DATA_DIR,folder)):\n",
        "        with open(os.path.join(DATA_DIR,folder,file),encoding='latin-1') as opened_file:\n",
        "            data[folder].append(opened_file.read())\n",
        "print(len(data[folders[1]]))"
      ],
      "execution_count": 0,
      "outputs": []
    },
    {
      "cell_type": "code",
      "metadata": {
        "id": "kMRX065V4idS",
        "colab_type": "code",
        "colab": {}
      },
      "source": [
        "#Stopwords creation\n",
        "from nltk.corpus import stopwords # Importing list of stop words from nltk\n",
        "from string import punctuation # Importing list of punctuations from string\n",
        "punctuations=list(punctuation)\n",
        "stopWords=stopwords.words('english')\n",
        "stopWords+=punctuations # Combined list of stop words"
      ],
      "execution_count": 0,
      "outputs": []
    },
    {
      "cell_type": "code",
      "metadata": {
        "id": "xevppzpY48dl",
        "colab_type": "code",
        "colab": {}
      },
      "source": [
        "# Common words throughout all docs play no part in classification ,so removing them\n",
        "stopWords+=['subject:','from:', 'date:', 'newsgroups:', 'message-id:', 'lines:', 'path:', 'organization:', \n",
        "            'would', 'writes:', 'references:', 'article', 'sender:', 'nntp-posting-host:', 'people', \n",
        "            'university', 'think', 'xref:', 'cantaloupe.srv.cs.cmu.edu', 'could', 'distribution:', 'first', \n",
        "            'anyone','world', 'really', 'since', 'right', 'believe', 'still', \n",
        "            \"max>'ax>'ax>'ax>'ax>'ax>'ax>'ax>'ax>'ax>'ax>'ax>'ax>'ax>'ax>'\"]"
      ],
      "execution_count": 0,
      "outputs": []
    },
    {
      "cell_type": "code",
      "metadata": {
        "id": "JcsC7AtZ3iKC",
        "colab_type": "code",
        "colab": {}
      },
      "source": [
        "#Building vocabulary (feature set)\n",
        "vocab={}\n",
        "# Creating a dictionary of words and their frequency\n",
        "for i in range(len(data)): # For each key(newsgroup)\n",
        "    for doc in data[folders[i]]: # For each document corresponding to key(newsgroup)\n",
        "        for word in doc.split(): # For each word in that document\n",
        "            if word.lower() not in stopWords and len(word.lower()) >= 5:\n",
        "                if word.lower() not in vocab:\n",
        "                    vocab[word.lower()]=1\n",
        "                else:\n",
        "                    vocab[word.lower()]+=1\n",
        "len(vocab)\n"
      ],
      "execution_count": 0,
      "outputs": []
    },
    {
      "cell_type": "code",
      "metadata": {
        "id": "WEQaTdoX5E5r",
        "colab_type": "code",
        "colab": {}
      },
      "source": [
        "# Sort the dictionary based on frequency of each 'possible' vocabulary word\n",
        "import operator\n",
        "sorted_vocab=sorted(vocab.items(),key=operator.itemgetter(1),reverse=True)"
      ],
      "execution_count": 0,
      "outputs": []
    },
    {
      "cell_type": "code",
      "metadata": {
        "id": "ap2Fm_YO5LIC",
        "colab_type": "code",
        "colab": {}
      },
      "source": [
        "\n",
        "# Choosing top 2000 vocab words as features\n",
        "feature_list=[]\n",
        "for key in sorted_vocab:\n",
        "    feature_list.append(key[0])\n",
        "feature_list=feature_list[0:2000] # K = 2000 (number of words in vocab)"
      ],
      "execution_count": 0,
      "outputs": []
    },
    {
      "cell_type": "code",
      "metadata": {
        "id": "32WCesyC5Omq",
        "colab_type": "code",
        "colab": {}
      },
      "source": [
        "#Transforming data into X and Y\n",
        "Y=[] # list of newsgroups \n",
        "for i in range(len(data)):\n",
        "    for doc in data[folders[i]]:\n",
        "        Y.append(folders[i])\n",
        "Y=np.array(Y)"
      ],
      "execution_count": 0,
      "outputs": []
    },
    {
      "cell_type": "code",
      "metadata": {
        "id": "oBk72vKq5Uw4",
        "colab_type": "code",
        "colab": {}
      },
      "source": [
        "type(data[folders[1]])"
      ],
      "execution_count": 0,
      "outputs": []
    },
    {
      "cell_type": "code",
      "metadata": {
        "id": "fhlB6oxC5XxJ",
        "colab_type": "code",
        "colab": {}
      },
      "source": [
        "# Each row : one doc and each column : one word from feature_list\n",
        "# Columns headers will be the names of features \n",
        "df = pd.DataFrame(columns = feature_list)\n",
        "\n",
        "for folder in folders:\n",
        "    # Insert each file as a new row \n",
        "    for file in os.listdir(os.path.join(DATA_DIR,folder)):\n",
        "        # Add a new row for every file\n",
        "        df.loc[len(df)] = np.zeros(len(feature_list))\n",
        "        with open(os.path.join(DATA_DIR,folder,file),encoding='latin-1') as opened_file:\n",
        "            for word in opened_file.read().split():\n",
        "                if word.lower() in feature_list:\n",
        "                    df[word.lower()][len(df)-1] += 1 #df[current_column][current_row]\n",
        "df"
      ],
      "execution_count": 0,
      "outputs": []
    },
    {
      "cell_type": "code",
      "metadata": {
        "id": "Fxc1yRTa5fjq",
        "colab_type": "code",
        "colab": {}
      },
      "source": [
        "X=df.values"
      ],
      "execution_count": 0,
      "outputs": []
    },
    {
      "cell_type": "code",
      "metadata": {
        "id": "LInwlbgV5iBl",
        "colab_type": "code",
        "colab": {}
      },
      "source": [
        "X"
      ],
      "execution_count": 0,
      "outputs": []
    },
    {
      "cell_type": "code",
      "metadata": {
        "id": "Fc-b8Iyh5kis",
        "colab_type": "code",
        "colab": {}
      },
      "source": [
        "from sklearn.model_selection import train_test_split\n",
        "x_train,x_test,y_train,y_test=train_test_split(X,Y,random_state=0,test_size=0.25)"
      ],
      "execution_count": 0,
      "outputs": []
    },
    {
      "cell_type": "code",
      "metadata": {
        "id": "6_gJPcq05rHj",
        "colab_type": "code",
        "colab": {}
      },
      "source": [
        "\n",
        "from sklearn.naive_bayes import MultinomialNB\n",
        "clf=MultinomialNB()\n",
        "clf.fit(x_train,y_train)"
      ],
      "execution_count": 0,
      "outputs": []
    }
  ]
}