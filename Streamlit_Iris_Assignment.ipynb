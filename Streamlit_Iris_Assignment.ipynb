{
  "nbformat": 4,
  "nbformat_minor": 0,
  "metadata": {
    "colab": {
      "name": "Streamlit_Iris_Assignment.ipynb",
      "provenance": [],
      "authorship_tag": "ABX9TyPFkSXTkGXCQidIB07pKsGt",
      "include_colab_link": true
    },
    "kernelspec": {
      "name": "python3",
      "display_name": "Python 3"
    }
  },
  "cells": [
    {
      "cell_type": "markdown",
      "metadata": {
        "id": "view-in-github",
        "colab_type": "text"
      },
      "source": [
        "<a href=\"https://colab.research.google.com/github/Ayanlola2002/Stutern/blob/master/Streamlit_Iris_Assignment.ipynb\" target=\"_parent\"><img src=\"https://colab.research.google.com/assets/colab-badge.svg\" alt=\"Open In Colab\"/></a>"
      ]
    },
    {
      "cell_type": "code",
      "metadata": {
        "id": "gBw7QmrVtv1E",
        "colab_type": "code",
        "colab": {
          "base_uri": "https://localhost:8080/",
          "height": 129
        },
        "outputId": "7c3a6c6e-e4cb-4488-ac16-1bd61d68f555"
      },
      "source": [
        "import streamlit as st\n",
        "import pandas as pd\n",
        "import numpy as np\n",
        "import plotly.express as px\n",
        "import seaborn as sns\n",
        "import matplotlib.pyplot as plt\n",
        "import plotly.graph_objects as go\n",
        "\n",
        "    st.title('Iris')\n",
        "    df = pd.read_csv(\"iris.csv\")\n",
        "    if st.checkbox('Show dataframe'):\n",
        "        st.write(df)st.subheader('Scatter plot')\n",
        "        species = st.multiselect('Show iris per variety?', df['variety'].unique())\n",
        "        col1 = st.selectbox('Which feature on x?', df.columns[0:4])\n",
        "        col2 = st.selectbox('Which feature on y?', df.columns[0:4])\n",
        "        new_df = df[(df['variety'].isin(species))]\n",
        "        st.write(new_df)\n",
        "        # create figure using plotly express\n",
        "        fig = px.scatter(new_df, x =col1,y=col2, color='variety')\n",
        "        # Plot!st.plotly_chart(fig)st.subheader('Histogram')feature = st.selectbox('Which feature?', df.columns[0:4])\n",
        "        # Filter dataframe\n",
        "        new_df2 = df[(df['variety'].isin(species))][feature]\n",
        "        fig2 = px.histogram(new_df, x=feature, color=\"variety\", marginal=\"rug\")\n",
        "        st.plotly_chart(fig2)\n",
        "        st.subheader('Machine Learning models')\n",
        "from sklearn.model_selection import train_test_split\n",
        "from sklearn.tree import DecisionTreeClassifier\n",
        "from sklearn.metrics import confusion_matrix\n",
        "from sklearn.svm import \n",
        "\n",
        "SVCfeatures= df[['sepal.length', 'sepal.width', 'petal.length', 'petal.width']].values\n",
        "labels = df['variety'].values\n",
        "X_train,X_test, y_train, y_test = train_test_split(features, labels, train_size=0.7, random_state=1)\n",
        "alg = ['Decision Tree', 'Support Vector Machine']\n",
        "classifier = st.selectbox('Which algorithm?', alg)\n",
        "    if classifier=='Decision Tree':\n",
        "        dtc = DecisionTreeClassifier()\n",
        "        dtc.fit(X_train, y_train)\n",
        "        acc = dtc.score(X_test, y_test)\n",
        "        st.write('Accuracy: ', acc)\n",
        "        pred_dtc = dtc.predict(X_test)\n",
        "        cm_dtc=confusion_matrix(y_test,pred_dtc)\n",
        "        st.write('Confusion matrix: ', cm_dtc)\n",
        "            \n",
        "    elif classifier == 'Support Vector Machine':\n",
        "        svm=SVC()\n",
        "        svm.fit(X_train, y_train)\n",
        "        acc = svm.score(X_test, y_test)\n",
        "        st.write('Accuracy: ', acc)\n",
        "        pred_svm = svm.predict(X_test)\n",
        "        cm=confusion_matrix(y_test,pred_svm)\n",
        "        st.write('Confusion matrix: ', cm)"
      ],
      "execution_count": 1,
      "outputs": [
        {
          "output_type": "error",
          "ename": "IndentationError",
          "evalue": "ignored",
          "traceback": [
            "\u001b[0;36m  File \u001b[0;32m\"<ipython-input-1-2e00d2c7c4e3>\"\u001b[0;36m, line \u001b[0;32m9\u001b[0m\n\u001b[0;31m    st.title('Iris')\u001b[0m\n\u001b[0m    ^\u001b[0m\n\u001b[0;31mIndentationError\u001b[0m\u001b[0;31m:\u001b[0m unexpected indent\n"
          ]
        }
      ]
    }
  ]
}